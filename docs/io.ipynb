{
 "cells": [
  {
   "cell_type": "markdown",
   "metadata": {
    "papermill": {
     "duration": 0.008942,
     "end_time": "2020-02-21T20:04:05.750510",
     "exception": false,
     "start_time": "2020-02-21T20:04:05.741568",
     "status": "completed"
    },
    "tags": []
   },
   "source": [
    "# Save and load PCM from local files\n",
    "\n",
    "PCM instances are light weigth python objects and can easily be saved on and loaded from files. pyXpcm uses the netcdf file format because it is easy to add meta-data to numerical arrays."
   ]
  },
  {
   "cell_type": "code",
   "execution_count": 1,
   "metadata": {
    "nbsphinx": "hidden",
    "papermill": {
     "duration": 2.687465,
     "end_time": "2020-02-21T20:04:08.443132",
     "exception": false,
     "start_time": "2020-02-21T20:04:05.755667",
     "status": "completed"
    },
    "tags": []
   },
   "outputs": [
    {
     "name": "stdout",
     "output_type": "stream",
     "text": [
      "xarray: 0.14.2.dev62+g6d1434e9, /Users/gmaze/anaconda/envs/obidam36/lib/python3.6/site-packages/xarray/__init__.py\n"
     ]
    },
    {
     "name": "stdout",
     "output_type": "stream",
     "text": [
      "pyxpcm: 0.4.0, /Users/gmaze/git/github/gmaze/pyxpcm/pyxpcm/__init__.py\n"
     ]
    }
   ],
   "source": [
    "# Hidden cell\n",
    "import os, sys\n",
    "import numpy as np\n",
    "import pandas as pd\n",
    "import xarray as xr\n",
    "print(\"xarray: %s, %s\" % (xr.__version__, xr.__file__))\n",
    "\n",
    "import matplotlib.pyplot as plt\n",
    "%matplotlib inline\n",
    "\n",
    "sys.path.insert(0, os.path.abspath('/Users/gmaze/git/github/gmaze/pyxpcm'))\n",
    "import pyxpcm\n",
    "print(\"pyxpcm: %s, %s\" % (pyxpcm.__version__, pyxpcm.__file__))"
   ]
  },
  {
   "cell_type": "markdown",
   "metadata": {
    "papermill": {
     "duration": 0.005882,
     "end_time": "2020-02-21T20:04:08.454256",
     "exception": false,
     "start_time": "2020-02-21T20:04:08.448374",
     "status": "completed"
    },
    "tags": []
   },
   "source": [
    "**Import and set-up**\n",
    "\n",
    "Import the library and toy data"
   ]
  },
  {
   "cell_type": "code",
   "execution_count": 2,
   "metadata": {
    "papermill": {
     "duration": 0.046989,
     "end_time": "2020-02-21T20:04:08.504976",
     "exception": false,
     "start_time": "2020-02-21T20:04:08.457987",
     "status": "completed"
    },
    "tags": []
   },
   "outputs": [],
   "source": [
    "import pyxpcm\n",
    "from pyxpcm.models import pcm\n",
    "\n",
    "# Load tutorial data:\n",
    "ds = pyxpcm.tutorial.open_dataset('argo').load()"
   ]
  },
  {
   "cell_type": "markdown",
   "metadata": {
    "papermill": {
     "duration": 0.003788,
     "end_time": "2020-02-21T20:04:08.512978",
     "exception": false,
     "start_time": "2020-02-21T20:04:08.509190",
     "status": "completed"
    },
    "tags": []
   },
   "source": [
    "## Saving a model\n",
    "\n",
    "Let's first create a PCM and fit it onto the tutorial dataset:"
   ]
  },
  {
   "cell_type": "code",
   "execution_count": 3,
   "metadata": {
    "papermill": {
     "duration": 28.543335,
     "end_time": "2020-02-21T20:04:37.060102",
     "exception": false,
     "start_time": "2020-02-21T20:04:08.516767",
     "status": "completed"
    },
    "tags": []
   },
   "outputs": [
    {
     "data": {
      "text/plain": [
       "<pcm 'gmm' (K: 4, F: 2)>\n",
       "Number of class: 4\n",
       "Number of feature: 2\n",
       "Feature names: odict_keys(['temperature', 'salinity'])\n",
       "Fitted: True\n",
       "Feature: 'temperature'\n",
       "\t Interpoler: <class 'pyxpcm.utils.Vertical_Interpolator'>\n",
       "\t Scaler: 'normal', <class 'sklearn.preprocessing._data.StandardScaler'>\n",
       "\t Reducer: True, <class 'sklearn.decomposition._pca.PCA'>\n",
       "Feature: 'salinity'\n",
       "\t Interpoler: <class 'pyxpcm.utils.Vertical_Interpolator'>\n",
       "\t Scaler: 'normal', <class 'sklearn.preprocessing._data.StandardScaler'>\n",
       "\t Reducer: True, <class 'sklearn.decomposition._pca.PCA'>\n",
       "Classifier: 'gmm', <class 'sklearn.mixture._gaussian_mixture.GaussianMixture'>\n",
       "\t log likelihood of the training set: 33.335059"
      ]
     },
     "execution_count": 3,
     "metadata": {},
     "output_type": "execute_result"
    }
   ],
   "source": [
    "# Define a vertical axis to work with\n",
    "z = np.arange(0.,-1000,-10.)\n",
    "\n",
    "# Define features to use\n",
    "features_pcm = {'temperature': z, 'salinity': z}\n",
    "\n",
    "# Instantiate the PCM:\n",
    "m = pcm(K=4, features=features_pcm)\n",
    "\n",
    "# Fit:\n",
    "m.fit(ds, features={'temperature': 'TEMP', 'salinity': 'PSAL'})"
   ]
  },
  {
   "cell_type": "markdown",
   "metadata": {
    "papermill": {
     "duration": 0.00449,
     "end_time": "2020-02-21T20:04:37.069487",
     "exception": false,
     "start_time": "2020-02-21T20:04:37.064997",
     "status": "completed"
    },
    "tags": []
   },
   "source": [
    "We can now save the fitted model to a local file:"
   ]
  },
  {
   "cell_type": "code",
   "execution_count": 4,
   "metadata": {
    "papermill": {
     "duration": 0.055588,
     "end_time": "2020-02-21T20:04:37.130924",
     "exception": false,
     "start_time": "2020-02-21T20:04:37.075336",
     "status": "completed"
    },
    "tags": []
   },
   "outputs": [],
   "source": [
    "m.to_netcdf('my_pcm.nc')"
   ]
  },
  {
   "cell_type": "markdown",
   "metadata": {
    "papermill": {
     "duration": 0.004808,
     "end_time": "2020-02-21T20:04:37.140284",
     "exception": false,
     "start_time": "2020-02-21T20:04:37.135476",
     "status": "completed"
    },
    "tags": []
   },
   "source": [
    "## Loading a model\n",
    "\n",
    "To load a PCM from file, use: "
   ]
  },
  {
   "cell_type": "code",
   "execution_count": 5,
   "metadata": {
    "papermill": {
     "duration": 0.031783,
     "end_time": "2020-02-21T20:04:37.176911",
     "exception": false,
     "start_time": "2020-02-21T20:04:37.145128",
     "status": "completed"
    },
    "tags": []
   },
   "outputs": [
    {
     "data": {
      "text/plain": [
       "<pcm 'gmm' (K: 4, F: 2)>\n",
       "Number of class: 4\n",
       "Number of feature: 2\n",
       "Feature names: odict_keys(['temperature', 'salinity'])\n",
       "Fitted: True\n",
       "Feature: 'temperature'\n",
       "\t Interpoler: <class 'pyxpcm.utils.Vertical_Interpolator'>\n",
       "\t Scaler: 'normal', <class 'sklearn.preprocessing._data.StandardScaler'>\n",
       "\t Reducer: True, <class 'sklearn.decomposition._pca.PCA'>\n",
       "Feature: 'salinity'\n",
       "\t Interpoler: <class 'pyxpcm.utils.Vertical_Interpolator'>\n",
       "\t Scaler: 'normal', <class 'sklearn.preprocessing._data.StandardScaler'>\n",
       "\t Reducer: True, <class 'sklearn.decomposition._pca.PCA'>\n",
       "Classifier: 'gmm', <class 'sklearn.mixture._gaussian_mixture.GaussianMixture'>\n",
       "\t log likelihood of the training set: 33.335059"
      ]
     },
     "execution_count": 5,
     "metadata": {},
     "output_type": "execute_result"
    }
   ],
   "source": [
    "m_loaded = pyxpcm.load_netcdf('my_pcm.nc')\n",
    "m_loaded"
   ]
  }
 ],
 "metadata": {
  "kernelspec": {
   "display_name": "obidam36",
   "language": "python",
   "name": "obidam36"
  },
  "language_info": {
   "codemirror_mode": {
    "name": "ipython",
    "version": 3
   },
   "file_extension": ".py",
   "mimetype": "text/x-python",
   "name": "python",
   "nbconvert_exporter": "python",
   "pygments_lexer": "ipython3",
   "version": "3.6.7"
  },
  "papermill": {
   "duration": 33.167987,
   "end_time": "2020-02-21T20:04:37.702323",
   "environment_variables": {},
   "exception": null,
   "input_path": "io.ipynb",
   "output_path": "../io.ipynb",
   "parameters": {},
   "start_time": "2020-02-21T20:04:04.534336",
   "version": "1.2.1"
  }
 },
 "nbformat": 4,
 "nbformat_minor": 2
}