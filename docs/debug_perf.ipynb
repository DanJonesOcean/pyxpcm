{
 "cells": [
  {
   "cell_type": "markdown",
   "metadata": {
    "toc-hr-collapsed": false
   },
   "source": [
    "# Debugging and performances"
   ]
  },
  {
   "cell_type": "code",
   "execution_count": 1,
   "metadata": {
    "nbsphinx": "hidden"
   },
   "outputs": [
    {
     "name": "stdout",
     "output_type": "stream",
     "text": [
      "xarray: 0.12.1, /Users/gmaze/anaconda/envs/obidam36/lib/python3.6/site-packages/xarray/__init__.py\n",
      "pyxpcm: 0.4.0, /Users/gmaze/git/github/gmaze/pyxpcm/pyxpcm/__init__.py\n"
     ]
    }
   ],
   "source": [
    "# Hidden cell\n",
    "import os, sys\n",
    "import numpy as np\n",
    "import pandas as pd\n",
    "import xarray as xr\n",
    "print(\"xarray: %s, %s\" % (xr.__version__, xr.__file__))\n",
    "\n",
    "import matplotlib.pyplot as plt\n",
    "%matplotlib inline\n",
    "sys.path.insert(0, os.path.abspath('/Users/gmaze/git/github/gmaze/pyxpcm'))\n",
    "\n",
    "import pyxpcm\n",
    "print(\"pyxpcm: %s, %s\" % (pyxpcm.__version__, pyxpcm.__file__))"
   ]
  },
  {
   "cell_type": "markdown",
   "metadata": {},
   "source": [
    "## Load data"
   ]
  },
  {
   "cell_type": "code",
   "execution_count": 2,
   "metadata": {},
   "outputs": [
    {
     "data": {
      "text/plain": [
       "<xarray.Dataset>\n",
       "Dimensions:    (DEPTH: 282, N_PROF: 7560)\n",
       "Coordinates:\n",
       "  * DEPTH      (DEPTH) float32 0.0 -5.0 -10.0 -15.0 ... -1395.0 -1400.0 -1405.0\n",
       "Dimensions without coordinates: N_PROF\n",
       "Data variables:\n",
       "    LATITUDE   (N_PROF) float32 dask.array<shape=(7560,), chunksize=(7560,)>\n",
       "    LONGITUDE  (N_PROF) float32 dask.array<shape=(7560,), chunksize=(7560,)>\n",
       "    TIME       (N_PROF) datetime64[ns] dask.array<shape=(7560,), chunksize=(7560,)>\n",
       "    DBINDEX    (N_PROF) float64 dask.array<shape=(7560,), chunksize=(7560,)>\n",
       "    TEMP       (N_PROF, DEPTH) float32 dask.array<shape=(7560, 282), chunksize=(7560, 282)>\n",
       "    PSAL       (N_PROF, DEPTH) float32 dask.array<shape=(7560, 282), chunksize=(7560, 282)>\n",
       "    SIG0       (N_PROF, DEPTH) float32 dask.array<shape=(7560, 282), chunksize=(7560, 282)>\n",
       "    BRV2       (N_PROF, DEPTH) float32 dask.array<shape=(7560, 282), chunksize=(7560, 282)>\n",
       "Attributes:\n",
       "    Sample test prepared by:  G. Maze\n",
       "    Institution:              Ifremer/LOPS\n",
       "    Data source DOI:          10.17882/42182"
      ]
     },
     "execution_count": 2,
     "metadata": {},
     "output_type": "execute_result"
    }
   ],
   "source": [
    "ds = pyxpcm.tutorial.open_dataset('argo').load()\n",
    "ds"
   ]
  },
  {
   "cell_type": "markdown",
   "metadata": {
    "toc-hr-collapsed": true
   },
   "source": [
    "## Define/fit/predict a standard pyXpcm"
   ]
  },
  {
   "cell_type": "code",
   "execution_count": 3,
   "metadata": {},
   "outputs": [],
   "source": [
    "from pyxpcm.pcmodel import pcm"
   ]
  },
  {
   "cell_type": "code",
   "execution_count": 4,
   "metadata": {},
   "outputs": [],
   "source": [
    "# Define vertical axis and features to use:\n",
    "z = np.arange(0.,-1000.,-10.)\n",
    "features_pcm = {'temperature': z}\n",
    "features_in_ds = {'temperature': 'TEMP'}\n",
    "\n",
    "features_pcm = {'temperature': z, 'salinity': z}\n",
    "features_in_ds = {'temperature': 'TEMP', 'salinity': 'PSAL'}"
   ]
  },
  {
   "cell_type": "code",
   "execution_count": 5,
   "metadata": {},
   "outputs": [],
   "source": [
    "# pyXpcm variables added to the dataset can be removed with:\n",
    "# print('Before:', ds.data_vars)\n",
    "# ds = ds.pyxpcm.clean()\n",
    "# print('After cleaning:', ds.data_vars)"
   ]
  },
  {
   "cell_type": "markdown",
   "metadata": {},
   "source": [
    "## Debugging\n",
    "\n",
    "Use option ``debug`` to print log messages "
   ]
  },
  {
   "cell_type": "code",
   "execution_count": 6,
   "metadata": {},
   "outputs": [
    {
     "name": "stdout",
     "output_type": "stream",
     "text": [
      "> Start preprocessing for action 'fit'\n",
      "\n",
      "\t> Preprocessing xarray dataset 'TEMP' as PCM feature 'temperature'\n",
      "\t [<class 'xarray.core.dataarray.DataArray'>, <class 'dask.array.core.Array'>, ((7560,), (282,))] X RAVELED with success\n",
      "\t\tOutput axis is in the input axis, not need to interpolate, simple intersection\n",
      "\t [<class 'xarray.core.dataarray.DataArray'>, <class 'dask.array.core.Array'>, ((7560,), (100,))] X INTERPOLATED with success)\n",
      "\t [<class 'xarray.core.dataarray.DataArray'>, <class 'numpy.ndarray'>, None] X SCALED with success)\n",
      "\t [<class 'xarray.core.dataarray.DataArray'>, <class 'numpy.ndarray'>, None] X REDUCED with success)\n",
      "\ttemperature pre-processed with success,  [<class 'xarray.core.dataarray.DataArray'>, <class 'numpy.ndarray'>, None]\n",
      "\tHomogenisation for fit of temperature\n",
      "\n",
      "\t> Preprocessing xarray dataset 'PSAL' as PCM feature 'salinity'\n",
      "\t [<class 'xarray.core.dataarray.DataArray'>, <class 'dask.array.core.Array'>, ((7560,), (282,))] X RAVELED with success\n",
      "\t\tOutput axis is in the input axis, not need to interpolate, simple intersection\n",
      "\t [<class 'xarray.core.dataarray.DataArray'>, <class 'dask.array.core.Array'>, ((7560,), (100,))] X INTERPOLATED with success)\n",
      "\t [<class 'xarray.core.dataarray.DataArray'>, <class 'numpy.ndarray'>, None] X SCALED with success)\n",
      "\t [<class 'xarray.core.dataarray.DataArray'>, <class 'numpy.ndarray'>, None] X REDUCED with success)\n",
      "\tsalinity pre-processed with success,  [<class 'xarray.core.dataarray.DataArray'>, <class 'numpy.ndarray'>, None]\n",
      "\tHomogenisation for fit of salinity\n",
      "\tFeatures array shape and type for xarray: (7560, 30) <class 'numpy.ndarray'> <class 'memoryview'>\n",
      "> Preprocessing done, working with final X (<class 'xarray.core.dataarray.DataArray'>) array of shape: (7560, 30)  and sampling dimensions: ['N_PROF']\n"
     ]
    },
    {
     "data": {
      "text/plain": [
       "<pcm 'gmm' (K: 8, F: 2)>\n",
       "Number of class: 8\n",
       "Number of feature: 2\n",
       "Feature names: odict_keys(['temperature', 'salinity'])\n",
       "Fitted: True\n",
       "Feature: 'temperature'\n",
       "\t Interpoler: <class 'pyxpcm.utils.Vertical_Interpolator'>\n",
       "\t Scaler: 'normal', <class 'sklearn.preprocessing.data.StandardScaler'>\n",
       "\t Reducer: True, <class 'sklearn.decomposition.pca.PCA'>\n",
       "Feature: 'salinity'\n",
       "\t Interpoler: <class 'pyxpcm.utils.Vertical_Interpolator'>\n",
       "\t Scaler: 'normal', <class 'sklearn.preprocessing.data.StandardScaler'>\n",
       "\t Reducer: True, <class 'sklearn.decomposition.pca.PCA'>\n",
       "Classifier: 'gmm', <class 'sklearn.mixture.gaussian_mixture.GaussianMixture'>\n",
       "\t log likelihood of the training set: 38.825077"
      ]
     },
     "execution_count": 6,
     "metadata": {},
     "output_type": "execute_result"
    }
   ],
   "source": [
    "# Clean up dataset of previous results:\n",
    "ds = ds.pyxpcm.clean()\n",
    "\n",
    "# Instantiate a new PCM:\n",
    "m = pcm(K=8, features=features_pcm, debug=True)\n",
    "\n",
    "# Fit with log:\n",
    "m.fit(ds, features=features_in_ds)"
   ]
  },
  {
   "cell_type": "markdown",
   "metadata": {
    "toc-hr-collapsed": true
   },
   "source": [
    "## Performance / Optimisation\n",
    "\n",
    "Use ``timeit`` and ``timeit_verb`` to compute computation time of PCM operations\n",
    "\n",
    "Times are accessible as a pandas Dataframe in ``timeit`` pyXpcm instance property.\n",
    "\n",
    "The pyXpcm ``m.plot.timeit()`` plot method allows for a simple visualisation of times."
   ]
  },
  {
   "cell_type": "markdown",
   "metadata": {},
   "source": [
    "### Time readings at execution time"
   ]
  },
  {
   "cell_type": "code",
   "execution_count": 7,
   "metadata": {},
   "outputs": [],
   "source": [
    "# Create a PCM and use several methods to time:\n",
    "m = pcm(K=8, features=features_pcm, timeit=True)\n",
    "m.fit(ds, features=features_in_ds);\n",
    "m.predict(ds, features=features_in_ds);\n",
    "m.fit_predict(ds, features=features_in_ds);"
   ]
  },
  {
   "cell_type": "code",
   "execution_count": 8,
   "metadata": {},
   "outputs": [
    {
     "data": {
      "text/plain": [
       "Method       Sub-method    Sub-sub-method         Sub-sub-sub-method\n",
       "fit          1-preprocess  1-mask                 total                   50.577164\n",
       "                           2-feature_temperature  1-ravel                276.804924\n",
       "                                                  2-interp                 3.245115\n",
       "                                                  3-scale_fit            588.178873\n",
       "                                                  4-scale_transform      275.475979\n",
       "                                                  5-reduce_fit            18.235683\n",
       "                                                  6-reduce_transform       3.689051\n",
       "                                                  total                 1165.854216\n",
       "                           total                                        4525.696039\n",
       "                           3-homogeniser          total                    2.519846\n",
       "                           2-feature_salinity     1-ravel                340.017796\n",
       "                                                  2-interp                 1.927137\n",
       "                                                  3-scale_fit            466.268301\n",
       "                                                  4-scale_transform      239.870071\n",
       "                                                  5-reduce_fit            16.262054\n",
       "                                                  6-reduce_transform       4.199982\n",
       "                                                  total                 1068.760872\n",
       "                           4-xarray               total                    1.454830\n",
       "             2-fit         total                                        2145.467997\n",
       "             3-score       total                                          27.912855\n",
       "             total                                                      4465.488911\n",
       "predict      1-preprocess  1-mask                 total                   43.207884\n",
       "                           2-feature_temperature  1-ravel                228.605032\n",
       "                                                  2-interp                 1.096010\n",
       "                                                  3-scale_fit              0.000954\n",
       "                                                  4-scale_transform      345.308781\n",
       "                                                  5-reduce_fit             0.002146\n",
       "                                                  6-reduce_transform       5.225182\n",
       "                                                  total                  580.394268\n",
       "                           total                                        2097.922087\n",
       "                                                                           ...     \n",
       "                           2-feature_salinity     total                  444.869041\n",
       "                           4-xarray               total                    1.132011\n",
       "             2-predict     total                                          10.252953\n",
       "             score         total                                          13.039112\n",
       "             3-xarray      total                                         418.087721\n",
       "             total                                                      1513.901711\n",
       "fit_predict  1-preprocess  1-mask                 total                   27.462244\n",
       "                           2-feature_temperature  1-ravel                308.126211\n",
       "                                                  2-interp                 1.159906\n",
       "                                                  3-scale_fit              0.000954\n",
       "                                                  4-scale_transform      223.699093\n",
       "                                                  5-reduce_fit             0.001907\n",
       "                                                  6-reduce_transform       3.487110\n",
       "                                                  total                  536.628962\n",
       "                           total                                        1988.891840\n",
       "                           3-homogeniser          total                    2.419949\n",
       "                           2-feature_salinity     1-ravel                216.502905\n",
       "                                                  2-interp                 1.092911\n",
       "                                                  3-scale_fit              0.001192\n",
       "                                                  4-scale_transform      220.284224\n",
       "                                                  5-reduce_fit             0.001192\n",
       "                                                  6-reduce_transform       3.313780\n",
       "                                                  total                  441.334009\n",
       "                           4-xarray               total                    1.506090\n",
       "             2-fit         total                                        2132.206678\n",
       "             3-score       total                                          26.681185\n",
       "             4-predict     total                                           9.664059\n",
       "             5-score       total                                          12.585878\n",
       "             6-xarray      total                                         499.481201\n",
       "             total                                                      3691.503048\n",
       "Length: 67, dtype: float64"
      ]
     },
     "execution_count": 8,
     "metadata": {},
     "output_type": "execute_result"
    }
   ],
   "source": [
    "# Timing are accessible through a dataframe in the timeit property:\n",
    "m.timeit"
   ]
  },
  {
   "cell_type": "markdown",
   "metadata": {},
   "source": [
    "### Compare details of steps for each method"
   ]
  },
  {
   "cell_type": "code",
   "execution_count": 9,
   "metadata": {},
   "outputs": [
    {
     "data": {
      "text/html": [
       "<div>\n",
       "<style scoped>\n",
       "    .dataframe tbody tr th:only-of-type {\n",
       "        vertical-align: middle;\n",
       "    }\n",
       "\n",
       "    .dataframe tbody tr th {\n",
       "        vertical-align: top;\n",
       "    }\n",
       "\n",
       "    .dataframe thead th {\n",
       "        text-align: right;\n",
       "    }\n",
       "</style>\n",
       "<table border=\"1\" class=\"dataframe\">\n",
       "  <thead>\n",
       "    <tr style=\"text-align: right;\">\n",
       "      <th>Sub-method</th>\n",
       "      <th>1-preprocess</th>\n",
       "      <th>2-fit</th>\n",
       "      <th>2-predict</th>\n",
       "      <th>3-score</th>\n",
       "      <th>3-xarray</th>\n",
       "      <th>4-predict</th>\n",
       "      <th>5-score</th>\n",
       "      <th>6-xarray</th>\n",
       "      <th>score</th>\n",
       "    </tr>\n",
       "    <tr>\n",
       "      <th>Method</th>\n",
       "      <th></th>\n",
       "      <th></th>\n",
       "      <th></th>\n",
       "      <th></th>\n",
       "      <th></th>\n",
       "      <th></th>\n",
       "      <th></th>\n",
       "      <th></th>\n",
       "      <th></th>\n",
       "    </tr>\n",
       "  </thead>\n",
       "  <tbody>\n",
       "    <tr>\n",
       "      <th>fit</th>\n",
       "      <td>9049.037933</td>\n",
       "      <td>2145.467997</td>\n",
       "      <td>NaN</td>\n",
       "      <td>27.912855</td>\n",
       "      <td>NaN</td>\n",
       "      <td>NaN</td>\n",
       "      <td>NaN</td>\n",
       "      <td>NaN</td>\n",
       "      <td>NaN</td>\n",
       "    </tr>\n",
       "    <tr>\n",
       "      <th>fit_predict</th>\n",
       "      <td>3975.914478</td>\n",
       "      <td>2132.206678</td>\n",
       "      <td>NaN</td>\n",
       "      <td>26.681185</td>\n",
       "      <td>NaN</td>\n",
       "      <td>9.664059</td>\n",
       "      <td>12.585878</td>\n",
       "      <td>499.481201</td>\n",
       "      <td>NaN</td>\n",
       "    </tr>\n",
       "    <tr>\n",
       "      <th>predict</th>\n",
       "      <td>4193.866253</td>\n",
       "      <td>NaN</td>\n",
       "      <td>10.252953</td>\n",
       "      <td>NaN</td>\n",
       "      <td>418.087721</td>\n",
       "      <td>NaN</td>\n",
       "      <td>NaN</td>\n",
       "      <td>NaN</td>\n",
       "      <td>13.039112</td>\n",
       "    </tr>\n",
       "  </tbody>\n",
       "</table>\n",
       "</div>"
      ],
      "text/plain": [
       "Sub-method   1-preprocess        2-fit  2-predict    3-score    3-xarray  \\\n",
       "Method                                                                     \n",
       "fit           9049.037933  2145.467997        NaN  27.912855         NaN   \n",
       "fit_predict   3975.914478  2132.206678        NaN  26.681185         NaN   \n",
       "predict       4193.866253          NaN  10.252953        NaN  418.087721   \n",
       "\n",
       "Sub-method   4-predict    5-score    6-xarray      score  \n",
       "Method                                                    \n",
       "fit                NaN        NaN         NaN        NaN  \n",
       "fit_predict   9.664059  12.585878  499.481201        NaN  \n",
       "predict            NaN        NaN         NaN  13.039112  "
      ]
     },
     "execution_count": 9,
     "metadata": {},
     "output_type": "execute_result"
    },
    {
     "data": {
      "image/png": "[encoded data removed]",
      "text/plain": [
       "<Figure size 450x270 with 1 Axes>"
      ]
     },
     "metadata": {},
     "output_type": "display_data"
    }
   ],
   "source": [
    "fig, ax, df = m.plot.timeit(group='Method', split='Sub-method', style='darkgrid') # Default group/split\n",
    "df"
   ]
  },
  {
   "cell_type": "markdown",
   "metadata": {},
   "source": [
    "### Compare preprocessing steps for each method"
   ]
  },
  {
   "cell_type": "code",
   "execution_count": 10,
   "metadata": {},
   "outputs": [
    {
     "data": {
      "text/html": [
       "<div>\n",
       "<style scoped>\n",
       "    .dataframe tbody tr th:only-of-type {\n",
       "        vertical-align: middle;\n",
       "    }\n",
       "\n",
       "    .dataframe tbody tr th {\n",
       "        vertical-align: top;\n",
       "    }\n",
       "\n",
       "    .dataframe thead th {\n",
       "        text-align: right;\n",
       "    }\n",
       "</style>\n",
       "<table border=\"1\" class=\"dataframe\">\n",
       "  <thead>\n",
       "    <tr style=\"text-align: right;\">\n",
       "      <th>Sub-sub-method</th>\n",
       "      <th>1-mask</th>\n",
       "      <th>2-feature_salinity</th>\n",
       "      <th>2-feature_temperature</th>\n",
       "      <th>3-homogeniser</th>\n",
       "      <th>4-xarray</th>\n",
       "    </tr>\n",
       "    <tr>\n",
       "      <th>Method</th>\n",
       "      <th></th>\n",
       "      <th></th>\n",
       "      <th></th>\n",
       "      <th></th>\n",
       "      <th></th>\n",
       "    </tr>\n",
       "  </thead>\n",
       "  <tbody>\n",
       "    <tr>\n",
       "      <th>fit</th>\n",
       "      <td>50.577164</td>\n",
       "      <td>2137.306213</td>\n",
       "      <td>2331.483841</td>\n",
       "      <td>2.519846</td>\n",
       "      <td>1.454830</td>\n",
       "    </tr>\n",
       "    <tr>\n",
       "      <th>fit_predict</th>\n",
       "      <td>27.462244</td>\n",
       "      <td>882.530212</td>\n",
       "      <td>1073.104143</td>\n",
       "      <td>2.419949</td>\n",
       "      <td>1.506090</td>\n",
       "    </tr>\n",
       "    <tr>\n",
       "      <th>predict</th>\n",
       "      <td>43.207884</td>\n",
       "      <td>889.526606</td>\n",
       "      <td>1160.632372</td>\n",
       "      <td>1.445293</td>\n",
       "      <td>1.132011</td>\n",
       "    </tr>\n",
       "  </tbody>\n",
       "</table>\n",
       "</div>"
      ],
      "text/plain": [
       "Sub-sub-method     1-mask  2-feature_salinity  2-feature_temperature  \\\n",
       "Method                                                                 \n",
       "fit             50.577164         2137.306213            2331.483841   \n",
       "fit_predict     27.462244          882.530212            1073.104143   \n",
       "predict         43.207884          889.526606            1160.632372   \n",
       "\n",
       "Sub-sub-method  3-homogeniser  4-xarray  \n",
       "Method                                   \n",
       "fit                  2.519846  1.454830  \n",
       "fit_predict          2.419949  1.506090  \n",
       "predict              1.445293  1.132011  "
      ]
     },
     "execution_count": 10,
     "metadata": {},
     "output_type": "execute_result"
    },
    {
     "data": {
      "image/png": "[encoded data removed]",
      "text/plain": [
       "<Figure size 450x270 with 1 Axes>"
      ]
     },
     "metadata": {},
     "output_type": "display_data"
    }
   ],
   "source": [
    "fig, ax, df = m.plot.timeit(group='Method', split='Sub-sub-method')\n",
    "df"
   ]
  },
  {
   "cell_type": "markdown",
   "metadata": {},
   "source": [
    "### Compare details of preprocessing steps for each method"
   ]
  },
  {
   "cell_type": "code",
   "execution_count": 11,
   "metadata": {},
   "outputs": [
    {
     "data": {
      "text/html": [
       "<div>\n",
       "<style scoped>\n",
       "    .dataframe tbody tr th:only-of-type {\n",
       "        vertical-align: middle;\n",
       "    }\n",
       "\n",
       "    .dataframe tbody tr th {\n",
       "        vertical-align: top;\n",
       "    }\n",
       "\n",
       "    .dataframe thead th {\n",
       "        text-align: right;\n",
       "    }\n",
       "</style>\n",
       "<table border=\"1\" class=\"dataframe\">\n",
       "  <thead>\n",
       "    <tr style=\"text-align: right;\">\n",
       "      <th>Sub-sub-sub-method</th>\n",
       "      <th>1-ravel</th>\n",
       "      <th>2-interp</th>\n",
       "      <th>3-scale_fit</th>\n",
       "      <th>4-scale_transform</th>\n",
       "      <th>5-reduce_fit</th>\n",
       "      <th>6-reduce_transform</th>\n",
       "    </tr>\n",
       "    <tr>\n",
       "      <th>Method</th>\n",
       "      <th></th>\n",
       "      <th></th>\n",
       "      <th></th>\n",
       "      <th></th>\n",
       "      <th></th>\n",
       "      <th></th>\n",
       "    </tr>\n",
       "  </thead>\n",
       "  <tbody>\n",
       "    <tr>\n",
       "      <th>fit</th>\n",
       "      <td>616.822720</td>\n",
       "      <td>5.172253</td>\n",
       "      <td>1054.447174</td>\n",
       "      <td>515.346050</td>\n",
       "      <td>34.497738</td>\n",
       "      <td>7.889032</td>\n",
       "    </tr>\n",
       "    <tr>\n",
       "      <th>fit_predict</th>\n",
       "      <td>524.629116</td>\n",
       "      <td>2.252817</td>\n",
       "      <td>0.002146</td>\n",
       "      <td>443.983316</td>\n",
       "      <td>0.003099</td>\n",
       "      <td>6.800890</td>\n",
       "    </tr>\n",
       "    <tr>\n",
       "      <th>predict</th>\n",
       "      <td>448.570251</td>\n",
       "      <td>2.198219</td>\n",
       "      <td>0.001907</td>\n",
       "      <td>565.620899</td>\n",
       "      <td>0.003338</td>\n",
       "      <td>8.501053</td>\n",
       "    </tr>\n",
       "  </tbody>\n",
       "</table>\n",
       "</div>"
      ],
      "text/plain": [
       "Sub-sub-sub-method     1-ravel  2-interp  3-scale_fit  4-scale_transform  \\\n",
       "Method                                                                     \n",
       "fit                 616.822720  5.172253  1054.447174         515.346050   \n",
       "fit_predict         524.629116  2.252817     0.002146         443.983316   \n",
       "predict             448.570251  2.198219     0.001907         565.620899   \n",
       "\n",
       "Sub-sub-sub-method  5-reduce_fit  6-reduce_transform  \n",
       "Method                                                \n",
       "fit                    34.497738            7.889032  \n",
       "fit_predict             0.003099            6.800890  \n",
       "predict                 0.003338            8.501053  "
      ]
     },
     "execution_count": 11,
     "metadata": {},
     "output_type": "execute_result"
    },
    {
     "data": {
      "image/png": "[encoded data removed]",
      "text/plain": [
       "<Figure size 450x270 with 1 Axes>"
      ]
     },
     "metadata": {},
     "output_type": "display_data"
    }
   ],
   "source": [
    "fig, ax, df = m.plot.timeit(group='Method', split='Sub-sub-sub-method')\n",
    "df"
   ]
  },
  {
   "cell_type": "markdown",
   "metadata": {},
   "source": [
    "### Compare details of preprocessing steps for each feature"
   ]
  },
  {
   "cell_type": "code",
   "execution_count": 12,
   "metadata": {},
   "outputs": [
    {
     "data": {
      "text/html": [
       "<div>\n",
       "<style scoped>\n",
       "    .dataframe tbody tr th:only-of-type {\n",
       "        vertical-align: middle;\n",
       "    }\n",
       "\n",
       "    .dataframe tbody tr th {\n",
       "        vertical-align: top;\n",
       "    }\n",
       "\n",
       "    .dataframe thead th {\n",
       "        text-align: right;\n",
       "    }\n",
       "</style>\n",
       "<table border=\"1\" class=\"dataframe\">\n",
       "  <thead>\n",
       "    <tr style=\"text-align: right;\">\n",
       "      <th>Sub-sub-sub-method</th>\n",
       "      <th>1-ravel</th>\n",
       "      <th>2-interp</th>\n",
       "      <th>3-scale_fit</th>\n",
       "      <th>4-scale_transform</th>\n",
       "      <th>5-reduce_fit</th>\n",
       "      <th>6-reduce_transform</th>\n",
       "    </tr>\n",
       "    <tr>\n",
       "      <th>Sub-sub-method</th>\n",
       "      <th></th>\n",
       "      <th></th>\n",
       "      <th></th>\n",
       "      <th></th>\n",
       "      <th></th>\n",
       "      <th></th>\n",
       "    </tr>\n",
       "  </thead>\n",
       "  <tbody>\n",
       "    <tr>\n",
       "      <th>2-feature_salinity</th>\n",
       "      <td>776.485920</td>\n",
       "      <td>4.122257</td>\n",
       "      <td>466.270447</td>\n",
       "      <td>680.466413</td>\n",
       "      <td>16.264439</td>\n",
       "      <td>10.789633</td>\n",
       "    </tr>\n",
       "    <tr>\n",
       "      <th>2-feature_temperature</th>\n",
       "      <td>813.536167</td>\n",
       "      <td>5.501032</td>\n",
       "      <td>588.180780</td>\n",
       "      <td>844.483852</td>\n",
       "      <td>18.239737</td>\n",
       "      <td>12.401342</td>\n",
       "    </tr>\n",
       "  </tbody>\n",
       "</table>\n",
       "</div>"
      ],
      "text/plain": [
       "Sub-sub-sub-method        1-ravel  2-interp  3-scale_fit  4-scale_transform  \\\n",
       "Sub-sub-method                                                                \n",
       "2-feature_salinity     776.485920  4.122257   466.270447         680.466413   \n",
       "2-feature_temperature  813.536167  5.501032   588.180780         844.483852   \n",
       "\n",
       "Sub-sub-sub-method     5-reduce_fit  6-reduce_transform  \n",
       "Sub-sub-method                                           \n",
       "2-feature_salinity        16.264439           10.789633  \n",
       "2-feature_temperature     18.239737           12.401342  "
      ]
     },
     "execution_count": 12,
     "metadata": {},
     "output_type": "execute_result"
    },
    {
     "data": {
      "image/png": "[encoded data removed]",
      "text/plain": [
       "<Figure size 450x270 with 1 Axes>"
      ]
     },
     "metadata": {},
     "output_type": "display_data"
    }
   ],
   "source": [
    "fig, ax, df = m.plot.timeit(split='Sub-sub-sub-method', group='Sub-sub-method')\n",
    "df"
   ]
  }
 ],
 "metadata": {
  "kernelspec": {
   "display_name": "obidam36",
   "language": "python",
   "name": "obidam36"
  },
  "language_info": {
   "codemirror_mode": {
    "name": "ipython",
    "version": 3
   },
   "file_extension": ".py",
   "mimetype": "text/x-python",
   "name": "python",
   "nbconvert_exporter": "python",
   "pygments_lexer": "ipython3",
   "version": "3.6.7"
  },
  "toc-showmarkdowntxt": true
 },
 "nbformat": 4,
 "nbformat_minor": 2
}
