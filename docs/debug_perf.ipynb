{
 "cells": [
  {
   "cell_type": "markdown",
   "metadata": {
    "papermill": {
     "duration": 0.024675,
     "end_time": "2019-11-02T10:44:24.134312",
     "exception": false,
     "start_time": "2019-11-02T10:44:24.109637",
     "status": "completed"
    },
    "tags": [],
    "toc-hr-collapsed": false
   },
   "source": [
    "# Debugging and performances"
   ]
  },
  {
   "cell_type": "code",
   "execution_count": 1,
   "metadata": {
    "nbsphinx": "hidden",
    "papermill": {
     "duration": 1.867432,
     "end_time": "2019-11-02T10:44:26.021507",
     "exception": false,
     "start_time": "2019-11-02T10:44:24.154075",
     "status": "completed"
    },
    "tags": []
   },
   "outputs": [
    {
     "name": "stdout",
     "output_type": "stream",
     "text": [
      "xarray: 0.12.1, /Users/gmaze/anaconda/envs/obidam36/lib/python3.6/site-packages/xarray/__init__.py\n"
     ]
    },
    {
     "name": "stdout",
     "output_type": "stream",
     "text": [
      "pyxpcm: 0.4.0, /Users/gmaze/git/github/gmaze/pyxpcm/pyxpcm/__init__.py\n"
     ]
    }
   ],
   "source": [
    "# Hidden cell\n",
    "import os, sys\n",
    "import numpy as np\n",
    "import pandas as pd\n",
    "import xarray as xr\n",
    "print(\"xarray: %s, %s\" % (xr.__version__, xr.__file__))\n",
    "\n",
    "import matplotlib.pyplot as plt\n",
    "%matplotlib inline\n",
    "sys.path.insert(0, os.path.abspath('/Users/gmaze/git/github/gmaze/pyxpcm'))\n",
    "\n",
    "import pyxpcm\n",
    "print(\"pyxpcm: %s, %s\" % (pyxpcm.__version__, pyxpcm.__file__))"
   ]
  },
  {
   "cell_type": "markdown",
   "metadata": {
    "papermill": {
     "duration": 0.017041,
     "end_time": "2019-11-02T10:44:26.047520",
     "exception": false,
     "start_time": "2019-11-02T10:44:26.030479",
     "status": "completed"
    },
    "tags": []
   },
   "source": [
    "## Import and set-up\n",
    "\n",
    "Import the library and toy data"
   ]
  },
  {
   "cell_type": "code",
   "execution_count": 2,
   "metadata": {
    "papermill": {
     "duration": 0.059753,
     "end_time": "2019-11-02T10:44:26.118550",
     "exception": false,
     "start_time": "2019-11-02T10:44:26.058797",
     "status": "completed"
    },
    "tags": []
   },
   "outputs": [],
   "source": [
    "import pyxpcm\n",
    "from pyxpcm.models import pcm\n",
    "\n",
    "# Load a dataset to work with:\n",
    "ds = pyxpcm.tutorial.open_dataset('argo').load()\n",
    "\n",
    "# Define vertical axis and features to use:\n",
    "z = np.arange(0.,-1000.,-10.)\n",
    "features_pcm = {'temperature': z, 'salinity': z}\n",
    "features_in_ds = {'temperature': 'TEMP', 'salinity': 'PSAL'}"
   ]
  },
  {
   "cell_type": "markdown",
   "metadata": {
    "papermill": {
     "duration": 0.012135,
     "end_time": "2019-11-02T10:44:26.139865",
     "exception": false,
     "start_time": "2019-11-02T10:44:26.127730",
     "status": "completed"
    },
    "tags": []
   },
   "source": [
    "## Debugging\n",
    "\n",
    "Use option ``debug`` to print log messages "
   ]
  },
  {
   "cell_type": "code",
   "execution_count": 3,
   "metadata": {
    "papermill": {
     "duration": 5.653569,
     "end_time": "2019-11-02T10:44:31.802507",
     "exception": false,
     "start_time": "2019-11-02T10:44:26.148938",
     "status": "completed"
    },
    "tags": []
   },
   "outputs": [
    {
     "name": "stdout",
     "output_type": "stream",
     "text": [
      "> Start preprocessing for action 'fit'\n"
     ]
    },
    {
     "name": "stdout",
     "output_type": "stream",
     "text": [
      "\n",
      "\t> Preprocessing xarray dataset 'TEMP' as PCM feature 'temperature'\n"
     ]
    },
    {
     "name": "stdout",
     "output_type": "stream",
     "text": [
      "\t [<class 'xarray.core.dataarray.DataArray'>, <class 'dask.array.core.Array'>, ((7560,), (282,))] X RAVELED with success\n",
      "\t\tOutput axis is in the input axis, not need to interpolate, simple intersection\n",
      "\t [<class 'xarray.core.dataarray.DataArray'>, <class 'dask.array.core.Array'>, ((7560,), (100,))] X INTERPOLATED with success)\n"
     ]
    },
    {
     "name": "stdout",
     "output_type": "stream",
     "text": [
      "\t [<class 'xarray.core.dataarray.DataArray'>, <class 'numpy.ndarray'>, None] X SCALED with success)\n",
      "\t [<class 'xarray.core.dataarray.DataArray'>, <class 'numpy.ndarray'>, None] X REDUCED with success)\n",
      "\ttemperature pre-processed with success,  [<class 'xarray.core.dataarray.DataArray'>, <class 'numpy.ndarray'>, None]\n",
      "\tHomogenisation for fit of temperature\n",
      "\n",
      "\t> Preprocessing xarray dataset 'PSAL' as PCM feature 'salinity'\n"
     ]
    },
    {
     "name": "stdout",
     "output_type": "stream",
     "text": [
      "\t [<class 'xarray.core.dataarray.DataArray'>, <class 'dask.array.core.Array'>, ((7560,), (282,))] X RAVELED with success\n",
      "\t\tOutput axis is in the input axis, not need to interpolate, simple intersection\n",
      "\t [<class 'xarray.core.dataarray.DataArray'>, <class 'dask.array.core.Array'>, ((7560,), (100,))] X INTERPOLATED with success)\n"
     ]
    },
    {
     "name": "stdout",
     "output_type": "stream",
     "text": [
      "\t [<class 'xarray.core.dataarray.DataArray'>, <class 'numpy.ndarray'>, None] X SCALED with success)\n",
      "\t [<class 'xarray.core.dataarray.DataArray'>, <class 'numpy.ndarray'>, None] X REDUCED with success)\n",
      "\tsalinity pre-processed with success,  [<class 'xarray.core.dataarray.DataArray'>, <class 'numpy.ndarray'>, None]\n",
      "\tHomogenisation for fit of salinity\n",
      "\tFeatures array shape and type for xarray: (7560, 30) <class 'numpy.ndarray'> <class 'memoryview'>\n",
      "> Preprocessing done, working with final X (<class 'xarray.core.dataarray.DataArray'>) array of shape: (7560, 30)  and sampling dimensions: ['N_PROF']\n"
     ]
    }
   ],
   "source": [
    "# Instantiate a new PCM:\n",
    "m = pcm(K=8, features=features_pcm, debug=True)\n",
    "\n",
    "# Fit with log:\n",
    "m.fit(ds, features=features_in_ds);"
   ]
  },
  {
   "cell_type": "markdown",
   "metadata": {
    "papermill": {
     "duration": 0.017589,
     "end_time": "2019-11-02T10:44:31.830476",
     "exception": false,
     "start_time": "2019-11-02T10:44:31.812887",
     "status": "completed"
    },
    "tags": [],
    "toc-hr-collapsed": true
   },
   "source": [
    "## Performance / Optimisation\n",
    "\n",
    "Use ``timeit`` and ``timeit_verb`` to compute computation time of PCM operations\n",
    "\n",
    "Times are accessible as a pandas Dataframe in ``timeit`` pyXpcm instance property.\n",
    "\n",
    "The pyXpcm ``m.plot.timeit()`` plot method allows for a simple visualisation of times."
   ]
  },
  {
   "cell_type": "markdown",
   "metadata": {
    "papermill": {
     "duration": 0.018738,
     "end_time": "2019-11-02T10:44:31.866516",
     "exception": false,
     "start_time": "2019-11-02T10:44:31.847778",
     "status": "completed"
    },
    "tags": []
   },
   "source": [
    "### Time readings during execution"
   ]
  },
  {
   "cell_type": "code",
   "execution_count": 4,
   "metadata": {
    "papermill": {
     "duration": 5.158309,
     "end_time": "2019-11-02T10:44:37.043874",
     "exception": false,
     "start_time": "2019-11-02T10:44:31.885565",
     "status": "completed"
    },
    "tags": []
   },
   "outputs": [
    {
     "name": "stdout",
     "output_type": "stream",
     "text": [
      "  fit.1-preprocess.1-mask: 25 ms\n"
     ]
    },
    {
     "name": "stdout",
     "output_type": "stream",
     "text": [
      "  fit.1-preprocess.2-feature_temperature.1-ravel: 240 ms\n",
      "  fit.1-preprocess.2-feature_temperature.2-interp: 1 ms\n"
     ]
    },
    {
     "name": "stdout",
     "output_type": "stream",
     "text": [
      "  fit.1-preprocess.2-feature_temperature.3-scale_fit: 446 ms\n"
     ]
    },
    {
     "name": "stdout",
     "output_type": "stream",
     "text": [
      "  fit.1-preprocess.2-feature_temperature.4-scale_transform: 219 ms\n",
      "  fit.1-preprocess.2-feature_temperature.5-reduce_fit: 19 ms\n",
      "  fit.1-preprocess.2-feature_temperature.6-reduce_transform: 4 ms\n",
      "  fit.1-preprocess.2-feature_temperature.total: 932 ms\n",
      "  fit.1-preprocess: 932 ms\n",
      "  fit.1-preprocess.3-homogeniser: 1 ms\n"
     ]
    },
    {
     "name": "stdout",
     "output_type": "stream",
     "text": [
      "  fit.1-preprocess.2-feature_salinity.1-ravel: 223 ms\n",
      "  fit.1-preprocess.2-feature_salinity.2-interp: 2 ms\n"
     ]
    },
    {
     "name": "stdout",
     "output_type": "stream",
     "text": [
      "  fit.1-preprocess.2-feature_salinity.3-scale_fit: 451 ms\n"
     ]
    },
    {
     "name": "stdout",
     "output_type": "stream",
     "text": [
      "  fit.1-preprocess.2-feature_salinity.4-scale_transform: 227 ms\n",
      "  fit.1-preprocess.2-feature_salinity.5-reduce_fit: 15 ms\n",
      "  fit.1-preprocess.2-feature_salinity.6-reduce_transform: 4 ms\n",
      "  fit.1-preprocess.2-feature_salinity.total: 925 ms\n",
      "  fit.1-preprocess: 925 ms\n",
      "  fit.1-preprocess.3-homogeniser: 1 ms\n",
      "  fit.1-preprocess.4-xarray: 1 ms\n",
      "  fit.1-preprocess: 1889 ms\n"
     ]
    },
    {
     "name": "stdout",
     "output_type": "stream",
     "text": [
      "  fit.2-fit: 3230 ms\n",
      "  fit.3-score: 15 ms\n",
      "  fit: 5135 ms\n"
     ]
    }
   ],
   "source": [
    "# Create a PCM and execute methods:\n",
    "m = pcm(K=8, features=features_pcm, timeit=True, timeit_verb=1)\n",
    "m.fit(ds, features=features_in_ds);"
   ]
  },
  {
   "cell_type": "markdown",
   "metadata": {
    "papermill": {
     "duration": 0.051276,
     "end_time": "2019-11-02T10:44:37.114174",
     "exception": false,
     "start_time": "2019-11-02T10:44:37.062898",
     "status": "completed"
    },
    "tags": []
   },
   "source": [
    "### A posteriori Execution time analysis"
   ]
  },
  {
   "cell_type": "code",
   "execution_count": 5,
   "metadata": {
    "papermill": {
     "duration": 8.465381,
     "end_time": "2019-11-02T10:44:45.595741",
     "exception": false,
     "start_time": "2019-11-02T10:44:37.130360",
     "status": "completed"
    },
    "tags": []
   },
   "outputs": [],
   "source": [
    "# Create a PCM and execute methods:\n",
    "m = pcm(K=8, features=features_pcm, timeit=True, timeit_verb=0)\n",
    "m.fit(ds, features=features_in_ds);\n",
    "m.predict(ds, features=features_in_ds);\n",
    "m.fit_predict(ds, features=features_in_ds);"
   ]
  },
  {
   "cell_type": "raw",
   "metadata": {
    "papermill": {
     "duration": 0.043347,
     "end_time": "2019-11-02T10:44:45.655387",
     "exception": false,
     "start_time": "2019-11-02T10:44:45.612040",
     "status": "completed"
    },
    "raw_mimetype": "text/restructuredtext",
    "tags": []
   },
   "source": [
    "Execution times are accessible through a dataframe with the :py:attr:`pyxpcm.pcm.timeit` property"
   ]
  },
  {
   "cell_type": "code",
   "execution_count": 6,
   "metadata": {
    "papermill": {
     "duration": 0.035942,
     "end_time": "2019-11-02T10:44:45.709448",
     "exception": false,
     "start_time": "2019-11-02T10:44:45.673506",
     "status": "completed"
    },
    "tags": []
   },
   "outputs": [
    {
     "data": {
      "text/plain": [
       "Method       Sub-method    Sub-sub-method         Sub-sub-sub-method\n",
       "fit          1-preprocess  1-mask                 total                   47.559023\n",
       "                           2-feature_temperature  1-ravel                276.102066\n",
       "                                                  2-interp                 3.394842\n",
       "                                                  3-scale_fit            505.740881\n",
       "                                                  4-scale_transform      223.773956\n",
       "                                                  5-reduce_fit            17.482996\n",
       "                                                  6-reduce_transform       3.457069\n",
       "                                                  total                 1030.169964\n",
       "                           total                                        3957.222223\n",
       "                           3-homogeniser          total                    3.419161\n",
       "                           2-feature_salinity     1-ravel                221.151114\n",
       "                                                  2-interp                 1.600981\n",
       "                                                  3-scale_fit            451.872110\n",
       "                                                  4-scale_transform      226.111889\n",
       "                                                  5-reduce_fit            16.018152\n",
       "                                                  6-reduce_transform       4.582882\n",
       "                                                  total                  921.534061\n",
       "                           4-xarray               total                    1.168966\n",
       "             2-fit         total                                        1697.923183\n",
       "             3-score       total                                          12.112856\n",
       "             total                                                      3715.482235\n",
       "predict      1-preprocess  1-mask                 total                   23.784876\n",
       "                           2-feature_temperature  1-ravel                237.779856\n",
       "                                                  2-interp                 1.101255\n",
       "                                                  3-scale_fit              0.000954\n",
       "                                                  4-scale_transform      227.382898\n",
       "                                                  5-reduce_fit             0.002146\n",
       "                                                  6-reduce_transform       3.376007\n",
       "                                                  total                  469.770908\n",
       "                           total                                        1892.381191\n",
       "                                                                           ...     \n",
       "                           2-feature_salinity     total                  463.032961\n",
       "                           4-xarray               total                    1.121044\n",
       "             2-predict     total                                          11.608839\n",
       "             score         total                                          14.286995\n",
       "             3-xarray      total                                         452.858925\n",
       "             total                                                      1438.282967\n",
       "fit_predict  1-preprocess  1-mask                 total                   25.140047\n",
       "                           2-feature_temperature  1-ravel                220.196962\n",
       "                                                  2-interp                 1.116991\n",
       "                                                  3-scale_fit              0.001192\n",
       "                                                  4-scale_transform      228.250027\n",
       "                                                  5-reduce_fit             0.000954\n",
       "                                                  6-reduce_transform       5.115271\n",
       "                                                  total                  454.818964\n",
       "                           total                                        1825.782776\n",
       "                           3-homogeniser          total                    2.276659\n",
       "                           2-feature_salinity     1-ravel                225.013971\n",
       "                                                  2-interp                 1.106024\n",
       "                                                  3-scale_fit              0.001907\n",
       "                                                  4-scale_transform      213.521957\n",
       "                                                  5-reduce_fit             0.001669\n",
       "                                                  6-reduce_transform       3.349066\n",
       "                                                  total                  443.135023\n",
       "                           4-xarray               total                    1.165867\n",
       "             2-fit         total                                        1729.376793\n",
       "             3-score       total                                          41.639090\n",
       "             4-predict     total                                          36.171913\n",
       "             5-score       total                                          14.535189\n",
       "             6-xarray      total                                         527.815104\n",
       "             total                                                      3277.421236\n",
       "Length: 67, dtype: float64"
      ]
     },
     "execution_count": 6,
     "metadata": {},
     "output_type": "execute_result"
    }
   ],
   "source": [
    "m.timeit"
   ]
  },
  {
   "cell_type": "markdown",
   "metadata": {
    "papermill": {
     "duration": 0.020481,
     "end_time": "2019-11-02T10:44:45.743697",
     "exception": false,
     "start_time": "2019-11-02T10:44:45.723216",
     "status": "completed"
    },
    "raw_mimetype": "-",
    "tags": []
   },
   "source": [
    "## Visualisation help"
   ]
  },
  {
   "cell_type": "raw",
   "metadata": {
    "papermill": {
     "duration": 0.013031,
     "end_time": "2019-11-02T10:44:45.781270",
     "exception": false,
     "start_time": "2019-11-02T10:44:45.768239",
     "status": "completed"
    },
    "raw_mimetype": "text/restructuredtext",
    "tags": []
   },
   "source": [
    "To facilitate your analysis of execution times, you can use :meth:`pyxpcm.plot.timeit`."
   ]
  },
  {
   "cell_type": "markdown",
   "metadata": {
    "papermill": {
     "duration": 0.014376,
     "end_time": "2019-11-02T10:44:45.810177",
     "exception": false,
     "start_time": "2019-11-02T10:44:45.795801",
     "status": "completed"
    },
    "tags": []
   },
   "source": [
    "### Main steps by method"
   ]
  },
  {
   "cell_type": "code",
   "execution_count": 7,
   "metadata": {
    "papermill": {
     "duration": 0.288238,
     "end_time": "2019-11-02T10:44:46.113153",
     "exception": false,
     "start_time": "2019-11-02T10:44:45.824915",
     "status": "completed"
    },
    "tags": []
   },
   "outputs": [
    {
     "data": {
      "text/html": [
       "<div>\n",
       "<style scoped>\n",
       "    .dataframe tbody tr th:only-of-type {\n",
       "        vertical-align: middle;\n",
       "    }\n",
       "\n",
       "    .dataframe tbody tr th {\n",
       "        vertical-align: top;\n",
       "    }\n",
       "\n",
       "    .dataframe thead th {\n",
       "        text-align: right;\n",
       "    }\n",
       "</style>\n",
       "<table border=\"1\" class=\"dataframe\">\n",
       "  <thead>\n",
       "    <tr style=\"text-align: right;\">\n",
       "      <th>Sub-method</th>\n",
       "      <th>1-preprocess</th>\n",
       "      <th>2-fit</th>\n",
       "      <th>2-predict</th>\n",
       "      <th>3-score</th>\n",
       "      <th>3-xarray</th>\n",
       "      <th>4-predict</th>\n",
       "      <th>5-score</th>\n",
       "      <th>6-xarray</th>\n",
       "      <th>score</th>\n",
       "    </tr>\n",
       "    <tr>\n",
       "      <th>Method</th>\n",
       "      <th></th>\n",
       "      <th></th>\n",
       "      <th></th>\n",
       "      <th></th>\n",
       "      <th></th>\n",
       "      <th></th>\n",
       "      <th></th>\n",
       "      <th></th>\n",
       "      <th></th>\n",
       "    </tr>\n",
       "  </thead>\n",
       "  <tbody>\n",
       "    <tr>\n",
       "      <th>fit</th>\n",
       "      <td>7912.362337</td>\n",
       "      <td>1697.923183</td>\n",
       "      <td>NaN</td>\n",
       "      <td>12.112856</td>\n",
       "      <td>NaN</td>\n",
       "      <td>NaN</td>\n",
       "      <td>NaN</td>\n",
       "      <td>NaN</td>\n",
       "      <td>NaN</td>\n",
       "    </tr>\n",
       "    <tr>\n",
       "      <th>fit_predict</th>\n",
       "      <td>3649.995327</td>\n",
       "      <td>1729.376793</td>\n",
       "      <td>NaN</td>\n",
       "      <td>41.639090</td>\n",
       "      <td>NaN</td>\n",
       "      <td>36.171913</td>\n",
       "      <td>14.535189</td>\n",
       "      <td>527.815104</td>\n",
       "      <td>NaN</td>\n",
       "    </tr>\n",
       "    <tr>\n",
       "      <th>predict</th>\n",
       "      <td>3783.388376</td>\n",
       "      <td>NaN</td>\n",
       "      <td>11.608839</td>\n",
       "      <td>NaN</td>\n",
       "      <td>452.858925</td>\n",
       "      <td>NaN</td>\n",
       "      <td>NaN</td>\n",
       "      <td>NaN</td>\n",
       "      <td>14.286995</td>\n",
       "    </tr>\n",
       "  </tbody>\n",
       "</table>\n",
       "</div>"
      ],
      "text/plain": [
       "Sub-method   1-preprocess        2-fit  2-predict    3-score    3-xarray  \\\n",
       "Method                                                                     \n",
       "fit           7912.362337  1697.923183        NaN  12.112856         NaN   \n",
       "fit_predict   3649.995327  1729.376793        NaN  41.639090         NaN   \n",
       "predict       3783.388376          NaN  11.608839        NaN  452.858925   \n",
       "\n",
       "Sub-method   4-predict    5-score    6-xarray      score  \n",
       "Method                                                    \n",
       "fit                NaN        NaN         NaN        NaN  \n",
       "fit_predict  36.171913  14.535189  527.815104        NaN  \n",
       "predict            NaN        NaN         NaN  14.286995  "
      ]
     },
     "execution_count": 7,
     "metadata": {},
     "output_type": "execute_result"
    },
    {
     "data": {
      "image/png": "[encoded data removed]",
      "text/plain": [
       "<Figure size 450x270 with 1 Axes>"
      ]
     },
     "metadata": {},
     "output_type": "display_data"
    }
   ],
   "source": [
    "fig, ax, df = m.plot.timeit(group='Method', split='Sub-method', style='darkgrid') # Default group/split\n",
    "df"
   ]
  },
  {
   "cell_type": "markdown",
   "metadata": {
    "papermill": {
     "duration": 0.013307,
     "end_time": "2019-11-02T10:44:46.147308",
     "exception": false,
     "start_time": "2019-11-02T10:44:46.134001",
     "status": "completed"
    },
    "tags": []
   },
   "source": [
    "### Preprocessing main steps by method"
   ]
  },
  {
   "cell_type": "code",
   "execution_count": 8,
   "metadata": {
    "papermill": {
     "duration": 0.211987,
     "end_time": "2019-11-02T10:44:46.374272",
     "exception": false,
     "start_time": "2019-11-02T10:44:46.162285",
     "status": "completed"
    },
    "tags": []
   },
   "outputs": [
    {
     "data": {
      "text/html": [
       "<div>\n",
       "<style scoped>\n",
       "    .dataframe tbody tr th:only-of-type {\n",
       "        vertical-align: middle;\n",
       "    }\n",
       "\n",
       "    .dataframe tbody tr th {\n",
       "        vertical-align: top;\n",
       "    }\n",
       "\n",
       "    .dataframe thead th {\n",
       "        text-align: right;\n",
       "    }\n",
       "</style>\n",
       "<table border=\"1\" class=\"dataframe\">\n",
       "  <thead>\n",
       "    <tr style=\"text-align: right;\">\n",
       "      <th>Sub-sub-method</th>\n",
       "      <th>1-mask</th>\n",
       "      <th>2-feature_salinity</th>\n",
       "      <th>2-feature_temperature</th>\n",
       "      <th>3-homogeniser</th>\n",
       "      <th>4-xarray</th>\n",
       "    </tr>\n",
       "    <tr>\n",
       "      <th>Method</th>\n",
       "      <th></th>\n",
       "      <th></th>\n",
       "      <th></th>\n",
       "      <th></th>\n",
       "      <th></th>\n",
       "    </tr>\n",
       "  </thead>\n",
       "  <tbody>\n",
       "    <tr>\n",
       "      <th>fit</th>\n",
       "      <td>47.559023</td>\n",
       "      <td>1842.871189</td>\n",
       "      <td>2060.121775</td>\n",
       "      <td>3.419161</td>\n",
       "      <td>1.168966</td>\n",
       "    </tr>\n",
       "    <tr>\n",
       "      <th>fit_predict</th>\n",
       "      <td>25.140047</td>\n",
       "      <td>886.129618</td>\n",
       "      <td>909.500360</td>\n",
       "      <td>2.276659</td>\n",
       "      <td>1.165867</td>\n",
       "    </tr>\n",
       "    <tr>\n",
       "      <th>predict</th>\n",
       "      <td>23.784876</td>\n",
       "      <td>925.936937</td>\n",
       "      <td>939.414024</td>\n",
       "      <td>0.750303</td>\n",
       "      <td>1.121044</td>\n",
       "    </tr>\n",
       "  </tbody>\n",
       "</table>\n",
       "</div>"
      ],
      "text/plain": [
       "Sub-sub-method     1-mask  2-feature_salinity  2-feature_temperature  \\\n",
       "Method                                                                 \n",
       "fit             47.559023         1842.871189            2060.121775   \n",
       "fit_predict     25.140047          886.129618             909.500360   \n",
       "predict         23.784876          925.936937             939.414024   \n",
       "\n",
       "Sub-sub-method  3-homogeniser  4-xarray  \n",
       "Method                                   \n",
       "fit                  3.419161  1.168966  \n",
       "fit_predict          2.276659  1.165867  \n",
       "predict              0.750303  1.121044  "
      ]
     },
     "execution_count": 8,
     "metadata": {},
     "output_type": "execute_result"
    },
    {
     "data": {
      "image/png": "[encoded data removed]",
      "text/plain": [
       "<Figure size 450x270 with 1 Axes>"
      ]
     },
     "metadata": {},
     "output_type": "display_data"
    }
   ],
   "source": [
    "fig, ax, df = m.plot.timeit(group='Method', split='Sub-sub-method')\n",
    "df"
   ]
  },
  {
   "cell_type": "markdown",
   "metadata": {
    "papermill": {
     "duration": 0.014038,
     "end_time": "2019-11-02T10:44:46.402396",
     "exception": false,
     "start_time": "2019-11-02T10:44:46.388358",
     "status": "completed"
    },
    "tags": []
   },
   "source": [
    "### Preprocessing details by method"
   ]
  },
  {
   "cell_type": "code",
   "execution_count": 9,
   "metadata": {
    "papermill": {
     "duration": 0.293112,
     "end_time": "2019-11-02T10:44:46.711061",
     "exception": false,
     "start_time": "2019-11-02T10:44:46.417949",
     "status": "completed"
    },
    "tags": []
   },
   "outputs": [
    {
     "data": {
      "text/html": [
       "<div>\n",
       "<style scoped>\n",
       "    .dataframe tbody tr th:only-of-type {\n",
       "        vertical-align: middle;\n",
       "    }\n",
       "\n",
       "    .dataframe tbody tr th {\n",
       "        vertical-align: top;\n",
       "    }\n",
       "\n",
       "    .dataframe thead th {\n",
       "        text-align: right;\n",
       "    }\n",
       "</style>\n",
       "<table border=\"1\" class=\"dataframe\">\n",
       "  <thead>\n",
       "    <tr style=\"text-align: right;\">\n",
       "      <th>Sub-sub-sub-method</th>\n",
       "      <th>1-ravel</th>\n",
       "      <th>2-interp</th>\n",
       "      <th>3-scale_fit</th>\n",
       "      <th>4-scale_transform</th>\n",
       "      <th>5-reduce_fit</th>\n",
       "      <th>6-reduce_transform</th>\n",
       "    </tr>\n",
       "    <tr>\n",
       "      <th>Method</th>\n",
       "      <th></th>\n",
       "      <th></th>\n",
       "      <th></th>\n",
       "      <th></th>\n",
       "      <th></th>\n",
       "      <th></th>\n",
       "    </tr>\n",
       "  </thead>\n",
       "  <tbody>\n",
       "    <tr>\n",
       "      <th>fit</th>\n",
       "      <td>497.253180</td>\n",
       "      <td>4.995823</td>\n",
       "      <td>957.612991</td>\n",
       "      <td>449.885845</td>\n",
       "      <td>33.501148</td>\n",
       "      <td>8.039951</td>\n",
       "    </tr>\n",
       "    <tr>\n",
       "      <th>fit_predict</th>\n",
       "      <td>445.210934</td>\n",
       "      <td>2.223015</td>\n",
       "      <td>0.003099</td>\n",
       "      <td>441.771984</td>\n",
       "      <td>0.002623</td>\n",
       "      <td>8.464336</td>\n",
       "    </tr>\n",
       "    <tr>\n",
       "      <th>predict</th>\n",
       "      <td>472.041845</td>\n",
       "      <td>2.207279</td>\n",
       "      <td>0.001907</td>\n",
       "      <td>451.583862</td>\n",
       "      <td>0.004292</td>\n",
       "      <td>6.707907</td>\n",
       "    </tr>\n",
       "  </tbody>\n",
       "</table>\n",
       "</div>"
      ],
      "text/plain": [
       "Sub-sub-sub-method     1-ravel  2-interp  3-scale_fit  4-scale_transform  \\\n",
       "Method                                                                     \n",
       "fit                 497.253180  4.995823   957.612991         449.885845   \n",
       "fit_predict         445.210934  2.223015     0.003099         441.771984   \n",
       "predict             472.041845  2.207279     0.001907         451.583862   \n",
       "\n",
       "Sub-sub-sub-method  5-reduce_fit  6-reduce_transform  \n",
       "Method                                                \n",
       "fit                    33.501148            8.039951  \n",
       "fit_predict             0.002623            8.464336  \n",
       "predict                 0.004292            6.707907  "
      ]
     },
     "execution_count": 9,
     "metadata": {},
     "output_type": "execute_result"
    },
    {
     "data": {
      "image/png": "[encoded data removed]",
      "text/plain": [
       "<Figure size 450x270 with 1 Axes>"
      ]
     },
     "metadata": {},
     "output_type": "display_data"
    }
   ],
   "source": [
    "fig, ax, df = m.plot.timeit(group='Method', split='Sub-sub-sub-method')\n",
    "df"
   ]
  },
  {
   "cell_type": "markdown",
   "metadata": {
    "papermill": {
     "duration": 0.019984,
     "end_time": "2019-11-02T10:44:46.748554",
     "exception": false,
     "start_time": "2019-11-02T10:44:46.728570",
     "status": "completed"
    },
    "tags": []
   },
   "source": [
    "### Preprocessing details by features"
   ]
  },
  {
   "cell_type": "code",
   "execution_count": 10,
   "metadata": {
    "papermill": {
     "duration": 0.284557,
     "end_time": "2019-11-02T10:44:47.050653",
     "exception": false,
     "start_time": "2019-11-02T10:44:46.766096",
     "status": "completed"
    },
    "tags": []
   },
   "outputs": [
    {
     "data": {
      "text/html": [
       "<div>\n",
       "<style scoped>\n",
       "    .dataframe tbody tr th:only-of-type {\n",
       "        vertical-align: middle;\n",
       "    }\n",
       "\n",
       "    .dataframe tbody tr th {\n",
       "        vertical-align: top;\n",
       "    }\n",
       "\n",
       "    .dataframe thead th {\n",
       "        text-align: right;\n",
       "    }\n",
       "</style>\n",
       "<table border=\"1\" class=\"dataframe\">\n",
       "  <thead>\n",
       "    <tr style=\"text-align: right;\">\n",
       "      <th>Sub-sub-sub-method</th>\n",
       "      <th>1-ravel</th>\n",
       "      <th>2-interp</th>\n",
       "      <th>3-scale_fit</th>\n",
       "      <th>4-scale_transform</th>\n",
       "      <th>5-reduce_fit</th>\n",
       "      <th>6-reduce_transform</th>\n",
       "    </tr>\n",
       "    <tr>\n",
       "      <th>Sub-sub-method</th>\n",
       "      <th></th>\n",
       "      <th></th>\n",
       "      <th></th>\n",
       "      <th></th>\n",
       "      <th></th>\n",
       "      <th></th>\n",
       "    </tr>\n",
       "  </thead>\n",
       "  <tbody>\n",
       "    <tr>\n",
       "      <th>2-feature_salinity</th>\n",
       "      <td>0.680427</td>\n",
       "      <td>0.003813</td>\n",
       "      <td>0.451875</td>\n",
       "      <td>0.663835</td>\n",
       "      <td>0.016022</td>\n",
       "      <td>0.011264</td>\n",
       "    </tr>\n",
       "    <tr>\n",
       "      <th>2-feature_temperature</th>\n",
       "      <td>0.734079</td>\n",
       "      <td>0.005613</td>\n",
       "      <td>0.505743</td>\n",
       "      <td>0.679407</td>\n",
       "      <td>0.017486</td>\n",
       "      <td>0.011948</td>\n",
       "    </tr>\n",
       "  </tbody>\n",
       "</table>\n",
       "</div>"
      ],
      "text/plain": [
       "Sub-sub-sub-method      1-ravel  2-interp  3-scale_fit  4-scale_transform  \\\n",
       "Sub-sub-method                                                              \n",
       "2-feature_salinity     0.680427  0.003813     0.451875           0.663835   \n",
       "2-feature_temperature  0.734079  0.005613     0.505743           0.679407   \n",
       "\n",
       "Sub-sub-sub-method     5-reduce_fit  6-reduce_transform  \n",
       "Sub-sub-method                                           \n",
       "2-feature_salinity         0.016022            0.011264  \n",
       "2-feature_temperature      0.017486            0.011948  "
      ]
     },
     "execution_count": 10,
     "metadata": {},
     "output_type": "execute_result"
    },
    {
     "data": {
      "image/png": "[encoded data removed]",
      "text/plain": [
       "<Figure size 450x270 with 1 Axes>"
      ]
     },
     "metadata": {},
     "output_type": "display_data"
    }
   ],
   "source": [
    "fig, ax, df = m.plot.timeit(split='Sub-sub-sub-method', group='Sub-sub-method', unit='s')\n",
    "df"
   ]
  }
 ],
 "metadata": {
  "kernelspec": {
   "display_name": "obidam36",
   "language": "python",
   "name": "obidam36"
  },
  "language_info": {
   "codemirror_mode": {
    "name": "ipython",
    "version": 3
   },
   "file_extension": ".py",
   "mimetype": "text/x-python",
   "name": "python",
   "nbconvert_exporter": "python",
   "pygments_lexer": "ipython3",
   "version": "3.6.7"
  },
  "papermill": {
   "duration": 24.803201,
   "end_time": "2019-11-02T10:44:48.022175",
   "environment_variables": {},
   "exception": null,
   "input_path": "debug_perf.ipynb",
   "output_path": "../debug_perf.ipynb",
   "parameters": {},
   "start_time": "2019-11-02T10:44:23.218974",
   "version": "0.19.0"
  },
  "toc-showmarkdowntxt": true
 },
 "nbformat": 4,
 "nbformat_minor": 2
}