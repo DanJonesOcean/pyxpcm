{
 "cells": [
  {
   "cell_type": "markdown",
   "metadata": {
    "papermill": {
     "duration": 0.01926,
     "end_time": "2019-11-08T16:23:42.530586",
     "exception": false,
     "start_time": "2019-11-08T16:23:42.511326",
     "status": "completed"
    },
    "tags": [],
    "toc-hr-collapsed": false
   },
   "source": [
    "# Debugging and performances"
   ]
  },
  {
   "cell_type": "code",
   "execution_count": 1,
   "metadata": {
    "nbsphinx": "hidden",
    "papermill": {
     "duration": 1.690361,
     "end_time": "2019-11-08T16:23:44.232492",
     "exception": false,
     "start_time": "2019-11-08T16:23:42.542131",
     "status": "completed"
    },
    "tags": []
   },
   "outputs": [
    {
     "name": "stdout",
     "output_type": "stream",
     "text": [
      "xarray: 0.12.1, /Users/gmaze/anaconda/envs/obidam36/lib/python3.6/site-packages/xarray/__init__.py\n"
     ]
    },
    {
     "name": "stdout",
     "output_type": "stream",
     "text": [
      "pyxpcm: 0.4.0, /Users/gmaze/git/github/gmaze/pyxpcm/pyxpcm/__init__.py\n"
     ]
    }
   ],
   "source": [
    "# Hidden cell\n",
    "import os, sys\n",
    "import numpy as np\n",
    "import pandas as pd\n",
    "import xarray as xr\n",
    "print(\"xarray: %s, %s\" % (xr.__version__, xr.__file__))\n",
    "\n",
    "import matplotlib.pyplot as plt\n",
    "%matplotlib inline\n",
    "sys.path.insert(0, os.path.abspath('/Users/gmaze/git/github/gmaze/pyxpcm'))\n",
    "\n",
    "import pyxpcm\n",
    "print(\"pyxpcm: %s, %s\" % (pyxpcm.__version__, pyxpcm.__file__))"
   ]
  },
  {
   "cell_type": "markdown",
   "metadata": {
    "papermill": {
     "duration": 0.008404,
     "end_time": "2019-11-08T16:23:44.251126",
     "exception": false,
     "start_time": "2019-11-08T16:23:44.242722",
     "status": "completed"
    },
    "tags": []
   },
   "source": [
    "**Import and set-up**\n",
    "\n",
    "Import the library and toy data"
   ]
  },
  {
   "cell_type": "code",
   "execution_count": 2,
   "metadata": {
    "papermill": {
     "duration": 0.056237,
     "end_time": "2019-11-08T16:23:44.316650",
     "exception": false,
     "start_time": "2019-11-08T16:23:44.260413",
     "status": "completed"
    },
    "tags": []
   },
   "outputs": [],
   "source": [
    "import pyxpcm\n",
    "from pyxpcm.models import pcm\n",
    "\n",
    "# Load a dataset to work with:\n",
    "ds = pyxpcm.tutorial.open_dataset('argo').load()\n",
    "\n",
    "# Define vertical axis and features to use:\n",
    "z = np.arange(0.,-1000.,-10.)\n",
    "features_pcm = {'temperature': z, 'salinity': z}\n",
    "features_in_ds = {'temperature': 'TEMP', 'salinity': 'PSAL'}"
   ]
  },
  {
   "cell_type": "markdown",
   "metadata": {
    "papermill": {
     "duration": 0.008448,
     "end_time": "2019-11-08T16:23:44.334572",
     "exception": false,
     "start_time": "2019-11-08T16:23:44.326124",
     "status": "completed"
    },
    "tags": []
   },
   "source": [
    "## Debugging\n",
    "\n",
    "Use option ``debug`` to print log messages "
   ]
  },
  {
   "cell_type": "code",
   "execution_count": 3,
   "metadata": {
    "papermill": {
     "duration": 3.491023,
     "end_time": "2019-11-08T16:23:47.835679",
     "exception": false,
     "start_time": "2019-11-08T16:23:44.344656",
     "status": "completed"
    },
    "tags": []
   },
   "outputs": [
    {
     "name": "stdout",
     "output_type": "stream",
     "text": [
      "> Start preprocessing for action 'fit'\n"
     ]
    },
    {
     "name": "stdout",
     "output_type": "stream",
     "text": [
      "\n",
      "\t> Preprocessing xarray dataset 'TEMP' as PCM feature 'temperature'\n",
      "\t [<class 'xarray.core.dataarray.DataArray'>, <class 'dask.array.core.Array'>, ((7560,), (282,))] X RAVELED with success\n",
      "\t\tOutput axis is in the input axis, not need to interpolate, simple intersection\n",
      "\t [<class 'xarray.core.dataarray.DataArray'>, <class 'dask.array.core.Array'>, ((7560,), (100,))] X INTERPOLATED with success)\n",
      "\t [<class 'xarray.core.dataarray.DataArray'>, <class 'numpy.ndarray'>, None] X SCALED with success)\n"
     ]
    },
    {
     "name": "stdout",
     "output_type": "stream",
     "text": [
      "\t [<class 'xarray.core.dataarray.DataArray'>, <class 'numpy.ndarray'>, None] X REDUCED with success)\n",
      "\ttemperature pre-processed with success,  [<class 'xarray.core.dataarray.DataArray'>, <class 'numpy.ndarray'>, None]\n",
      "\tHomogenisation for fit of temperature\n",
      "\n",
      "\t> Preprocessing xarray dataset 'PSAL' as PCM feature 'salinity'\n",
      "\t [<class 'xarray.core.dataarray.DataArray'>, <class 'dask.array.core.Array'>, ((7560,), (282,))] X RAVELED with success\n",
      "\t\tOutput axis is in the input axis, not need to interpolate, simple intersection\n",
      "\t [<class 'xarray.core.dataarray.DataArray'>, <class 'dask.array.core.Array'>, ((7560,), (100,))] X INTERPOLATED with success)\n",
      "\t [<class 'xarray.core.dataarray.DataArray'>, <class 'numpy.ndarray'>, None] X SCALED with success)\n",
      "\t [<class 'xarray.core.dataarray.DataArray'>, <class 'numpy.ndarray'>, None] X REDUCED with success)\n",
      "\tsalinity pre-processed with success,  [<class 'xarray.core.dataarray.DataArray'>, <class 'numpy.ndarray'>, None]\n"
     ]
    },
    {
     "name": "stdout",
     "output_type": "stream",
     "text": [
      "\tHomogenisation for fit of salinity\n",
      "\tFeatures array shape and type for xarray: (7560, 30) <class 'numpy.ndarray'> <class 'memoryview'>\n",
      "> Preprocessing done, working with final X (<class 'xarray.core.dataarray.DataArray'>) array of shape: (7560, 30)  and sampling dimensions: ['N_PROF']\n"
     ]
    }
   ],
   "source": [
    "# Instantiate a new PCM:\n",
    "m = pcm(K=8, features=features_pcm, debug=True)\n",
    "\n",
    "# Fit with log:\n",
    "m.fit(ds, features=features_in_ds);"
   ]
  },
  {
   "cell_type": "markdown",
   "metadata": {
    "papermill": {
     "duration": 0.009662,
     "end_time": "2019-11-08T16:23:47.855746",
     "exception": false,
     "start_time": "2019-11-08T16:23:47.846084",
     "status": "completed"
    },
    "tags": [],
    "toc-hr-collapsed": true
   },
   "source": [
    "## Performance / Optimisation\n",
    "\n",
    "Use ``timeit`` and ``timeit_verb`` to compute computation time of PCM operations\n",
    "\n",
    "Times are accessible as a pandas Dataframe in ``timeit`` pyXpcm instance property.\n",
    "\n",
    "The pyXpcm ``m.plot.timeit()`` plot method allows for a simple visualisation of times."
   ]
  },
  {
   "cell_type": "markdown",
   "metadata": {
    "papermill": {
     "duration": 0.009993,
     "end_time": "2019-11-08T16:23:47.878927",
     "exception": false,
     "start_time": "2019-11-08T16:23:47.868934",
     "status": "completed"
    },
    "tags": []
   },
   "source": [
    "### Time readings during execution"
   ]
  },
  {
   "cell_type": "code",
   "execution_count": 4,
   "metadata": {
    "papermill": {
     "duration": 3.668277,
     "end_time": "2019-11-08T16:23:51.559025",
     "exception": false,
     "start_time": "2019-11-08T16:23:47.890748",
     "status": "completed"
    },
    "tags": []
   },
   "outputs": [
    {
     "name": "stdout",
     "output_type": "stream",
     "text": [
      "  fit.1-preprocess.1-mask: 62 ms\n",
      "  fit.1-preprocess.2-feature_temperature.1-ravel: 27 ms\n",
      "  fit.1-preprocess.2-feature_temperature.2-interp: 2 ms\n",
      "  fit.1-preprocess.2-feature_temperature.3-scale_fit: 15 ms\n",
      "  fit.1-preprocess.2-feature_temperature.4-scale_transform: 6 ms\n",
      "  fit.1-preprocess.2-feature_temperature.5-reduce_fit: 21 ms\n",
      "  fit.1-preprocess.2-feature_temperature.6-reduce_transform: 7 ms\n",
      "  fit.1-preprocess.2-feature_temperature.total: 80 ms\n",
      "  fit.1-preprocess: 80 ms\n",
      "  fit.1-preprocess.3-homogeniser: 5 ms\n",
      "  fit.1-preprocess.2-feature_salinity.1-ravel: 32 ms\n",
      "  fit.1-preprocess.2-feature_salinity.2-interp: 1 ms\n",
      "  fit.1-preprocess.2-feature_salinity.3-scale_fit: 11 ms\n",
      "  fit.1-preprocess.2-feature_salinity.4-scale_transform: 5 ms\n",
      "  fit.1-preprocess.2-feature_salinity.5-reduce_fit: 18 ms\n",
      "  fit.1-preprocess.2-feature_salinity.6-reduce_transform: 4 ms\n",
      "  fit.1-preprocess.2-feature_salinity.total: 75 ms\n",
      "  fit.1-preprocess: 75 ms\n",
      "  fit.1-preprocess.3-homogeniser: 1 ms\n",
      "  fit.1-preprocess.4-xarray: 1 ms\n",
      "  fit.1-preprocess: 228 ms\n"
     ]
    },
    {
     "name": "stdout",
     "output_type": "stream",
     "text": [
      "  fit.fit: 3400 ms\n",
      "  fit.score: 12 ms\n",
      "  fit: 3642 ms\n"
     ]
    }
   ],
   "source": [
    "# Create a PCM and execute methods:\n",
    "m = pcm(K=8, features=features_pcm, timeit=True, timeit_verb=1)\n",
    "m.fit(ds, features=features_in_ds);"
   ]
  },
  {
   "cell_type": "markdown",
   "metadata": {
    "papermill": {
     "duration": 0.01313,
     "end_time": "2019-11-08T16:23:51.582838",
     "exception": false,
     "start_time": "2019-11-08T16:23:51.569708",
     "status": "completed"
    },
    "tags": []
   },
   "source": [
    "### A posteriori Execution time analysis"
   ]
  },
  {
   "cell_type": "code",
   "execution_count": 5,
   "metadata": {
    "papermill": {
     "duration": 5.028739,
     "end_time": "2019-11-08T16:23:56.623084",
     "exception": false,
     "start_time": "2019-11-08T16:23:51.594345",
     "status": "completed"
    },
    "tags": []
   },
   "outputs": [],
   "source": [
    "# Create a PCM and execute methods:\n",
    "m = pcm(K=8, features=features_pcm, timeit=True, timeit_verb=0)\n",
    "m.fit(ds, features=features_in_ds);\n",
    "m.predict(ds, features=features_in_ds);\n",
    "m.fit_predict(ds, features=features_in_ds);"
   ]
  },
  {
   "cell_type": "raw",
   "metadata": {
    "papermill": {
     "duration": 0.010252,
     "end_time": "2019-11-08T16:23:56.644538",
     "exception": false,
     "start_time": "2019-11-08T16:23:56.634286",
     "status": "completed"
    },
    "raw_mimetype": "text/restructuredtext",
    "tags": []
   },
   "source": [
    "Execution times are accessible through a dataframe with the :py:attr:`pyxpcm.pcm.timeit` property"
   ]
  },
  {
   "cell_type": "code",
   "execution_count": 6,
   "metadata": {
    "papermill": {
     "duration": 0.02926,
     "end_time": "2019-11-08T16:23:56.684353",
     "exception": false,
     "start_time": "2019-11-08T16:23:56.655093",
     "status": "completed"
    },
    "tags": []
   },
   "outputs": [
    {
     "data": {
      "text/plain": [
       "Method       Sub-method    Sub-sub-method         Sub-sub-sub-method\n",
       "fit          1-preprocess  1-mask                 total                   60.623884\n",
       "                           2-feature_temperature  1-ravel                 29.070854\n",
       "                                                  2-interp                 1.361847\n",
       "                                                  3-scale_fit             24.303198\n",
       "                                                  4-scale_transform        5.542994\n",
       "                                                  5-reduce_fit            17.215014\n",
       "                                                  6-reduce_transform       4.530907\n",
       "                                                  total                   82.225800\n",
       "                           total                                         405.465841\n",
       "                           3-homogeniser          total                    3.330231\n",
       "                           2-feature_salinity     1-ravel                 33.647060\n",
       "                                                  2-interp                 1.427889\n",
       "                                                  3-scale_fit             19.104004\n",
       "                                                  4-scale_transform       16.283989\n",
       "                                                  5-reduce_fit            13.432264\n",
       "                                                  6-reduce_transform       3.180981\n",
       "                                                  total                   87.301970\n",
       "                           4-xarray               total                    1.182079\n",
       "             fit           total                                        1668.042660\n",
       "             score         total                                          14.346838\n",
       "             total                                                      1918.222189\n",
       "predict      1-preprocess  1-mask                 total                   64.723015\n",
       "                           2-feature_temperature  1-ravel                 28.513908\n",
       "                                                  2-interp                 1.239061\n",
       "                                                  3-scale_fit              0.003099\n",
       "                                                  4-scale_transform        7.060051\n",
       "                                                  5-reduce_fit             0.002146\n",
       "                                                  6-reduce_transform       2.730846\n",
       "                                                  total                   39.700031\n",
       "                           total                                         235.766172\n",
       "                                                                           ...     \n",
       "                           2-feature_salinity     6-reduce_transform       2.788067\n",
       "                                                  total                   44.227123\n",
       "                           4-xarray               total                    1.113892\n",
       "             predict       total                                          10.058880\n",
       "             score         total                                          11.398077\n",
       "             xarray        total                                          11.323929\n",
       "             total                                                       184.562922\n",
       "fit_predict  1-preprocess  1-mask                 total                   64.216852\n",
       "                           2-feature_temperature  1-ravel                 26.321888\n",
       "                                                  2-interp                 1.183033\n",
       "                                                  3-scale_fit              0.001907\n",
       "                                                  4-scale_transform        5.228996\n",
       "                                                  5-reduce_fit             0.000954\n",
       "                                                  6-reduce_transform       2.723217\n",
       "                                                  total                   35.592079\n",
       "                           total                                         224.620104\n",
       "                           3-homogeniser          total                    2.858639\n",
       "                           2-feature_salinity     1-ravel                 29.989958\n",
       "                                                  2-interp                 1.201153\n",
       "                                                  3-scale_fit              0.000954\n",
       "                                                  4-scale_transform        5.232811\n",
       "                                                  5-reduce_fit             0.001907\n",
       "                                                  6-reduce_transform       4.884958\n",
       "                                                  total                   41.451693\n",
       "                           4-xarray               total                    1.657963\n",
       "             fit           total                                        2717.261076\n",
       "             score         total                                          11.775970\n",
       "             predict       total                                          10.827065\n",
       "             xarray        total                                          10.989189\n",
       "             total                                                      2898.393869\n",
       "Length: 66, dtype: float64"
      ]
     },
     "execution_count": 6,
     "metadata": {},
     "output_type": "execute_result"
    }
   ],
   "source": [
    "m.timeit"
   ]
  },
  {
   "cell_type": "markdown",
   "metadata": {
    "papermill": {
     "duration": 0.010753,
     "end_time": "2019-11-08T16:23:56.706025",
     "exception": false,
     "start_time": "2019-11-08T16:23:56.695272",
     "status": "completed"
    },
    "raw_mimetype": "-",
    "tags": []
   },
   "source": [
    "## Visualisation help"
   ]
  },
  {
   "cell_type": "raw",
   "metadata": {
    "papermill": {
     "duration": 0.010957,
     "end_time": "2019-11-08T16:23:56.728057",
     "exception": false,
     "start_time": "2019-11-08T16:23:56.717100",
     "status": "completed"
    },
    "raw_mimetype": "text/restructuredtext",
    "tags": []
   },
   "source": [
    "To facilitate your analysis of execution times, you can use :meth:`pyxpcm.plot.timeit`."
   ]
  },
  {
   "cell_type": "markdown",
   "metadata": {
    "papermill": {
     "duration": 0.012436,
     "end_time": "2019-11-08T16:23:56.751906",
     "exception": false,
     "start_time": "2019-11-08T16:23:56.739470",
     "status": "completed"
    },
    "tags": []
   },
   "source": [
    "### Main steps by method"
   ]
  },
  {
   "cell_type": "code",
   "execution_count": 7,
   "metadata": {
    "papermill": {
     "duration": 0.234707,
     "end_time": "2019-11-08T16:23:56.998527",
     "exception": false,
     "start_time": "2019-11-08T16:23:56.763820",
     "status": "completed"
    },
    "tags": []
   },
   "outputs": [
    {
     "data": {
      "text/html": [
       "<div>\n",
       "<style scoped>\n",
       "    .dataframe tbody tr th:only-of-type {\n",
       "        vertical-align: middle;\n",
       "    }\n",
       "\n",
       "    .dataframe tbody tr th {\n",
       "        vertical-align: top;\n",
       "    }\n",
       "\n",
       "    .dataframe thead th {\n",
       "        text-align: right;\n",
       "    }\n",
       "</style>\n",
       "<table border=\"1\" class=\"dataframe\">\n",
       "  <thead>\n",
       "    <tr style=\"text-align: right;\">\n",
       "      <th>Sub-method</th>\n",
       "      <th>1-preprocess</th>\n",
       "      <th>fit</th>\n",
       "      <th>predict</th>\n",
       "      <th>score</th>\n",
       "      <th>xarray</th>\n",
       "    </tr>\n",
       "    <tr>\n",
       "      <th>Method</th>\n",
       "      <th></th>\n",
       "      <th></th>\n",
       "      <th></th>\n",
       "      <th></th>\n",
       "      <th></th>\n",
       "    </tr>\n",
       "  </thead>\n",
       "  <tbody>\n",
       "    <tr>\n",
       "      <th>fit</th>\n",
       "      <td>809.230804</td>\n",
       "      <td>1668.042660</td>\n",
       "      <td>NaN</td>\n",
       "      <td>14.346838</td>\n",
       "      <td>NaN</td>\n",
       "    </tr>\n",
       "    <tr>\n",
       "      <th>fit_predict</th>\n",
       "      <td>447.169065</td>\n",
       "      <td>2717.261076</td>\n",
       "      <td>10.827065</td>\n",
       "      <td>11.775970</td>\n",
       "      <td>10.989189</td>\n",
       "    </tr>\n",
       "    <tr>\n",
       "      <th>predict</th>\n",
       "      <td>469.947577</td>\n",
       "      <td>NaN</td>\n",
       "      <td>10.058880</td>\n",
       "      <td>11.398077</td>\n",
       "      <td>11.323929</td>\n",
       "    </tr>\n",
       "  </tbody>\n",
       "</table>\n",
       "</div>"
      ],
      "text/plain": [
       "Sub-method   1-preprocess          fit    predict      score     xarray\n",
       "Method                                                                 \n",
       "fit            809.230804  1668.042660        NaN  14.346838        NaN\n",
       "fit_predict    447.169065  2717.261076  10.827065  11.775970  10.989189\n",
       "predict        469.947577          NaN  10.058880  11.398077  11.323929"
      ]
     },
     "execution_count": 7,
     "metadata": {},
     "output_type": "execute_result"
    },
    {
     "data": {
      "image/png": "[encoded data removed]",
      "text/plain": [
       "<Figure size 450x270 with 1 Axes>"
      ]
     },
     "metadata": {},
     "output_type": "display_data"
    }
   ],
   "source": [
    "fig, ax, df = m.plot.timeit(group='Method', split='Sub-method', style='darkgrid') # Default group/split\n",
    "df"
   ]
  },
  {
   "cell_type": "markdown",
   "metadata": {
    "papermill": {
     "duration": 0.012238,
     "end_time": "2019-11-08T16:23:57.024529",
     "exception": false,
     "start_time": "2019-11-08T16:23:57.012291",
     "status": "completed"
    },
    "tags": []
   },
   "source": [
    "### Preprocessing main steps by method"
   ]
  },
  {
   "cell_type": "code",
   "execution_count": 8,
   "metadata": {
    "papermill": {
     "duration": 0.21845,
     "end_time": "2019-11-08T16:23:57.256077",
     "exception": false,
     "start_time": "2019-11-08T16:23:57.037627",
     "status": "completed"
    },
    "tags": []
   },
   "outputs": [
    {
     "data": {
      "text/html": [
       "<div>\n",
       "<style scoped>\n",
       "    .dataframe tbody tr th:only-of-type {\n",
       "        vertical-align: middle;\n",
       "    }\n",
       "\n",
       "    .dataframe tbody tr th {\n",
       "        vertical-align: top;\n",
       "    }\n",
       "\n",
       "    .dataframe thead th {\n",
       "        text-align: right;\n",
       "    }\n",
       "</style>\n",
       "<table border=\"1\" class=\"dataframe\">\n",
       "  <thead>\n",
       "    <tr style=\"text-align: right;\">\n",
       "      <th>Sub-sub-method</th>\n",
       "      <th>1-mask</th>\n",
       "      <th>2-feature_salinity</th>\n",
       "      <th>2-feature_temperature</th>\n",
       "      <th>3-homogeniser</th>\n",
       "      <th>4-xarray</th>\n",
       "    </tr>\n",
       "    <tr>\n",
       "      <th>Method</th>\n",
       "      <th></th>\n",
       "      <th></th>\n",
       "      <th></th>\n",
       "      <th></th>\n",
       "      <th></th>\n",
       "    </tr>\n",
       "  </thead>\n",
       "  <tbody>\n",
       "    <tr>\n",
       "      <th>fit</th>\n",
       "      <td>60.623884</td>\n",
       "      <td>174.378157</td>\n",
       "      <td>164.250612</td>\n",
       "      <td>3.330231</td>\n",
       "      <td>1.182079</td>\n",
       "    </tr>\n",
       "    <tr>\n",
       "      <th>fit_predict</th>\n",
       "      <td>64.216852</td>\n",
       "      <td>82.763433</td>\n",
       "      <td>71.052074</td>\n",
       "      <td>2.858639</td>\n",
       "      <td>1.657963</td>\n",
       "    </tr>\n",
       "    <tr>\n",
       "      <th>predict</th>\n",
       "      <td>64.723015</td>\n",
       "      <td>88.269234</td>\n",
       "      <td>79.249144</td>\n",
       "      <td>0.826120</td>\n",
       "      <td>1.113892</td>\n",
       "    </tr>\n",
       "  </tbody>\n",
       "</table>\n",
       "</div>"
      ],
      "text/plain": [
       "Sub-sub-method     1-mask  2-feature_salinity  2-feature_temperature  \\\n",
       "Method                                                                 \n",
       "fit             60.623884          174.378157             164.250612   \n",
       "fit_predict     64.216852           82.763433              71.052074   \n",
       "predict         64.723015           88.269234              79.249144   \n",
       "\n",
       "Sub-sub-method  3-homogeniser  4-xarray  \n",
       "Method                                   \n",
       "fit                  3.330231  1.182079  \n",
       "fit_predict          2.858639  1.657963  \n",
       "predict              0.826120  1.113892  "
      ]
     },
     "execution_count": 8,
     "metadata": {},
     "output_type": "execute_result"
    },
    {
     "data": {
      "image/png": "[encoded data removed]",
      "text/plain": [
       "<Figure size 450x270 with 1 Axes>"
      ]
     },
     "metadata": {},
     "output_type": "display_data"
    }
   ],
   "source": [
    "fig, ax, df = m.plot.timeit(group='Method', split='Sub-sub-method')\n",
    "df"
   ]
  },
  {
   "cell_type": "markdown",
   "metadata": {
    "papermill": {
     "duration": 0.013103,
     "end_time": "2019-11-08T16:23:57.282298",
     "exception": false,
     "start_time": "2019-11-08T16:23:57.269195",
     "status": "completed"
    },
    "tags": []
   },
   "source": [
    "### Preprocessing details by method"
   ]
  },
  {
   "cell_type": "code",
   "execution_count": 9,
   "metadata": {
    "papermill": {
     "duration": 0.230888,
     "end_time": "2019-11-08T16:23:57.526522",
     "exception": false,
     "start_time": "2019-11-08T16:23:57.295634",
     "status": "completed"
    },
    "tags": []
   },
   "outputs": [
    {
     "data": {
      "text/html": [
       "<div>\n",
       "<style scoped>\n",
       "    .dataframe tbody tr th:only-of-type {\n",
       "        vertical-align: middle;\n",
       "    }\n",
       "\n",
       "    .dataframe tbody tr th {\n",
       "        vertical-align: top;\n",
       "    }\n",
       "\n",
       "    .dataframe thead th {\n",
       "        text-align: right;\n",
       "    }\n",
       "</style>\n",
       "<table border=\"1\" class=\"dataframe\">\n",
       "  <thead>\n",
       "    <tr style=\"text-align: right;\">\n",
       "      <th>Sub-sub-sub-method</th>\n",
       "      <th>1-ravel</th>\n",
       "      <th>2-interp</th>\n",
       "      <th>3-scale_fit</th>\n",
       "      <th>4-scale_transform</th>\n",
       "      <th>5-reduce_fit</th>\n",
       "      <th>6-reduce_transform</th>\n",
       "    </tr>\n",
       "    <tr>\n",
       "      <th>Method</th>\n",
       "      <th></th>\n",
       "      <th></th>\n",
       "      <th></th>\n",
       "      <th></th>\n",
       "      <th></th>\n",
       "      <th></th>\n",
       "    </tr>\n",
       "  </thead>\n",
       "  <tbody>\n",
       "    <tr>\n",
       "      <th>fit</th>\n",
       "      <td>62.717915</td>\n",
       "      <td>2.789736</td>\n",
       "      <td>43.407202</td>\n",
       "      <td>21.826982</td>\n",
       "      <td>30.647278</td>\n",
       "      <td>7.711887</td>\n",
       "    </tr>\n",
       "    <tr>\n",
       "      <th>fit_predict</th>\n",
       "      <td>56.311846</td>\n",
       "      <td>2.384186</td>\n",
       "      <td>0.002861</td>\n",
       "      <td>10.461807</td>\n",
       "      <td>0.002861</td>\n",
       "      <td>7.608175</td>\n",
       "    </tr>\n",
       "    <tr>\n",
       "      <th>predict</th>\n",
       "      <td>60.415030</td>\n",
       "      <td>4.472017</td>\n",
       "      <td>0.005245</td>\n",
       "      <td>13.175964</td>\n",
       "      <td>0.004053</td>\n",
       "      <td>5.518913</td>\n",
       "    </tr>\n",
       "  </tbody>\n",
       "</table>\n",
       "</div>"
      ],
      "text/plain": [
       "Sub-sub-sub-method    1-ravel  2-interp  3-scale_fit  4-scale_transform  \\\n",
       "Method                                                                    \n",
       "fit                 62.717915  2.789736    43.407202          21.826982   \n",
       "fit_predict         56.311846  2.384186     0.002861          10.461807   \n",
       "predict             60.415030  4.472017     0.005245          13.175964   \n",
       "\n",
       "Sub-sub-sub-method  5-reduce_fit  6-reduce_transform  \n",
       "Method                                                \n",
       "fit                    30.647278            7.711887  \n",
       "fit_predict             0.002861            7.608175  \n",
       "predict                 0.004053            5.518913  "
      ]
     },
     "execution_count": 9,
     "metadata": {},
     "output_type": "execute_result"
    },
    {
     "data": {
      "image/png": "[encoded data removed]",
      "text/plain": [
       "<Figure size 450x270 with 1 Axes>"
      ]
     },
     "metadata": {},
     "output_type": "display_data"
    }
   ],
   "source": [
    "fig, ax, df = m.plot.timeit(group='Method', split='Sub-sub-sub-method')\n",
    "df"
   ]
  },
  {
   "cell_type": "markdown",
   "metadata": {
    "papermill": {
     "duration": 0.013858,
     "end_time": "2019-11-08T16:23:57.554134",
     "exception": false,
     "start_time": "2019-11-08T16:23:57.540276",
     "status": "completed"
    },
    "tags": []
   },
   "source": [
    "### Preprocessing details by features"
   ]
  },
  {
   "cell_type": "code",
   "execution_count": 10,
   "metadata": {
    "papermill": {
     "duration": 0.298136,
     "end_time": "2019-11-08T16:23:57.867288",
     "exception": false,
     "start_time": "2019-11-08T16:23:57.569152",
     "status": "completed"
    },
    "tags": []
   },
   "outputs": [
    {
     "data": {
      "text/html": [
       "<div>\n",
       "<style scoped>\n",
       "    .dataframe tbody tr th:only-of-type {\n",
       "        vertical-align: middle;\n",
       "    }\n",
       "\n",
       "    .dataframe tbody tr th {\n",
       "        vertical-align: top;\n",
       "    }\n",
       "\n",
       "    .dataframe thead th {\n",
       "        text-align: right;\n",
       "    }\n",
       "</style>\n",
       "<table border=\"1\" class=\"dataframe\">\n",
       "  <thead>\n",
       "    <tr style=\"text-align: right;\">\n",
       "      <th>Sub-sub-sub-method</th>\n",
       "      <th>1-ravel</th>\n",
       "      <th>2-interp</th>\n",
       "      <th>3-scale_fit</th>\n",
       "      <th>4-scale_transform</th>\n",
       "      <th>5-reduce_fit</th>\n",
       "      <th>6-reduce_transform</th>\n",
       "    </tr>\n",
       "    <tr>\n",
       "      <th>Sub-sub-method</th>\n",
       "      <th></th>\n",
       "      <th></th>\n",
       "      <th></th>\n",
       "      <th></th>\n",
       "      <th></th>\n",
       "      <th></th>\n",
       "    </tr>\n",
       "  </thead>\n",
       "  <tbody>\n",
       "    <tr>\n",
       "      <th>2-feature_salinity</th>\n",
       "      <td>0.095538</td>\n",
       "      <td>0.005862</td>\n",
       "      <td>0.019107</td>\n",
       "      <td>0.027633</td>\n",
       "      <td>0.013436</td>\n",
       "      <td>0.010854</td>\n",
       "    </tr>\n",
       "    <tr>\n",
       "      <th>2-feature_temperature</th>\n",
       "      <td>0.083907</td>\n",
       "      <td>0.003784</td>\n",
       "      <td>0.024308</td>\n",
       "      <td>0.017832</td>\n",
       "      <td>0.017218</td>\n",
       "      <td>0.009985</td>\n",
       "    </tr>\n",
       "  </tbody>\n",
       "</table>\n",
       "</div>"
      ],
      "text/plain": [
       "Sub-sub-sub-method      1-ravel  2-interp  3-scale_fit  4-scale_transform  \\\n",
       "Sub-sub-method                                                              \n",
       "2-feature_salinity     0.095538  0.005862     0.019107           0.027633   \n",
       "2-feature_temperature  0.083907  0.003784     0.024308           0.017832   \n",
       "\n",
       "Sub-sub-sub-method     5-reduce_fit  6-reduce_transform  \n",
       "Sub-sub-method                                           \n",
       "2-feature_salinity         0.013436            0.010854  \n",
       "2-feature_temperature      0.017218            0.009985  "
      ]
     },
     "execution_count": 10,
     "metadata": {},
     "output_type": "execute_result"
    },
    {
     "data": {
      "image/png": "[encoded data removed]",
      "text/plain": [
       "<Figure size 450x270 with 1 Axes>"
      ]
     },
     "metadata": {},
     "output_type": "display_data"
    }
   ],
   "source": [
    "fig, ax, df = m.plot.timeit(split='Sub-sub-sub-method', group='Sub-sub-method', unit='s')\n",
    "df"
   ]
  }
 ],
 "metadata": {
  "kernelspec": {
   "display_name": "obidam36",
   "language": "python",
   "name": "obidam36"
  },
  "language_info": {
   "codemirror_mode": {
    "name": "ipython",
    "version": 3
   },
   "file_extension": ".py",
   "mimetype": "text/x-python",
   "name": "python",
   "nbconvert_exporter": "python",
   "pygments_lexer": "ipython3",
   "version": "3.6.7"
  },
  "papermill": {
   "duration": 17.600711,
   "end_time": "2019-11-08T16:23:59.245238",
   "environment_variables": {},
   "exception": null,
   "input_path": "debug_perf.ipynb",
   "output_path": "../debug_perf.ipynb",
   "parameters": {},
   "start_time": "2019-11-08T16:23:41.644527",
   "version": "0.19.0"
  },
  "toc-showmarkdowntxt": true
 },
 "nbformat": 4,
 "nbformat_minor": 2
}