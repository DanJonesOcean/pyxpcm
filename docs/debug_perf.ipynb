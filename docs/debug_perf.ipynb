{
 "cells": [
  {
   "cell_type": "markdown",
   "metadata": {
    "papermill": {
     "duration": 0.01396,
     "end_time": "2020-02-11T21:01:59.532251",
     "exception": false,
     "start_time": "2020-02-11T21:01:59.518291",
     "status": "completed"
    },
    "tags": [],
    "toc-hr-collapsed": false
   },
   "source": [
    "# Debugging and performances"
   ]
  },
  {
   "cell_type": "code",
   "execution_count": 1,
   "metadata": {
    "nbsphinx": "hidden",
    "papermill": {
     "duration": 1.386578,
     "end_time": "2020-02-11T21:02:00.927802",
     "exception": false,
     "start_time": "2020-02-11T21:01:59.541224",
     "status": "completed"
    },
    "tags": []
   },
   "outputs": [
    {
     "name": "stdout",
     "output_type": "stream",
     "text": [
      "xarray: 0.14.2.dev62+g6d1434e9, /Users/gmaze/anaconda/envs/obidam36/lib/python3.6/site-packages/xarray/__init__.py\n"
     ]
    },
    {
     "name": "stdout",
     "output_type": "stream",
     "text": [
      "pyxpcm: 0.4.0, /Users/gmaze/git/github/gmaze/pyxpcm/pyxpcm/__init__.py\n"
     ]
    }
   ],
   "source": [
    "# Hidden cell\n",
    "import os, sys\n",
    "import numpy as np\n",
    "import pandas as pd\n",
    "import xarray as xr\n",
    "print(\"xarray: %s, %s\" % (xr.__version__, xr.__file__))\n",
    "\n",
    "import matplotlib.pyplot as plt\n",
    "%matplotlib inline\n",
    "sys.path.insert(0, os.path.abspath('/Users/gmaze/git/github/gmaze/pyxpcm'))\n",
    "\n",
    "import pyxpcm\n",
    "print(\"pyxpcm: %s, %s\" % (pyxpcm.__version__, pyxpcm.__file__))"
   ]
  },
  {
   "cell_type": "markdown",
   "metadata": {
    "papermill": {
     "duration": 0.007353,
     "end_time": "2020-02-11T21:02:00.942746",
     "exception": false,
     "start_time": "2020-02-11T21:02:00.935393",
     "status": "completed"
    },
    "tags": []
   },
   "source": [
    "**Import and set-up**\n",
    "\n",
    "Import the library and toy data"
   ]
  },
  {
   "cell_type": "code",
   "execution_count": 2,
   "metadata": {
    "papermill": {
     "duration": 0.04126,
     "end_time": "2020-02-11T21:02:00.992340",
     "exception": false,
     "start_time": "2020-02-11T21:02:00.951080",
     "status": "completed"
    },
    "tags": []
   },
   "outputs": [],
   "source": [
    "import pyxpcm\n",
    "from pyxpcm.models import pcm\n",
    "\n",
    "# Load a dataset to work with:\n",
    "ds = pyxpcm.tutorial.open_dataset('argo').load()\n",
    "\n",
    "# Define vertical axis and features to use:\n",
    "z = np.arange(0.,-1000.,-10.)\n",
    "features_pcm = {'temperature': z, 'salinity': z}\n",
    "features_in_ds = {'temperature': 'TEMP', 'salinity': 'PSAL'}"
   ]
  },
  {
   "cell_type": "markdown",
   "metadata": {
    "papermill": {
     "duration": 0.008604,
     "end_time": "2020-02-11T21:02:01.009440",
     "exception": false,
     "start_time": "2020-02-11T21:02:01.000836",
     "status": "completed"
    },
    "tags": []
   },
   "source": [
    "## Debugging\n",
    "\n",
    "Use option ``debug`` to print log messages "
   ]
  },
  {
   "cell_type": "code",
   "execution_count": 3,
   "metadata": {
    "papermill": {
     "duration": 28.159646,
     "end_time": "2020-02-11T21:02:29.176636",
     "exception": false,
     "start_time": "2020-02-11T21:02:01.016990",
     "status": "completed"
    },
    "tags": []
   },
   "outputs": [
    {
     "name": "stdout",
     "output_type": "stream",
     "text": [
      "> Start preprocessing for action 'fit'\n"
     ]
    },
    {
     "name": "stdout",
     "output_type": "stream",
     "text": [
      "\n",
      "\t> Preprocessing xarray dataset 'TEMP' as PCM feature 'temperature'\n",
      "\t [<class 'xarray.core.dataarray.DataArray'>, <class 'dask.array.core.Array'>, ((7560,), (282,))] X RAVELED with success\n",
      "\t\tOutput axis is in the input axis, not need to interpolate, simple intersection\n",
      "\t [<class 'xarray.core.dataarray.DataArray'>, <class 'dask.array.core.Array'>, ((7560,), (100,))] X INTERPOLATED with success)\n",
      "\t [<class 'xarray.core.dataarray.DataArray'>, <class 'numpy.ndarray'>, None] X SCALED with success)\n",
      "\t [<class 'xarray.core.dataarray.DataArray'>, <class 'numpy.ndarray'>, None] X REDUCED with success)\n",
      "\ttemperature pre-processed with success,  [<class 'xarray.core.dataarray.DataArray'>, <class 'numpy.ndarray'>, None]\n",
      "\tHomogenisation for fit of temperature\n",
      "\n",
      "\t> Preprocessing xarray dataset 'PSAL' as PCM feature 'salinity'\n"
     ]
    },
    {
     "name": "stdout",
     "output_type": "stream",
     "text": [
      "\t [<class 'xarray.core.dataarray.DataArray'>, <class 'dask.array.core.Array'>, ((7560,), (282,))] X RAVELED with success\n",
      "\t\tOutput axis is in the input axis, not need to interpolate, simple intersection\n",
      "\t [<class 'xarray.core.dataarray.DataArray'>, <class 'dask.array.core.Array'>, ((7560,), (100,))] X INTERPOLATED with success)\n",
      "\t [<class 'xarray.core.dataarray.DataArray'>, <class 'numpy.ndarray'>, None] X SCALED with success)\n",
      "\t [<class 'xarray.core.dataarray.DataArray'>, <class 'numpy.ndarray'>, None] X REDUCED with success)\n",
      "\tsalinity pre-processed with success,  [<class 'xarray.core.dataarray.DataArray'>, <class 'numpy.ndarray'>, None]\n",
      "\tHomogenisation for fit of salinity\n",
      "\tFeatures array shape and type for xarray: (7560, 30) <class 'numpy.ndarray'> <class 'memoryview'>\n",
      "> Preprocessing done, working with final X (<class 'xarray.core.dataarray.DataArray'>) array of shape: (7560, 30)  and sampling dimensions: ['N_PROF']\n"
     ]
    }
   ],
   "source": [
    "# Instantiate a new PCM:\n",
    "m = pcm(K=8, features=features_pcm, debug=True)\n",
    "\n",
    "# Fit with log:\n",
    "m.fit(ds, features=features_in_ds);"
   ]
  },
  {
   "cell_type": "markdown",
   "metadata": {
    "papermill": {
     "duration": 0.008337,
     "end_time": "2020-02-11T21:02:29.193749",
     "exception": false,
     "start_time": "2020-02-11T21:02:29.185412",
     "status": "completed"
    },
    "tags": [],
    "toc-hr-collapsed": true
   },
   "source": [
    "## Performance / Optimisation\n",
    "\n",
    "Use ``timeit`` and ``timeit_verb`` to compute computation time of PCM operations\n",
    "\n",
    "Times are accessible as a pandas Dataframe in ``timeit`` pyXpcm instance property.\n",
    "\n",
    "The pyXpcm ``m.plot.timeit()`` plot method allows for a simple visualisation of times."
   ]
  },
  {
   "cell_type": "markdown",
   "metadata": {
    "papermill": {
     "duration": 0.00807,
     "end_time": "2020-02-11T21:02:29.209882",
     "exception": false,
     "start_time": "2020-02-11T21:02:29.201812",
     "status": "completed"
    },
    "tags": []
   },
   "source": [
    "### Time readings during execution"
   ]
  },
  {
   "cell_type": "code",
   "execution_count": 4,
   "metadata": {
    "papermill": {
     "duration": 2.832394,
     "end_time": "2020-02-11T21:02:32.050463",
     "exception": false,
     "start_time": "2020-02-11T21:02:29.218069",
     "status": "completed"
    },
    "tags": []
   },
   "outputs": [
    {
     "name": "stdout",
     "output_type": "stream",
     "text": [
      "  fit.1-preprocess.1-mask: 20 ms\n",
      "  fit.1-preprocess.2-feature_temperature.1-ravel: 29 ms\n",
      "  fit.1-preprocess.2-feature_temperature.2-interp: 0 ms\n",
      "  fit.1-preprocess.2-feature_temperature.3-scale_fit: 7 ms\n",
      "  fit.1-preprocess.2-feature_temperature.4-scale_transform: 4 ms\n",
      "  fit.1-preprocess.2-feature_temperature.5-reduce_fit: 10 ms\n",
      "  fit.1-preprocess.2-feature_temperature.6-reduce_transform: 2 ms\n",
      "  fit.1-preprocess.2-feature_temperature.total: 55 ms\n",
      "  fit.1-preprocess: 56 ms\n",
      "  fit.1-preprocess.3-homogeniser: 1 ms\n",
      "  fit.1-preprocess.2-feature_salinity.1-ravel: 25 ms\n",
      "  fit.1-preprocess.2-feature_salinity.2-interp: 0 ms\n",
      "  fit.1-preprocess.2-feature_salinity.3-scale_fit: 7 ms\n",
      "  fit.1-preprocess.2-feature_salinity.4-scale_transform: 4 ms\n",
      "  fit.1-preprocess.2-feature_salinity.5-reduce_fit: 9 ms\n",
      "  fit.1-preprocess.2-feature_salinity.6-reduce_transform: 2 ms\n",
      "  fit.1-preprocess.2-feature_salinity.total: 51 ms\n",
      "  fit.1-preprocess: 51 ms\n",
      "  fit.1-preprocess.3-homogeniser: 1 ms\n",
      "  fit.1-preprocess.4-xarray: 0 ms\n",
      "  fit.1-preprocess: 132 ms\n"
     ]
    },
    {
     "name": "stdout",
     "output_type": "stream",
     "text": [
      "  fit.fit: 2675 ms\n",
      "  fit.score: 9 ms\n",
      "  fit: 2817 ms\n"
     ]
    }
   ],
   "source": [
    "# Create a PCM and execute methods:\n",
    "m = pcm(K=8, features=features_pcm, timeit=True, timeit_verb=1)\n",
    "m.fit(ds, features=features_in_ds);"
   ]
  },
  {
   "cell_type": "markdown",
   "metadata": {
    "papermill": {
     "duration": 0.009282,
     "end_time": "2020-02-11T21:02:32.069572",
     "exception": false,
     "start_time": "2020-02-11T21:02:32.060290",
     "status": "completed"
    },
    "tags": []
   },
   "source": [
    "### A posteriori Execution time analysis"
   ]
  },
  {
   "cell_type": "code",
   "execution_count": 5,
   "metadata": {
    "papermill": {
     "duration": 3.901076,
     "end_time": "2020-02-11T21:02:35.979365",
     "exception": false,
     "start_time": "2020-02-11T21:02:32.078289",
     "status": "completed"
    },
    "tags": []
   },
   "outputs": [],
   "source": [
    "# Create a PCM and execute methods:\n",
    "m = pcm(K=8, features=features_pcm, timeit=True, timeit_verb=0)\n",
    "m.fit(ds, features=features_in_ds);\n",
    "m.predict(ds, features=features_in_ds);\n",
    "m.fit_predict(ds, features=features_in_ds);"
   ]
  },
  {
   "cell_type": "raw",
   "metadata": {
    "papermill": {
     "duration": 0.00928,
     "end_time": "2020-02-11T21:02:35.997198",
     "exception": false,
     "start_time": "2020-02-11T21:02:35.987918",
     "status": "completed"
    },
    "raw_mimetype": "text/restructuredtext",
    "tags": []
   },
   "source": [
    "Execution times are accessible through a dataframe with the :py:attr:`pyxpcm.pcm.timeit` property"
   ]
  },
  {
   "cell_type": "code",
   "execution_count": 6,
   "metadata": {
    "papermill": {
     "duration": 0.026994,
     "end_time": "2020-02-11T21:02:36.033096",
     "exception": false,
     "start_time": "2020-02-11T21:02:36.006102",
     "status": "completed"
    },
    "tags": []
   },
   "outputs": [
    {
     "data": {
      "text/plain": [
       "Method       Sub-method    Sub-sub-method         Sub-sub-sub-method\n",
       "fit          1-preprocess  1-mask                 total                   19.667864\n",
       "                           2-feature_temperature  1-ravel                 28.775930\n",
       "                                                  2-interp                 0.649929\n",
       "                                                  3-scale_fit             10.529041\n",
       "                                                  4-scale_transform        4.294872\n",
       "                                                  5-reduce_fit            11.734009\n",
       "                                                  6-reduce_transform       2.493382\n",
       "                                                  total                   58.599949\n",
       "                           total                                         232.898712\n",
       "                           3-homogeniser          total                    2.095938\n",
       "                           2-feature_salinity     1-ravel                 20.290136\n",
       "                                                  2-interp                 0.611067\n",
       "                                                  3-scale_fit              7.843971\n",
       "                                                  4-scale_transform        4.334688\n",
       "                                                  5-reduce_fit            10.154247\n",
       "                                                  6-reduce_transform       2.441883\n",
       "                                                  total                   45.794964\n",
       "                           4-xarray               total                    0.997305\n",
       "             fit           total                                        1721.768379\n",
       "             score         total                                           8.548021\n",
       "             total                                                      1859.453201\n",
       "predict      1-preprocess  1-mask                 total                   18.440008\n",
       "                           2-feature_temperature  1-ravel                 29.564142\n",
       "                                                  2-interp                 0.645876\n",
       "                                                  3-scale_fit              0.000954\n",
       "                                                  4-scale_transform        4.281998\n",
       "                                                  5-reduce_fit             0.002146\n",
       "                                                  6-reduce_transform       2.423048\n",
       "                                                  total                   37.017107\n",
       "                           total                                         159.928322\n",
       "                                                                           ...     \n",
       "                           2-feature_salinity     6-reduce_transform       2.339125\n",
       "                                                  total                   32.124043\n",
       "                           4-xarray               total                    1.005888\n",
       "             predict       total                                           8.524895\n",
       "             score         total                                           8.650064\n",
       "             xarray        total                                           6.422997\n",
       "             total                                                       114.479065\n",
       "fit_predict  1-preprocess  1-mask                 total                   21.162987\n",
       "                           2-feature_temperature  1-ravel                 20.349026\n",
       "                                                  2-interp                 0.633001\n",
       "                                                  3-scale_fit              0.001907\n",
       "                                                  4-scale_transform        6.472826\n",
       "                                                  5-reduce_fit             0.000954\n",
       "                                                  6-reduce_transform       3.720999\n",
       "                                                  total                   31.296015\n",
       "                           total                                         149.966955\n",
       "                           3-homogeniser          total                    2.356052\n",
       "                           2-feature_salinity     1-ravel                 23.428917\n",
       "                                                  2-interp                 0.654697\n",
       "                                                  3-scale_fit              0.000954\n",
       "                                                  4-scale_transform        4.308939\n",
       "                                                  5-reduce_fit             0.001192\n",
       "                                                  6-reduce_transform       2.245188\n",
       "                                                  total                   30.743122\n",
       "                           4-xarray               total                    0.961065\n",
       "             fit           total                                        1801.964045\n",
       "             score         total                                           8.421898\n",
       "             predict       total                                           7.369041\n",
       "             xarray        total                                           5.813122\n",
       "             total                                                      1911.516190\n",
       "Length: 66, dtype: float64"
      ]
     },
     "execution_count": 6,
     "metadata": {},
     "output_type": "execute_result"
    }
   ],
   "source": [
    "m.timeit"
   ]
  },
  {
   "cell_type": "markdown",
   "metadata": {
    "papermill": {
     "duration": 0.008711,
     "end_time": "2020-02-11T21:02:36.050722",
     "exception": false,
     "start_time": "2020-02-11T21:02:36.042011",
     "status": "completed"
    },
    "raw_mimetype": "-",
    "tags": []
   },
   "source": [
    "## Visualisation help"
   ]
  },
  {
   "cell_type": "raw",
   "metadata": {
    "papermill": {
     "duration": 0.009118,
     "end_time": "2020-02-11T21:02:36.068956",
     "exception": false,
     "start_time": "2020-02-11T21:02:36.059838",
     "status": "completed"
    },
    "raw_mimetype": "text/restructuredtext",
    "tags": []
   },
   "source": [
    "To facilitate your analysis of execution times, you can use :meth:`pyxpcm.plot.timeit`."
   ]
  },
  {
   "cell_type": "markdown",
   "metadata": {
    "papermill": {
     "duration": 0.009269,
     "end_time": "2020-02-11T21:02:36.087594",
     "exception": false,
     "start_time": "2020-02-11T21:02:36.078325",
     "status": "completed"
    },
    "tags": []
   },
   "source": [
    "### Main steps by method"
   ]
  },
  {
   "cell_type": "code",
   "execution_count": 7,
   "metadata": {
    "papermill": {
     "duration": 0.253853,
     "end_time": "2020-02-11T21:02:36.350908",
     "exception": false,
     "start_time": "2020-02-11T21:02:36.097055",
     "status": "completed"
    },
    "tags": []
   },
   "outputs": [
    {
     "data": {
      "text/html": [
       "<div>\n",
       "<style scoped>\n",
       "    .dataframe tbody tr th:only-of-type {\n",
       "        vertical-align: middle;\n",
       "    }\n",
       "\n",
       "    .dataframe tbody tr th {\n",
       "        vertical-align: top;\n",
       "    }\n",
       "\n",
       "    .dataframe thead th {\n",
       "        text-align: right;\n",
       "    }\n",
       "</style>\n",
       "<table border=\"1\" class=\"dataframe\">\n",
       "  <thead>\n",
       "    <tr style=\"text-align: right;\">\n",
       "      <th>Sub-method</th>\n",
       "      <th>1-preprocess</th>\n",
       "      <th>fit</th>\n",
       "      <th>predict</th>\n",
       "      <th>score</th>\n",
       "      <th>xarray</th>\n",
       "    </tr>\n",
       "    <tr>\n",
       "      <th>Method</th>\n",
       "      <th></th>\n",
       "      <th></th>\n",
       "      <th></th>\n",
       "      <th></th>\n",
       "      <th></th>\n",
       "    </tr>\n",
       "  </thead>\n",
       "  <tbody>\n",
       "    <tr>\n",
       "      <th>fit</th>\n",
       "      <td>464.207888</td>\n",
       "      <td>1721.768379</td>\n",
       "      <td>NaN</td>\n",
       "      <td>8.548021</td>\n",
       "      <td>NaN</td>\n",
       "    </tr>\n",
       "    <tr>\n",
       "      <th>fit_predict</th>\n",
       "      <td>298.304796</td>\n",
       "      <td>1801.964045</td>\n",
       "      <td>7.369041</td>\n",
       "      <td>8.421898</td>\n",
       "      <td>5.813122</td>\n",
       "    </tr>\n",
       "    <tr>\n",
       "      <th>predict</th>\n",
       "      <td>318.270445</td>\n",
       "      <td>NaN</td>\n",
       "      <td>8.524895</td>\n",
       "      <td>8.650064</td>\n",
       "      <td>6.422997</td>\n",
       "    </tr>\n",
       "  </tbody>\n",
       "</table>\n",
       "</div>"
      ],
      "text/plain": [
       "Sub-method   1-preprocess          fit   predict     score    xarray\n",
       "Method                                                              \n",
       "fit            464.207888  1721.768379       NaN  8.548021       NaN\n",
       "fit_predict    298.304796  1801.964045  7.369041  8.421898  5.813122\n",
       "predict        318.270445          NaN  8.524895  8.650064  6.422997"
      ]
     },
     "execution_count": 7,
     "metadata": {},
     "output_type": "execute_result"
    },
    {
     "data": {
      "image/png": "[encoded data removed]",
      "text/plain": [
       "<Figure size 450x270 with 1 Axes>"
      ]
     },
     "metadata": {},
     "output_type": "display_data"
    }
   ],
   "source": [
    "fig, ax, df = m.plot.timeit(group='Method', split='Sub-method', style='darkgrid') # Default group/split\n",
    "df"
   ]
  },
  {
   "cell_type": "markdown",
   "metadata": {
    "papermill": {
     "duration": 0.009174,
     "end_time": "2020-02-11T21:02:36.370233",
     "exception": false,
     "start_time": "2020-02-11T21:02:36.361059",
     "status": "completed"
    },
    "tags": []
   },
   "source": [
    "### Preprocessing main steps by method"
   ]
  },
  {
   "cell_type": "code",
   "execution_count": 8,
   "metadata": {
    "papermill": {
     "duration": 0.238631,
     "end_time": "2020-02-11T21:02:36.618036",
     "exception": false,
     "start_time": "2020-02-11T21:02:36.379405",
     "status": "completed"
    },
    "tags": []
   },
   "outputs": [
    {
     "data": {
      "text/html": [
       "<div>\n",
       "<style scoped>\n",
       "    .dataframe tbody tr th:only-of-type {\n",
       "        vertical-align: middle;\n",
       "    }\n",
       "\n",
       "    .dataframe tbody tr th {\n",
       "        vertical-align: top;\n",
       "    }\n",
       "\n",
       "    .dataframe thead th {\n",
       "        text-align: right;\n",
       "    }\n",
       "</style>\n",
       "<table border=\"1\" class=\"dataframe\">\n",
       "  <thead>\n",
       "    <tr style=\"text-align: right;\">\n",
       "      <th>Sub-sub-method</th>\n",
       "      <th>1-mask</th>\n",
       "      <th>2-feature_salinity</th>\n",
       "      <th>2-feature_temperature</th>\n",
       "      <th>3-homogeniser</th>\n",
       "      <th>4-xarray</th>\n",
       "    </tr>\n",
       "    <tr>\n",
       "      <th>Method</th>\n",
       "      <th></th>\n",
       "      <th></th>\n",
       "      <th></th>\n",
       "      <th></th>\n",
       "      <th></th>\n",
       "    </tr>\n",
       "  </thead>\n",
       "  <tbody>\n",
       "    <tr>\n",
       "      <th>fit</th>\n",
       "      <td>19.667864</td>\n",
       "      <td>91.470957</td>\n",
       "      <td>117.077112</td>\n",
       "      <td>2.095938</td>\n",
       "      <td>0.997305</td>\n",
       "    </tr>\n",
       "    <tr>\n",
       "      <th>fit_predict</th>\n",
       "      <td>21.162987</td>\n",
       "      <td>61.383009</td>\n",
       "      <td>62.474728</td>\n",
       "      <td>2.356052</td>\n",
       "      <td>0.961065</td>\n",
       "    </tr>\n",
       "    <tr>\n",
       "      <th>predict</th>\n",
       "      <td>18.440008</td>\n",
       "      <td>64.152002</td>\n",
       "      <td>73.935270</td>\n",
       "      <td>0.808954</td>\n",
       "      <td>1.005888</td>\n",
       "    </tr>\n",
       "  </tbody>\n",
       "</table>\n",
       "</div>"
      ],
      "text/plain": [
       "Sub-sub-method     1-mask  2-feature_salinity  2-feature_temperature  \\\n",
       "Method                                                                 \n",
       "fit             19.667864           91.470957             117.077112   \n",
       "fit_predict     21.162987           61.383009              62.474728   \n",
       "predict         18.440008           64.152002              73.935270   \n",
       "\n",
       "Sub-sub-method  3-homogeniser  4-xarray  \n",
       "Method                                   \n",
       "fit                  2.095938  0.997305  \n",
       "fit_predict          2.356052  0.961065  \n",
       "predict              0.808954  1.005888  "
      ]
     },
     "execution_count": 8,
     "metadata": {},
     "output_type": "execute_result"
    },
    {
     "data": {
      "image/png": "[encoded data removed]",
      "text/plain": [
       "<Figure size 450x270 with 1 Axes>"
      ]
     },
     "metadata": {},
     "output_type": "display_data"
    }
   ],
   "source": [
    "fig, ax, df = m.plot.timeit(group='Method', split='Sub-sub-method')\n",
    "df"
   ]
  },
  {
   "cell_type": "markdown",
   "metadata": {
    "papermill": {
     "duration": 0.009921,
     "end_time": "2020-02-11T21:02:36.638420",
     "exception": false,
     "start_time": "2020-02-11T21:02:36.628499",
     "status": "completed"
    },
    "tags": []
   },
   "source": [
    "### Preprocessing details by method"
   ]
  },
  {
   "cell_type": "code",
   "execution_count": 9,
   "metadata": {
    "papermill": {
     "duration": 0.248403,
     "end_time": "2020-02-11T21:02:36.897202",
     "exception": false,
     "start_time": "2020-02-11T21:02:36.648799",
     "status": "completed"
    },
    "tags": []
   },
   "outputs": [
    {
     "data": {
      "text/html": [
       "<div>\n",
       "<style scoped>\n",
       "    .dataframe tbody tr th:only-of-type {\n",
       "        vertical-align: middle;\n",
       "    }\n",
       "\n",
       "    .dataframe tbody tr th {\n",
       "        vertical-align: top;\n",
       "    }\n",
       "\n",
       "    .dataframe thead th {\n",
       "        text-align: right;\n",
       "    }\n",
       "</style>\n",
       "<table border=\"1\" class=\"dataframe\">\n",
       "  <thead>\n",
       "    <tr style=\"text-align: right;\">\n",
       "      <th>Sub-sub-sub-method</th>\n",
       "      <th>1-ravel</th>\n",
       "      <th>2-interp</th>\n",
       "      <th>3-scale_fit</th>\n",
       "      <th>4-scale_transform</th>\n",
       "      <th>5-reduce_fit</th>\n",
       "      <th>6-reduce_transform</th>\n",
       "    </tr>\n",
       "    <tr>\n",
       "      <th>Method</th>\n",
       "      <th></th>\n",
       "      <th></th>\n",
       "      <th></th>\n",
       "      <th></th>\n",
       "      <th></th>\n",
       "      <th></th>\n",
       "    </tr>\n",
       "  </thead>\n",
       "  <tbody>\n",
       "    <tr>\n",
       "      <th>fit</th>\n",
       "      <td>49.066067</td>\n",
       "      <td>1.260996</td>\n",
       "      <td>18.373013</td>\n",
       "      <td>8.629560</td>\n",
       "      <td>21.888256</td>\n",
       "      <td>4.935265</td>\n",
       "    </tr>\n",
       "    <tr>\n",
       "      <th>fit_predict</th>\n",
       "      <td>43.777943</td>\n",
       "      <td>1.287699</td>\n",
       "      <td>0.002861</td>\n",
       "      <td>10.781765</td>\n",
       "      <td>0.002146</td>\n",
       "      <td>5.966187</td>\n",
       "    </tr>\n",
       "    <tr>\n",
       "      <th>predict</th>\n",
       "      <td>54.390907</td>\n",
       "      <td>1.282930</td>\n",
       "      <td>0.002146</td>\n",
       "      <td>8.505106</td>\n",
       "      <td>0.002861</td>\n",
       "      <td>4.762173</td>\n",
       "    </tr>\n",
       "  </tbody>\n",
       "</table>\n",
       "</div>"
      ],
      "text/plain": [
       "Sub-sub-sub-method    1-ravel  2-interp  3-scale_fit  4-scale_transform  \\\n",
       "Method                                                                    \n",
       "fit                 49.066067  1.260996    18.373013           8.629560   \n",
       "fit_predict         43.777943  1.287699     0.002861          10.781765   \n",
       "predict             54.390907  1.282930     0.002146           8.505106   \n",
       "\n",
       "Sub-sub-sub-method  5-reduce_fit  6-reduce_transform  \n",
       "Method                                                \n",
       "fit                    21.888256            4.935265  \n",
       "fit_predict             0.002146            5.966187  \n",
       "predict                 0.002861            4.762173  "
      ]
     },
     "execution_count": 9,
     "metadata": {},
     "output_type": "execute_result"
    },
    {
     "data": {
      "image/png": "[encoded data removed]",
      "text/plain": [
       "<Figure size 450x270 with 1 Axes>"
      ]
     },
     "metadata": {},
     "output_type": "display_data"
    }
   ],
   "source": [
    "fig, ax, df = m.plot.timeit(group='Method', split='Sub-sub-sub-method')\n",
    "df"
   ]
  },
  {
   "cell_type": "markdown",
   "metadata": {
    "papermill": {
     "duration": 0.011065,
     "end_time": "2020-02-11T21:02:36.919327",
     "exception": false,
     "start_time": "2020-02-11T21:02:36.908262",
     "status": "completed"
    },
    "tags": []
   },
   "source": [
    "### Preprocessing details by features"
   ]
  },
  {
   "cell_type": "code",
   "execution_count": 10,
   "metadata": {
    "papermill": {
     "duration": 0.274132,
     "end_time": "2020-02-11T21:02:37.204440",
     "exception": false,
     "start_time": "2020-02-11T21:02:36.930308",
     "status": "completed"
    },
    "tags": []
   },
   "outputs": [
    {
     "data": {
      "text/html": [
       "<div>\n",
       "<style scoped>\n",
       "    .dataframe tbody tr th:only-of-type {\n",
       "        vertical-align: middle;\n",
       "    }\n",
       "\n",
       "    .dataframe tbody tr th {\n",
       "        vertical-align: top;\n",
       "    }\n",
       "\n",
       "    .dataframe thead th {\n",
       "        text-align: right;\n",
       "    }\n",
       "</style>\n",
       "<table border=\"1\" class=\"dataframe\">\n",
       "  <thead>\n",
       "    <tr style=\"text-align: right;\">\n",
       "      <th>Sub-sub-sub-method</th>\n",
       "      <th>1-ravel</th>\n",
       "      <th>2-interp</th>\n",
       "      <th>3-scale_fit</th>\n",
       "      <th>4-scale_transform</th>\n",
       "      <th>5-reduce_fit</th>\n",
       "      <th>6-reduce_transform</th>\n",
       "    </tr>\n",
       "    <tr>\n",
       "      <th>Sub-sub-method</th>\n",
       "      <th></th>\n",
       "      <th></th>\n",
       "      <th></th>\n",
       "      <th></th>\n",
       "      <th></th>\n",
       "      <th></th>\n",
       "    </tr>\n",
       "  </thead>\n",
       "  <tbody>\n",
       "    <tr>\n",
       "      <th>2-feature_salinity</th>\n",
       "      <td>0.068546</td>\n",
       "      <td>0.001903</td>\n",
       "      <td>0.007846</td>\n",
       "      <td>0.012867</td>\n",
       "      <td>0.010156</td>\n",
       "      <td>0.007026</td>\n",
       "    </tr>\n",
       "    <tr>\n",
       "      <th>2-feature_temperature</th>\n",
       "      <td>0.078689</td>\n",
       "      <td>0.001929</td>\n",
       "      <td>0.010532</td>\n",
       "      <td>0.015050</td>\n",
       "      <td>0.011737</td>\n",
       "      <td>0.008637</td>\n",
       "    </tr>\n",
       "  </tbody>\n",
       "</table>\n",
       "</div>"
      ],
      "text/plain": [
       "Sub-sub-sub-method      1-ravel  2-interp  3-scale_fit  4-scale_transform  \\\n",
       "Sub-sub-method                                                              \n",
       "2-feature_salinity     0.068546  0.001903     0.007846           0.012867   \n",
       "2-feature_temperature  0.078689  0.001929     0.010532           0.015050   \n",
       "\n",
       "Sub-sub-sub-method     5-reduce_fit  6-reduce_transform  \n",
       "Sub-sub-method                                           \n",
       "2-feature_salinity         0.010156            0.007026  \n",
       "2-feature_temperature      0.011737            0.008637  "
      ]
     },
     "execution_count": 10,
     "metadata": {},
     "output_type": "execute_result"
    },
    {
     "data": {
      "image/png": "[encoded data removed]",
      "text/plain": [
       "<Figure size 450x270 with 1 Axes>"
      ]
     },
     "metadata": {},
     "output_type": "display_data"
    }
   ],
   "source": [
    "fig, ax, df = m.plot.timeit(split='Sub-sub-sub-method', group='Sub-sub-method', unit='s')\n",
    "df"
   ]
  }
 ],
 "metadata": {
  "kernelspec": {
   "display_name": "obidam36",
   "language": "python",
   "name": "obidam36"
  },
  "language_info": {
   "codemirror_mode": {
    "name": "ipython",
    "version": 3
   },
   "file_extension": ".py",
   "mimetype": "text/x-python",
   "name": "python",
   "nbconvert_exporter": "python",
   "pygments_lexer": "ipython3",
   "version": "3.6.7"
  },
  "papermill": {
   "duration": 38.936266,
   "end_time": "2020-02-11T21:02:37.741676",
   "environment_variables": {},
   "exception": null,
   "input_path": "debug_perf.ipynb",
   "output_path": "../debug_perf.ipynb",
   "parameters": {},
   "start_time": "2020-02-11T21:01:58.805410",
   "version": "1.2.1"
  },
  "toc-showmarkdowntxt": true
 },
 "nbformat": 4,
 "nbformat_minor": 2
}