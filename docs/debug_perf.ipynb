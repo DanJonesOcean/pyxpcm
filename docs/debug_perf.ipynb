{
 "cells": [
  {
   "cell_type": "markdown",
   "metadata": {
    "papermill": {
     "duration": 0.012644,
     "end_time": "2019-11-06T21:35:59.829470",
     "exception": false,
     "start_time": "2019-11-06T21:35:59.816826",
     "status": "completed"
    },
    "tags": [],
    "toc-hr-collapsed": false
   },
   "source": [
    "# Debugging and performances"
   ]
  },
  {
   "cell_type": "code",
   "execution_count": 1,
   "metadata": {
    "nbsphinx": "hidden",
    "papermill": {
     "duration": 1.705989,
     "end_time": "2019-11-06T21:36:01.545192",
     "exception": false,
     "start_time": "2019-11-06T21:35:59.839203",
     "status": "completed"
    },
    "tags": []
   },
   "outputs": [
    {
     "name": "stdout",
     "output_type": "stream",
     "text": [
      "xarray: 0.12.1, /Users/gmaze/anaconda/envs/obidam36/lib/python3.6/site-packages/xarray/__init__.py\n"
     ]
    },
    {
     "name": "stdout",
     "output_type": "stream",
     "text": [
      "pyxpcm: 0.4.0, /Users/gmaze/git/github/gmaze/pyxpcm/pyxpcm/__init__.py\n"
     ]
    }
   ],
   "source": [
    "# Hidden cell\n",
    "import os, sys\n",
    "import numpy as np\n",
    "import pandas as pd\n",
    "import xarray as xr\n",
    "print(\"xarray: %s, %s\" % (xr.__version__, xr.__file__))\n",
    "\n",
    "import matplotlib.pyplot as plt\n",
    "%matplotlib inline\n",
    "sys.path.insert(0, os.path.abspath('/Users/gmaze/git/github/gmaze/pyxpcm'))\n",
    "\n",
    "import pyxpcm\n",
    "print(\"pyxpcm: %s, %s\" % (pyxpcm.__version__, pyxpcm.__file__))"
   ]
  },
  {
   "cell_type": "markdown",
   "metadata": {
    "papermill": {
     "duration": 0.008583,
     "end_time": "2019-11-06T21:36:01.562813",
     "exception": false,
     "start_time": "2019-11-06T21:36:01.554230",
     "status": "completed"
    },
    "tags": []
   },
   "source": [
    "**Import and set-up**\n",
    "\n",
    "Import the library and toy data"
   ]
  },
  {
   "cell_type": "code",
   "execution_count": 2,
   "metadata": {
    "papermill": {
     "duration": 0.053396,
     "end_time": "2019-11-06T21:36:01.627486",
     "exception": false,
     "start_time": "2019-11-06T21:36:01.574090",
     "status": "completed"
    },
    "tags": []
   },
   "outputs": [],
   "source": [
    "import pyxpcm\n",
    "from pyxpcm.models import pcm\n",
    "\n",
    "# Load a dataset to work with:\n",
    "ds = pyxpcm.tutorial.open_dataset('argo').load()\n",
    "\n",
    "# Define vertical axis and features to use:\n",
    "z = np.arange(0.,-1000.,-10.)\n",
    "features_pcm = {'temperature': z, 'salinity': z}\n",
    "features_in_ds = {'temperature': 'TEMP', 'salinity': 'PSAL'}"
   ]
  },
  {
   "cell_type": "markdown",
   "metadata": {
    "papermill": {
     "duration": 0.008608,
     "end_time": "2019-11-06T21:36:01.644951",
     "exception": false,
     "start_time": "2019-11-06T21:36:01.636343",
     "status": "completed"
    },
    "tags": []
   },
   "source": [
    "## Debugging\n",
    "\n",
    "Use option ``debug`` to print log messages "
   ]
  },
  {
   "cell_type": "code",
   "execution_count": 3,
   "metadata": {
    "papermill": {
     "duration": 3.744984,
     "end_time": "2019-11-06T21:36:05.399458",
     "exception": false,
     "start_time": "2019-11-06T21:36:01.654474",
     "status": "completed"
    },
    "tags": []
   },
   "outputs": [
    {
     "name": "stdout",
     "output_type": "stream",
     "text": [
      "> Start preprocessing for action 'fit'\n"
     ]
    },
    {
     "name": "stdout",
     "output_type": "stream",
     "text": [
      "\n",
      "\t> Preprocessing xarray dataset 'TEMP' as PCM feature 'temperature'\n",
      "\t [<class 'xarray.core.dataarray.DataArray'>, <class 'dask.array.core.Array'>, ((7560,), (282,))] X RAVELED with success\n",
      "\t\tOutput axis is in the input axis, not need to interpolate, simple intersection\n",
      "\t [<class 'xarray.core.dataarray.DataArray'>, <class 'dask.array.core.Array'>, ((7560,), (100,))] X INTERPOLATED with success)\n",
      "\t [<class 'xarray.core.dataarray.DataArray'>, <class 'numpy.ndarray'>, None] X SCALED with success)\n"
     ]
    },
    {
     "name": "stdout",
     "output_type": "stream",
     "text": [
      "\t [<class 'xarray.core.dataarray.DataArray'>, <class 'numpy.ndarray'>, None] X REDUCED with success)\n",
      "\ttemperature pre-processed with success,  [<class 'xarray.core.dataarray.DataArray'>, <class 'numpy.ndarray'>, None]\n",
      "\tHomogenisation for fit of temperature\n",
      "\n",
      "\t> Preprocessing xarray dataset 'PSAL' as PCM feature 'salinity'\n",
      "\t [<class 'xarray.core.dataarray.DataArray'>, <class 'dask.array.core.Array'>, ((7560,), (282,))] X RAVELED with success\n",
      "\t\tOutput axis is in the input axis, not need to interpolate, simple intersection\n",
      "\t [<class 'xarray.core.dataarray.DataArray'>, <class 'dask.array.core.Array'>, ((7560,), (100,))] X INTERPOLATED with success)\n",
      "\t [<class 'xarray.core.dataarray.DataArray'>, <class 'numpy.ndarray'>, None] X SCALED with success)\n",
      "\t [<class 'xarray.core.dataarray.DataArray'>, <class 'numpy.ndarray'>, None] X REDUCED with success)\n",
      "\tsalinity pre-processed with success,  [<class 'xarray.core.dataarray.DataArray'>, <class 'numpy.ndarray'>, None]\n",
      "\tHomogenisation for fit of salinity\n",
      "\tFeatures array shape and type for xarray: (7560, 30) <class 'numpy.ndarray'> <class 'memoryview'>\n",
      "> Preprocessing done, working with final X (<class 'xarray.core.dataarray.DataArray'>) array of shape: (7560, 30)  and sampling dimensions: ['N_PROF']\n"
     ]
    }
   ],
   "source": [
    "# Instantiate a new PCM:\n",
    "m = pcm(K=8, features=features_pcm, debug=True)\n",
    "\n",
    "# Fit with log:\n",
    "m.fit(ds, features=features_in_ds);"
   ]
  },
  {
   "cell_type": "markdown",
   "metadata": {
    "papermill": {
     "duration": 0.009343,
     "end_time": "2019-11-06T21:36:05.418635",
     "exception": false,
     "start_time": "2019-11-06T21:36:05.409292",
     "status": "completed"
    },
    "tags": [],
    "toc-hr-collapsed": true
   },
   "source": [
    "## Performance / Optimisation\n",
    "\n",
    "Use ``timeit`` and ``timeit_verb`` to compute computation time of PCM operations\n",
    "\n",
    "Times are accessible as a pandas Dataframe in ``timeit`` pyXpcm instance property.\n",
    "\n",
    "The pyXpcm ``m.plot.timeit()`` plot method allows for a simple visualisation of times."
   ]
  },
  {
   "cell_type": "markdown",
   "metadata": {
    "papermill": {
     "duration": 0.011218,
     "end_time": "2019-11-06T21:36:05.440069",
     "exception": false,
     "start_time": "2019-11-06T21:36:05.428851",
     "status": "completed"
    },
    "tags": []
   },
   "source": [
    "### Time readings during execution"
   ]
  },
  {
   "cell_type": "code",
   "execution_count": 4,
   "metadata": {
    "papermill": {
     "duration": 3.800765,
     "end_time": "2019-11-06T21:36:09.253030",
     "exception": false,
     "start_time": "2019-11-06T21:36:05.452265",
     "status": "completed"
    },
    "tags": []
   },
   "outputs": [
    {
     "name": "stdout",
     "output_type": "stream",
     "text": [
      "  fit.1-preprocess.1-mask: 51 ms\n",
      "  fit.1-preprocess.2-feature_temperature.1-ravel: 28 ms\n",
      "  fit.1-preprocess.2-feature_temperature.2-interp: 1 ms\n",
      "  fit.1-preprocess.2-feature_temperature.3-scale_fit: 11 ms\n",
      "  fit.1-preprocess.2-feature_temperature.4-scale_transform: 5 ms\n",
      "  fit.1-preprocess.2-feature_temperature.5-reduce_fit: 18 ms\n",
      "  fit.1-preprocess.2-feature_temperature.6-reduce_transform: 3 ms\n",
      "  fit.1-preprocess.2-feature_temperature.total: 68 ms\n",
      "  fit.1-preprocess: 68 ms\n",
      "  fit.1-preprocess.3-homogeniser: 1 ms\n",
      "  fit.1-preprocess.2-feature_salinity.1-ravel: 27 ms\n",
      "  fit.1-preprocess.2-feature_salinity.2-interp: 1 ms\n",
      "  fit.1-preprocess.2-feature_salinity.3-scale_fit: 22 ms\n",
      "  fit.1-preprocess.2-feature_salinity.4-scale_transform: 9 ms\n",
      "  fit.1-preprocess.2-feature_salinity.5-reduce_fit: 12 ms\n",
      "  fit.1-preprocess.2-feature_salinity.6-reduce_transform: 3 ms\n",
      "  fit.1-preprocess.2-feature_salinity.total: 78 ms\n",
      "  fit.1-preprocess: 78 ms\n",
      "  fit.1-preprocess.3-homogeniser: 1 ms\n",
      "  fit.1-preprocess.4-xarray: 1 ms\n",
      "  fit.1-preprocess: 204 ms\n"
     ]
    },
    {
     "name": "stdout",
     "output_type": "stream",
     "text": [
      "  fit.2-fit: 3559 ms\n",
      "  fit.3-score: 15 ms\n",
      "  fit: 3780 ms\n"
     ]
    }
   ],
   "source": [
    "# Create a PCM and execute methods:\n",
    "m = pcm(K=8, features=features_pcm, timeit=True, timeit_verb=1)\n",
    "m.fit(ds, features=features_in_ds);"
   ]
  },
  {
   "cell_type": "markdown",
   "metadata": {
    "papermill": {
     "duration": 0.010813,
     "end_time": "2019-11-06T21:36:09.274344",
     "exception": false,
     "start_time": "2019-11-06T21:36:09.263531",
     "status": "completed"
    },
    "tags": []
   },
   "source": [
    "### A posteriori Execution time analysis"
   ]
  },
  {
   "cell_type": "code",
   "execution_count": 5,
   "metadata": {
    "papermill": {
     "duration": 8.051783,
     "end_time": "2019-11-06T21:36:17.341191",
     "exception": false,
     "start_time": "2019-11-06T21:36:09.289408",
     "status": "completed"
    },
    "tags": []
   },
   "outputs": [],
   "source": [
    "# Create a PCM and execute methods:\n",
    "m = pcm(K=8, features=features_pcm, timeit=True, timeit_verb=0)\n",
    "m.fit(ds, features=features_in_ds);\n",
    "m.predict(ds, features=features_in_ds);\n",
    "m.fit_predict(ds, features=features_in_ds);"
   ]
  },
  {
   "cell_type": "raw",
   "metadata": {
    "papermill": {
     "duration": 0.010017,
     "end_time": "2019-11-06T21:36:17.361788",
     "exception": false,
     "start_time": "2019-11-06T21:36:17.351771",
     "status": "completed"
    },
    "raw_mimetype": "text/restructuredtext",
    "tags": []
   },
   "source": [
    "Execution times are accessible through a dataframe with the :py:attr:`pyxpcm.pcm.timeit` property"
   ]
  },
  {
   "cell_type": "code",
   "execution_count": 6,
   "metadata": {
    "papermill": {
     "duration": 0.034057,
     "end_time": "2019-11-06T21:36:17.408820",
     "exception": false,
     "start_time": "2019-11-06T21:36:17.374763",
     "status": "completed"
    },
    "tags": []
   },
   "outputs": [
    {
     "data": {
      "text/plain": [
       "Method       Sub-method    Sub-sub-method         Sub-sub-sub-method\n",
       "fit          1-preprocess  1-mask                 total                   59.017897\n",
       "                           2-feature_temperature  1-ravel                 33.643961\n",
       "                                                  2-interp                 2.234936\n",
       "                                                  3-scale_fit             15.997887\n",
       "                                                  4-scale_transform        7.686853\n",
       "                                                  5-reduce_fit            17.114162\n",
       "                                                  6-reduce_transform       3.432989\n",
       "                                                  total                   80.282927\n",
       "                           total                                         376.929045\n",
       "                           3-homogeniser          total                    2.793789\n",
       "                           2-feature_salinity     1-ravel                 35.713911\n",
       "                                                  2-interp                 2.450943\n",
       "                                                  3-scale_fit             14.661074\n",
       "                                                  4-scale_transform        6.233215\n",
       "                                                  5-reduce_fit            13.422012\n",
       "                                                  6-reduce_transform       3.451109\n",
       "                                                  total                   76.134205\n",
       "                           4-xarray               total                    1.126289\n",
       "             2-fit         total                                        4042.437077\n",
       "             3-score       total                                          16.571760\n",
       "             total                                                      4279.447794\n",
       "predict      1-preprocess  1-mask                 total                  101.495028\n",
       "                           2-feature_temperature  1-ravel                 39.956331\n",
       "                                                  2-interp                 5.376816\n",
       "                                                  3-scale_fit              0.001907\n",
       "                                                  4-scale_transform        6.705046\n",
       "                                                  5-reduce_fit             0.001907\n",
       "                                                  6-reduce_transform       3.672123\n",
       "                                                  total                   55.917025\n",
       "                           total                                         320.628643\n",
       "                                                                           ...     \n",
       "                           2-feature_salinity     total                   51.414967\n",
       "                           4-xarray               total                    1.792192\n",
       "             2-predict     total                                          12.055159\n",
       "             score         total                                          13.632059\n",
       "             3-xarray      total                                          12.684107\n",
       "             total                                                       251.568079\n",
       "fit_predict  1-preprocess  1-mask                 total                   54.736137\n",
       "                           2-feature_temperature  1-ravel                 28.817892\n",
       "                                                  2-interp                 1.186848\n",
       "                                                  3-scale_fit              0.002146\n",
       "                                                  4-scale_transform        5.763292\n",
       "                                                  5-reduce_fit             0.001192\n",
       "                                                  6-reduce_transform       3.416777\n",
       "                                                  total                   39.326191\n",
       "                           total                                         227.511883\n",
       "                           3-homogeniser          total                    2.084494\n",
       "                           2-feature_salinity     1-ravel                 30.267954\n",
       "                                                  2-interp                 1.194000\n",
       "                                                  3-scale_fit              0.002146\n",
       "                                                  4-scale_transform        6.004810\n",
       "                                                  5-reduce_fit             0.021935\n",
       "                                                  6-reduce_transform       5.020857\n",
       "                                                  total                   42.709112\n",
       "                           4-xarray               total                    5.116224\n",
       "             2-fit         total                                        3297.992229\n",
       "             3-score       total                                          23.998976\n",
       "             4-predict     total                                           9.690046\n",
       "             5-score       total                                          11.714220\n",
       "             6-xarray      total                                          10.459185\n",
       "             total                                                      3499.303102\n",
       "Length: 67, dtype: float64"
      ]
     },
     "execution_count": 6,
     "metadata": {},
     "output_type": "execute_result"
    }
   ],
   "source": [
    "m.timeit"
   ]
  },
  {
   "cell_type": "markdown",
   "metadata": {
    "papermill": {
     "duration": 0.01052,
     "end_time": "2019-11-06T21:36:17.431994",
     "exception": false,
     "start_time": "2019-11-06T21:36:17.421474",
     "status": "completed"
    },
    "raw_mimetype": "-",
    "tags": []
   },
   "source": [
    "## Visualisation help"
   ]
  },
  {
   "cell_type": "raw",
   "metadata": {
    "papermill": {
     "duration": 0.01043,
     "end_time": "2019-11-06T21:36:17.453448",
     "exception": false,
     "start_time": "2019-11-06T21:36:17.443018",
     "status": "completed"
    },
    "raw_mimetype": "text/restructuredtext",
    "tags": []
   },
   "source": [
    "To facilitate your analysis of execution times, you can use :meth:`pyxpcm.plot.timeit`."
   ]
  },
  {
   "cell_type": "markdown",
   "metadata": {
    "papermill": {
     "duration": 0.010317,
     "end_time": "2019-11-06T21:36:17.475058",
     "exception": false,
     "start_time": "2019-11-06T21:36:17.464741",
     "status": "completed"
    },
    "tags": []
   },
   "source": [
    "### Main steps by method"
   ]
  },
  {
   "cell_type": "code",
   "execution_count": 7,
   "metadata": {
    "papermill": {
     "duration": 0.365129,
     "end_time": "2019-11-06T21:36:17.850662",
     "exception": false,
     "start_time": "2019-11-06T21:36:17.485533",
     "status": "completed"
    },
    "tags": []
   },
   "outputs": [
    {
     "data": {
      "text/html": [
       "<div>\n",
       "<style scoped>\n",
       "    .dataframe tbody tr th:only-of-type {\n",
       "        vertical-align: middle;\n",
       "    }\n",
       "\n",
       "    .dataframe tbody tr th {\n",
       "        vertical-align: top;\n",
       "    }\n",
       "\n",
       "    .dataframe thead th {\n",
       "        text-align: right;\n",
       "    }\n",
       "</style>\n",
       "<table border=\"1\" class=\"dataframe\">\n",
       "  <thead>\n",
       "    <tr style=\"text-align: right;\">\n",
       "      <th>Sub-method</th>\n",
       "      <th>1-preprocess</th>\n",
       "      <th>2-fit</th>\n",
       "      <th>2-predict</th>\n",
       "      <th>3-score</th>\n",
       "      <th>3-xarray</th>\n",
       "      <th>4-predict</th>\n",
       "      <th>5-score</th>\n",
       "      <th>6-xarray</th>\n",
       "      <th>score</th>\n",
       "    </tr>\n",
       "    <tr>\n",
       "      <th>Method</th>\n",
       "      <th></th>\n",
       "      <th></th>\n",
       "      <th></th>\n",
       "      <th></th>\n",
       "      <th></th>\n",
       "      <th></th>\n",
       "      <th></th>\n",
       "      <th></th>\n",
       "      <th></th>\n",
       "    </tr>\n",
       "  </thead>\n",
       "  <tbody>\n",
       "    <tr>\n",
       "      <th>fit</th>\n",
       "      <td>752.327204</td>\n",
       "      <td>4042.437077</td>\n",
       "      <td>NaN</td>\n",
       "      <td>16.571760</td>\n",
       "      <td>NaN</td>\n",
       "      <td>NaN</td>\n",
       "      <td>NaN</td>\n",
       "      <td>NaN</td>\n",
       "      <td>NaN</td>\n",
       "    </tr>\n",
       "    <tr>\n",
       "      <th>fit_predict</th>\n",
       "      <td>453.183889</td>\n",
       "      <td>3297.992229</td>\n",
       "      <td>NaN</td>\n",
       "      <td>23.998976</td>\n",
       "      <td>NaN</td>\n",
       "      <td>9.690046</td>\n",
       "      <td>11.71422</td>\n",
       "      <td>10.459185</td>\n",
       "      <td>NaN</td>\n",
       "    </tr>\n",
       "    <tr>\n",
       "      <th>predict</th>\n",
       "      <td>639.169693</td>\n",
       "      <td>NaN</td>\n",
       "      <td>12.055159</td>\n",
       "      <td>NaN</td>\n",
       "      <td>12.684107</td>\n",
       "      <td>NaN</td>\n",
       "      <td>NaN</td>\n",
       "      <td>NaN</td>\n",
       "      <td>13.632059</td>\n",
       "    </tr>\n",
       "  </tbody>\n",
       "</table>\n",
       "</div>"
      ],
      "text/plain": [
       "Sub-method   1-preprocess        2-fit  2-predict    3-score   3-xarray  \\\n",
       "Method                                                                    \n",
       "fit            752.327204  4042.437077        NaN  16.571760        NaN   \n",
       "fit_predict    453.183889  3297.992229        NaN  23.998976        NaN   \n",
       "predict        639.169693          NaN  12.055159        NaN  12.684107   \n",
       "\n",
       "Sub-method   4-predict   5-score   6-xarray      score  \n",
       "Method                                                  \n",
       "fit                NaN       NaN        NaN        NaN  \n",
       "fit_predict   9.690046  11.71422  10.459185        NaN  \n",
       "predict            NaN       NaN        NaN  13.632059  "
      ]
     },
     "execution_count": 7,
     "metadata": {},
     "output_type": "execute_result"
    },
    {
     "data": {
      "image/png": "[encoded data removed]",
      "text/plain": [
       "<Figure size 450x270 with 1 Axes>"
      ]
     },
     "metadata": {},
     "output_type": "display_data"
    }
   ],
   "source": [
    "fig, ax, df = m.plot.timeit(group='Method', split='Sub-method', style='darkgrid') # Default group/split\n",
    "df"
   ]
  },
  {
   "cell_type": "markdown",
   "metadata": {
    "papermill": {
     "duration": 0.023458,
     "end_time": "2019-11-06T21:36:17.893093",
     "exception": false,
     "start_time": "2019-11-06T21:36:17.869635",
     "status": "completed"
    },
    "tags": []
   },
   "source": [
    "### Preprocessing main steps by method"
   ]
  },
  {
   "cell_type": "code",
   "execution_count": 8,
   "metadata": {
    "papermill": {
     "duration": 0.364261,
     "end_time": "2019-11-06T21:36:18.279561",
     "exception": false,
     "start_time": "2019-11-06T21:36:17.915300",
     "status": "completed"
    },
    "tags": []
   },
   "outputs": [
    {
     "data": {
      "text/html": [
       "<div>\n",
       "<style scoped>\n",
       "    .dataframe tbody tr th:only-of-type {\n",
       "        vertical-align: middle;\n",
       "    }\n",
       "\n",
       "    .dataframe tbody tr th {\n",
       "        vertical-align: top;\n",
       "    }\n",
       "\n",
       "    .dataframe thead th {\n",
       "        text-align: right;\n",
       "    }\n",
       "</style>\n",
       "<table border=\"1\" class=\"dataframe\">\n",
       "  <thead>\n",
       "    <tr style=\"text-align: right;\">\n",
       "      <th>Sub-sub-method</th>\n",
       "      <th>1-mask</th>\n",
       "      <th>2-feature_salinity</th>\n",
       "      <th>2-feature_temperature</th>\n",
       "      <th>3-homogeniser</th>\n",
       "      <th>4-xarray</th>\n",
       "    </tr>\n",
       "    <tr>\n",
       "      <th>Method</th>\n",
       "      <th></th>\n",
       "      <th></th>\n",
       "      <th></th>\n",
       "      <th></th>\n",
       "      <th></th>\n",
       "    </tr>\n",
       "  </thead>\n",
       "  <tbody>\n",
       "    <tr>\n",
       "      <th>fit</th>\n",
       "      <td>59.017897</td>\n",
       "      <td>152.066469</td>\n",
       "      <td>160.393715</td>\n",
       "      <td>2.793789</td>\n",
       "      <td>1.126289</td>\n",
       "    </tr>\n",
       "    <tr>\n",
       "      <th>fit_predict</th>\n",
       "      <td>54.736137</td>\n",
       "      <td>85.220814</td>\n",
       "      <td>78.514338</td>\n",
       "      <td>2.084494</td>\n",
       "      <td>5.116224</td>\n",
       "    </tr>\n",
       "    <tr>\n",
       "      <th>predict</th>\n",
       "      <td>101.495028</td>\n",
       "      <td>102.675676</td>\n",
       "      <td>111.631155</td>\n",
       "      <td>0.946999</td>\n",
       "      <td>1.792192</td>\n",
       "    </tr>\n",
       "  </tbody>\n",
       "</table>\n",
       "</div>"
      ],
      "text/plain": [
       "Sub-sub-method      1-mask  2-feature_salinity  2-feature_temperature  \\\n",
       "Method                                                                  \n",
       "fit              59.017897          152.066469             160.393715   \n",
       "fit_predict      54.736137           85.220814              78.514338   \n",
       "predict         101.495028          102.675676             111.631155   \n",
       "\n",
       "Sub-sub-method  3-homogeniser  4-xarray  \n",
       "Method                                   \n",
       "fit                  2.793789  1.126289  \n",
       "fit_predict          2.084494  5.116224  \n",
       "predict              0.946999  1.792192  "
      ]
     },
     "execution_count": 8,
     "metadata": {},
     "output_type": "execute_result"
    },
    {
     "data": {
      "image/png": "[encoded data removed]",
      "text/plain": [
       "<Figure size 450x270 with 1 Axes>"
      ]
     },
     "metadata": {},
     "output_type": "display_data"
    }
   ],
   "source": [
    "fig, ax, df = m.plot.timeit(group='Method', split='Sub-sub-method')\n",
    "df"
   ]
  },
  {
   "cell_type": "markdown",
   "metadata": {
    "papermill": {
     "duration": 0.014933,
     "end_time": "2019-11-06T21:36:18.315978",
     "exception": false,
     "start_time": "2019-11-06T21:36:18.301045",
     "status": "completed"
    },
    "tags": []
   },
   "source": [
    "### Preprocessing details by method"
   ]
  },
  {
   "cell_type": "code",
   "execution_count": 9,
   "metadata": {
    "papermill": {
     "duration": 0.248645,
     "end_time": "2019-11-06T21:36:18.580224",
     "exception": false,
     "start_time": "2019-11-06T21:36:18.331579",
     "status": "completed"
    },
    "tags": []
   },
   "outputs": [
    {
     "data": {
      "text/html": [
       "<div>\n",
       "<style scoped>\n",
       "    .dataframe tbody tr th:only-of-type {\n",
       "        vertical-align: middle;\n",
       "    }\n",
       "\n",
       "    .dataframe tbody tr th {\n",
       "        vertical-align: top;\n",
       "    }\n",
       "\n",
       "    .dataframe thead th {\n",
       "        text-align: right;\n",
       "    }\n",
       "</style>\n",
       "<table border=\"1\" class=\"dataframe\">\n",
       "  <thead>\n",
       "    <tr style=\"text-align: right;\">\n",
       "      <th>Sub-sub-sub-method</th>\n",
       "      <th>1-ravel</th>\n",
       "      <th>2-interp</th>\n",
       "      <th>3-scale_fit</th>\n",
       "      <th>4-scale_transform</th>\n",
       "      <th>5-reduce_fit</th>\n",
       "      <th>6-reduce_transform</th>\n",
       "    </tr>\n",
       "    <tr>\n",
       "      <th>Method</th>\n",
       "      <th></th>\n",
       "      <th></th>\n",
       "      <th></th>\n",
       "      <th></th>\n",
       "      <th></th>\n",
       "      <th></th>\n",
       "    </tr>\n",
       "  </thead>\n",
       "  <tbody>\n",
       "    <tr>\n",
       "      <th>fit</th>\n",
       "      <td>69.357872</td>\n",
       "      <td>4.685879</td>\n",
       "      <td>30.658960</td>\n",
       "      <td>13.920069</td>\n",
       "      <td>30.536175</td>\n",
       "      <td>6.884098</td>\n",
       "    </tr>\n",
       "    <tr>\n",
       "      <th>fit_predict</th>\n",
       "      <td>59.085846</td>\n",
       "      <td>2.380848</td>\n",
       "      <td>0.004292</td>\n",
       "      <td>11.768103</td>\n",
       "      <td>0.023127</td>\n",
       "      <td>8.437634</td>\n",
       "    </tr>\n",
       "    <tr>\n",
       "      <th>predict</th>\n",
       "      <td>80.583334</td>\n",
       "      <td>6.830692</td>\n",
       "      <td>0.004053</td>\n",
       "      <td>13.005972</td>\n",
       "      <td>0.002861</td>\n",
       "      <td>6.547928</td>\n",
       "    </tr>\n",
       "  </tbody>\n",
       "</table>\n",
       "</div>"
      ],
      "text/plain": [
       "Sub-sub-sub-method    1-ravel  2-interp  3-scale_fit  4-scale_transform  \\\n",
       "Method                                                                    \n",
       "fit                 69.357872  4.685879    30.658960          13.920069   \n",
       "fit_predict         59.085846  2.380848     0.004292          11.768103   \n",
       "predict             80.583334  6.830692     0.004053          13.005972   \n",
       "\n",
       "Sub-sub-sub-method  5-reduce_fit  6-reduce_transform  \n",
       "Method                                                \n",
       "fit                    30.536175            6.884098  \n",
       "fit_predict             0.023127            8.437634  \n",
       "predict                 0.002861            6.547928  "
      ]
     },
     "execution_count": 9,
     "metadata": {},
     "output_type": "execute_result"
    },
    {
     "data": {
      "image/png": "[encoded data removed]",
      "text/plain": [
       "<Figure size 450x270 with 1 Axes>"
      ]
     },
     "metadata": {},
     "output_type": "display_data"
    }
   ],
   "source": [
    "fig, ax, df = m.plot.timeit(group='Method', split='Sub-sub-sub-method')\n",
    "df"
   ]
  },
  {
   "cell_type": "markdown",
   "metadata": {
    "papermill": {
     "duration": 0.013448,
     "end_time": "2019-11-06T21:36:18.607032",
     "exception": false,
     "start_time": "2019-11-06T21:36:18.593584",
     "status": "completed"
    },
    "tags": []
   },
   "source": [
    "### Preprocessing details by features"
   ]
  },
  {
   "cell_type": "code",
   "execution_count": 10,
   "metadata": {
    "papermill": {
     "duration": 0.287246,
     "end_time": "2019-11-06T21:36:18.908325",
     "exception": false,
     "start_time": "2019-11-06T21:36:18.621079",
     "status": "completed"
    },
    "tags": []
   },
   "outputs": [
    {
     "data": {
      "text/html": [
       "<div>\n",
       "<style scoped>\n",
       "    .dataframe tbody tr th:only-of-type {\n",
       "        vertical-align: middle;\n",
       "    }\n",
       "\n",
       "    .dataframe tbody tr th {\n",
       "        vertical-align: top;\n",
       "    }\n",
       "\n",
       "    .dataframe thead th {\n",
       "        text-align: right;\n",
       "    }\n",
       "</style>\n",
       "<table border=\"1\" class=\"dataframe\">\n",
       "  <thead>\n",
       "    <tr style=\"text-align: right;\">\n",
       "      <th>Sub-sub-sub-method</th>\n",
       "      <th>1-ravel</th>\n",
       "      <th>2-interp</th>\n",
       "      <th>3-scale_fit</th>\n",
       "      <th>4-scale_transform</th>\n",
       "      <th>5-reduce_fit</th>\n",
       "      <th>6-reduce_transform</th>\n",
       "    </tr>\n",
       "    <tr>\n",
       "      <th>Sub-sub-method</th>\n",
       "      <th></th>\n",
       "      <th></th>\n",
       "      <th></th>\n",
       "      <th></th>\n",
       "      <th></th>\n",
       "      <th></th>\n",
       "    </tr>\n",
       "  </thead>\n",
       "  <tbody>\n",
       "    <tr>\n",
       "      <th>2-feature_salinity</th>\n",
       "      <td>0.106609</td>\n",
       "      <td>0.005099</td>\n",
       "      <td>0.014665</td>\n",
       "      <td>0.018539</td>\n",
       "      <td>0.013445</td>\n",
       "      <td>0.011348</td>\n",
       "    </tr>\n",
       "    <tr>\n",
       "      <th>2-feature_temperature</th>\n",
       "      <td>0.102418</td>\n",
       "      <td>0.008799</td>\n",
       "      <td>0.016002</td>\n",
       "      <td>0.020155</td>\n",
       "      <td>0.017117</td>\n",
       "      <td>0.010522</td>\n",
       "    </tr>\n",
       "  </tbody>\n",
       "</table>\n",
       "</div>"
      ],
      "text/plain": [
       "Sub-sub-sub-method      1-ravel  2-interp  3-scale_fit  4-scale_transform  \\\n",
       "Sub-sub-method                                                              \n",
       "2-feature_salinity     0.106609  0.005099     0.014665           0.018539   \n",
       "2-feature_temperature  0.102418  0.008799     0.016002           0.020155   \n",
       "\n",
       "Sub-sub-sub-method     5-reduce_fit  6-reduce_transform  \n",
       "Sub-sub-method                                           \n",
       "2-feature_salinity         0.013445            0.011348  \n",
       "2-feature_temperature      0.017117            0.010522  "
      ]
     },
     "execution_count": 10,
     "metadata": {},
     "output_type": "execute_result"
    },
    {
     "data": {
      "image/png": "[encoded data removed]",
      "text/plain": [
       "<Figure size 450x270 with 1 Axes>"
      ]
     },
     "metadata": {},
     "output_type": "display_data"
    }
   ],
   "source": [
    "fig, ax, df = m.plot.timeit(split='Sub-sub-sub-method', group='Sub-sub-method', unit='s')\n",
    "df"
   ]
  }
 ],
 "metadata": {
  "kernelspec": {
   "display_name": "obidam36",
   "language": "python",
   "name": "obidam36"
  },
  "language_info": {
   "codemirror_mode": {
    "name": "ipython",
    "version": 3
   },
   "file_extension": ".py",
   "mimetype": "text/x-python",
   "name": "python",
   "nbconvert_exporter": "python",
   "pygments_lexer": "ipython3",
   "version": "3.6.7"
  },
  "papermill": {
   "duration": 20.795365,
   "end_time": "2019-11-06T21:36:19.789201",
   "environment_variables": {},
   "exception": null,
   "input_path": "debug_perf.ipynb",
   "output_path": "../debug_perf.ipynb",
   "parameters": {},
   "start_time": "2019-11-06T21:35:58.993836",
   "version": "0.19.0"
  },
  "toc-showmarkdowntxt": true
 },
 "nbformat": 4,
 "nbformat_minor": 2
}