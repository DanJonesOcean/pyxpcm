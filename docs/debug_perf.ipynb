{
 "cells": [
  {
   "cell_type": "markdown",
   "metadata": {
    "toc-hr-collapsed": false
   },
   "source": [
    "# Debugging and performances"
   ]
  },
  {
   "cell_type": "code",
   "execution_count": 1,
   "metadata": {
    "nbsphinx": "hidden"
   },
   "outputs": [
    {
     "name": "stdout",
     "output_type": "stream",
     "text": [
      "xarray: 0.12.1, /Users/gmaze/anaconda/envs/obidam36/lib/python3.6/site-packages/xarray/__init__.py\n",
      "pyxpcm: /Users/gmaze/git/github/gmaze/pyxpcm/pyxpcm/__init__.py\n"
     ]
    }
   ],
   "source": [
    "# Hidden cell\n",
    "import os, sys\n",
    "import numpy as np\n",
    "import pandas as pd\n",
    "import xarray as xr\n",
    "print(\"xarray: %s, %s\" % (xr.__version__, xr.__file__))\n",
    "\n",
    "import matplotlib.pyplot as plt\n",
    "%matplotlib inline\n",
    "sys.path.insert(0, os.path.abspath('/Users/gmaze/git/github/gmaze/pyxpcm'))\n",
    "\n",
    "import pyxpcm\n",
    "print(\"pyxpcm: %s\" % (pyxpcm.__file__))"
   ]
  },
  {
   "cell_type": "markdown",
   "metadata": {},
   "source": [
    "## Load data"
   ]
  },
  {
   "cell_type": "code",
   "execution_count": 14,
   "metadata": {},
   "outputs": [
    {
     "name": "stdout",
     "output_type": "stream",
     "text": [
      "This dataset holds: 34.3 MB\n",
      "<xarray.Dataset>\n",
      "Dimensions:    (DEPTH: 282, N_PROF: 7560)\n",
      "Coordinates:\n",
      "  * DEPTH      (DEPTH) float32 0.0 -5.0 -10.0 -15.0 ... -1395.0 -1400.0 -1405.0\n",
      "Dimensions without coordinates: N_PROF\n",
      "Data variables:\n",
      "    LATITUDE   (N_PROF) float32 dask.array<shape=(7560,), chunksize=(7560,)>\n",
      "    LONGITUDE  (N_PROF) float32 dask.array<shape=(7560,), chunksize=(7560,)>\n",
      "    TIME       (N_PROF) datetime64[ns] dask.array<shape=(7560,), chunksize=(7560,)>\n",
      "    DBINDEX    (N_PROF) float64 dask.array<shape=(7560,), chunksize=(7560,)>\n",
      "    TEMP       (N_PROF, DEPTH) float32 dask.array<shape=(7560, 282), chunksize=(7560, 282)>\n",
      "    PSAL       (N_PROF, DEPTH) float32 dask.array<shape=(7560, 282), chunksize=(7560, 282)>\n",
      "    SIG0       (N_PROF, DEPTH) float32 dask.array<shape=(7560, 282), chunksize=(7560, 282)>\n",
      "    BRV2       (N_PROF, DEPTH) float32 dask.array<shape=(7560, 282), chunksize=(7560, 282)>\n",
      "Attributes:\n",
      "    Sample test prepared by:  G. Maze\n",
      "    Institution:              Ifremer/LOPS\n",
      "    Data source DOI:          10.17882/42182\n"
     ]
    }
   ],
   "source": [
    "from pyxpcm import datasets\n",
    "ds = datasets.argo('sample').load()\n",
    "# ds = datasets.isas('sample_snapshot').load()\n",
    "# ds = datasets.isas('sample_series').load()\n",
    "print('This dataset holds: %.1f MB' % (ds.nbytes / 1e6))\n",
    "print(ds)"
   ]
  },
  {
   "cell_type": "markdown",
   "metadata": {
    "toc-hr-collapsed": true
   },
   "source": [
    "## Define/fit/predict a standard pyXpcm"
   ]
  },
  {
   "cell_type": "code",
   "execution_count": 15,
   "metadata": {},
   "outputs": [],
   "source": [
    "from pyxpcm.pcmodel import pcm"
   ]
  },
  {
   "cell_type": "code",
   "execution_count": 16,
   "metadata": {},
   "outputs": [],
   "source": [
    "# Define vertical axis and features to use:\n",
    "z = np.arange(0.,-1000.,-10.)\n",
    "features_pcm = {'temperature': z}\n",
    "features_in_ds = {'temperature': 'TEMP'}\n",
    "\n",
    "# features_pcm = {'temperature': z, 'salinity': z}\n",
    "# features_in_ds = {'temperature': 'TEMP', 'salinity': 'PSAL'}"
   ]
  },
  {
   "cell_type": "code",
   "execution_count": 6,
   "metadata": {},
   "outputs": [],
   "source": [
    "# pyXpcm variables added to the dataset can be removed with:\n",
    "# print('Before:', ds.data_vars)\n",
    "# ds = ds.pyxpcm.clean()\n",
    "# print('After cleaning:', ds.data_vars)"
   ]
  },
  {
   "cell_type": "markdown",
   "metadata": {},
   "source": [
    "## Debugging\n",
    "\n",
    "Use option ``debug`` to print log messages "
   ]
  },
  {
   "cell_type": "code",
   "execution_count": 22,
   "metadata": {},
   "outputs": [
    {
     "name": "stdout",
     "output_type": "stream",
     "text": [
      "> Start preprocessing for action 'fit_predict'\n",
      "\t> Preprocessing xarray dataset 'TEMP' as PCM feature 'temperature'\n",
      "\tInput working arrays X (<class 'xarray.core.dataarray.DataArray'>) and z with shapes: (7560, 282) (282,)\n",
      "\tOutput axis is in the input axis, not need to interpolate, simple intersection\n",
      "\tPreprocessed array X (<class 'numpy.ndarray'>) with shapes: (7560, 15)\n",
      "\tNo need for homogenisation of temperature\n",
      "> Preprocessing finished, working with final X (<class 'xarray.core.dataarray.DataArray'>) array of shape: (7560, 15)  and sampling dimensions: ['N_PROF']\n"
     ]
    }
   ],
   "source": [
    "# Clean up dataset of previous results:\n",
    "ds = ds.pyxpcm.clean()\n",
    "\n",
    "# Instantiate a new PCM:\n",
    "m = pcm(K=8, features=features_pcm, debug=1)\n",
    "\n",
    "# Fit with log:\n",
    "ds.pyxpcm.fit_predict(m, features=features_in_ds, inplace=True);"
   ]
  },
  {
   "cell_type": "markdown",
   "metadata": {
    "toc-hr-collapsed": true
   },
   "source": [
    "## Performance / Optimisation\n",
    "\n",
    "Use ``timeit`` and ``timeit_verb`` to compute computation time of PCM operations\n",
    "\n",
    "Times are accessible as a pandas Dataframe in ``timeit`` pyXpcm instance property.\n",
    "\n",
    "The pyXpcm ``m.plot.timeit()`` plot method allows for a simple visualisation of times."
   ]
  },
  {
   "cell_type": "markdown",
   "metadata": {},
   "source": [
    "### Time readings at execution time"
   ]
  },
  {
   "cell_type": "code",
   "execution_count": 23,
   "metadata": {},
   "outputs": [
    {
     "name": "stdout",
     "output_type": "stream",
     "text": [
      "  fit.1-preprocess.1-mask: 33 ms\n",
      "  fit.1-preprocess.2-feature_temperature.1-ravel: 52 ms\n",
      "  fit.1-preprocess.2-feature_temperature.2-interp: 14 ms\n",
      "  fit.1-preprocess.2-feature_temperature.3-scale_fit: 7 ms\n",
      "  fit.1-preprocess.2-feature_temperature.4-scale_transform: 3 ms\n",
      "  fit.1-preprocess.2-feature_temperature.5-reduce_fit: 14 ms\n",
      "  fit.1-preprocess.2-feature_temperature.6-reduce_transform: 2 ms\n",
      "  fit.1-preprocess.2-feature_temperature.total: 97 ms\n",
      "  fit.1-preprocess: 97 ms\n",
      "  fit.1-preprocess.3-homogeniser: 0 ms\n",
      "  fit.1-preprocess.4-xarray: 1 ms\n",
      "  fit.1-preprocess: 133 ms\n",
      "  fit.2-fit: 3735 ms\n",
      "  fit.3-score: 13 ms\n",
      "  fit: 3883 ms\n",
      "  predict.1-preprocess.1-mask: 24 ms\n",
      "  predict.1-preprocess.2-feature_temperature.1-ravel: 30 ms\n",
      "  predict.1-preprocess.2-feature_temperature.2-interp: 8 ms\n",
      "  predict.1-preprocess.2-feature_temperature.3-scale_fit: 0 ms\n",
      "  predict.1-preprocess.2-feature_temperature.4-scale_transform: 3 ms\n",
      "  predict.1-preprocess.2-feature_temperature.5-reduce_fit: 0 ms\n",
      "  predict.1-preprocess.2-feature_temperature.6-reduce_transform: 3 ms\n",
      "  predict.1-preprocess.2-feature_temperature.total: 47 ms\n",
      "  predict.1-preprocess: 47 ms\n",
      "  predict.1-preprocess.3-homogeniser: 0 ms\n",
      "  predict.1-preprocess.4-xarray: 1 ms\n",
      "  predict.1-preprocess: 74 ms\n",
      "  predict.2-predict: 9 ms\n",
      "  predict.score: 11 ms\n",
      "  predict.3-xarray: 12 ms\n",
      "  predict: 109 ms\n",
      "  fit_predict.1-preprocess.1-mask: 22 ms\n",
      "  fit_predict.1-preprocess.2-feature_temperature.1-ravel: 26 ms\n",
      "  fit_predict.1-preprocess.2-feature_temperature.2-interp: 6 ms\n",
      "  fit_predict.1-preprocess.2-feature_temperature.3-scale_fit: 0 ms\n",
      "  fit_predict.1-preprocess.2-feature_temperature.4-scale_transform: 3 ms\n",
      "  fit_predict.1-preprocess.2-feature_temperature.5-reduce_fit: 0 ms\n",
      "  fit_predict.1-preprocess.2-feature_temperature.6-reduce_transform: 4 ms\n",
      "  fit_predict.1-preprocess.2-feature_temperature.total: 41 ms\n",
      "  fit_predict.1-preprocess: 41 ms\n",
      "  fit_predict.1-preprocess.3-homogeniser: 0 ms\n",
      "  fit_predict.1-preprocess.4-xarray: 1 ms\n",
      "  fit_predict.1-preprocess: 66 ms\n",
      "  fit_predict.2-fit: 3173 ms\n",
      "  fit_predict.3-score: 17 ms\n",
      "  fit_predict.4-predict: 6 ms\n",
      "  fit_predict.score: 9 ms\n",
      "  fit_predict.5-xarray: 9 ms\n",
      "  fit_predict: 3284 ms\n"
     ]
    }
   ],
   "source": [
    "# Create a PCM and use several methods to time:\n",
    "m = pcm(K=8, features=features_pcm, timeit=True)\n",
    "m.fit(ds, features=features_in_ds);\n",
    "m.predict(ds, features=features_in_ds);\n",
    "m.fit_predict(ds, features=features_in_ds);"
   ]
  },
  {
   "cell_type": "code",
   "execution_count": 24,
   "metadata": {},
   "outputs": [
    {
     "data": {
      "text/plain": [
       "Method       Sub-method    Sub-sub-method         Sub-sub-sub-method\n",
       "fit          1-preprocess  1-mask                 total                   33.126116\n",
       "                           2-feature_temperature  1-ravel                 52.566767\n",
       "                                                  2-interp                14.985323\n",
       "                                                  3-scale_fit              7.876873\n",
       "                                                  4-scale_transform        3.235102\n",
       "                                                  5-reduce_fit            14.788866\n",
       "                                                  6-reduce_transform       2.789021\n",
       "                                                  total                   97.665071\n",
       "                           total                                         231.621027\n",
       "                           3-homogeniser          total                    0.760078\n",
       "                           4-xarray               total                    1.441002\n",
       "             2-fit         total                                        3735.523939\n",
       "             3-score       total                                          13.675928\n",
       "             total                                                      3883.651018\n",
       "predict      1-preprocess  1-mask                 total                   24.854183\n",
       "                           2-feature_temperature  1-ravel                 30.572176\n",
       "                                                  2-interp                 8.127928\n",
       "                                                  3-scale_fit              0.004053\n",
       "                                                  4-scale_transform        3.029823\n",
       "                                                  5-reduce_fit             0.003099\n",
       "                                                  6-reduce_transform       3.741264\n",
       "                                                  total                   47.484159\n",
       "                           total                                         122.203827\n",
       "                           3-homogeniser          total                    0.001192\n",
       "                           4-xarray               total                    1.217842\n",
       "             2-predict     total                                           9.508133\n",
       "             score         total                                          11.929035\n",
       "             3-xarray      total                                          12.927055\n",
       "             total                                                       109.464884\n",
       "fit_predict  1-preprocess  1-mask                 total                   22.615910\n",
       "                           2-feature_temperature  1-ravel                 26.602030\n",
       "                                                  2-interp                 6.126165\n",
       "                                                  3-scale_fit              0.001192\n",
       "                                                  4-scale_transform        3.592014\n",
       "                                                  5-reduce_fit             0.003099\n",
       "                                                  6-reduce_transform       4.287004\n",
       "                                                  total                   41.447878\n",
       "                           total                                         108.252048\n",
       "                           3-homogeniser          total                    0.771999\n",
       "                           4-xarray               total                    1.305103\n",
       "             2-fit         total                                        3173.643112\n",
       "             3-score       total                                          17.359257\n",
       "             4-predict     total                                           6.913662\n",
       "             score         total                                           9.089708\n",
       "             5-xarray      total                                           9.932041\n",
       "             total                                                      3284.804106\n",
       "dtype: float64"
      ]
     },
     "execution_count": 24,
     "metadata": {},
     "output_type": "execute_result"
    }
   ],
   "source": [
    "# Timing are accessible through a dataframe in the timeit property:\n",
    "m.timeit"
   ]
  },
  {
   "cell_type": "markdown",
   "metadata": {},
   "source": [
    "### Compare details of steps for each method"
   ]
  },
  {
   "cell_type": "code",
   "execution_count": 26,
   "metadata": {},
   "outputs": [
    {
     "data": {
      "text/html": [
       "<div>\n",
       "<style scoped>\n",
       "    .dataframe tbody tr th:only-of-type {\n",
       "        vertical-align: middle;\n",
       "    }\n",
       "\n",
       "    .dataframe tbody tr th {\n",
       "        vertical-align: top;\n",
       "    }\n",
       "\n",
       "    .dataframe thead th {\n",
       "        text-align: right;\n",
       "    }\n",
       "</style>\n",
       "<table border=\"1\" class=\"dataframe\">\n",
       "  <thead>\n",
       "    <tr style=\"text-align: right;\">\n",
       "      <th>Sub-method</th>\n",
       "      <th>1-preprocess</th>\n",
       "      <th>2-fit</th>\n",
       "      <th>2-predict</th>\n",
       "      <th>3-score</th>\n",
       "      <th>3-xarray</th>\n",
       "      <th>4-predict</th>\n",
       "      <th>5-xarray</th>\n",
       "      <th>score</th>\n",
       "    </tr>\n",
       "    <tr>\n",
       "      <th>Method</th>\n",
       "      <th></th>\n",
       "      <th></th>\n",
       "      <th></th>\n",
       "      <th></th>\n",
       "      <th></th>\n",
       "      <th></th>\n",
       "      <th></th>\n",
       "      <th></th>\n",
       "    </tr>\n",
       "  </thead>\n",
       "  <tbody>\n",
       "    <tr>\n",
       "      <th>fit</th>\n",
       "      <td>460.855246</td>\n",
       "      <td>3735.523939</td>\n",
       "      <td>NaN</td>\n",
       "      <td>13.675928</td>\n",
       "      <td>NaN</td>\n",
       "      <td>NaN</td>\n",
       "      <td>NaN</td>\n",
       "      <td>NaN</td>\n",
       "    </tr>\n",
       "    <tr>\n",
       "      <th>fit_predict</th>\n",
       "      <td>215.004444</td>\n",
       "      <td>3173.643112</td>\n",
       "      <td>NaN</td>\n",
       "      <td>17.359257</td>\n",
       "      <td>NaN</td>\n",
       "      <td>6.913662</td>\n",
       "      <td>9.932041</td>\n",
       "      <td>9.089708</td>\n",
       "    </tr>\n",
       "    <tr>\n",
       "      <th>predict</th>\n",
       "      <td>241.239548</td>\n",
       "      <td>NaN</td>\n",
       "      <td>9.508133</td>\n",
       "      <td>NaN</td>\n",
       "      <td>12.927055</td>\n",
       "      <td>NaN</td>\n",
       "      <td>NaN</td>\n",
       "      <td>11.929035</td>\n",
       "    </tr>\n",
       "  </tbody>\n",
       "</table>\n",
       "</div>"
      ],
      "text/plain": [
       "Sub-method   1-preprocess        2-fit  2-predict    3-score   3-xarray  \\\n",
       "Method                                                                    \n",
       "fit            460.855246  3735.523939        NaN  13.675928        NaN   \n",
       "fit_predict    215.004444  3173.643112        NaN  17.359257        NaN   \n",
       "predict        241.239548          NaN   9.508133        NaN  12.927055   \n",
       "\n",
       "Sub-method   4-predict  5-xarray      score  \n",
       "Method                                       \n",
       "fit                NaN       NaN        NaN  \n",
       "fit_predict   6.913662  9.932041   9.089708  \n",
       "predict            NaN       NaN  11.929035  "
      ]
     },
     "execution_count": 26,
     "metadata": {},
     "output_type": "execute_result"
    },
    {
     "data": {
      "image/png": "[encoded data removed]",
      "text/plain": [
       "<Figure size 450x270 with 1 Axes>"
      ]
     },
     "metadata": {},
     "output_type": "display_data"
    }
   ],
   "source": [
    "fig, ax, df = m.plot.timeit(group='Method', split='Sub-method') # Default group/split\n",
    "df"
   ]
  },
  {
   "cell_type": "markdown",
   "metadata": {},
   "source": [
    "### Compare preprocessing steps for each method"
   ]
  },
  {
   "cell_type": "code",
   "execution_count": 27,
   "metadata": {},
   "outputs": [
    {
     "data": {
      "text/html": [
       "<div>\n",
       "<style scoped>\n",
       "    .dataframe tbody tr th:only-of-type {\n",
       "        vertical-align: middle;\n",
       "    }\n",
       "\n",
       "    .dataframe tbody tr th {\n",
       "        vertical-align: top;\n",
       "    }\n",
       "\n",
       "    .dataframe thead th {\n",
       "        text-align: right;\n",
       "    }\n",
       "</style>\n",
       "<table border=\"1\" class=\"dataframe\">\n",
       "  <thead>\n",
       "    <tr style=\"text-align: right;\">\n",
       "      <th>Sub-sub-method</th>\n",
       "      <th>1-mask</th>\n",
       "      <th>2-feature_temperature</th>\n",
       "      <th>3-homogeniser</th>\n",
       "      <th>4-xarray</th>\n",
       "    </tr>\n",
       "    <tr>\n",
       "      <th>Method</th>\n",
       "      <th></th>\n",
       "      <th></th>\n",
       "      <th></th>\n",
       "      <th></th>\n",
       "    </tr>\n",
       "  </thead>\n",
       "  <tbody>\n",
       "    <tr>\n",
       "      <th>fit</th>\n",
       "      <td>33.126116</td>\n",
       "      <td>193.907022</td>\n",
       "      <td>0.760078</td>\n",
       "      <td>1.441002</td>\n",
       "    </tr>\n",
       "    <tr>\n",
       "      <th>fit_predict</th>\n",
       "      <td>22.615910</td>\n",
       "      <td>82.059383</td>\n",
       "      <td>0.771999</td>\n",
       "      <td>1.305103</td>\n",
       "    </tr>\n",
       "    <tr>\n",
       "      <th>predict</th>\n",
       "      <td>24.854183</td>\n",
       "      <td>92.962503</td>\n",
       "      <td>0.001192</td>\n",
       "      <td>1.217842</td>\n",
       "    </tr>\n",
       "  </tbody>\n",
       "</table>\n",
       "</div>"
      ],
      "text/plain": [
       "Sub-sub-method     1-mask  2-feature_temperature  3-homogeniser  4-xarray\n",
       "Method                                                                   \n",
       "fit             33.126116             193.907022       0.760078  1.441002\n",
       "fit_predict     22.615910              82.059383       0.771999  1.305103\n",
       "predict         24.854183              92.962503       0.001192  1.217842"
      ]
     },
     "execution_count": 27,
     "metadata": {},
     "output_type": "execute_result"
    },
    {
     "data": {
      "image/png": "[encoded data removed]",
      "text/plain": [
       "<Figure size 450x270 with 1 Axes>"
      ]
     },
     "metadata": {},
     "output_type": "display_data"
    }
   ],
   "source": [
    "fig, ax, df = m.plot.timeit(group='Method', split='Sub-sub-method')\n",
    "df"
   ]
  },
  {
   "cell_type": "markdown",
   "metadata": {},
   "source": [
    "### Compare details of preprocessing steps for each method"
   ]
  },
  {
   "cell_type": "code",
   "execution_count": 28,
   "metadata": {},
   "outputs": [
    {
     "data": {
      "text/html": [
       "<div>\n",
       "<style scoped>\n",
       "    .dataframe tbody tr th:only-of-type {\n",
       "        vertical-align: middle;\n",
       "    }\n",
       "\n",
       "    .dataframe tbody tr th {\n",
       "        vertical-align: top;\n",
       "    }\n",
       "\n",
       "    .dataframe thead th {\n",
       "        text-align: right;\n",
       "    }\n",
       "</style>\n",
       "<table border=\"1\" class=\"dataframe\">\n",
       "  <thead>\n",
       "    <tr style=\"text-align: right;\">\n",
       "      <th>Sub-sub-sub-method</th>\n",
       "      <th>1-ravel</th>\n",
       "      <th>2-interp</th>\n",
       "      <th>3-scale_fit</th>\n",
       "      <th>4-scale_transform</th>\n",
       "      <th>5-reduce_fit</th>\n",
       "      <th>6-reduce_transform</th>\n",
       "    </tr>\n",
       "    <tr>\n",
       "      <th>Method</th>\n",
       "      <th></th>\n",
       "      <th></th>\n",
       "      <th></th>\n",
       "      <th></th>\n",
       "      <th></th>\n",
       "      <th></th>\n",
       "    </tr>\n",
       "  </thead>\n",
       "  <tbody>\n",
       "    <tr>\n",
       "      <th>fit</th>\n",
       "      <td>52.566767</td>\n",
       "      <td>14.985323</td>\n",
       "      <td>7.876873</td>\n",
       "      <td>3.235102</td>\n",
       "      <td>14.788866</td>\n",
       "      <td>2.789021</td>\n",
       "    </tr>\n",
       "    <tr>\n",
       "      <th>fit_predict</th>\n",
       "      <td>26.602030</td>\n",
       "      <td>6.126165</td>\n",
       "      <td>0.001192</td>\n",
       "      <td>3.592014</td>\n",
       "      <td>0.003099</td>\n",
       "      <td>4.287004</td>\n",
       "    </tr>\n",
       "    <tr>\n",
       "      <th>predict</th>\n",
       "      <td>30.572176</td>\n",
       "      <td>8.127928</td>\n",
       "      <td>0.004053</td>\n",
       "      <td>3.029823</td>\n",
       "      <td>0.003099</td>\n",
       "      <td>3.741264</td>\n",
       "    </tr>\n",
       "  </tbody>\n",
       "</table>\n",
       "</div>"
      ],
      "text/plain": [
       "Sub-sub-sub-method    1-ravel   2-interp  3-scale_fit  4-scale_transform  \\\n",
       "Method                                                                     \n",
       "fit                 52.566767  14.985323     7.876873           3.235102   \n",
       "fit_predict         26.602030   6.126165     0.001192           3.592014   \n",
       "predict             30.572176   8.127928     0.004053           3.029823   \n",
       "\n",
       "Sub-sub-sub-method  5-reduce_fit  6-reduce_transform  \n",
       "Method                                                \n",
       "fit                    14.788866            2.789021  \n",
       "fit_predict             0.003099            4.287004  \n",
       "predict                 0.003099            3.741264  "
      ]
     },
     "execution_count": 28,
     "metadata": {},
     "output_type": "execute_result"
    },
    {
     "data": {
      "image/png": "[encoded data removed]",
      "text/plain": [
       "<Figure size 450x270 with 1 Axes>"
      ]
     },
     "metadata": {},
     "output_type": "display_data"
    }
   ],
   "source": [
    "fig, ax, df = m.plot.timeit(group='Method', split='Sub-sub-sub-method')\n",
    "df"
   ]
  },
  {
   "cell_type": "markdown",
   "metadata": {},
   "source": [
    "### Compare details of preprocessing steps for each feature"
   ]
  },
  {
   "cell_type": "code",
   "execution_count": 29,
   "metadata": {},
   "outputs": [
    {
     "data": {
      "text/html": [
       "<div>\n",
       "<style scoped>\n",
       "    .dataframe tbody tr th:only-of-type {\n",
       "        vertical-align: middle;\n",
       "    }\n",
       "\n",
       "    .dataframe tbody tr th {\n",
       "        vertical-align: top;\n",
       "    }\n",
       "\n",
       "    .dataframe thead th {\n",
       "        text-align: right;\n",
       "    }\n",
       "</style>\n",
       "<table border=\"1\" class=\"dataframe\">\n",
       "  <thead>\n",
       "    <tr style=\"text-align: right;\">\n",
       "      <th>Sub-sub-sub-method</th>\n",
       "      <th>1-ravel</th>\n",
       "      <th>2-interp</th>\n",
       "      <th>3-scale_fit</th>\n",
       "      <th>4-scale_transform</th>\n",
       "      <th>5-reduce_fit</th>\n",
       "      <th>6-reduce_transform</th>\n",
       "    </tr>\n",
       "    <tr>\n",
       "      <th>Sub-sub-method</th>\n",
       "      <th></th>\n",
       "      <th></th>\n",
       "      <th></th>\n",
       "      <th></th>\n",
       "      <th></th>\n",
       "      <th></th>\n",
       "    </tr>\n",
       "  </thead>\n",
       "  <tbody>\n",
       "    <tr>\n",
       "      <th>2-feature_temperature</th>\n",
       "      <td>109.740973</td>\n",
       "      <td>29.239416</td>\n",
       "      <td>7.882118</td>\n",
       "      <td>9.856939</td>\n",
       "      <td>14.795065</td>\n",
       "      <td>10.817289</td>\n",
       "    </tr>\n",
       "  </tbody>\n",
       "</table>\n",
       "</div>"
      ],
      "text/plain": [
       "Sub-sub-sub-method        1-ravel   2-interp  3-scale_fit  4-scale_transform  \\\n",
       "Sub-sub-method                                                                 \n",
       "2-feature_temperature  109.740973  29.239416     7.882118           9.856939   \n",
       "\n",
       "Sub-sub-sub-method     5-reduce_fit  6-reduce_transform  \n",
       "Sub-sub-method                                           \n",
       "2-feature_temperature     14.795065           10.817289  "
      ]
     },
     "execution_count": 29,
     "metadata": {},
     "output_type": "execute_result"
    },
    {
     "data": {
      "image/png": "[encoded data removed]",
      "text/plain": [
       "<Figure size 450x270 with 1 Axes>"
      ]
     },
     "metadata": {},
     "output_type": "display_data"
    }
   ],
   "source": [
    "fig, ax, df = m.plot.timeit(split='Sub-sub-sub-method', group='Sub-sub-method')\n",
    "df"
   ]
  }
 ],
 "metadata": {
  "kernelspec": {
   "display_name": "obidam36",
   "language": "python",
   "name": "obidam36"
  },
  "language_info": {
   "codemirror_mode": {
    "name": "ipython",
    "version": 3
   },
   "file_extension": ".py",
   "mimetype": "text/x-python",
   "name": "python",
   "nbconvert_exporter": "python",
   "pygments_lexer": "ipython3",
   "version": "3.6.7"
  },
  "toc-showmarkdowntxt": true
 },
 "nbformat": 4,
 "nbformat_minor": 2
}
