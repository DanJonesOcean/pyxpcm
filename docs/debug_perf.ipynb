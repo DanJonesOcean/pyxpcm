{
 "cells": [
  {
   "cell_type": "markdown",
   "metadata": {
    "toc-hr-collapsed": false
   },
   "source": [
    "# Debugging and performances"
   ]
  },
  {
   "cell_type": "code",
   "execution_count": 1,
   "metadata": {
    "nbsphinx": "hidden"
   },
   "outputs": [
    {
     "name": "stdout",
     "output_type": "stream",
     "text": [
      "xarray: 0.12.1, /Users/gmaze/anaconda/envs/obidam36/lib/python3.6/site-packages/xarray/__init__.py\n",
      "pyxpcm: 0.4.0, /Users/gmaze/git/github/gmaze/pyxpcm/pyxpcm/__init__.py\n"
     ]
    }
   ],
   "source": [
    "# Hidden cell\n",
    "import os, sys\n",
    "import numpy as np\n",
    "import pandas as pd\n",
    "import xarray as xr\n",
    "print(\"xarray: %s, %s\" % (xr.__version__, xr.__file__))\n",
    "\n",
    "import matplotlib.pyplot as plt\n",
    "%matplotlib inline\n",
    "sys.path.insert(0, os.path.abspath('/Users/gmaze/git/github/gmaze/pyxpcm'))\n",
    "\n",
    "import pyxpcm\n",
    "print(\"pyxpcm: %s, %s\" % (pyxpcm.__version__, pyxpcm.__file__))"
   ]
  },
  {
   "cell_type": "markdown",
   "metadata": {},
   "source": [
    "## Load data"
   ]
  },
  {
   "cell_type": "code",
   "execution_count": 13,
   "metadata": {},
   "outputs": [
    {
     "name": "stdout",
     "output_type": "stream",
     "text": [
      "<xarray.Dataset>\n",
      "Dimensions:      (depth: 152, latitude: 53, longitude: 61, time: 12)\n",
      "Coordinates:\n",
      "  * time         (time) datetime64[ns] 2005-01-15 2005-02-15 ... 2005-12-15\n",
      "  * latitude     (latitude) float32 30.023445 30.455408 ... 49.41288 49.737103\n",
      "  * longitude    (longitude) float32 -70.0 -69.5 -69.0 ... -41.0 -40.5 -40.0\n",
      "  * depth        (depth) float32 -1.0 -3.0 -5.0 ... -1960.0 -1980.0 -2000.0\n",
      "Data variables:\n",
      "    PSAL         (time, depth, latitude, longitude) float32 dask.array<shape=(12, 152, 53, 61), chunksize=(12, 152, 53, 61)>\n",
      "    PSAL_ERR     (time, depth, latitude, longitude) float32 dask.array<shape=(12, 152, 53, 61), chunksize=(12, 152, 53, 61)>\n",
      "    PSAL_PCTVAR  (time, depth, latitude, longitude) float32 dask.array<shape=(12, 152, 53, 61), chunksize=(12, 152, 53, 61)>\n",
      "    TEMP         (time, depth, latitude, longitude) float32 dask.array<shape=(12, 152, 53, 61), chunksize=(12, 152, 53, 61)>\n",
      "    TEMP_ERR     (time, depth, latitude, longitude) float32 dask.array<shape=(12, 152, 53, 61), chunksize=(12, 152, 53, 61)>\n",
      "    TEMP_PCTVAR  (time, depth, latitude, longitude) float32 dask.array<shape=(12, 152, 53, 61), chunksize=(12, 152, 53, 61)>\n",
      "    SST          (time, latitude, longitude) float32 dask.array<shape=(12, 53, 61), chunksize=(12, 53, 61)>\n",
      "Attributes:\n",
      "    Conventions:            CF-1.4\n",
      "    title:                  Monthly analysis\n",
      "    history:                20171122T133700L : Creation\n",
      "    institution:            LOPS-SNO-Argo\n",
      "    project_name:           ISAS-LOPS\n",
      "    analysis_name:          ISAS15_DM_\n",
      "    data_manager:           Nicolas-Kolodziejczyk\n",
      "    software_version:       POSTOA_main - 7.0\n",
      "    southernmost_latitude:  -77.0105\n",
      "    northernmost_latitude:  89.8963\n",
      "    latitude_resolution:    0.49999365\n",
      "    westernmost_longitude:  -180\n",
      "    easternmost_longitude:  179.5\n",
      "    longitude_resolution:   0.5\n",
      "    start_date:             2005-09-15\n",
      "    stop_date:              2005-09-15\n",
      "    creation_date:          20171122T133700L\n",
      "    reference_date:         1950-01-01T00:00:00Z\n",
      "    references:             Gaillard et al., JCLIM 2016, Doi:10.1175/JCLI-D-1...\n",
      "    comment:                V7.0 T and S fields\n",
      "This dataset holds: 141.7 MB\n"
     ]
    }
   ],
   "source": [
    "# ds = pyxpcm.tutorial.open_dataset('argo').load()\n",
    "# ds = pyxpcm.tutorial.open_dataset('isas_snapshot').load()\n",
    "ds = pyxpcm.tutorial.open_dataset('isas_series').load()\n",
    "print(ds)\n",
    "print('This dataset holds: %.1f MB' % (ds.nbytes / 1e6))"
   ]
  },
  {
   "cell_type": "markdown",
   "metadata": {
    "toc-hr-collapsed": true
   },
   "source": [
    "## Define/fit/predict a standard pyXpcm"
   ]
  },
  {
   "cell_type": "code",
   "execution_count": 14,
   "metadata": {},
   "outputs": [],
   "source": [
    "from pyxpcm.pcmodel import pcm"
   ]
  },
  {
   "cell_type": "code",
   "execution_count": 23,
   "metadata": {},
   "outputs": [],
   "source": [
    "# Define vertical axis and features to use:\n",
    "z = np.arange(0.,-1000.,-10.)\n",
    "features_pcm = {'temperature': z}\n",
    "features_in_ds = {'temperature': 'TEMP'}\n",
    "\n",
    "features_pcm = {'temperature': z, 'salinity': z}\n",
    "features_in_ds = {'temperature': 'TEMP', 'salinity': 'PSAL'}\n",
    "\n",
    "features_pcm = {'temperature': z, 'salinity': z, 'sst': None}\n",
    "features_in_ds = {'temperature': 'TEMP', 'salinity': 'PSAL', 'sst':'SST'}"
   ]
  },
  {
   "cell_type": "code",
   "execution_count": 16,
   "metadata": {},
   "outputs": [],
   "source": [
    "# pyXpcm variables added to the dataset can be removed with:\n",
    "# print('Before:', ds.data_vars)\n",
    "# ds = ds.pyxpcm.clean()\n",
    "# print('After cleaning:', ds.data_vars)"
   ]
  },
  {
   "cell_type": "markdown",
   "metadata": {},
   "source": [
    "## Debugging\n",
    "\n",
    "Use option ``debug`` to print log messages "
   ]
  },
  {
   "cell_type": "code",
   "execution_count": 24,
   "metadata": {},
   "outputs": [
    {
     "name": "stdout",
     "output_type": "stream",
     "text": [
      "sst is single level, not need to reduce\n",
      "> Start preprocessing for action 'fit_predict'\n",
      "\n",
      "\t> Preprocessing xarray dataset 'TEMP' as PCM feature 'temperature'\n",
      "\t [<class 'xarray.core.dataarray.DataArray'>, <class 'dask.array.core.Array'>, ((27636,), (152,))] X RAVELED with success\n",
      "\t\tOutput axis is new, will use interpolation\n",
      "\t\tData array before vertical mixing: [<class 'xarray.core.dataarray.DataArray'>, <class 'dask.array.core.Array'>, ((27636,), (152,))]\n",
      "\t\tData array vertically mixed to reached the surface: [<class 'xarray.core.dataarray.DataArray'>, <class 'dask.array.core.Array'>, ((27636,), (153,))]\n",
      "\t\tData array before interpolation: [<class 'xarray.core.dataarray.DataArray'>, <class 'dask.array.core.Array'>, ((27636,), (153,))]\n",
      "\t\tData array after interpolation: [<class 'xarray.core.dataarray.DataArray'>, <class 'dask.array.core.Array'>, ((27636,), (100,))]\n",
      "\t [<class 'xarray.core.dataarray.DataArray'>, <class 'dask.array.core.Array'>, ((27636,), (100,))] X INTERPOLATED with success)\n",
      "\t [<class 'xarray.core.dataarray.DataArray'>, <class 'numpy.ndarray'>, None] X SCALED with success)\n",
      "\t [<class 'xarray.core.dataarray.DataArray'>, <class 'numpy.ndarray'>, None] X REDUCED with success)\n",
      "\ttemperature pre-processed with success,  [<class 'xarray.core.dataarray.DataArray'>, <class 'numpy.ndarray'>, None]\n",
      "\tHomogenisation of temperature using fit data\n",
      "\n",
      "\t> Preprocessing xarray dataset 'PSAL' as PCM feature 'salinity'\n",
      "\t [<class 'xarray.core.dataarray.DataArray'>, <class 'dask.array.core.Array'>, ((27636,), (152,))] X RAVELED with success\n",
      "\t\tOutput axis is new, will use interpolation\n",
      "\t\tData array before vertical mixing: [<class 'xarray.core.dataarray.DataArray'>, <class 'dask.array.core.Array'>, ((27636,), (152,))]\n",
      "\t\tData array vertically mixed to reached the surface: [<class 'xarray.core.dataarray.DataArray'>, <class 'dask.array.core.Array'>, ((27636,), (153,))]\n",
      "\t\tData array before interpolation: [<class 'xarray.core.dataarray.DataArray'>, <class 'dask.array.core.Array'>, ((27636,), (153,))]\n",
      "\t\tData array after interpolation: [<class 'xarray.core.dataarray.DataArray'>, <class 'dask.array.core.Array'>, ((27636,), (100,))]\n",
      "\t [<class 'xarray.core.dataarray.DataArray'>, <class 'dask.array.core.Array'>, ((27636,), (100,))] X INTERPOLATED with success)\n",
      "\t [<class 'xarray.core.dataarray.DataArray'>, <class 'numpy.ndarray'>, None] X SCALED with success)\n",
      "\t [<class 'xarray.core.dataarray.DataArray'>, <class 'numpy.ndarray'>, None] X REDUCED with success)\n",
      "\tsalinity pre-processed with success,  [<class 'xarray.core.dataarray.DataArray'>, <class 'numpy.ndarray'>, None]\n",
      "\tHomogenisation of salinity using fit data\n",
      "\n",
      "\t> Preprocessing xarray dataset 'SST' as PCM feature 'sst'\n",
      "\t [<class 'xarray.core.dataarray.DataArray'>, <class 'dask.array.core.Array'>, ((27636,), (1,))] X RAVELED with success\n",
      "\t [<class 'xarray.core.dataarray.DataArray'>, <class 'dask.array.core.Array'>, ((27636,), (1,))] X INTERPOLATED with success (NoTransform)\n",
      "\t\t Failed to scale.transform without copy, fall back on copy=True\n"
     ]
    },
    {
     "ename": "ValueError",
     "evalue": "output array is read-only",
     "output_type": "error",
     "traceback": [
      "\u001b[0;31m---------------------------------------------------------------------------\u001b[0m",
      "\u001b[0;31mValueError\u001b[0m                                Traceback (most recent call last)",
      "\u001b[0;32m~/git/github/gmaze/pyxpcm/pyxpcm/pcmodel.py\u001b[0m in \u001b[0;36mpreprocessing_this\u001b[0;34m(self, da, dim, feature_name, action)\u001b[0m\n\u001b[1;32m    641\u001b[0m                 \u001b[0;32mtry\u001b[0m\u001b[0;34m:\u001b[0m\u001b[0;34m\u001b[0m\u001b[0;34m\u001b[0m\u001b[0m\n\u001b[0;32m--> 642\u001b[0;31m                     \u001b[0mX\u001b[0m\u001b[0;34m.\u001b[0m\u001b[0mdata\u001b[0m \u001b[0;34m=\u001b[0m \u001b[0mself\u001b[0m\u001b[0;34m.\u001b[0m\u001b[0m_scaler\u001b[0m\u001b[0;34m[\u001b[0m\u001b[0mfeature_name\u001b[0m\u001b[0;34m]\u001b[0m\u001b[0;34m.\u001b[0m\u001b[0mtransform\u001b[0m\u001b[0;34m(\u001b[0m\u001b[0mX\u001b[0m\u001b[0;34m.\u001b[0m\u001b[0mdata\u001b[0m\u001b[0;34m,\u001b[0m \u001b[0mcopy\u001b[0m\u001b[0;34m=\u001b[0m\u001b[0;32mFalse\u001b[0m\u001b[0;34m)\u001b[0m\u001b[0;34m\u001b[0m\u001b[0;34m\u001b[0m\u001b[0m\n\u001b[0m\u001b[1;32m    643\u001b[0m                 \u001b[0;32mexcept\u001b[0m \u001b[0mValueError\u001b[0m\u001b[0;34m:\u001b[0m\u001b[0;34m\u001b[0m\u001b[0;34m\u001b[0m\u001b[0m\n",
      "\u001b[0;32m~/anaconda/envs/obidam36/lib/python3.6/site-packages/sklearn/preprocessing/data.py\u001b[0m in \u001b[0;36mtransform\u001b[0;34m(self, X, y, copy)\u001b[0m\n\u001b[1;32m    762\u001b[0m             \u001b[0;32mif\u001b[0m \u001b[0mself\u001b[0m\u001b[0;34m.\u001b[0m\u001b[0mwith_mean\u001b[0m\u001b[0;34m:\u001b[0m\u001b[0;34m\u001b[0m\u001b[0;34m\u001b[0m\u001b[0m\n\u001b[0;32m--> 763\u001b[0;31m                 \u001b[0mX\u001b[0m \u001b[0;34m-=\u001b[0m \u001b[0mself\u001b[0m\u001b[0;34m.\u001b[0m\u001b[0mmean_\u001b[0m\u001b[0;34m\u001b[0m\u001b[0;34m\u001b[0m\u001b[0m\n\u001b[0m\u001b[1;32m    764\u001b[0m             \u001b[0;32mif\u001b[0m \u001b[0mself\u001b[0m\u001b[0;34m.\u001b[0m\u001b[0mwith_std\u001b[0m\u001b[0;34m:\u001b[0m\u001b[0;34m\u001b[0m\u001b[0;34m\u001b[0m\u001b[0m\n",
      "\u001b[0;31mValueError\u001b[0m: output array is read-only",
      "\nDuring handling of the above exception, another exception occurred:\n",
      "\u001b[0;31mValueError\u001b[0m                                Traceback (most recent call last)",
      "\u001b[0;32m<ipython-input-24-686f605eedde>\u001b[0m in \u001b[0;36m<module>\u001b[0;34m\u001b[0m\n\u001b[1;32m      6\u001b[0m \u001b[0;34m\u001b[0m\u001b[0m\n\u001b[1;32m      7\u001b[0m \u001b[0;31m# Fit with log:\u001b[0m\u001b[0;34m\u001b[0m\u001b[0;34m\u001b[0m\u001b[0;34m\u001b[0m\u001b[0m\n\u001b[0;32m----> 8\u001b[0;31m \u001b[0mds\u001b[0m\u001b[0;34m.\u001b[0m\u001b[0mpyxpcm\u001b[0m\u001b[0;34m.\u001b[0m\u001b[0mfit_predict\u001b[0m\u001b[0;34m(\u001b[0m\u001b[0mm\u001b[0m\u001b[0;34m,\u001b[0m \u001b[0mfeatures\u001b[0m\u001b[0;34m=\u001b[0m\u001b[0mfeatures_in_ds\u001b[0m\u001b[0;34m,\u001b[0m \u001b[0minplace\u001b[0m\u001b[0;34m=\u001b[0m\u001b[0;32mTrue\u001b[0m\u001b[0;34m)\u001b[0m\u001b[0;34m;\u001b[0m\u001b[0;34m\u001b[0m\u001b[0;34m\u001b[0m\u001b[0m\n\u001b[0m",
      "\u001b[0;32m~/git/github/gmaze/pyxpcm/pyxpcm/xarray.py\u001b[0m in \u001b[0;36mfit_predict\u001b[0;34m(self, this_pcm, **kwargs)\u001b[0m\n\u001b[1;32m    313\u001b[0m     \u001b[0;32mdef\u001b[0m \u001b[0mfit_predict\u001b[0m\u001b[0;34m(\u001b[0m\u001b[0mself\u001b[0m\u001b[0;34m,\u001b[0m \u001b[0mthis_pcm\u001b[0m\u001b[0;34m,\u001b[0m \u001b[0;34m**\u001b[0m\u001b[0mkwargs\u001b[0m\u001b[0;34m)\u001b[0m\u001b[0;34m:\u001b[0m\u001b[0;34m\u001b[0m\u001b[0;34m\u001b[0m\u001b[0m\n\u001b[1;32m    314\u001b[0m         \u001b[0;34m\"\"\" Map this :class:`xarray.Dataset` on :func:`pyxpcm.pcm.fit_predict` \"\"\"\u001b[0m\u001b[0;34m\u001b[0m\u001b[0;34m\u001b[0m\u001b[0m\n\u001b[0;32m--> 315\u001b[0;31m         \u001b[0;32mreturn\u001b[0m \u001b[0mthis_pcm\u001b[0m\u001b[0;34m.\u001b[0m\u001b[0mfit_predict\u001b[0m\u001b[0;34m(\u001b[0m\u001b[0mself\u001b[0m\u001b[0;34m.\u001b[0m\u001b[0m_obj\u001b[0m\u001b[0;34m,\u001b[0m \u001b[0;34m**\u001b[0m\u001b[0mkwargs\u001b[0m\u001b[0;34m)\u001b[0m\u001b[0;34m\u001b[0m\u001b[0;34m\u001b[0m\u001b[0m\n\u001b[0m\u001b[1;32m    316\u001b[0m \u001b[0;34m\u001b[0m\u001b[0m\n\u001b[1;32m    317\u001b[0m     \u001b[0;34m@\u001b[0m\u001b[0mpcm_method\u001b[0m\u001b[0;34m\u001b[0m\u001b[0;34m\u001b[0m\u001b[0m\n",
      "\u001b[0;32m~/git/github/gmaze/pyxpcm/pyxpcm/pcmodel.py\u001b[0m in \u001b[0;36mfit_predict\u001b[0;34m(self, ds, features, dim, inplace, name)\u001b[0m\n\u001b[1;32m    950\u001b[0m \u001b[0;34m\u001b[0m\u001b[0m\n\u001b[1;32m    951\u001b[0m             \u001b[0;31m# PRE-PROCESSING:\u001b[0m\u001b[0;34m\u001b[0m\u001b[0;34m\u001b[0m\u001b[0;34m\u001b[0m\u001b[0m\n\u001b[0;32m--> 952\u001b[0;31m             \u001b[0mX\u001b[0m\u001b[0;34m,\u001b[0m \u001b[0msampling_dims\u001b[0m \u001b[0;34m=\u001b[0m \u001b[0mself\u001b[0m\u001b[0;34m.\u001b[0m\u001b[0mpreprocessing\u001b[0m\u001b[0;34m(\u001b[0m\u001b[0mds\u001b[0m\u001b[0;34m,\u001b[0m \u001b[0mfeatures\u001b[0m\u001b[0;34m=\u001b[0m\u001b[0mfeatures\u001b[0m\u001b[0;34m,\u001b[0m \u001b[0mdim\u001b[0m\u001b[0;34m=\u001b[0m\u001b[0mdim\u001b[0m\u001b[0;34m,\u001b[0m \u001b[0maction\u001b[0m\u001b[0;34m=\u001b[0m\u001b[0;34m'fit_predict'\u001b[0m\u001b[0;34m)\u001b[0m\u001b[0;34m\u001b[0m\u001b[0;34m\u001b[0m\u001b[0m\n\u001b[0m\u001b[1;32m    953\u001b[0m \u001b[0;34m\u001b[0m\u001b[0m\n\u001b[1;32m    954\u001b[0m             \u001b[0;31m# CLASSIFICATION-MODEL TRAINING:\u001b[0m\u001b[0;34m\u001b[0m\u001b[0;34m\u001b[0m\u001b[0;34m\u001b[0m\u001b[0m\n",
      "\u001b[0;32m~/git/github/gmaze/pyxpcm/pyxpcm/pcmodel.py\u001b[0m in \u001b[0;36mpreprocessing\u001b[0;34m(self, ds, features, dim, action, mask)\u001b[0m\n\u001b[1;32m    751\u001b[0m                                                                \u001b[0mdim\u001b[0m\u001b[0;34m=\u001b[0m\u001b[0mdim\u001b[0m\u001b[0;34m,\u001b[0m\u001b[0;34m\u001b[0m\u001b[0;34m\u001b[0m\u001b[0m\n\u001b[1;32m    752\u001b[0m                                                                \u001b[0mfeature_name\u001b[0m\u001b[0;34m=\u001b[0m\u001b[0mfeature_in_pcm\u001b[0m\u001b[0;34m,\u001b[0m\u001b[0;34m\u001b[0m\u001b[0;34m\u001b[0m\u001b[0m\n\u001b[0;32m--> 753\u001b[0;31m                                                                action=action)\n\u001b[0m\u001b[1;32m    754\u001b[0m                     \u001b[0mxlabel\u001b[0m \u001b[0;34m=\u001b[0m \u001b[0;34m[\u001b[0m\u001b[0;34m\"%s_%i\"\u001b[0m\u001b[0;34m%\u001b[0m\u001b[0;34m(\u001b[0m\u001b[0mfeature_in_pcm\u001b[0m\u001b[0;34m,\u001b[0m \u001b[0mi\u001b[0m\u001b[0;34m)\u001b[0m \u001b[0;32mfor\u001b[0m \u001b[0mi\u001b[0m \u001b[0;32min\u001b[0m \u001b[0mrange\u001b[0m\u001b[0;34m(\u001b[0m\u001b[0;36m0\u001b[0m\u001b[0;34m,\u001b[0m \u001b[0mx\u001b[0m\u001b[0;34m.\u001b[0m\u001b[0mshape\u001b[0m\u001b[0;34m[\u001b[0m\u001b[0;36m1\u001b[0m\u001b[0;34m]\u001b[0m\u001b[0;34m)\u001b[0m\u001b[0;34m]\u001b[0m\u001b[0;34m\u001b[0m\u001b[0;34m\u001b[0m\u001b[0m\n\u001b[1;32m    755\u001b[0m                     \u001b[0;32mif\u001b[0m \u001b[0mself\u001b[0m\u001b[0;34m.\u001b[0m\u001b[0m_debug\u001b[0m\u001b[0;34m:\u001b[0m\u001b[0;34m\u001b[0m\u001b[0;34m\u001b[0m\u001b[0m\n",
      "\u001b[0;32m~/git/github/gmaze/pyxpcm/pyxpcm/pcmodel.py\u001b[0m in \u001b[0;36mpreprocessing_this\u001b[0;34m(self, da, dim, feature_name, action)\u001b[0m\n\u001b[1;32m    643\u001b[0m                 \u001b[0;32mexcept\u001b[0m \u001b[0mValueError\u001b[0m\u001b[0;34m:\u001b[0m\u001b[0;34m\u001b[0m\u001b[0;34m\u001b[0m\u001b[0m\n\u001b[1;32m    644\u001b[0m                     \u001b[0;32mif\u001b[0m \u001b[0mself\u001b[0m\u001b[0;34m.\u001b[0m\u001b[0m_debug\u001b[0m\u001b[0;34m:\u001b[0m \u001b[0mprint\u001b[0m\u001b[0;34m(\u001b[0m\u001b[0;34m\"\\t\\t Failed to scale.transform without copy, fall back on copy=True\"\u001b[0m\u001b[0;34m)\u001b[0m\u001b[0;34m\u001b[0m\u001b[0;34m\u001b[0m\u001b[0m\n\u001b[0;32m--> 645\u001b[0;31m                     \u001b[0mX\u001b[0m\u001b[0;34m.\u001b[0m\u001b[0mdata\u001b[0m \u001b[0;34m=\u001b[0m \u001b[0mself\u001b[0m\u001b[0;34m.\u001b[0m\u001b[0m_scaler\u001b[0m\u001b[0;34m[\u001b[0m\u001b[0mfeature_name\u001b[0m\u001b[0;34m]\u001b[0m\u001b[0;34m.\u001b[0m\u001b[0mtransform\u001b[0m\u001b[0;34m(\u001b[0m\u001b[0mX\u001b[0m\u001b[0;34m.\u001b[0m\u001b[0mdata\u001b[0m\u001b[0;34m,\u001b[0m \u001b[0mcopy\u001b[0m\u001b[0;34m=\u001b[0m\u001b[0;32mTrue\u001b[0m\u001b[0;34m)\u001b[0m\u001b[0;34m\u001b[0m\u001b[0;34m\u001b[0m\u001b[0m\n\u001b[0m\u001b[1;32m    646\u001b[0m                     \u001b[0;32mpass\u001b[0m\u001b[0;34m\u001b[0m\u001b[0;34m\u001b[0m\u001b[0m\n\u001b[1;32m    647\u001b[0m                 \u001b[0;32mexcept\u001b[0m\u001b[0;34m:\u001b[0m\u001b[0;34m\u001b[0m\u001b[0;34m\u001b[0m\u001b[0m\n",
      "\u001b[0;32m~/anaconda/envs/obidam36/lib/python3.6/site-packages/sklearn/preprocessing/data.py\u001b[0m in \u001b[0;36mtransform\u001b[0;34m(self, X, y, copy)\u001b[0m\n\u001b[1;32m    761\u001b[0m         \u001b[0;32melse\u001b[0m\u001b[0;34m:\u001b[0m\u001b[0;34m\u001b[0m\u001b[0;34m\u001b[0m\u001b[0m\n\u001b[1;32m    762\u001b[0m             \u001b[0;32mif\u001b[0m \u001b[0mself\u001b[0m\u001b[0;34m.\u001b[0m\u001b[0mwith_mean\u001b[0m\u001b[0;34m:\u001b[0m\u001b[0;34m\u001b[0m\u001b[0;34m\u001b[0m\u001b[0m\n\u001b[0;32m--> 763\u001b[0;31m                 \u001b[0mX\u001b[0m \u001b[0;34m-=\u001b[0m \u001b[0mself\u001b[0m\u001b[0;34m.\u001b[0m\u001b[0mmean_\u001b[0m\u001b[0;34m\u001b[0m\u001b[0;34m\u001b[0m\u001b[0m\n\u001b[0m\u001b[1;32m    764\u001b[0m             \u001b[0;32mif\u001b[0m \u001b[0mself\u001b[0m\u001b[0;34m.\u001b[0m\u001b[0mwith_std\u001b[0m\u001b[0;34m:\u001b[0m\u001b[0;34m\u001b[0m\u001b[0;34m\u001b[0m\u001b[0m\n\u001b[1;32m    765\u001b[0m                 \u001b[0mX\u001b[0m \u001b[0;34m/=\u001b[0m \u001b[0mself\u001b[0m\u001b[0;34m.\u001b[0m\u001b[0mscale_\u001b[0m\u001b[0;34m\u001b[0m\u001b[0;34m\u001b[0m\u001b[0m\n",
      "\u001b[0;31mValueError\u001b[0m: output array is read-only"
     ]
    }
   ],
   "source": [
    "# Clean up dataset of previous results:\n",
    "ds = ds.pyxpcm.clean()\n",
    "\n",
    "# Instantiate a new PCM:\n",
    "m = pcm(K=8, features=features_pcm, debug=True)\n",
    "\n",
    "# Fit with log:\n",
    "ds.pyxpcm.fit_predict(m, features=features_in_ds, inplace=True);"
   ]
  },
  {
   "cell_type": "markdown",
   "metadata": {
    "toc-hr-collapsed": true
   },
   "source": [
    "## Performance / Optimisation\n",
    "\n",
    "Use ``timeit`` and ``timeit_verb`` to compute computation time of PCM operations\n",
    "\n",
    "Times are accessible as a pandas Dataframe in ``timeit`` pyXpcm instance property.\n",
    "\n",
    "The pyXpcm ``m.plot.timeit()`` plot method allows for a simple visualisation of times."
   ]
  },
  {
   "cell_type": "markdown",
   "metadata": {},
   "source": [
    "### Time readings at execution time"
   ]
  },
  {
   "cell_type": "code",
   "execution_count": 18,
   "metadata": {},
   "outputs": [],
   "source": [
    "# Create a PCM and use several methods to time:\n",
    "m = pcm(K=8, features=features_pcm, timeit=True)\n",
    "m.fit(ds, features=features_in_ds);\n",
    "m.predict(ds, features=features_in_ds);\n",
    "m.fit_predict(ds, features=features_in_ds);"
   ]
  },
  {
   "cell_type": "code",
   "execution_count": 8,
   "metadata": {},
   "outputs": [
    {
     "data": {
      "text/plain": [
       "Method       Sub-method    Sub-sub-method         Sub-sub-sub-method\n",
       "fit          1-preprocess  1-mask                 total                   23.549795\n",
       "                           2-feature_temperature  1-ravel                161.688089\n",
       "                                                  2-interp                 1.364231\n",
       "                                                  3-scale_fit            278.012037\n",
       "                                                  4-scale_transform      130.355835\n",
       "                                                  5-reduce_fit            17.712116\n",
       "                                                  6-reduce_transform       4.034996\n",
       "                                                  total                  593.348026\n",
       "                           total                                        1213.412046\n",
       "                           3-homogeniser          total                    1.683950\n",
       "                           4-xarray               total                    1.109123\n",
       "             2-fit         total                                        6227.670908\n",
       "             3-score       total                                           7.367849\n",
       "             total                                                      6855.053663\n",
       "predict      1-preprocess  1-mask                 total                   13.202906\n",
       "                           2-feature_temperature  1-ravel                137.761116\n",
       "                                                  2-interp                 1.075983\n",
       "                                                  3-scale_fit              0.000954\n",
       "                                                  4-scale_transform      136.834860\n",
       "                                                  5-reduce_fit             0.000954\n",
       "                                                  6-reduce_transform       3.016233\n",
       "                                                  total                  278.822899\n",
       "                           total                                         572.228909\n",
       "                           3-homogeniser          total                    0.000954\n",
       "                           4-xarray               total                    1.103878\n",
       "             2-predict     total                                           6.021023\n",
       "             score         total                                           7.555246\n",
       "             3-xarray      total                                         248.337746\n",
       "             total                                                       555.335283\n",
       "fit_predict  1-preprocess  1-mask                 total                   15.299082\n",
       "                           2-feature_temperature  1-ravel                131.630659\n",
       "                                                  2-interp                 1.070023\n",
       "                                                  3-scale_fit              0.001907\n",
       "                                                  4-scale_transform      129.402876\n",
       "                                                  5-reduce_fit             0.000954\n",
       "                                                  6-reduce_transform       4.137039\n",
       "                                                  total                  266.379118\n",
       "                           total                                         551.142693\n",
       "                           3-homogeniser          total                    1.677990\n",
       "                           4-xarray               total                    1.106024\n",
       "             2-fit         total                                        3052.889824\n",
       "             3-score       total                                          14.851809\n",
       "             4-predict     total                                           5.584002\n",
       "             5-score       total                                          10.066748\n",
       "             6-xarray      total                                         253.602028\n",
       "             total                                                      3621.829271\n",
       "dtype: float64"
      ]
     },
     "execution_count": 8,
     "metadata": {},
     "output_type": "execute_result"
    }
   ],
   "source": [
    "# Timing are accessible through a dataframe in the timeit property:\n",
    "m.timeit"
   ]
  },
  {
   "cell_type": "markdown",
   "metadata": {},
   "source": [
    "### Compare details of steps for each method"
   ]
  },
  {
   "cell_type": "code",
   "execution_count": 21,
   "metadata": {},
   "outputs": [
    {
     "data": {
      "text/html": [
       "<div>\n",
       "<style scoped>\n",
       "    .dataframe tbody tr th:only-of-type {\n",
       "        vertical-align: middle;\n",
       "    }\n",
       "\n",
       "    .dataframe tbody tr th {\n",
       "        vertical-align: top;\n",
       "    }\n",
       "\n",
       "    .dataframe thead th {\n",
       "        text-align: right;\n",
       "    }\n",
       "</style>\n",
       "<table border=\"1\" class=\"dataframe\">\n",
       "  <thead>\n",
       "    <tr style=\"text-align: right;\">\n",
       "      <th>Sub-method</th>\n",
       "      <th>1-preprocess</th>\n",
       "      <th>2-fit</th>\n",
       "      <th>2-predict</th>\n",
       "      <th>3-score</th>\n",
       "      <th>3-xarray</th>\n",
       "      <th>4-predict</th>\n",
       "      <th>5-score</th>\n",
       "      <th>6-xarray</th>\n",
       "      <th>score</th>\n",
       "    </tr>\n",
       "    <tr>\n",
       "      <th>Method</th>\n",
       "      <th></th>\n",
       "      <th></th>\n",
       "      <th></th>\n",
       "      <th></th>\n",
       "      <th></th>\n",
       "      <th></th>\n",
       "      <th></th>\n",
       "      <th></th>\n",
       "      <th></th>\n",
       "    </tr>\n",
       "  </thead>\n",
       "  <tbody>\n",
       "    <tr>\n",
       "      <th>fit</th>\n",
       "      <td>5765.321016</td>\n",
       "      <td>7142.683029</td>\n",
       "      <td>NaN</td>\n",
       "      <td>28.122187</td>\n",
       "      <td>NaN</td>\n",
       "      <td>NaN</td>\n",
       "      <td>NaN</td>\n",
       "      <td>NaN</td>\n",
       "      <td>NaN</td>\n",
       "    </tr>\n",
       "    <tr>\n",
       "      <th>fit_predict</th>\n",
       "      <td>3775.321484</td>\n",
       "      <td>8094.488144</td>\n",
       "      <td>NaN</td>\n",
       "      <td>53.404808</td>\n",
       "      <td>NaN</td>\n",
       "      <td>19.109011</td>\n",
       "      <td>27.283907</td>\n",
       "      <td>1071.264982</td>\n",
       "      <td>NaN</td>\n",
       "    </tr>\n",
       "    <tr>\n",
       "      <th>predict</th>\n",
       "      <td>4043.168068</td>\n",
       "      <td>NaN</td>\n",
       "      <td>27.491093</td>\n",
       "      <td>NaN</td>\n",
       "      <td>1128.00169</td>\n",
       "      <td>NaN</td>\n",
       "      <td>NaN</td>\n",
       "      <td>NaN</td>\n",
       "      <td>33.606052</td>\n",
       "    </tr>\n",
       "  </tbody>\n",
       "</table>\n",
       "</div>"
      ],
      "text/plain": [
       "Sub-method   1-preprocess        2-fit  2-predict    3-score    3-xarray  \\\n",
       "Method                                                                     \n",
       "fit           5765.321016  7142.683029        NaN  28.122187         NaN   \n",
       "fit_predict   3775.321484  8094.488144        NaN  53.404808         NaN   \n",
       "predict       4043.168068          NaN  27.491093        NaN  1128.00169   \n",
       "\n",
       "Sub-method   4-predict    5-score     6-xarray      score  \n",
       "Method                                                     \n",
       "fit                NaN        NaN          NaN        NaN  \n",
       "fit_predict  19.109011  27.283907  1071.264982        NaN  \n",
       "predict            NaN        NaN          NaN  33.606052  "
      ]
     },
     "execution_count": 21,
     "metadata": {},
     "output_type": "execute_result"
    },
    {
     "data": {
      "image/png": "[encoded data removed]",
      "text/plain": [
       "<Figure size 450x270 with 1 Axes>"
      ]
     },
     "metadata": {},
     "output_type": "display_data"
    }
   ],
   "source": [
    "fig, ax, df = m.plot.timeit(group='Method', split='Sub-method', style='darkgrid') # Default group/split\n",
    "df"
   ]
  },
  {
   "cell_type": "markdown",
   "metadata": {},
   "source": [
    "### Compare preprocessing steps for each method"
   ]
  },
  {
   "cell_type": "code",
   "execution_count": 22,
   "metadata": {},
   "outputs": [
    {
     "data": {
      "text/html": [
       "<div>\n",
       "<style scoped>\n",
       "    .dataframe tbody tr th:only-of-type {\n",
       "        vertical-align: middle;\n",
       "    }\n",
       "\n",
       "    .dataframe tbody tr th {\n",
       "        vertical-align: top;\n",
       "    }\n",
       "\n",
       "    .dataframe thead th {\n",
       "        text-align: right;\n",
       "    }\n",
       "</style>\n",
       "<table border=\"1\" class=\"dataframe\">\n",
       "  <thead>\n",
       "    <tr style=\"text-align: right;\">\n",
       "      <th>Sub-sub-method</th>\n",
       "      <th>1-mask</th>\n",
       "      <th>2-feature_temperature</th>\n",
       "      <th>3-homogeniser</th>\n",
       "      <th>4-xarray</th>\n",
       "    </tr>\n",
       "    <tr>\n",
       "      <th>Method</th>\n",
       "      <th></th>\n",
       "      <th></th>\n",
       "      <th></th>\n",
       "      <th></th>\n",
       "    </tr>\n",
       "  </thead>\n",
       "  <tbody>\n",
       "    <tr>\n",
       "      <th>fit</th>\n",
       "      <td>217.428923</td>\n",
       "      <td>2656.340122</td>\n",
       "      <td>5.228758</td>\n",
       "      <td>3.391266</td>\n",
       "    </tr>\n",
       "    <tr>\n",
       "      <th>fit_predict</th>\n",
       "      <td>114.725113</td>\n",
       "      <td>1763.938189</td>\n",
       "      <td>5.244255</td>\n",
       "      <td>3.433943</td>\n",
       "    </tr>\n",
       "    <tr>\n",
       "      <th>predict</th>\n",
       "      <td>172.873974</td>\n",
       "      <td>1845.067501</td>\n",
       "      <td>0.000715</td>\n",
       "      <td>3.372908</td>\n",
       "    </tr>\n",
       "  </tbody>\n",
       "</table>\n",
       "</div>"
      ],
      "text/plain": [
       "Sub-sub-method      1-mask  2-feature_temperature  3-homogeniser  4-xarray\n",
       "Method                                                                    \n",
       "fit             217.428923            2656.340122       5.228758  3.391266\n",
       "fit_predict     114.725113            1763.938189       5.244255  3.433943\n",
       "predict         172.873974            1845.067501       0.000715  3.372908"
      ]
     },
     "execution_count": 22,
     "metadata": {},
     "output_type": "execute_result"
    },
    {
     "data": {
      "image/png": "[encoded data removed]",
      "text/plain": [
       "<Figure size 450x270 with 1 Axes>"
      ]
     },
     "metadata": {},
     "output_type": "display_data"
    }
   ],
   "source": [
    "fig, ax, df = m.plot.timeit(group='Method', split='Sub-sub-method')\n",
    "df"
   ]
  },
  {
   "cell_type": "markdown",
   "metadata": {},
   "source": [
    "### Compare details of preprocessing steps for each method"
   ]
  },
  {
   "cell_type": "code",
   "execution_count": 20,
   "metadata": {},
   "outputs": [
    {
     "data": {
      "text/html": [
       "<div>\n",
       "<style scoped>\n",
       "    .dataframe tbody tr th:only-of-type {\n",
       "        vertical-align: middle;\n",
       "    }\n",
       "\n",
       "    .dataframe tbody tr th {\n",
       "        vertical-align: top;\n",
       "    }\n",
       "\n",
       "    .dataframe thead th {\n",
       "        text-align: right;\n",
       "    }\n",
       "</style>\n",
       "<table border=\"1\" class=\"dataframe\">\n",
       "  <thead>\n",
       "    <tr style=\"text-align: right;\">\n",
       "      <th>Sub-sub-sub-method</th>\n",
       "      <th>1-ravel</th>\n",
       "      <th>2-interp</th>\n",
       "      <th>3-scale_fit</th>\n",
       "      <th>4-scale_transform</th>\n",
       "      <th>5-reduce_fit</th>\n",
       "      <th>6-reduce_transform</th>\n",
       "    </tr>\n",
       "    <tr>\n",
       "      <th>Method</th>\n",
       "      <th></th>\n",
       "      <th></th>\n",
       "      <th></th>\n",
       "      <th></th>\n",
       "      <th></th>\n",
       "      <th></th>\n",
       "    </tr>\n",
       "  </thead>\n",
       "  <tbody>\n",
       "    <tr>\n",
       "      <th>fit</th>\n",
       "      <td>511.997223</td>\n",
       "      <td>250.325918</td>\n",
       "      <td>300.670147</td>\n",
       "      <td>97.689152</td>\n",
       "      <td>125.962019</td>\n",
       "      <td>41.424751</td>\n",
       "    </tr>\n",
       "    <tr>\n",
       "      <th>fit_predict</th>\n",
       "      <td>476.260185</td>\n",
       "      <td>237.729073</td>\n",
       "      <td>0.000954</td>\n",
       "      <td>126.914740</td>\n",
       "      <td>0.002146</td>\n",
       "      <td>40.981054</td>\n",
       "    </tr>\n",
       "    <tr>\n",
       "      <th>predict</th>\n",
       "      <td>485.560894</td>\n",
       "      <td>260.028839</td>\n",
       "      <td>0.000954</td>\n",
       "      <td>134.032726</td>\n",
       "      <td>0.000954</td>\n",
       "      <td>42.835951</td>\n",
       "    </tr>\n",
       "  </tbody>\n",
       "</table>\n",
       "</div>"
      ],
      "text/plain": [
       "Sub-sub-sub-method     1-ravel    2-interp  3-scale_fit  4-scale_transform  \\\n",
       "Method                                                                       \n",
       "fit                 511.997223  250.325918   300.670147          97.689152   \n",
       "fit_predict         476.260185  237.729073     0.000954         126.914740   \n",
       "predict             485.560894  260.028839     0.000954         134.032726   \n",
       "\n",
       "Sub-sub-sub-method  5-reduce_fit  6-reduce_transform  \n",
       "Method                                                \n",
       "fit                   125.962019           41.424751  \n",
       "fit_predict             0.002146           40.981054  \n",
       "predict                 0.000954           42.835951  "
      ]
     },
     "execution_count": 20,
     "metadata": {},
     "output_type": "execute_result"
    },
    {
     "data": {
      "image/png": "[encoded data removed]",
      "text/plain": [
       "<Figure size 450x270 with 1 Axes>"
      ]
     },
     "metadata": {},
     "output_type": "display_data"
    }
   ],
   "source": [
    "fig, ax, df = m.plot.timeit(group='Method', split='Sub-sub-sub-method')\n",
    "df"
   ]
  },
  {
   "cell_type": "markdown",
   "metadata": {},
   "source": [
    "### Compare details of preprocessing steps for each feature"
   ]
  },
  {
   "cell_type": "code",
   "execution_count": 19,
   "metadata": {},
   "outputs": [
    {
     "data": {
      "text/html": [
       "<div>\n",
       "<style scoped>\n",
       "    .dataframe tbody tr th:only-of-type {\n",
       "        vertical-align: middle;\n",
       "    }\n",
       "\n",
       "    .dataframe tbody tr th {\n",
       "        vertical-align: top;\n",
       "    }\n",
       "\n",
       "    .dataframe thead th {\n",
       "        text-align: right;\n",
       "    }\n",
       "</style>\n",
       "<table border=\"1\" class=\"dataframe\">\n",
       "  <thead>\n",
       "    <tr style=\"text-align: right;\">\n",
       "      <th>Sub-sub-sub-method</th>\n",
       "      <th>1-ravel</th>\n",
       "      <th>2-interp</th>\n",
       "      <th>3-scale_fit</th>\n",
       "      <th>4-scale_transform</th>\n",
       "      <th>5-reduce_fit</th>\n",
       "      <th>6-reduce_transform</th>\n",
       "    </tr>\n",
       "    <tr>\n",
       "      <th>Sub-sub-method</th>\n",
       "      <th></th>\n",
       "      <th></th>\n",
       "      <th></th>\n",
       "      <th></th>\n",
       "      <th></th>\n",
       "      <th></th>\n",
       "    </tr>\n",
       "  </thead>\n",
       "  <tbody>\n",
       "    <tr>\n",
       "      <th>2-feature_temperature</th>\n",
       "      <td>1473.818302</td>\n",
       "      <td>748.08383</td>\n",
       "      <td>300.672054</td>\n",
       "      <td>358.636618</td>\n",
       "      <td>125.965118</td>\n",
       "      <td>125.241756</td>\n",
       "    </tr>\n",
       "  </tbody>\n",
       "</table>\n",
       "</div>"
      ],
      "text/plain": [
       "Sub-sub-sub-method         1-ravel   2-interp  3-scale_fit  4-scale_transform  \\\n",
       "Sub-sub-method                                                                  \n",
       "2-feature_temperature  1473.818302  748.08383   300.672054         358.636618   \n",
       "\n",
       "Sub-sub-sub-method     5-reduce_fit  6-reduce_transform  \n",
       "Sub-sub-method                                           \n",
       "2-feature_temperature    125.965118          125.241756  "
      ]
     },
     "execution_count": 19,
     "metadata": {},
     "output_type": "execute_result"
    },
    {
     "data": {
      "image/png": "[encoded data removed]",
      "text/plain": [
       "<Figure size 450x270 with 1 Axes>"
      ]
     },
     "metadata": {},
     "output_type": "display_data"
    }
   ],
   "source": [
    "fig, ax, df = m.plot.timeit(split='Sub-sub-sub-method', group='Sub-sub-method')\n",
    "df"
   ]
  },
  {
   "cell_type": "code",
   "execution_count": null,
   "metadata": {},
   "outputs": [],
   "source": []
  }
 ],
 "metadata": {
  "kernelspec": {
   "display_name": "obidam36",
   "language": "python",
   "name": "obidam36"
  },
  "language_info": {
   "codemirror_mode": {
    "name": "ipython",
    "version": 3
   },
   "file_extension": ".py",
   "mimetype": "text/x-python",
   "name": "python",
   "nbconvert_exporter": "python",
   "pygments_lexer": "ipython3",
   "version": "3.6.7"
  },
  "toc-showmarkdowntxt": true
 },
 "nbformat": 4,
 "nbformat_minor": 2
}
