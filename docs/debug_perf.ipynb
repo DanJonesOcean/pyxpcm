{
 "cells": [
  {
   "cell_type": "markdown",
   "metadata": {
    "toc-hr-collapsed": false
   },
   "source": [
    "# Debugging and performances"
   ]
  },
  {
   "cell_type": "code",
   "execution_count": 1,
   "metadata": {
    "nbsphinx": "hidden"
   },
   "outputs": [
    {
     "name": "stdout",
     "output_type": "stream",
     "text": [
      "xarray: 0.12.1, /Users/gmaze/anaconda/envs/obidam36/lib/python3.6/site-packages/xarray/__init__.py\n",
      "pyxpcm: /Users/gmaze/git/github/gmaze/pyxpcm/pyxpcm/__init__.py\n"
     ]
    }
   ],
   "source": [
    "# Hidden cell\n",
    "import os, sys\n",
    "import numpy as np\n",
    "import pandas as pd\n",
    "import xarray as xr\n",
    "print(\"xarray: %s, %s\" % (xr.__version__, xr.__file__))\n",
    "\n",
    "import matplotlib.pyplot as plt\n",
    "%matplotlib inline\n",
    "sys.path.insert(0, os.path.abspath('/Users/gmaze/git/github/gmaze/pyxpcm'))\n",
    "\n",
    "import pyxpcm\n",
    "print(\"pyxpcm: %s\" % (pyxpcm.__file__))"
   ]
  },
  {
   "cell_type": "markdown",
   "metadata": {},
   "source": [
    "## Load data"
   ]
  },
  {
   "cell_type": "code",
   "execution_count": 2,
   "metadata": {},
   "outputs": [
    {
     "name": "stdout",
     "output_type": "stream",
     "text": [
      "<xarray.Dataset>\n",
      "Dimensions:    (DEPTH: 282, N_PROF: 7560)\n",
      "Coordinates:\n",
      "  * DEPTH      (DEPTH) float32 0.0 -5.0 -10.0 -15.0 ... -1395.0 -1400.0 -1405.0\n",
      "Dimensions without coordinates: N_PROF\n",
      "Data variables:\n",
      "    LATITUDE   (N_PROF) float32 dask.array<shape=(7560,), chunksize=(7560,)>\n",
      "    LONGITUDE  (N_PROF) float32 dask.array<shape=(7560,), chunksize=(7560,)>\n",
      "    TIME       (N_PROF) datetime64[ns] dask.array<shape=(7560,), chunksize=(7560,)>\n",
      "    DBINDEX    (N_PROF) float64 dask.array<shape=(7560,), chunksize=(7560,)>\n",
      "    TEMP       (N_PROF, DEPTH) float32 dask.array<shape=(7560, 282), chunksize=(7560, 282)>\n",
      "    PSAL       (N_PROF, DEPTH) float32 dask.array<shape=(7560, 282), chunksize=(7560, 282)>\n",
      "    SIG0       (N_PROF, DEPTH) float32 dask.array<shape=(7560, 282), chunksize=(7560, 282)>\n",
      "    BRV2       (N_PROF, DEPTH) float32 dask.array<shape=(7560, 282), chunksize=(7560, 282)>\n",
      "Attributes:\n",
      "    Sample test prepared by:  G. Maze\n",
      "    Institution:              Ifremer/LOPS\n",
      "    Data source DOI:          10.17882/42182\n",
      "This dataset holds: 34.3 MB\n"
     ]
    }
   ],
   "source": [
    "ds = pyxpcm.tutorial.open_dataset('argo').load()\n",
    "# ds = pyxpcm.tutorial.open_dataset('isas_snapshot').load()\n",
    "# ds = pyxpcm.tutorial.open_dataset('isas_series').load()\n",
    "print(ds)\n",
    "print('This dataset holds: %.1f MB' % (ds.nbytes / 1e6))"
   ]
  },
  {
   "cell_type": "markdown",
   "metadata": {
    "toc-hr-collapsed": true
   },
   "source": [
    "## Define/fit/predict a standard pyXpcm"
   ]
  },
  {
   "cell_type": "code",
   "execution_count": 3,
   "metadata": {},
   "outputs": [],
   "source": [
    "from pyxpcm.pcmodel import pcm"
   ]
  },
  {
   "cell_type": "code",
   "execution_count": 4,
   "metadata": {},
   "outputs": [],
   "source": [
    "# Define vertical axis and features to use:\n",
    "z = np.arange(0.,-1000.,-10.)\n",
    "features_pcm = {'temperature': z}\n",
    "features_in_ds = {'temperature': 'TEMP'}\n",
    "\n",
    "# features_pcm = {'temperature': z, 'salinity': z}\n",
    "# features_in_ds = {'temperature': 'TEMP', 'salinity': 'PSAL'}"
   ]
  },
  {
   "cell_type": "code",
   "execution_count": 5,
   "metadata": {},
   "outputs": [],
   "source": [
    "# pyXpcm variables added to the dataset can be removed with:\n",
    "# print('Before:', ds.data_vars)\n",
    "# ds = ds.pyxpcm.clean()\n",
    "# print('After cleaning:', ds.data_vars)"
   ]
  },
  {
   "cell_type": "markdown",
   "metadata": {},
   "source": [
    "## Debugging\n",
    "\n",
    "Use option ``debug`` to print log messages "
   ]
  },
  {
   "cell_type": "code",
   "execution_count": 6,
   "metadata": {},
   "outputs": [
    {
     "name": "stdout",
     "output_type": "stream",
     "text": [
      "> Start preprocessing for action 'fit_predict'\n",
      "\t> Preprocessing xarray dataset 'TEMP' as PCM feature 'temperature'\n",
      "\tInput working arrays X (<class 'xarray.core.dataarray.DataArray'>) and z with shapes: (7560, 282) (282,)\n",
      "\tOutput axis is in the input axis, not need to interpolate, simple intersection\n",
      "\tPreprocessed array X (<class 'numpy.ndarray'>) with shapes: (7560, 15)\n",
      "\tNo need for homogenisation of temperature\n",
      "> Preprocessing finished, working with final X (<class 'xarray.core.dataarray.DataArray'>) array of shape: (7560, 15)  and sampling dimensions: ['N_PROF']\n"
     ]
    }
   ],
   "source": [
    "# Clean up dataset of previous results:\n",
    "ds = ds.pyxpcm.clean()\n",
    "\n",
    "# Instantiate a new PCM:\n",
    "m = pcm(K=8, features=features_pcm, debug=1)\n",
    "\n",
    "# Fit with log:\n",
    "ds.pyxpcm.fit_predict(m, features=features_in_ds, inplace=True);"
   ]
  },
  {
   "cell_type": "markdown",
   "metadata": {
    "toc-hr-collapsed": true
   },
   "source": [
    "## Performance / Optimisation\n",
    "\n",
    "Use ``timeit`` and ``timeit_verb`` to compute computation time of PCM operations\n",
    "\n",
    "Times are accessible as a pandas Dataframe in ``timeit`` pyXpcm instance property.\n",
    "\n",
    "The pyXpcm ``m.plot.timeit()`` plot method allows for a simple visualisation of times."
   ]
  },
  {
   "cell_type": "markdown",
   "metadata": {},
   "source": [
    "### Time readings at execution time"
   ]
  },
  {
   "cell_type": "code",
   "execution_count": 7,
   "metadata": {},
   "outputs": [
    {
     "name": "stdout",
     "output_type": "stream",
     "text": [
      "  fit.1-preprocess.1-mask: 26 ms\n",
      "  fit.1-preprocess.2-feature_temperature.1-ravel: 156 ms\n",
      "  fit.1-preprocess.2-feature_temperature.2-interp: 3 ms\n",
      "  fit.1-preprocess.2-feature_temperature.3-scale_fit: 245 ms\n",
      "  fit.1-preprocess.2-feature_temperature.4-scale_transform: 260 ms\n",
      "  fit.1-preprocess.2-feature_temperature.5-reduce_fit: 17 ms\n",
      "  fit.1-preprocess.2-feature_temperature.6-reduce_transform: 3 ms\n",
      "  fit.1-preprocess.2-feature_temperature.total: 687 ms\n",
      "  fit.1-preprocess: 687 ms\n",
      "  fit.1-preprocess.3-homogeniser: 0 ms\n",
      "  fit.1-preprocess.4-xarray: 1 ms\n",
      "  fit.1-preprocess: 717 ms\n",
      "  fit.2-fit: 3222 ms\n",
      "  fit.3-score: 13 ms\n",
      "  fit: 3954 ms\n",
      "  predict.1-preprocess.1-mask: 9 ms\n",
      "  predict.1-preprocess.2-feature_temperature.1-ravel: 136 ms\n",
      "  predict.1-preprocess.2-feature_temperature.2-interp: 2 ms\n",
      "  predict.1-preprocess.2-feature_temperature.3-scale_fit: 0 ms\n",
      "  predict.1-preprocess.2-feature_temperature.4-scale_transform: 351 ms\n",
      "  predict.1-preprocess.2-feature_temperature.5-reduce_fit: 0 ms\n",
      "  predict.1-preprocess.2-feature_temperature.6-reduce_transform: 3 ms\n",
      "  predict.1-preprocess.2-feature_temperature.total: 494 ms\n",
      "  predict.1-preprocess: 495 ms\n",
      "  predict.1-preprocess.3-homogeniser: 0 ms\n",
      "  predict.1-preprocess.4-xarray: 1 ms\n",
      "  predict.1-preprocess: 507 ms\n",
      "  predict.2-predict: 12 ms\n",
      "  predict.score: 13 ms\n",
      "  predict.3-xarray: 246 ms\n",
      "  predict: 780 ms\n",
      "  fit_predict.1-preprocess.1-mask: 11 ms\n",
      "  fit_predict.1-preprocess.2-feature_temperature.1-ravel: 136 ms\n",
      "  fit_predict.1-preprocess.2-feature_temperature.2-interp: 3 ms\n",
      "  fit_predict.1-preprocess.2-feature_temperature.3-scale_fit: 0 ms\n",
      "  fit_predict.1-preprocess.2-feature_temperature.4-scale_transform: 261 ms\n",
      "  fit_predict.1-preprocess.2-feature_temperature.5-reduce_fit: 0 ms\n",
      "  fit_predict.1-preprocess.2-feature_temperature.6-reduce_transform: 3 ms\n",
      "  fit_predict.1-preprocess.2-feature_temperature.total: 405 ms\n",
      "  fit_predict.1-preprocess: 405 ms\n",
      "  fit_predict.1-preprocess.3-homogeniser: 0 ms\n",
      "  fit_predict.1-preprocess.4-xarray: 1 ms\n",
      "  fit_predict.1-preprocess: 419 ms\n",
      "  fit_predict.2-fit: 4212 ms\n",
      "  fit_predict.3-score: 15 ms\n",
      "  fit_predict.4-predict: 5 ms\n",
      "  fit_predict.score: 7 ms\n",
      "  fit_predict.5-xarray: 235 ms\n",
      "  fit_predict: 4898 ms\n"
     ]
    }
   ],
   "source": [
    "# Create a PCM and use several methods to time:\n",
    "m = pcm(K=8, features=features_pcm, timeit=True)\n",
    "m.fit(ds, features=features_in_ds);\n",
    "m.predict(ds, features=features_in_ds);\n",
    "m.fit_predict(ds, features=features_in_ds);"
   ]
  },
  {
   "cell_type": "code",
   "execution_count": 8,
   "metadata": {},
   "outputs": [
    {
     "data": {
      "text/plain": [
       "Method       Sub-method    Sub-sub-method         Sub-sub-sub-method\n",
       "fit          1-preprocess  1-mask                 total                   26.690006\n",
       "                           2-feature_temperature  1-ravel                156.342030\n",
       "                                                  2-interp                 3.239870\n",
       "                                                  3-scale_fit            245.108128\n",
       "                                                  4-scale_transform      260.365009\n",
       "                                                  5-reduce_fit            17.948151\n",
       "                                                  6-reduce_transform       3.374815\n",
       "                                                  total                  687.352180\n",
       "                           total                                        1404.639959\n",
       "                           3-homogeniser          total                    0.699997\n",
       "                           4-xarray               total                    1.207113\n",
       "             2-fit         total                                        3222.660065\n",
       "             3-score       total                                          13.579845\n",
       "             total                                                      3954.543114\n",
       "predict      1-preprocess  1-mask                 total                    9.274244\n",
       "                           2-feature_temperature  1-ravel                136.413097\n",
       "                                                  2-interp                 2.466679\n",
       "                                                  3-scale_fit              0.001907\n",
       "                                                  4-scale_transform      351.513863\n",
       "                                                  5-reduce_fit             0.002861\n",
       "                                                  6-reduce_transform       3.968954\n",
       "                                                  total                  494.971275\n",
       "                           total                                        1002.727747\n",
       "                           3-homogeniser          total                    0.002146\n",
       "                           4-xarray               total                    1.902103\n",
       "             2-predict     total                                          12.067795\n",
       "             score         total                                          13.901949\n",
       "             3-xarray      total                                         246.416092\n",
       "             total                                                       780.481100\n",
       "fit_predict  1-preprocess  1-mask                 total                   11.515141\n",
       "                           2-feature_temperature  1-ravel                136.711836\n",
       "                                                  2-interp                 3.000975\n",
       "                                                  3-scale_fit              0.000954\n",
       "                                                  4-scale_transform      261.747122\n",
       "                                                  5-reduce_fit             0.001907\n",
       "                                                  6-reduce_transform       3.727913\n",
       "                                                  total                  405.879021\n",
       "                           total                                         825.875044\n",
       "                           3-homogeniser          total                    0.740767\n",
       "                           4-xarray               total                    1.240969\n",
       "             2-fit         total                                        4212.506056\n",
       "             3-score       total                                          15.975952\n",
       "             4-predict     total                                           5.912066\n",
       "             score         total                                           7.304192\n",
       "             5-xarray      total                                         235.492945\n",
       "             total                                                      4898.010015\n",
       "dtype: float64"
      ]
     },
     "execution_count": 8,
     "metadata": {},
     "output_type": "execute_result"
    }
   ],
   "source": [
    "# Timing are accessible through a dataframe in the timeit property:\n",
    "m.timeit"
   ]
  },
  {
   "cell_type": "markdown",
   "metadata": {},
   "source": [
    "### Compare details of steps for each method"
   ]
  },
  {
   "cell_type": "code",
   "execution_count": 9,
   "metadata": {},
   "outputs": [
    {
     "data": {
      "text/html": [
       "<div>\n",
       "<style scoped>\n",
       "    .dataframe tbody tr th:only-of-type {\n",
       "        vertical-align: middle;\n",
       "    }\n",
       "\n",
       "    .dataframe tbody tr th {\n",
       "        vertical-align: top;\n",
       "    }\n",
       "\n",
       "    .dataframe thead th {\n",
       "        text-align: right;\n",
       "    }\n",
       "</style>\n",
       "<table border=\"1\" class=\"dataframe\">\n",
       "  <thead>\n",
       "    <tr style=\"text-align: right;\">\n",
       "      <th>Sub-method</th>\n",
       "      <th>1-preprocess</th>\n",
       "      <th>2-fit</th>\n",
       "      <th>2-predict</th>\n",
       "      <th>3-score</th>\n",
       "      <th>3-xarray</th>\n",
       "      <th>4-predict</th>\n",
       "      <th>5-xarray</th>\n",
       "      <th>score</th>\n",
       "    </tr>\n",
       "    <tr>\n",
       "      <th>Method</th>\n",
       "      <th></th>\n",
       "      <th></th>\n",
       "      <th></th>\n",
       "      <th></th>\n",
       "      <th></th>\n",
       "      <th></th>\n",
       "      <th></th>\n",
       "      <th></th>\n",
       "    </tr>\n",
       "  </thead>\n",
       "  <tbody>\n",
       "    <tr>\n",
       "      <th>fit</th>\n",
       "      <td>2806.967258</td>\n",
       "      <td>3222.660065</td>\n",
       "      <td>NaN</td>\n",
       "      <td>13.579845</td>\n",
       "      <td>NaN</td>\n",
       "      <td>NaN</td>\n",
       "      <td>NaN</td>\n",
       "      <td>NaN</td>\n",
       "    </tr>\n",
       "    <tr>\n",
       "      <th>fit_predict</th>\n",
       "      <td>1650.441647</td>\n",
       "      <td>4212.506056</td>\n",
       "      <td>NaN</td>\n",
       "      <td>15.975952</td>\n",
       "      <td>NaN</td>\n",
       "      <td>5.912066</td>\n",
       "      <td>235.492945</td>\n",
       "      <td>7.304192</td>\n",
       "    </tr>\n",
       "    <tr>\n",
       "      <th>predict</th>\n",
       "      <td>2003.244877</td>\n",
       "      <td>NaN</td>\n",
       "      <td>12.067795</td>\n",
       "      <td>NaN</td>\n",
       "      <td>246.416092</td>\n",
       "      <td>NaN</td>\n",
       "      <td>NaN</td>\n",
       "      <td>13.901949</td>\n",
       "    </tr>\n",
       "  </tbody>\n",
       "</table>\n",
       "</div>"
      ],
      "text/plain": [
       "Sub-method   1-preprocess        2-fit  2-predict    3-score    3-xarray  \\\n",
       "Method                                                                     \n",
       "fit           2806.967258  3222.660065        NaN  13.579845         NaN   \n",
       "fit_predict   1650.441647  4212.506056        NaN  15.975952         NaN   \n",
       "predict       2003.244877          NaN  12.067795        NaN  246.416092   \n",
       "\n",
       "Sub-method   4-predict    5-xarray      score  \n",
       "Method                                         \n",
       "fit                NaN         NaN        NaN  \n",
       "fit_predict   5.912066  235.492945   7.304192  \n",
       "predict            NaN         NaN  13.901949  "
      ]
     },
     "execution_count": 9,
     "metadata": {},
     "output_type": "execute_result"
    },
    {
     "data": {
      "image/png": "[encoded data removed]",
      "text/plain": [
       "<Figure size 450x270 with 1 Axes>"
      ]
     },
     "metadata": {},
     "output_type": "display_data"
    }
   ],
   "source": [
    "fig, ax, df = m.plot.timeit(group='Method', split='Sub-method') # Default group/split\n",
    "df"
   ]
  },
  {
   "cell_type": "markdown",
   "metadata": {},
   "source": [
    "### Compare preprocessing steps for each method"
   ]
  },
  {
   "cell_type": "code",
   "execution_count": 10,
   "metadata": {},
   "outputs": [
    {
     "data": {
      "text/html": [
       "<div>\n",
       "<style scoped>\n",
       "    .dataframe tbody tr th:only-of-type {\n",
       "        vertical-align: middle;\n",
       "    }\n",
       "\n",
       "    .dataframe tbody tr th {\n",
       "        vertical-align: top;\n",
       "    }\n",
       "\n",
       "    .dataframe thead th {\n",
       "        text-align: right;\n",
       "    }\n",
       "</style>\n",
       "<table border=\"1\" class=\"dataframe\">\n",
       "  <thead>\n",
       "    <tr style=\"text-align: right;\">\n",
       "      <th>Sub-sub-method</th>\n",
       "      <th>1-mask</th>\n",
       "      <th>2-feature_temperature</th>\n",
       "      <th>3-homogeniser</th>\n",
       "      <th>4-xarray</th>\n",
       "    </tr>\n",
       "    <tr>\n",
       "      <th>Method</th>\n",
       "      <th></th>\n",
       "      <th></th>\n",
       "      <th></th>\n",
       "      <th></th>\n",
       "    </tr>\n",
       "  </thead>\n",
       "  <tbody>\n",
       "    <tr>\n",
       "      <th>fit</th>\n",
       "      <td>26.690006</td>\n",
       "      <td>1373.730183</td>\n",
       "      <td>0.699997</td>\n",
       "      <td>1.207113</td>\n",
       "    </tr>\n",
       "    <tr>\n",
       "      <th>fit_predict</th>\n",
       "      <td>11.515141</td>\n",
       "      <td>811.069727</td>\n",
       "      <td>0.740767</td>\n",
       "      <td>1.240969</td>\n",
       "    </tr>\n",
       "    <tr>\n",
       "      <th>predict</th>\n",
       "      <td>9.274244</td>\n",
       "      <td>989.338636</td>\n",
       "      <td>0.002146</td>\n",
       "      <td>1.902103</td>\n",
       "    </tr>\n",
       "  </tbody>\n",
       "</table>\n",
       "</div>"
      ],
      "text/plain": [
       "Sub-sub-method     1-mask  2-feature_temperature  3-homogeniser  4-xarray\n",
       "Method                                                                   \n",
       "fit             26.690006            1373.730183       0.699997  1.207113\n",
       "fit_predict     11.515141             811.069727       0.740767  1.240969\n",
       "predict          9.274244             989.338636       0.002146  1.902103"
      ]
     },
     "execution_count": 10,
     "metadata": {},
     "output_type": "execute_result"
    },
    {
     "data": {
      "image/png": "[encoded data removed]",
      "text/plain": [
       "<Figure size 450x270 with 1 Axes>"
      ]
     },
     "metadata": {},
     "output_type": "display_data"
    }
   ],
   "source": [
    "fig, ax, df = m.plot.timeit(group='Method', split='Sub-sub-method')\n",
    "df"
   ]
  },
  {
   "cell_type": "markdown",
   "metadata": {},
   "source": [
    "### Compare details of preprocessing steps for each method"
   ]
  },
  {
   "cell_type": "code",
   "execution_count": 11,
   "metadata": {},
   "outputs": [
    {
     "data": {
      "text/html": [
       "<div>\n",
       "<style scoped>\n",
       "    .dataframe tbody tr th:only-of-type {\n",
       "        vertical-align: middle;\n",
       "    }\n",
       "\n",
       "    .dataframe tbody tr th {\n",
       "        vertical-align: top;\n",
       "    }\n",
       "\n",
       "    .dataframe thead th {\n",
       "        text-align: right;\n",
       "    }\n",
       "</style>\n",
       "<table border=\"1\" class=\"dataframe\">\n",
       "  <thead>\n",
       "    <tr style=\"text-align: right;\">\n",
       "      <th>Sub-sub-sub-method</th>\n",
       "      <th>1-ravel</th>\n",
       "      <th>2-interp</th>\n",
       "      <th>3-scale_fit</th>\n",
       "      <th>4-scale_transform</th>\n",
       "      <th>5-reduce_fit</th>\n",
       "      <th>6-reduce_transform</th>\n",
       "    </tr>\n",
       "    <tr>\n",
       "      <th>Method</th>\n",
       "      <th></th>\n",
       "      <th></th>\n",
       "      <th></th>\n",
       "      <th></th>\n",
       "      <th></th>\n",
       "      <th></th>\n",
       "    </tr>\n",
       "  </thead>\n",
       "  <tbody>\n",
       "    <tr>\n",
       "      <th>fit</th>\n",
       "      <td>156.342030</td>\n",
       "      <td>3.239870</td>\n",
       "      <td>245.108128</td>\n",
       "      <td>260.365009</td>\n",
       "      <td>17.948151</td>\n",
       "      <td>3.374815</td>\n",
       "    </tr>\n",
       "    <tr>\n",
       "      <th>fit_predict</th>\n",
       "      <td>136.711836</td>\n",
       "      <td>3.000975</td>\n",
       "      <td>0.000954</td>\n",
       "      <td>261.747122</td>\n",
       "      <td>0.001907</td>\n",
       "      <td>3.727913</td>\n",
       "    </tr>\n",
       "    <tr>\n",
       "      <th>predict</th>\n",
       "      <td>136.413097</td>\n",
       "      <td>2.466679</td>\n",
       "      <td>0.001907</td>\n",
       "      <td>351.513863</td>\n",
       "      <td>0.002861</td>\n",
       "      <td>3.968954</td>\n",
       "    </tr>\n",
       "  </tbody>\n",
       "</table>\n",
       "</div>"
      ],
      "text/plain": [
       "Sub-sub-sub-method     1-ravel  2-interp  3-scale_fit  4-scale_transform  \\\n",
       "Method                                                                     \n",
       "fit                 156.342030  3.239870   245.108128         260.365009   \n",
       "fit_predict         136.711836  3.000975     0.000954         261.747122   \n",
       "predict             136.413097  2.466679     0.001907         351.513863   \n",
       "\n",
       "Sub-sub-sub-method  5-reduce_fit  6-reduce_transform  \n",
       "Method                                                \n",
       "fit                    17.948151            3.374815  \n",
       "fit_predict             0.001907            3.727913  \n",
       "predict                 0.002861            3.968954  "
      ]
     },
     "execution_count": 11,
     "metadata": {},
     "output_type": "execute_result"
    },
    {
     "data": {
      "image/png": "[encoded data removed]",
      "text/plain": [
       "<Figure size 450x270 with 1 Axes>"
      ]
     },
     "metadata": {},
     "output_type": "display_data"
    }
   ],
   "source": [
    "fig, ax, df = m.plot.timeit(group='Method', split='Sub-sub-sub-method')\n",
    "df"
   ]
  },
  {
   "cell_type": "markdown",
   "metadata": {},
   "source": [
    "### Compare details of preprocessing steps for each feature"
   ]
  },
  {
   "cell_type": "code",
   "execution_count": 12,
   "metadata": {},
   "outputs": [
    {
     "data": {
      "text/html": [
       "<div>\n",
       "<style scoped>\n",
       "    .dataframe tbody tr th:only-of-type {\n",
       "        vertical-align: middle;\n",
       "    }\n",
       "\n",
       "    .dataframe tbody tr th {\n",
       "        vertical-align: top;\n",
       "    }\n",
       "\n",
       "    .dataframe thead th {\n",
       "        text-align: right;\n",
       "    }\n",
       "</style>\n",
       "<table border=\"1\" class=\"dataframe\">\n",
       "  <thead>\n",
       "    <tr style=\"text-align: right;\">\n",
       "      <th>Sub-sub-sub-method</th>\n",
       "      <th>1-ravel</th>\n",
       "      <th>2-interp</th>\n",
       "      <th>3-scale_fit</th>\n",
       "      <th>4-scale_transform</th>\n",
       "      <th>5-reduce_fit</th>\n",
       "      <th>6-reduce_transform</th>\n",
       "    </tr>\n",
       "    <tr>\n",
       "      <th>Sub-sub-method</th>\n",
       "      <th></th>\n",
       "      <th></th>\n",
       "      <th></th>\n",
       "      <th></th>\n",
       "      <th></th>\n",
       "      <th></th>\n",
       "    </tr>\n",
       "  </thead>\n",
       "  <tbody>\n",
       "    <tr>\n",
       "      <th>2-feature_temperature</th>\n",
       "      <td>429.466963</td>\n",
       "      <td>8.707523</td>\n",
       "      <td>245.110989</td>\n",
       "      <td>873.625994</td>\n",
       "      <td>17.952919</td>\n",
       "      <td>11.071682</td>\n",
       "    </tr>\n",
       "  </tbody>\n",
       "</table>\n",
       "</div>"
      ],
      "text/plain": [
       "Sub-sub-sub-method        1-ravel  2-interp  3-scale_fit  4-scale_transform  \\\n",
       "Sub-sub-method                                                                \n",
       "2-feature_temperature  429.466963  8.707523   245.110989         873.625994   \n",
       "\n",
       "Sub-sub-sub-method     5-reduce_fit  6-reduce_transform  \n",
       "Sub-sub-method                                           \n",
       "2-feature_temperature     17.952919           11.071682  "
      ]
     },
     "execution_count": 12,
     "metadata": {},
     "output_type": "execute_result"
    },
    {
     "data": {
      "image/png": "[encoded data removed]",
      "text/plain": [
       "<Figure size 450x270 with 1 Axes>"
      ]
     },
     "metadata": {},
     "output_type": "display_data"
    }
   ],
   "source": [
    "fig, ax, df = m.plot.timeit(split='Sub-sub-sub-method', group='Sub-sub-method')\n",
    "df"
   ]
  }
 ],
 "metadata": {
  "kernelspec": {
   "display_name": "obidam36",
   "language": "python",
   "name": "obidam36"
  },
  "language_info": {
   "codemirror_mode": {
    "name": "ipython",
    "version": 3
   },
   "file_extension": ".py",
   "mimetype": "text/x-python",
   "name": "python",
   "nbconvert_exporter": "python",
   "pygments_lexer": "ipython3",
   "version": "3.6.7"
  },
  "toc-showmarkdowntxt": true
 },
 "nbformat": 4,
 "nbformat_minor": 2
}
