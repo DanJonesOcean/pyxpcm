{
 "cells": [
  {
   "cell_type": "markdown",
   "metadata": {
    "papermill": {
     "duration": 0.014027,
     "end_time": "2020-02-21T20:25:05.501007",
     "exception": false,
     "start_time": "2020-02-21T20:25:05.486980",
     "status": "completed"
    },
    "tags": [],
    "toc-hr-collapsed": false
   },
   "source": [
    "# Debugging and performances"
   ]
  },
  {
   "cell_type": "code",
   "execution_count": 1,
   "metadata": {
    "nbsphinx": "hidden",
    "papermill": {
     "duration": 1.226744,
     "end_time": "2020-02-21T20:25:06.737804",
     "exception": false,
     "start_time": "2020-02-21T20:25:05.511060",
     "status": "completed"
    },
    "tags": []
   },
   "outputs": [
    {
     "name": "stdout",
     "output_type": "stream",
     "text": [
      "xarray: 0.14.2.dev62+g6d1434e9, /Users/gmaze/anaconda/envs/obidam36/lib/python3.6/site-packages/xarray/__init__.py\n"
     ]
    },
    {
     "name": "stdout",
     "output_type": "stream",
     "text": [
      "pyxpcm: 0.4.1, /Users/gmaze/git/github/gmaze/pyxpcm/pyxpcm/__init__.py\n"
     ]
    }
   ],
   "source": [
    "# Hidden cell\n",
    "import os, sys\n",
    "import numpy as np\n",
    "import pandas as pd\n",
    "import xarray as xr\n",
    "print(\"xarray: %s, %s\" % (xr.__version__, xr.__file__))\n",
    "\n",
    "import matplotlib.pyplot as plt\n",
    "%matplotlib inline\n",
    "sys.path.insert(0, os.path.abspath('/Users/gmaze/git/github/gmaze/pyxpcm'))\n",
    "\n",
    "import pyxpcm\n",
    "print(\"pyxpcm: %s, %s\" % (pyxpcm.__version__, pyxpcm.__file__))"
   ]
  },
  {
   "cell_type": "markdown",
   "metadata": {
    "papermill": {
     "duration": 0.009996,
     "end_time": "2020-02-21T20:25:06.755372",
     "exception": false,
     "start_time": "2020-02-21T20:25:06.745376",
     "status": "completed"
    },
    "tags": []
   },
   "source": [
    "**Import and set-up**\n",
    "\n",
    "Import the library and toy data"
   ]
  },
  {
   "cell_type": "code",
   "execution_count": 2,
   "metadata": {
    "papermill": {
     "duration": 0.045649,
     "end_time": "2020-02-21T20:25:06.808398",
     "exception": false,
     "start_time": "2020-02-21T20:25:06.762749",
     "status": "completed"
    },
    "tags": []
   },
   "outputs": [],
   "source": [
    "import pyxpcm\n",
    "from pyxpcm.models import pcm\n",
    "\n",
    "# Load a dataset to work with:\n",
    "ds = pyxpcm.tutorial.open_dataset('argo').load()\n",
    "\n",
    "# Define vertical axis and features to use:\n",
    "z = np.arange(0.,-1000.,-10.)\n",
    "features_pcm = {'temperature': z, 'salinity': z}\n",
    "features_in_ds = {'temperature': 'TEMP', 'salinity': 'PSAL'}"
   ]
  },
  {
   "cell_type": "markdown",
   "metadata": {
    "papermill": {
     "duration": 0.007164,
     "end_time": "2020-02-21T20:25:06.823359",
     "exception": false,
     "start_time": "2020-02-21T20:25:06.816195",
     "status": "completed"
    },
    "tags": []
   },
   "source": [
    "## Debugging\n",
    "\n",
    "Use option ``debug`` to print log messages "
   ]
  },
  {
   "cell_type": "code",
   "execution_count": 3,
   "metadata": {
    "papermill": {
     "duration": 28.442833,
     "end_time": "2020-02-21T20:25:35.273656",
     "exception": false,
     "start_time": "2020-02-21T20:25:06.830823",
     "status": "completed"
    },
    "tags": []
   },
   "outputs": [
    {
     "name": "stdout",
     "output_type": "stream",
     "text": [
      "> Start preprocessing for action 'fit'\n"
     ]
    },
    {
     "name": "stdout",
     "output_type": "stream",
     "text": [
      "\n",
      "\t> Preprocessing xarray dataset 'TEMP' as PCM feature 'temperature'\n",
      "\t X RAVELED with success [<class 'xarray.core.dataarray.DataArray'>, <class 'dask.array.core.Array'>, ((7560,), (282,))]\n",
      "\t\tOutput axis is in the input axis, not need to interpolate, simple intersection\n",
      "\t X INTERPOLATED with success [<class 'xarray.core.dataarray.DataArray'>, <class 'dask.array.core.Array'>, ((7560,), (100,))]\n",
      "\t X SCALED with success) [<class 'xarray.core.dataarray.DataArray'>, <class 'numpy.ndarray'>, None]\n",
      "\t X REDUCED with success) [<class 'xarray.core.dataarray.DataArray'>, <class 'numpy.ndarray'>, None]\n",
      "\ttemperature pre-processed with success,  [<class 'xarray.core.dataarray.DataArray'>, <class 'numpy.ndarray'>, None]\n",
      "\tHomogenisation for fit of temperature\n",
      "\n",
      "\t> Preprocessing xarray dataset 'PSAL' as PCM feature 'salinity'\n"
     ]
    },
    {
     "name": "stdout",
     "output_type": "stream",
     "text": [
      "\t X RAVELED with success [<class 'xarray.core.dataarray.DataArray'>, <class 'dask.array.core.Array'>, ((7560,), (282,))]\n",
      "\t\tOutput axis is in the input axis, not need to interpolate, simple intersection\n",
      "\t X INTERPOLATED with success [<class 'xarray.core.dataarray.DataArray'>, <class 'dask.array.core.Array'>, ((7560,), (100,))]\n",
      "\t X SCALED with success) [<class 'xarray.core.dataarray.DataArray'>, <class 'numpy.ndarray'>, None]\n",
      "\t X REDUCED with success) [<class 'xarray.core.dataarray.DataArray'>, <class 'numpy.ndarray'>, None]\n",
      "\tsalinity pre-processed with success,  [<class 'xarray.core.dataarray.DataArray'>, <class 'numpy.ndarray'>, None]\n",
      "\tHomogenisation for fit of salinity\n",
      "\tFeatures array shape and type for xarray: (7560, 30) <class 'numpy.ndarray'> <class 'memoryview'>\n",
      "> Preprocessing done, working with final X (<class 'xarray.core.dataarray.DataArray'>) array of shape: (7560, 30)  and sampling dimensions: ['N_PROF']\n"
     ]
    }
   ],
   "source": [
    "# Instantiate a new PCM:\n",
    "m = pcm(K=8, features=features_pcm, debug=True)\n",
    "\n",
    "# Fit with log:\n",
    "m.fit(ds, features=features_in_ds);"
   ]
  },
  {
   "cell_type": "markdown",
   "metadata": {
    "papermill": {
     "duration": 0.00931,
     "end_time": "2020-02-21T20:25:35.291511",
     "exception": false,
     "start_time": "2020-02-21T20:25:35.282201",
     "status": "completed"
    },
    "tags": [],
    "toc-hr-collapsed": true
   },
   "source": [
    "## Performance / Optimisation\n",
    "\n",
    "Use ``timeit`` and ``timeit_verb`` to compute computation time of PCM operations\n",
    "\n",
    "Times are accessible as a pandas Dataframe in ``timeit`` pyXpcm instance property.\n",
    "\n",
    "The pyXpcm ``m.plot.timeit()`` plot method allows for a simple visualisation of times."
   ]
  },
  {
   "cell_type": "markdown",
   "metadata": {
    "papermill": {
     "duration": 0.008074,
     "end_time": "2020-02-21T20:25:35.308110",
     "exception": false,
     "start_time": "2020-02-21T20:25:35.300036",
     "status": "completed"
    },
    "tags": []
   },
   "source": [
    "### Time readings during execution"
   ]
  },
  {
   "cell_type": "code",
   "execution_count": 4,
   "metadata": {
    "papermill": {
     "duration": 2.068142,
     "end_time": "2020-02-21T20:25:37.384441",
     "exception": false,
     "start_time": "2020-02-21T20:25:35.316299",
     "status": "completed"
    },
    "tags": []
   },
   "outputs": [
    {
     "name": "stdout",
     "output_type": "stream",
     "text": [
      "  fit.1-preprocess.1-mask: 19 ms\n",
      "  fit.1-preprocess.2-feature_temperature.1-ravel: 31 ms\n",
      "  fit.1-preprocess.2-feature_temperature.2-interp: 0 ms\n",
      "  fit.1-preprocess.2-feature_temperature.3-scale_fit: 8 ms\n",
      "  fit.1-preprocess.2-feature_temperature.4-scale_transform: 5 ms\n",
      "  fit.1-preprocess.2-feature_temperature.5-reduce_fit: 11 ms\n",
      "  fit.1-preprocess.2-feature_temperature.6-reduce_transform: 2 ms\n",
      "  fit.1-preprocess.2-feature_temperature.total: 61 ms\n",
      "  fit.1-preprocess: 61 ms\n",
      "  fit.1-preprocess.3-homogeniser: 1 ms\n",
      "  fit.1-preprocess.2-feature_salinity.1-ravel: 25 ms\n",
      "  fit.1-preprocess.2-feature_salinity.2-interp: 0 ms\n",
      "  fit.1-preprocess.2-feature_salinity.3-scale_fit: 7 ms\n",
      "  fit.1-preprocess.2-feature_salinity.4-scale_transform: 4 ms\n",
      "  fit.1-preprocess.2-feature_salinity.5-reduce_fit: 9 ms\n",
      "  fit.1-preprocess.2-feature_salinity.6-reduce_transform: 2 ms\n",
      "  fit.1-preprocess.2-feature_salinity.total: 49 ms\n",
      "  fit.1-preprocess: 49 ms\n",
      "  fit.1-preprocess.3-homogeniser: 1 ms\n",
      "  fit.1-preprocess.4-xarray: 1 ms\n",
      "  fit.1-preprocess: 135 ms\n"
     ]
    },
    {
     "name": "stdout",
     "output_type": "stream",
     "text": [
      "  fit.fit: 1909 ms\n",
      "  fit.score: 8 ms\n",
      "  fit: 2053 ms\n"
     ]
    }
   ],
   "source": [
    "# Create a PCM and execute methods:\n",
    "m = pcm(K=8, features=features_pcm, timeit=True, timeit_verb=1)\n",
    "m.fit(ds, features=features_in_ds);"
   ]
  },
  {
   "cell_type": "markdown",
   "metadata": {
    "papermill": {
     "duration": 0.009289,
     "end_time": "2020-02-21T20:25:37.403346",
     "exception": false,
     "start_time": "2020-02-21T20:25:37.394057",
     "status": "completed"
    },
    "tags": []
   },
   "source": [
    "### A posteriori Execution time analysis"
   ]
  },
  {
   "cell_type": "code",
   "execution_count": 5,
   "metadata": {
    "papermill": {
     "duration": 3.782994,
     "end_time": "2020-02-21T20:25:41.195237",
     "exception": false,
     "start_time": "2020-02-21T20:25:37.412243",
     "status": "completed"
    },
    "tags": []
   },
   "outputs": [],
   "source": [
    "# Create a PCM and execute methods:\n",
    "m = pcm(K=8, features=features_pcm, timeit=True, timeit_verb=0)\n",
    "m.fit(ds, features=features_in_ds);\n",
    "m.predict(ds, features=features_in_ds);\n",
    "m.fit_predict(ds, features=features_in_ds);"
   ]
  },
  {
   "cell_type": "raw",
   "metadata": {
    "papermill": {
     "duration": 0.00933,
     "end_time": "2020-02-21T20:25:41.213658",
     "exception": false,
     "start_time": "2020-02-21T20:25:41.204328",
     "status": "completed"
    },
    "raw_mimetype": "text/restructuredtext",
    "tags": []
   },
   "source": [
    "Execution times are accessible through a dataframe with the :py:attr:`pyxpcm.pcm.timeit` property"
   ]
  },
  {
   "cell_type": "code",
   "execution_count": 6,
   "metadata": {
    "papermill": {
     "duration": 0.028948,
     "end_time": "2020-02-21T20:25:41.250907",
     "exception": false,
     "start_time": "2020-02-21T20:25:41.221959",
     "status": "completed"
    },
    "tags": []
   },
   "outputs": [
    {
     "data": {
      "text/plain": [
       "Method       Sub-method    Sub-sub-method         Sub-sub-sub-method\n",
       "fit          1-preprocess  1-mask                 total                   22.065878\n",
       "                           2-feature_temperature  1-ravel                 32.550812\n",
       "                                                  2-interp                 0.667810\n",
       "                                                  3-scale_fit              9.699821\n",
       "                                                  4-scale_transform        4.242897\n",
       "                                                  5-reduce_fit            11.743069\n",
       "                                                  6-reduce_transform       2.529860\n",
       "                                                  total                   61.564922\n",
       "                           total                                         245.039225\n",
       "                           3-homogeniser          total                    2.043009\n",
       "                           2-feature_salinity     1-ravel                 20.107985\n",
       "                                                  2-interp                 0.857115\n",
       "                                                  3-scale_fit              7.521868\n",
       "                                                  4-scale_transform        5.438805\n",
       "                                                  5-reduce_fit            11.250019\n",
       "                                                  6-reduce_transform       2.398968\n",
       "                                                  total                   47.724247\n",
       "                           4-xarray               total                    0.965118\n",
       "             fit           total                                        1667.057753\n",
       "             score         total                                           8.469820\n",
       "             total                                                      1811.987877\n",
       "predict      1-preprocess  1-mask                 total                   17.902851\n",
       "                           2-feature_temperature  1-ravel                 28.310061\n",
       "                                                  2-interp                 0.667095\n",
       "                                                  3-scale_fit              0.000954\n",
       "                                                  4-scale_transform        4.352093\n",
       "                                                  5-reduce_fit             0.002146\n",
       "                                                  6-reduce_transform       2.496004\n",
       "                                                  total                   35.931110\n",
       "                           total                                         156.038046\n",
       "                                                                           ...     \n",
       "                           2-feature_salinity     6-reduce_transform       2.148867\n",
       "                                                  total                   31.617165\n",
       "                           4-xarray               total                    0.955105\n",
       "             predict       total                                           8.165121\n",
       "             score         total                                           8.142710\n",
       "             xarray        total                                           6.443024\n",
       "             total                                                       111.670017\n",
       "fit_predict  1-preprocess  1-mask                 total                   21.943808\n",
       "                           2-feature_temperature  1-ravel                 19.767046\n",
       "                                                  2-interp                 0.615120\n",
       "                                                  3-scale_fit              0.000954\n",
       "                                                  4-scale_transform        5.409002\n",
       "                                                  5-reduce_fit             0.001192\n",
       "                                                  6-reduce_transform       3.573179\n",
       "                                                  total                   29.469013\n",
       "                           total                                         146.360636\n",
       "                           3-homogeniser          total                    2.272129\n",
       "                           2-feature_salinity     1-ravel                 22.898912\n",
       "                                                  2-interp                 0.604153\n",
       "                                                  3-scale_fit              0.000954\n",
       "                                                  4-scale_transform        4.412889\n",
       "                                                  5-reduce_fit             0.000954\n",
       "                                                  6-reduce_transform       2.438068\n",
       "                                                  total                   30.456781\n",
       "                           4-xarray               total                    0.965834\n",
       "             fit           total                                        1735.617161\n",
       "             score         total                                           8.389950\n",
       "             predict       total                                           7.148027\n",
       "             xarray        total                                           5.773783\n",
       "             total                                                      1843.878031\n",
       "Length: 66, dtype: float64"
      ]
     },
     "execution_count": 6,
     "metadata": {},
     "output_type": "execute_result"
    }
   ],
   "source": [
    "m.timeit"
   ]
  },
  {
   "cell_type": "markdown",
   "metadata": {
    "papermill": {
     "duration": 0.00852,
     "end_time": "2020-02-21T20:25:41.268596",
     "exception": false,
     "start_time": "2020-02-21T20:25:41.260076",
     "status": "completed"
    },
    "raw_mimetype": "-",
    "tags": []
   },
   "source": [
    "## Visualisation help"
   ]
  },
  {
   "cell_type": "raw",
   "metadata": {
    "papermill": {
     "duration": 0.00891,
     "end_time": "2020-02-21T20:25:41.286186",
     "exception": false,
     "start_time": "2020-02-21T20:25:41.277276",
     "status": "completed"
    },
    "raw_mimetype": "text/restructuredtext",
    "tags": []
   },
   "source": [
    "To facilitate your analysis of execution times, you can use :meth:`pyxpcm.plot.timeit`."
   ]
  },
  {
   "cell_type": "markdown",
   "metadata": {
    "papermill": {
     "duration": 0.009294,
     "end_time": "2020-02-21T20:25:41.306069",
     "exception": false,
     "start_time": "2020-02-21T20:25:41.296775",
     "status": "completed"
    },
    "tags": []
   },
   "source": [
    "### Main steps by method"
   ]
  },
  {
   "cell_type": "code",
   "execution_count": 7,
   "metadata": {
    "papermill": {
     "duration": 0.252672,
     "end_time": "2020-02-21T20:25:41.568114",
     "exception": false,
     "start_time": "2020-02-21T20:25:41.315442",
     "status": "completed"
    },
    "tags": []
   },
   "outputs": [
    {
     "data": {
      "text/html": [
       "<div>\n",
       "<style scoped>\n",
       "    .dataframe tbody tr th:only-of-type {\n",
       "        vertical-align: middle;\n",
       "    }\n",
       "\n",
       "    .dataframe tbody tr th {\n",
       "        vertical-align: top;\n",
       "    }\n",
       "\n",
       "    .dataframe thead th {\n",
       "        text-align: right;\n",
       "    }\n",
       "</style>\n",
       "<table border=\"1\" class=\"dataframe\">\n",
       "  <thead>\n",
       "    <tr style=\"text-align: right;\">\n",
       "      <th>Sub-method</th>\n",
       "      <th>1-preprocess</th>\n",
       "      <th>fit</th>\n",
       "      <th>predict</th>\n",
       "      <th>score</th>\n",
       "      <th>xarray</th>\n",
       "    </tr>\n",
       "    <tr>\n",
       "      <th>Method</th>\n",
       "      <th></th>\n",
       "      <th></th>\n",
       "      <th></th>\n",
       "      <th></th>\n",
       "      <th></th>\n",
       "    </tr>\n",
       "  </thead>\n",
       "  <tbody>\n",
       "    <tr>\n",
       "      <th>fit</th>\n",
       "      <td>488.411427</td>\n",
       "      <td>1667.057753</td>\n",
       "      <td>NaN</td>\n",
       "      <td>8.46982</td>\n",
       "      <td>NaN</td>\n",
       "    </tr>\n",
       "    <tr>\n",
       "      <th>fit_predict</th>\n",
       "      <td>291.190624</td>\n",
       "      <td>1735.617161</td>\n",
       "      <td>7.148027</td>\n",
       "      <td>8.38995</td>\n",
       "      <td>5.773783</td>\n",
       "    </tr>\n",
       "    <tr>\n",
       "      <th>predict</th>\n",
       "      <td>310.870409</td>\n",
       "      <td>NaN</td>\n",
       "      <td>8.165121</td>\n",
       "      <td>8.14271</td>\n",
       "      <td>6.443024</td>\n",
       "    </tr>\n",
       "  </tbody>\n",
       "</table>\n",
       "</div>"
      ],
      "text/plain": [
       "Sub-method   1-preprocess          fit   predict    score    xarray\n",
       "Method                                                             \n",
       "fit            488.411427  1667.057753       NaN  8.46982       NaN\n",
       "fit_predict    291.190624  1735.617161  7.148027  8.38995  5.773783\n",
       "predict        310.870409          NaN  8.165121  8.14271  6.443024"
      ]
     },
     "execution_count": 7,
     "metadata": {},
     "output_type": "execute_result"
    },
    {
     "data": {
      "image/png": "[encoded data removed]",
      "text/plain": [
       "<Figure size 450x270 with 1 Axes>"
      ]
     },
     "metadata": {},
     "output_type": "display_data"
    }
   ],
   "source": [
    "fig, ax, df = m.plot.timeit(group='Method', split='Sub-method', style='darkgrid') # Default group/split\n",
    "df"
   ]
  },
  {
   "cell_type": "markdown",
   "metadata": {
    "papermill": {
     "duration": 0.009887,
     "end_time": "2020-02-21T20:25:41.587217",
     "exception": false,
     "start_time": "2020-02-21T20:25:41.577330",
     "status": "completed"
    },
    "tags": []
   },
   "source": [
    "### Preprocessing main steps by method"
   ]
  },
  {
   "cell_type": "code",
   "execution_count": 8,
   "metadata": {
    "papermill": {
     "duration": 0.233273,
     "end_time": "2020-02-21T20:25:41.830238",
     "exception": false,
     "start_time": "2020-02-21T20:25:41.596965",
     "status": "completed"
    },
    "tags": []
   },
   "outputs": [
    {
     "data": {
      "text/html": [
       "<div>\n",
       "<style scoped>\n",
       "    .dataframe tbody tr th:only-of-type {\n",
       "        vertical-align: middle;\n",
       "    }\n",
       "\n",
       "    .dataframe tbody tr th {\n",
       "        vertical-align: top;\n",
       "    }\n",
       "\n",
       "    .dataframe thead th {\n",
       "        text-align: right;\n",
       "    }\n",
       "</style>\n",
       "<table border=\"1\" class=\"dataframe\">\n",
       "  <thead>\n",
       "    <tr style=\"text-align: right;\">\n",
       "      <th>Sub-sub-method</th>\n",
       "      <th>1-mask</th>\n",
       "      <th>2-feature_salinity</th>\n",
       "      <th>2-feature_temperature</th>\n",
       "      <th>3-homogeniser</th>\n",
       "      <th>4-xarray</th>\n",
       "    </tr>\n",
       "    <tr>\n",
       "      <th>Method</th>\n",
       "      <th></th>\n",
       "      <th></th>\n",
       "      <th></th>\n",
       "      <th></th>\n",
       "      <th></th>\n",
       "    </tr>\n",
       "  </thead>\n",
       "  <tbody>\n",
       "    <tr>\n",
       "      <th>fit</th>\n",
       "      <td>22.065878</td>\n",
       "      <td>95.299006</td>\n",
       "      <td>122.999191</td>\n",
       "      <td>2.043009</td>\n",
       "      <td>0.965118</td>\n",
       "    </tr>\n",
       "    <tr>\n",
       "      <th>fit_predict</th>\n",
       "      <td>21.943808</td>\n",
       "      <td>60.812712</td>\n",
       "      <td>58.835506</td>\n",
       "      <td>2.272129</td>\n",
       "      <td>0.965834</td>\n",
       "    </tr>\n",
       "    <tr>\n",
       "      <th>predict</th>\n",
       "      <td>17.902851</td>\n",
       "      <td>63.139200</td>\n",
       "      <td>71.759462</td>\n",
       "      <td>1.075745</td>\n",
       "      <td>0.955105</td>\n",
       "    </tr>\n",
       "  </tbody>\n",
       "</table>\n",
       "</div>"
      ],
      "text/plain": [
       "Sub-sub-method     1-mask  2-feature_salinity  2-feature_temperature  \\\n",
       "Method                                                                 \n",
       "fit             22.065878           95.299006             122.999191   \n",
       "fit_predict     21.943808           60.812712              58.835506   \n",
       "predict         17.902851           63.139200              71.759462   \n",
       "\n",
       "Sub-sub-method  3-homogeniser  4-xarray  \n",
       "Method                                   \n",
       "fit                  2.043009  0.965118  \n",
       "fit_predict          2.272129  0.965834  \n",
       "predict              1.075745  0.955105  "
      ]
     },
     "execution_count": 8,
     "metadata": {},
     "output_type": "execute_result"
    },
    {
     "data": {
      "image/png": "[encoded data removed]",
      "text/plain": [
       "<Figure size 450x270 with 1 Axes>"
      ]
     },
     "metadata": {},
     "output_type": "display_data"
    }
   ],
   "source": [
    "fig, ax, df = m.plot.timeit(group='Method', split='Sub-sub-method')\n",
    "df"
   ]
  },
  {
   "cell_type": "markdown",
   "metadata": {
    "papermill": {
     "duration": 0.010133,
     "end_time": "2020-02-21T20:25:41.850964",
     "exception": false,
     "start_time": "2020-02-21T20:25:41.840831",
     "status": "completed"
    },
    "tags": []
   },
   "source": [
    "### Preprocessing details by method"
   ]
  },
  {
   "cell_type": "code",
   "execution_count": 9,
   "metadata": {
    "papermill": {
     "duration": 0.372347,
     "end_time": "2020-02-21T20:25:42.234062",
     "exception": false,
     "start_time": "2020-02-21T20:25:41.861715",
     "status": "completed"
    },
    "tags": []
   },
   "outputs": [
    {
     "data": {
      "text/html": [
       "<div>\n",
       "<style scoped>\n",
       "    .dataframe tbody tr th:only-of-type {\n",
       "        vertical-align: middle;\n",
       "    }\n",
       "\n",
       "    .dataframe tbody tr th {\n",
       "        vertical-align: top;\n",
       "    }\n",
       "\n",
       "    .dataframe thead th {\n",
       "        text-align: right;\n",
       "    }\n",
       "</style>\n",
       "<table border=\"1\" class=\"dataframe\">\n",
       "  <thead>\n",
       "    <tr style=\"text-align: right;\">\n",
       "      <th>Sub-sub-sub-method</th>\n",
       "      <th>1-ravel</th>\n",
       "      <th>2-interp</th>\n",
       "      <th>3-scale_fit</th>\n",
       "      <th>4-scale_transform</th>\n",
       "      <th>5-reduce_fit</th>\n",
       "      <th>6-reduce_transform</th>\n",
       "    </tr>\n",
       "    <tr>\n",
       "      <th>Method</th>\n",
       "      <th></th>\n",
       "      <th></th>\n",
       "      <th></th>\n",
       "      <th></th>\n",
       "      <th></th>\n",
       "      <th></th>\n",
       "    </tr>\n",
       "  </thead>\n",
       "  <tbody>\n",
       "    <tr>\n",
       "      <th>fit</th>\n",
       "      <td>52.658796</td>\n",
       "      <td>1.524925</td>\n",
       "      <td>17.221689</td>\n",
       "      <td>9.681702</td>\n",
       "      <td>22.993088</td>\n",
       "      <td>4.928827</td>\n",
       "    </tr>\n",
       "    <tr>\n",
       "      <th>fit_predict</th>\n",
       "      <td>42.665958</td>\n",
       "      <td>1.219273</td>\n",
       "      <td>0.001907</td>\n",
       "      <td>9.821892</td>\n",
       "      <td>0.002146</td>\n",
       "      <td>6.011248</td>\n",
       "    </tr>\n",
       "    <tr>\n",
       "      <th>predict</th>\n",
       "      <td>52.857161</td>\n",
       "      <td>1.300097</td>\n",
       "      <td>0.001907</td>\n",
       "      <td>8.542061</td>\n",
       "      <td>0.004292</td>\n",
       "      <td>4.644871</td>\n",
       "    </tr>\n",
       "  </tbody>\n",
       "</table>\n",
       "</div>"
      ],
      "text/plain": [
       "Sub-sub-sub-method    1-ravel  2-interp  3-scale_fit  4-scale_transform  \\\n",
       "Method                                                                    \n",
       "fit                 52.658796  1.524925    17.221689           9.681702   \n",
       "fit_predict         42.665958  1.219273     0.001907           9.821892   \n",
       "predict             52.857161  1.300097     0.001907           8.542061   \n",
       "\n",
       "Sub-sub-sub-method  5-reduce_fit  6-reduce_transform  \n",
       "Method                                                \n",
       "fit                    22.993088            4.928827  \n",
       "fit_predict             0.002146            6.011248  \n",
       "predict                 0.004292            4.644871  "
      ]
     },
     "execution_count": 9,
     "metadata": {},
     "output_type": "execute_result"
    },
    {
     "data": {
      "image/png": "[encoded data removed]",
      "text/plain": [
       "<Figure size 450x270 with 1 Axes>"
      ]
     },
     "metadata": {},
     "output_type": "display_data"
    }
   ],
   "source": [
    "fig, ax, df = m.plot.timeit(group='Method', split='Sub-sub-sub-method')\n",
    "df"
   ]
  },
  {
   "cell_type": "markdown",
   "metadata": {
    "papermill": {
     "duration": 0.012164,
     "end_time": "2020-02-21T20:25:42.271203",
     "exception": false,
     "start_time": "2020-02-21T20:25:42.259039",
     "status": "completed"
    },
    "tags": []
   },
   "source": [
    "### Preprocessing details by features"
   ]
  },
  {
   "cell_type": "code",
   "execution_count": 10,
   "metadata": {
    "papermill": {
     "duration": 0.299213,
     "end_time": "2020-02-21T20:25:42.586166",
     "exception": false,
     "start_time": "2020-02-21T20:25:42.286953",
     "status": "completed"
    },
    "tags": []
   },
   "outputs": [
    {
     "data": {
      "text/html": [
       "<div>\n",
       "<style scoped>\n",
       "    .dataframe tbody tr th:only-of-type {\n",
       "        vertical-align: middle;\n",
       "    }\n",
       "\n",
       "    .dataframe tbody tr th {\n",
       "        vertical-align: top;\n",
       "    }\n",
       "\n",
       "    .dataframe thead th {\n",
       "        text-align: right;\n",
       "    }\n",
       "</style>\n",
       "<table border=\"1\" class=\"dataframe\">\n",
       "  <thead>\n",
       "    <tr style=\"text-align: right;\">\n",
       "      <th>Sub-sub-sub-method</th>\n",
       "      <th>1-ravel</th>\n",
       "      <th>2-interp</th>\n",
       "      <th>3-scale_fit</th>\n",
       "      <th>4-scale_transform</th>\n",
       "      <th>5-reduce_fit</th>\n",
       "      <th>6-reduce_transform</th>\n",
       "    </tr>\n",
       "    <tr>\n",
       "      <th>Sub-sub-method</th>\n",
       "      <th></th>\n",
       "      <th></th>\n",
       "      <th></th>\n",
       "      <th></th>\n",
       "      <th></th>\n",
       "      <th></th>\n",
       "    </tr>\n",
       "  </thead>\n",
       "  <tbody>\n",
       "    <tr>\n",
       "      <th>2-feature_salinity</th>\n",
       "      <td>0.067554</td>\n",
       "      <td>0.002094</td>\n",
       "      <td>0.007524</td>\n",
       "      <td>0.014042</td>\n",
       "      <td>0.011253</td>\n",
       "      <td>0.006986</td>\n",
       "    </tr>\n",
       "    <tr>\n",
       "      <th>2-feature_temperature</th>\n",
       "      <td>0.080628</td>\n",
       "      <td>0.001950</td>\n",
       "      <td>0.009702</td>\n",
       "      <td>0.014004</td>\n",
       "      <td>0.011746</td>\n",
       "      <td>0.008599</td>\n",
       "    </tr>\n",
       "  </tbody>\n",
       "</table>\n",
       "</div>"
      ],
      "text/plain": [
       "Sub-sub-sub-method      1-ravel  2-interp  3-scale_fit  4-scale_transform  \\\n",
       "Sub-sub-method                                                              \n",
       "2-feature_salinity     0.067554  0.002094     0.007524           0.014042   \n",
       "2-feature_temperature  0.080628  0.001950     0.009702           0.014004   \n",
       "\n",
       "Sub-sub-sub-method     5-reduce_fit  6-reduce_transform  \n",
       "Sub-sub-method                                           \n",
       "2-feature_salinity         0.011253            0.006986  \n",
       "2-feature_temperature      0.011746            0.008599  "
      ]
     },
     "execution_count": 10,
     "metadata": {},
     "output_type": "execute_result"
    },
    {
     "data": {
      "image/png": "[encoded data removed]",
      "text/plain": [
       "<Figure size 450x270 with 1 Axes>"
      ]
     },
     "metadata": {},
     "output_type": "display_data"
    }
   ],
   "source": [
    "fig, ax, df = m.plot.timeit(split='Sub-sub-sub-method', group='Sub-sub-method', unit='s')\n",
    "df"
   ]
  }
 ],
 "metadata": {
  "kernelspec": {
   "display_name": "obidam36",
   "language": "python",
   "name": "obidam36"
  },
  "language_info": {
   "codemirror_mode": {
    "name": "ipython",
    "version": 3
   },
   "file_extension": ".py",
   "mimetype": "text/x-python",
   "name": "python",
   "nbconvert_exporter": "python",
   "pygments_lexer": "ipython3",
   "version": "3.6.7"
  },
  "papermill": {
   "duration": 38.418225,
   "end_time": "2020-02-21T20:25:43.217374",
   "environment_variables": {},
   "exception": null,
   "input_path": "debug_perf.ipynb",
   "output_path": "../debug_perf.ipynb",
   "parameters": {},
   "start_time": "2020-02-21T20:25:04.799149",
   "version": "1.2.1"
  },
  "toc-showmarkdowntxt": true
 },
 "nbformat": 4,
 "nbformat_minor": 2
}