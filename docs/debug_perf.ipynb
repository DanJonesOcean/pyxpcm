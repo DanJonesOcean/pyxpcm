{
 "cells": [
  {
   "cell_type": "markdown",
   "metadata": {
    "toc-hr-collapsed": false
   },
   "source": [
    "# Debugging and performances"
   ]
  },
  {
   "cell_type": "code",
   "execution_count": 2,
   "metadata": {
    "nbsphinx": "hidden"
   },
   "outputs": [
    {
     "name": "stdout",
     "output_type": "stream",
     "text": [
      "xarray: 0.12.1, /Users/gmaze/anaconda/envs/obidam36/lib/python3.6/site-packages/xarray/__init__.py\n",
      "pyxpcm: 0.4.0, /Users/gmaze/git/github/gmaze/pyxpcm/pyxpcm/__init__.py\n"
     ]
    }
   ],
   "source": [
    "# Hidden cell\n",
    "import os, sys\n",
    "import numpy as np\n",
    "import pandas as pd\n",
    "import xarray as xr\n",
    "print(\"xarray: %s, %s\" % (xr.__version__, xr.__file__))\n",
    "\n",
    "import matplotlib.pyplot as plt\n",
    "%matplotlib inline\n",
    "sys.path.insert(0, os.path.abspath('/Users/gmaze/git/github/gmaze/pyxpcm'))\n",
    "\n",
    "import pyxpcm\n",
    "print(\"pyxpcm: %s, %s\" % (pyxpcm.__version__, pyxpcm.__file__))"
   ]
  },
  {
   "cell_type": "markdown",
   "metadata": {},
   "source": [
    "## Load data"
   ]
  },
  {
   "cell_type": "code",
   "execution_count": 3,
   "metadata": {},
   "outputs": [
    {
     "name": "stdout",
     "output_type": "stream",
     "text": [
      "<xarray.Dataset>\n",
      "Dimensions:    (DEPTH: 282, N_PROF: 7560)\n",
      "Coordinates:\n",
      "  * DEPTH      (DEPTH) float32 0.0 -5.0 -10.0 -15.0 ... -1395.0 -1400.0 -1405.0\n",
      "Dimensions without coordinates: N_PROF\n",
      "Data variables:\n",
      "    LATITUDE   (N_PROF) float32 dask.array<shape=(7560,), chunksize=(7560,)>\n",
      "    LONGITUDE  (N_PROF) float32 dask.array<shape=(7560,), chunksize=(7560,)>\n",
      "    TIME       (N_PROF) datetime64[ns] dask.array<shape=(7560,), chunksize=(7560,)>\n",
      "    DBINDEX    (N_PROF) float64 dask.array<shape=(7560,), chunksize=(7560,)>\n",
      "    TEMP       (N_PROF, DEPTH) float32 dask.array<shape=(7560, 282), chunksize=(7560, 282)>\n",
      "    PSAL       (N_PROF, DEPTH) float32 dask.array<shape=(7560, 282), chunksize=(7560, 282)>\n",
      "    SIG0       (N_PROF, DEPTH) float32 dask.array<shape=(7560, 282), chunksize=(7560, 282)>\n",
      "    BRV2       (N_PROF, DEPTH) float32 dask.array<shape=(7560, 282), chunksize=(7560, 282)>\n",
      "Attributes:\n",
      "    Sample test prepared by:  G. Maze\n",
      "    Institution:              Ifremer/LOPS\n",
      "    Data source DOI:          10.17882/42182\n",
      "This dataset holds: 34.3 MB\n"
     ]
    }
   ],
   "source": [
    "ds = pyxpcm.tutorial.open_dataset('argo').load()\n",
    "# ds = pyxpcm.tutorial.open_dataset('isas_snapshot').load()\n",
    "# ds = pyxpcm.tutorial.open_dataset('isas_series').load()\n",
    "print(ds)\n",
    "print('This dataset holds: %.1f MB' % (ds.nbytes / 1e6))"
   ]
  },
  {
   "cell_type": "markdown",
   "metadata": {
    "toc-hr-collapsed": true
   },
   "source": [
    "## Define/fit/predict a standard pyXpcm"
   ]
  },
  {
   "cell_type": "code",
   "execution_count": 4,
   "metadata": {},
   "outputs": [],
   "source": [
    "from pyxpcm.pcmodel import pcm"
   ]
  },
  {
   "cell_type": "code",
   "execution_count": 5,
   "metadata": {},
   "outputs": [],
   "source": [
    "# Define vertical axis and features to use:\n",
    "z = np.arange(0.,-1000.,-10.)\n",
    "features_pcm = {'temperature': z}\n",
    "features_in_ds = {'temperature': 'TEMP'}\n",
    "\n",
    "# features_pcm = {'temperature': z, 'salinity': z}\n",
    "# features_in_ds = {'temperature': 'TEMP', 'salinity': 'PSAL'}"
   ]
  },
  {
   "cell_type": "code",
   "execution_count": 6,
   "metadata": {},
   "outputs": [],
   "source": [
    "# pyXpcm variables added to the dataset can be removed with:\n",
    "# print('Before:', ds.data_vars)\n",
    "# ds = ds.pyxpcm.clean()\n",
    "# print('After cleaning:', ds.data_vars)"
   ]
  },
  {
   "cell_type": "markdown",
   "metadata": {},
   "source": [
    "## Debugging\n",
    "\n",
    "Use option ``debug`` to print log messages "
   ]
  },
  {
   "cell_type": "code",
   "execution_count": 7,
   "metadata": {},
   "outputs": [
    {
     "name": "stdout",
     "output_type": "stream",
     "text": [
      "> Start preprocessing for action 'fit_predict'\n",
      "\t> Preprocessing xarray dataset 'TEMP' as PCM feature 'temperature'\n",
      "\tX RAVELED with success, now shape and type: <class 'xarray.core.dataarray.DataArray'> (7560, 282) <class 'dask.array.core.Array'>\n",
      "\tOutput axis is in the input axis, not need to interpolate, simple intersection\n",
      "\tX INTERPOLATED with success, now shape and type: <class 'xarray.core.dataarray.DataArray'> (7560, 100) <class 'dask.array.core.Array'>\n",
      "True\n",
      "\tX SCALED with success, now shape and type: <class 'xarray.core.dataarray.DataArray'> (7560, 100) <class 'numpy.ndarray'>\n",
      "\tX REDUCED with success, now shape and type: <class 'xarray.core.dataarray.DataArray'> (7560, 15) <class 'numpy.ndarray'>\n",
      "\tNo need for homogenisation of temperature\n",
      "> Preprocessing done, working with final X (<class 'xarray.core.dataarray.DataArray'>) array of shape: (7560, 15)  and sampling dimensions: ['N_PROF']\n"
     ]
    }
   ],
   "source": [
    "# Clean up dataset of previous results:\n",
    "ds = ds.pyxpcm.clean()\n",
    "\n",
    "# Instantiate a new PCM:\n",
    "m = pcm(K=8, features=features_pcm, debug=1)\n",
    "\n",
    "# Fit with log:\n",
    "ds.pyxpcm.fit_predict(m, features=features_in_ds, inplace=True);"
   ]
  },
  {
   "cell_type": "markdown",
   "metadata": {
    "toc-hr-collapsed": true
   },
   "source": [
    "## Performance / Optimisation\n",
    "\n",
    "Use ``timeit`` and ``timeit_verb`` to compute computation time of PCM operations\n",
    "\n",
    "Times are accessible as a pandas Dataframe in ``timeit`` pyXpcm instance property.\n",
    "\n",
    "The pyXpcm ``m.plot.timeit()`` plot method allows for a simple visualisation of times."
   ]
  },
  {
   "cell_type": "markdown",
   "metadata": {},
   "source": [
    "### Time readings at execution time"
   ]
  },
  {
   "cell_type": "code",
   "execution_count": 8,
   "metadata": {},
   "outputs": [
    {
     "name": "stdout",
     "output_type": "stream",
     "text": [
      "  fit.1-preprocess.1-mask: 27 ms\n",
      "  fit.1-preprocess.2-feature_temperature.1-ravel: 177 ms\n",
      "  fit.1-preprocess.2-feature_temperature.2-interp: 1 ms\n",
      "  fit.1-preprocess.2-feature_temperature.3-scale_fit: 328 ms\n",
      "  fit.1-preprocess.2-feature_temperature.4-scale_transform: 135 ms\n",
      "  fit.1-preprocess.2-feature_temperature.5-reduce_fit: 22 ms\n",
      "  fit.1-preprocess.2-feature_temperature.6-reduce_transform: 3 ms\n",
      "  fit.1-preprocess.2-feature_temperature.total: 670 ms\n",
      "  fit.1-preprocess: 670 ms\n",
      "  fit.1-preprocess.3-homogeniser: 3 ms\n",
      "  fit.1-preprocess.4-xarray: 1 ms\n",
      "  fit.1-preprocess: 704 ms\n",
      "  fit.2-fit: 3244 ms\n",
      "  fit.3-score: 7 ms\n",
      "  fit: 3957 ms\n",
      "  predict.1-preprocess.1-mask: 14 ms\n",
      "  predict.1-preprocess.2-feature_temperature.1-ravel: 147 ms\n",
      "  predict.1-preprocess.2-feature_temperature.2-interp: 1 ms\n",
      "  predict.1-preprocess.2-feature_temperature.3-scale_fit: 0 ms\n",
      "  predict.1-preprocess.2-feature_temperature.4-scale_transform: 174 ms\n",
      "  predict.1-preprocess.2-feature_temperature.5-reduce_fit: 0 ms\n",
      "  predict.1-preprocess.2-feature_temperature.6-reduce_transform: 6 ms\n",
      "  predict.1-preprocess.2-feature_temperature.total: 331 ms\n",
      "  predict.1-preprocess: 331 ms\n",
      "  predict.1-preprocess.3-homogeniser: 0 ms\n",
      "  predict.1-preprocess.4-xarray: 1 ms\n",
      "  predict.1-preprocess: 348 ms\n",
      "  predict.2-predict: 11 ms\n",
      "  predict.score: 8 ms\n",
      "  predict.3-xarray: 256 ms\n",
      "  predict: 625 ms\n",
      "  fit_predict.1-preprocess.1-mask: 15 ms\n",
      "  fit_predict.1-preprocess.2-feature_temperature.1-ravel: 137 ms\n",
      "  fit_predict.1-preprocess.2-feature_temperature.2-interp: 1 ms\n",
      "  fit_predict.1-preprocess.2-feature_temperature.3-scale_fit: 0 ms\n",
      "  fit_predict.1-preprocess.2-feature_temperature.4-scale_transform: 153 ms\n",
      "  fit_predict.1-preprocess.2-feature_temperature.5-reduce_fit: 0 ms\n",
      "  fit_predict.1-preprocess.2-feature_temperature.6-reduce_transform: 3 ms\n",
      "  fit_predict.1-preprocess.2-feature_temperature.total: 296 ms\n",
      "  fit_predict.1-preprocess: 296 ms\n",
      "  fit_predict.1-preprocess.3-homogeniser: 2 ms\n",
      "  fit_predict.1-preprocess.4-xarray: 1 ms\n",
      "  fit_predict.1-preprocess: 316 ms\n",
      "  fit_predict.2-fit: 3565 ms\n",
      "  fit_predict.3-score: 15 ms\n",
      "  fit_predict.4-predict: 5 ms\n",
      "  fit_predict.5-score: 7 ms\n",
      "  fit_predict.6-xarray: 335 ms\n",
      "  fit_predict: 4246 ms\n"
     ]
    }
   ],
   "source": [
    "# Create a PCM and use several methods to time:\n",
    "m = pcm(K=8, features=features_pcm, timeit=True)\n",
    "m.fit(ds, features=features_in_ds);\n",
    "m.predict(ds, features=features_in_ds);\n",
    "m.fit_predict(ds, features=features_in_ds);"
   ]
  },
  {
   "cell_type": "code",
   "execution_count": 9,
   "metadata": {},
   "outputs": [
    {
     "data": {
      "text/plain": [
       "Method       Sub-method    Sub-sub-method         Sub-sub-sub-method\n",
       "fit          1-preprocess  1-mask                 total                   27.925968\n",
       "                           2-feature_temperature  1-ravel                177.482128\n",
       "                                                  2-interp                 1.453161\n",
       "                                                  3-scale_fit            328.825951\n",
       "                                                  4-scale_transform      135.283947\n",
       "                                                  5-reduce_fit            22.650003\n",
       "                                                  6-reduce_transform       3.780127\n",
       "                                                  total                  670.529127\n",
       "                           total                                        1374.680996\n",
       "                           3-homogeniser          total                    3.191948\n",
       "                           4-xarray               total                    1.441956\n",
       "             2-fit         total                                        3244.923115\n",
       "             3-score       total                                           7.922888\n",
       "             total                                                      3957.799196\n",
       "predict      1-preprocess  1-mask                 total                   14.646053\n",
       "                           2-feature_temperature  1-ravel                147.835016\n",
       "                                                  2-interp                 1.693010\n",
       "                                                  3-scale_fit              0.000954\n",
       "                                                  4-scale_transform      174.738884\n",
       "                                                  5-reduce_fit             0.001907\n",
       "                                                  6-reduce_transform       6.120920\n",
       "                                                  total                  331.478119\n",
       "                           total                                         679.704189\n",
       "                           3-homogeniser          total                    0.002146\n",
       "                           4-xarray               total                    1.168728\n",
       "             2-predict     total                                          11.896133\n",
       "             score         total                                           8.413792\n",
       "             3-xarray      total                                         256.076097\n",
       "             total                                                       625.216961\n",
       "fit_predict  1-preprocess  1-mask                 total                   15.717745\n",
       "                           2-feature_temperature  1-ravel                137.499094\n",
       "                                                  2-interp                 1.342058\n",
       "                                                  3-scale_fit              0.002146\n",
       "                                                  4-scale_transform      153.117180\n",
       "                                                  5-reduce_fit             0.001907\n",
       "                                                  6-reduce_transform       3.997087\n",
       "                                                  total                  296.461821\n",
       "                           total                                         612.692833\n",
       "                           3-homogeniser          total                    2.310991\n",
       "                           4-xarray               total                    1.136780\n",
       "             2-fit         total                                        3565.838814\n",
       "             3-score       total                                          15.146017\n",
       "             4-predict     total                                           5.898952\n",
       "             5-score       total                                           7.820129\n",
       "             6-xarray      total                                         335.227728\n",
       "             total                                                      4246.798277\n",
       "dtype: float64"
      ]
     },
     "execution_count": 9,
     "metadata": {},
     "output_type": "execute_result"
    }
   ],
   "source": [
    "# Timing are accessible through a dataframe in the timeit property:\n",
    "m.timeit"
   ]
  },
  {
   "cell_type": "markdown",
   "metadata": {},
   "source": [
    "### Compare details of steps for each method"
   ]
  },
  {
   "cell_type": "code",
   "execution_count": 10,
   "metadata": {},
   "outputs": [
    {
     "data": {
      "text/html": [
       "<div>\n",
       "<style scoped>\n",
       "    .dataframe tbody tr th:only-of-type {\n",
       "        vertical-align: middle;\n",
       "    }\n",
       "\n",
       "    .dataframe tbody tr th {\n",
       "        vertical-align: top;\n",
       "    }\n",
       "\n",
       "    .dataframe thead th {\n",
       "        text-align: right;\n",
       "    }\n",
       "</style>\n",
       "<table border=\"1\" class=\"dataframe\">\n",
       "  <thead>\n",
       "    <tr style=\"text-align: right;\">\n",
       "      <th>Sub-method</th>\n",
       "      <th>1-preprocess</th>\n",
       "      <th>2-fit</th>\n",
       "      <th>2-predict</th>\n",
       "      <th>3-score</th>\n",
       "      <th>3-xarray</th>\n",
       "      <th>4-predict</th>\n",
       "      <th>5-score</th>\n",
       "      <th>6-xarray</th>\n",
       "      <th>score</th>\n",
       "    </tr>\n",
       "    <tr>\n",
       "      <th>Method</th>\n",
       "      <th></th>\n",
       "      <th></th>\n",
       "      <th></th>\n",
       "      <th></th>\n",
       "      <th></th>\n",
       "      <th></th>\n",
       "      <th></th>\n",
       "      <th></th>\n",
       "      <th></th>\n",
       "    </tr>\n",
       "  </thead>\n",
       "  <tbody>\n",
       "    <tr>\n",
       "      <th>fit</th>\n",
       "      <td>2747.245312</td>\n",
       "      <td>3244.923115</td>\n",
       "      <td>NaN</td>\n",
       "      <td>7.922888</td>\n",
       "      <td>NaN</td>\n",
       "      <td>NaN</td>\n",
       "      <td>NaN</td>\n",
       "      <td>NaN</td>\n",
       "      <td>NaN</td>\n",
       "    </tr>\n",
       "    <tr>\n",
       "      <th>fit_predict</th>\n",
       "      <td>1224.279642</td>\n",
       "      <td>3565.838814</td>\n",
       "      <td>NaN</td>\n",
       "      <td>15.146017</td>\n",
       "      <td>NaN</td>\n",
       "      <td>5.898952</td>\n",
       "      <td>7.820129</td>\n",
       "      <td>335.227728</td>\n",
       "      <td>NaN</td>\n",
       "    </tr>\n",
       "    <tr>\n",
       "      <th>predict</th>\n",
       "      <td>1357.389927</td>\n",
       "      <td>NaN</td>\n",
       "      <td>11.896133</td>\n",
       "      <td>NaN</td>\n",
       "      <td>256.076097</td>\n",
       "      <td>NaN</td>\n",
       "      <td>NaN</td>\n",
       "      <td>NaN</td>\n",
       "      <td>8.413792</td>\n",
       "    </tr>\n",
       "  </tbody>\n",
       "</table>\n",
       "</div>"
      ],
      "text/plain": [
       "Sub-method   1-preprocess        2-fit  2-predict    3-score    3-xarray  \\\n",
       "Method                                                                     \n",
       "fit           2747.245312  3244.923115        NaN   7.922888         NaN   \n",
       "fit_predict   1224.279642  3565.838814        NaN  15.146017         NaN   \n",
       "predict       1357.389927          NaN  11.896133        NaN  256.076097   \n",
       "\n",
       "Sub-method   4-predict   5-score    6-xarray     score  \n",
       "Method                                                  \n",
       "fit                NaN       NaN         NaN       NaN  \n",
       "fit_predict   5.898952  7.820129  335.227728       NaN  \n",
       "predict            NaN       NaN         NaN  8.413792  "
      ]
     },
     "execution_count": 10,
     "metadata": {},
     "output_type": "execute_result"
    },
    {
     "data": {
      "image/png": "[encoded data removed]",
      "text/plain": [
       "<Figure size 450x270 with 1 Axes>"
      ]
     },
     "metadata": {},
     "output_type": "display_data"
    }
   ],
   "source": [
    "fig, ax, df = m.plot.timeit(group='Method', split='Sub-method') # Default group/split\n",
    "df"
   ]
  },
  {
   "cell_type": "markdown",
   "metadata": {},
   "source": [
    "### Compare preprocessing steps for each method"
   ]
  },
  {
   "cell_type": "code",
   "execution_count": 11,
   "metadata": {},
   "outputs": [
    {
     "data": {
      "text/html": [
       "<div>\n",
       "<style scoped>\n",
       "    .dataframe tbody tr th:only-of-type {\n",
       "        vertical-align: middle;\n",
       "    }\n",
       "\n",
       "    .dataframe tbody tr th {\n",
       "        vertical-align: top;\n",
       "    }\n",
       "\n",
       "    .dataframe thead th {\n",
       "        text-align: right;\n",
       "    }\n",
       "</style>\n",
       "<table border=\"1\" class=\"dataframe\">\n",
       "  <thead>\n",
       "    <tr style=\"text-align: right;\">\n",
       "      <th>Sub-sub-method</th>\n",
       "      <th>1-mask</th>\n",
       "      <th>2-feature_temperature</th>\n",
       "      <th>3-homogeniser</th>\n",
       "      <th>4-xarray</th>\n",
       "    </tr>\n",
       "    <tr>\n",
       "      <th>Method</th>\n",
       "      <th></th>\n",
       "      <th></th>\n",
       "      <th></th>\n",
       "      <th></th>\n",
       "    </tr>\n",
       "  </thead>\n",
       "  <tbody>\n",
       "    <tr>\n",
       "      <th>fit</th>\n",
       "      <td>27.925968</td>\n",
       "      <td>1340.004444</td>\n",
       "      <td>3.191948</td>\n",
       "      <td>1.441956</td>\n",
       "    </tr>\n",
       "    <tr>\n",
       "      <th>fit_predict</th>\n",
       "      <td>15.717745</td>\n",
       "      <td>592.421293</td>\n",
       "      <td>2.310991</td>\n",
       "      <td>1.136780</td>\n",
       "    </tr>\n",
       "    <tr>\n",
       "      <th>predict</th>\n",
       "      <td>14.646053</td>\n",
       "      <td>661.868811</td>\n",
       "      <td>0.002146</td>\n",
       "      <td>1.168728</td>\n",
       "    </tr>\n",
       "  </tbody>\n",
       "</table>\n",
       "</div>"
      ],
      "text/plain": [
       "Sub-sub-method     1-mask  2-feature_temperature  3-homogeniser  4-xarray\n",
       "Method                                                                   \n",
       "fit             27.925968            1340.004444       3.191948  1.441956\n",
       "fit_predict     15.717745             592.421293       2.310991  1.136780\n",
       "predict         14.646053             661.868811       0.002146  1.168728"
      ]
     },
     "execution_count": 11,
     "metadata": {},
     "output_type": "execute_result"
    },
    {
     "data": {
      "image/png": "[encoded data removed]",
      "text/plain": [
       "<Figure size 450x270 with 1 Axes>"
      ]
     },
     "metadata": {},
     "output_type": "display_data"
    }
   ],
   "source": [
    "fig, ax, df = m.plot.timeit(group='Method', split='Sub-sub-method')\n",
    "df"
   ]
  },
  {
   "cell_type": "markdown",
   "metadata": {},
   "source": [
    "### Compare details of preprocessing steps for each method"
   ]
  },
  {
   "cell_type": "code",
   "execution_count": 12,
   "metadata": {},
   "outputs": [
    {
     "data": {
      "text/html": [
       "<div>\n",
       "<style scoped>\n",
       "    .dataframe tbody tr th:only-of-type {\n",
       "        vertical-align: middle;\n",
       "    }\n",
       "\n",
       "    .dataframe tbody tr th {\n",
       "        vertical-align: top;\n",
       "    }\n",
       "\n",
       "    .dataframe thead th {\n",
       "        text-align: right;\n",
       "    }\n",
       "</style>\n",
       "<table border=\"1\" class=\"dataframe\">\n",
       "  <thead>\n",
       "    <tr style=\"text-align: right;\">\n",
       "      <th>Sub-sub-sub-method</th>\n",
       "      <th>1-ravel</th>\n",
       "      <th>2-interp</th>\n",
       "      <th>3-scale_fit</th>\n",
       "      <th>4-scale_transform</th>\n",
       "      <th>5-reduce_fit</th>\n",
       "      <th>6-reduce_transform</th>\n",
       "    </tr>\n",
       "    <tr>\n",
       "      <th>Method</th>\n",
       "      <th></th>\n",
       "      <th></th>\n",
       "      <th></th>\n",
       "      <th></th>\n",
       "      <th></th>\n",
       "      <th></th>\n",
       "    </tr>\n",
       "  </thead>\n",
       "  <tbody>\n",
       "    <tr>\n",
       "      <th>fit</th>\n",
       "      <td>177.482128</td>\n",
       "      <td>1.453161</td>\n",
       "      <td>328.825951</td>\n",
       "      <td>135.283947</td>\n",
       "      <td>22.650003</td>\n",
       "      <td>3.780127</td>\n",
       "    </tr>\n",
       "    <tr>\n",
       "      <th>fit_predict</th>\n",
       "      <td>137.499094</td>\n",
       "      <td>1.342058</td>\n",
       "      <td>0.002146</td>\n",
       "      <td>153.117180</td>\n",
       "      <td>0.001907</td>\n",
       "      <td>3.997087</td>\n",
       "    </tr>\n",
       "    <tr>\n",
       "      <th>predict</th>\n",
       "      <td>147.835016</td>\n",
       "      <td>1.693010</td>\n",
       "      <td>0.000954</td>\n",
       "      <td>174.738884</td>\n",
       "      <td>0.001907</td>\n",
       "      <td>6.120920</td>\n",
       "    </tr>\n",
       "  </tbody>\n",
       "</table>\n",
       "</div>"
      ],
      "text/plain": [
       "Sub-sub-sub-method     1-ravel  2-interp  3-scale_fit  4-scale_transform  \\\n",
       "Method                                                                     \n",
       "fit                 177.482128  1.453161   328.825951         135.283947   \n",
       "fit_predict         137.499094  1.342058     0.002146         153.117180   \n",
       "predict             147.835016  1.693010     0.000954         174.738884   \n",
       "\n",
       "Sub-sub-sub-method  5-reduce_fit  6-reduce_transform  \n",
       "Method                                                \n",
       "fit                    22.650003            3.780127  \n",
       "fit_predict             0.001907            3.997087  \n",
       "predict                 0.001907            6.120920  "
      ]
     },
     "execution_count": 12,
     "metadata": {},
     "output_type": "execute_result"
    },
    {
     "data": {
      "image/png": "[encoded data removed]",
      "text/plain": [
       "<Figure size 450x270 with 1 Axes>"
      ]
     },
     "metadata": {},
     "output_type": "display_data"
    }
   ],
   "source": [
    "fig, ax, df = m.plot.timeit(group='Method', split='Sub-sub-sub-method')\n",
    "df"
   ]
  },
  {
   "cell_type": "markdown",
   "metadata": {},
   "source": [
    "### Compare details of preprocessing steps for each feature"
   ]
  },
  {
   "cell_type": "code",
   "execution_count": 13,
   "metadata": {},
   "outputs": [
    {
     "data": {
      "text/html": [
       "<div>\n",
       "<style scoped>\n",
       "    .dataframe tbody tr th:only-of-type {\n",
       "        vertical-align: middle;\n",
       "    }\n",
       "\n",
       "    .dataframe tbody tr th {\n",
       "        vertical-align: top;\n",
       "    }\n",
       "\n",
       "    .dataframe thead th {\n",
       "        text-align: right;\n",
       "    }\n",
       "</style>\n",
       "<table border=\"1\" class=\"dataframe\">\n",
       "  <thead>\n",
       "    <tr style=\"text-align: right;\">\n",
       "      <th>Sub-sub-sub-method</th>\n",
       "      <th>1-ravel</th>\n",
       "      <th>2-interp</th>\n",
       "      <th>3-scale_fit</th>\n",
       "      <th>4-scale_transform</th>\n",
       "      <th>5-reduce_fit</th>\n",
       "      <th>6-reduce_transform</th>\n",
       "    </tr>\n",
       "    <tr>\n",
       "      <th>Sub-sub-method</th>\n",
       "      <th></th>\n",
       "      <th></th>\n",
       "      <th></th>\n",
       "      <th></th>\n",
       "      <th></th>\n",
       "      <th></th>\n",
       "    </tr>\n",
       "  </thead>\n",
       "  <tbody>\n",
       "    <tr>\n",
       "      <th>2-feature_temperature</th>\n",
       "      <td>462.816238</td>\n",
       "      <td>4.48823</td>\n",
       "      <td>328.82905</td>\n",
       "      <td>463.140011</td>\n",
       "      <td>22.653818</td>\n",
       "      <td>13.898134</td>\n",
       "    </tr>\n",
       "  </tbody>\n",
       "</table>\n",
       "</div>"
      ],
      "text/plain": [
       "Sub-sub-sub-method        1-ravel  2-interp  3-scale_fit  4-scale_transform  \\\n",
       "Sub-sub-method                                                                \n",
       "2-feature_temperature  462.816238   4.48823    328.82905         463.140011   \n",
       "\n",
       "Sub-sub-sub-method     5-reduce_fit  6-reduce_transform  \n",
       "Sub-sub-method                                           \n",
       "2-feature_temperature     22.653818           13.898134  "
      ]
     },
     "execution_count": 13,
     "metadata": {},
     "output_type": "execute_result"
    },
    {
     "data": {
      "image/png": "[encoded data removed]",
      "text/plain": [
       "<Figure size 450x270 with 1 Axes>"
      ]
     },
     "metadata": {},
     "output_type": "display_data"
    }
   ],
   "source": [
    "fig, ax, df = m.plot.timeit(split='Sub-sub-sub-method', group='Sub-sub-method')\n",
    "df"
   ]
  }
 ],
 "metadata": {
  "kernelspec": {
   "display_name": "obidam36",
   "language": "python",
   "name": "obidam36"
  },
  "language_info": {
   "codemirror_mode": {
    "name": "ipython",
    "version": 3
   },
   "file_extension": ".py",
   "mimetype": "text/x-python",
   "name": "python",
   "nbconvert_exporter": "python",
   "pygments_lexer": "ipython3",
   "version": "3.6.7"
  },
  "toc-showmarkdowntxt": true
 },
 "nbformat": 4,
 "nbformat_minor": 2
}
