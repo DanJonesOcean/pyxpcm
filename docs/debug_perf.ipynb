{
 "cells": [
  {
   "cell_type": "markdown",
   "metadata": {
    "papermill": {
     "duration": 0.012692,
     "end_time": "2019-10-31T00:27:30.402517",
     "exception": false,
     "start_time": "2019-10-31T00:27:30.389825",
     "status": "completed"
    },
    "tags": [],
    "toc-hr-collapsed": false
   },
   "source": [
    "# Debugging and performances"
   ]
  },
  {
   "cell_type": "code",
   "execution_count": 1,
   "metadata": {
    "nbsphinx": "hidden",
    "papermill": {
     "duration": 1.716553,
     "end_time": "2019-10-31T00:27:32.128775",
     "exception": false,
     "start_time": "2019-10-31T00:27:30.412222",
     "status": "completed"
    },
    "tags": []
   },
   "outputs": [
    {
     "name": "stdout",
     "output_type": "stream",
     "text": [
      "xarray: 0.12.1, /Users/gmaze/anaconda/envs/obidam36/lib/python3.6/site-packages/xarray/__init__.py\n"
     ]
    },
    {
     "name": "stdout",
     "output_type": "stream",
     "text": [
      "pyxpcm: 0.4.0, /Users/gmaze/git/github/gmaze/pyxpcm/pyxpcm/__init__.py\n"
     ]
    }
   ],
   "source": [
    "# Hidden cell\n",
    "import os, sys\n",
    "import numpy as np\n",
    "import pandas as pd\n",
    "import xarray as xr\n",
    "print(\"xarray: %s, %s\" % (xr.__version__, xr.__file__))\n",
    "\n",
    "import matplotlib.pyplot as plt\n",
    "%matplotlib inline\n",
    "sys.path.insert(0, os.path.abspath('/Users/gmaze/git/github/gmaze/pyxpcm'))\n",
    "\n",
    "import pyxpcm\n",
    "print(\"pyxpcm: %s, %s\" % (pyxpcm.__version__, pyxpcm.__file__))"
   ]
  },
  {
   "cell_type": "markdown",
   "metadata": {
    "papermill": {
     "duration": 0.025739,
     "end_time": "2019-10-31T00:27:32.170615",
     "exception": false,
     "start_time": "2019-10-31T00:27:32.144876",
     "status": "completed"
    },
    "tags": []
   },
   "source": [
    "## Import and set-up\n",
    "\n",
    "Import the library and toy data"
   ]
  },
  {
   "cell_type": "code",
   "execution_count": 2,
   "metadata": {
    "papermill": {
     "duration": 0.054645,
     "end_time": "2019-10-31T00:27:32.238177",
     "exception": false,
     "start_time": "2019-10-31T00:27:32.183532",
     "status": "completed"
    },
    "tags": []
   },
   "outputs": [],
   "source": [
    "import pyxpcm\n",
    "from pyxpcm.models import pcm\n",
    "\n",
    "# Load a dataset to work with:\n",
    "ds = pyxpcm.tutorial.open_dataset('argo').load()\n",
    "\n",
    "# Define vertical axis and features to use:\n",
    "z = np.arange(0.,-1000.,-10.)\n",
    "features_pcm = {'temperature': z, 'salinity': z}\n",
    "features_in_ds = {'temperature': 'TEMP', 'salinity': 'PSAL'}"
   ]
  },
  {
   "cell_type": "markdown",
   "metadata": {
    "papermill": {
     "duration": 0.008951,
     "end_time": "2019-10-31T00:27:32.256077",
     "exception": false,
     "start_time": "2019-10-31T00:27:32.247126",
     "status": "completed"
    },
    "tags": []
   },
   "source": [
    "## Debugging\n",
    "\n",
    "Use option ``debug`` to print log messages "
   ]
  },
  {
   "cell_type": "code",
   "execution_count": 3,
   "metadata": {
    "papermill": {
     "duration": 5.792565,
     "end_time": "2019-10-31T00:27:38.057970",
     "exception": false,
     "start_time": "2019-10-31T00:27:32.265405",
     "status": "completed"
    },
    "tags": []
   },
   "outputs": [
    {
     "name": "stdout",
     "output_type": "stream",
     "text": [
      "> Start preprocessing for action 'fit'\n"
     ]
    },
    {
     "name": "stdout",
     "output_type": "stream",
     "text": [
      "\n",
      "\t> Preprocessing xarray dataset 'TEMP' as PCM feature 'temperature'\n"
     ]
    },
    {
     "name": "stdout",
     "output_type": "stream",
     "text": [
      "\t [<class 'xarray.core.dataarray.DataArray'>, <class 'dask.array.core.Array'>, ((7560,), (282,))] X RAVELED with success\n",
      "\t\tOutput axis is in the input axis, not need to interpolate, simple intersection\n",
      "\t [<class 'xarray.core.dataarray.DataArray'>, <class 'dask.array.core.Array'>, ((7560,), (100,))] X INTERPOLATED with success)\n"
     ]
    },
    {
     "name": "stdout",
     "output_type": "stream",
     "text": [
      "\t [<class 'xarray.core.dataarray.DataArray'>, <class 'numpy.ndarray'>, None] X SCALED with success)\n",
      "\t [<class 'xarray.core.dataarray.DataArray'>, <class 'numpy.ndarray'>, None] X REDUCED with success)\n",
      "\ttemperature pre-processed with success,  [<class 'xarray.core.dataarray.DataArray'>, <class 'numpy.ndarray'>, None]\n",
      "\tHomogenisation for fit of temperature\n",
      "\n",
      "\t> Preprocessing xarray dataset 'PSAL' as PCM feature 'salinity'\n"
     ]
    },
    {
     "name": "stdout",
     "output_type": "stream",
     "text": [
      "\t [<class 'xarray.core.dataarray.DataArray'>, <class 'dask.array.core.Array'>, ((7560,), (282,))] X RAVELED with success\n",
      "\t\tOutput axis is in the input axis, not need to interpolate, simple intersection\n",
      "\t [<class 'xarray.core.dataarray.DataArray'>, <class 'dask.array.core.Array'>, ((7560,), (100,))] X INTERPOLATED with success)\n"
     ]
    },
    {
     "name": "stdout",
     "output_type": "stream",
     "text": [
      "\t [<class 'xarray.core.dataarray.DataArray'>, <class 'numpy.ndarray'>, None] X SCALED with success)\n",
      "\t [<class 'xarray.core.dataarray.DataArray'>, <class 'numpy.ndarray'>, None] X REDUCED with success)\n",
      "\tsalinity pre-processed with success,  [<class 'xarray.core.dataarray.DataArray'>, <class 'numpy.ndarray'>, None]\n",
      "\tHomogenisation for fit of salinity\n",
      "\tFeatures array shape and type for xarray: (7560, 30) <class 'numpy.ndarray'> <class 'memoryview'>\n",
      "> Preprocessing done, working with final X (<class 'xarray.core.dataarray.DataArray'>) array of shape: (7560, 30)  and sampling dimensions: ['N_PROF']\n"
     ]
    }
   ],
   "source": [
    "# Instantiate a new PCM:\n",
    "m = pcm(K=8, features=features_pcm, debug=True)\n",
    "\n",
    "# Fit with log:\n",
    "m.fit(ds, features=features_in_ds);"
   ]
  },
  {
   "cell_type": "markdown",
   "metadata": {
    "papermill": {
     "duration": 0.015601,
     "end_time": "2019-10-31T00:27:38.083995",
     "exception": false,
     "start_time": "2019-10-31T00:27:38.068394",
     "status": "completed"
    },
    "tags": [],
    "toc-hr-collapsed": true
   },
   "source": [
    "## Performance / Optimisation\n",
    "\n",
    "Use ``timeit`` and ``timeit_verb`` to compute computation time of PCM operations\n",
    "\n",
    "Times are accessible as a pandas Dataframe in ``timeit`` pyXpcm instance property.\n",
    "\n",
    "The pyXpcm ``m.plot.timeit()`` plot method allows for a simple visualisation of times."
   ]
  },
  {
   "cell_type": "markdown",
   "metadata": {
    "papermill": {
     "duration": 0.012089,
     "end_time": "2019-10-31T00:27:38.111736",
     "exception": false,
     "start_time": "2019-10-31T00:27:38.099647",
     "status": "completed"
    },
    "tags": []
   },
   "source": [
    "### Time readings during execution"
   ]
  },
  {
   "cell_type": "code",
   "execution_count": 4,
   "metadata": {
    "papermill": {
     "duration": 3.714087,
     "end_time": "2019-10-31T00:27:41.838799",
     "exception": false,
     "start_time": "2019-10-31T00:27:38.124712",
     "status": "completed"
    },
    "tags": []
   },
   "outputs": [
    {
     "name": "stdout",
     "output_type": "stream",
     "text": [
      "  fit.1-preprocess.1-mask: 33 ms\n"
     ]
    },
    {
     "name": "stdout",
     "output_type": "stream",
     "text": [
      "  fit.1-preprocess.2-feature_temperature.1-ravel: 247 ms\n",
      "  fit.1-preprocess.2-feature_temperature.2-interp: 1 ms\n"
     ]
    },
    {
     "name": "stdout",
     "output_type": "stream",
     "text": [
      "  fit.1-preprocess.2-feature_temperature.3-scale_fit: 449 ms\n"
     ]
    },
    {
     "name": "stdout",
     "output_type": "stream",
     "text": [
      "  fit.1-preprocess.2-feature_temperature.4-scale_transform: 222 ms\n",
      "  fit.1-preprocess.2-feature_temperature.5-reduce_fit: 19 ms\n",
      "  fit.1-preprocess.2-feature_temperature.6-reduce_transform: 4 ms\n",
      "  fit.1-preprocess.2-feature_temperature.total: 946 ms\n",
      "  fit.1-preprocess: 946 ms\n",
      "  fit.1-preprocess.3-homogeniser: 1 ms\n"
     ]
    },
    {
     "name": "stdout",
     "output_type": "stream",
     "text": [
      "  fit.1-preprocess.2-feature_salinity.1-ravel: 227 ms\n",
      "  fit.1-preprocess.2-feature_salinity.2-interp: 1 ms\n"
     ]
    },
    {
     "name": "stdout",
     "output_type": "stream",
     "text": [
      "  fit.1-preprocess.2-feature_salinity.3-scale_fit: 458 ms\n"
     ]
    },
    {
     "name": "stdout",
     "output_type": "stream",
     "text": [
      "  fit.1-preprocess.2-feature_salinity.4-scale_transform: 224 ms\n",
      "  fit.1-preprocess.2-feature_salinity.5-reduce_fit: 16 ms\n",
      "  fit.1-preprocess.2-feature_salinity.6-reduce_transform: 4 ms\n",
      "  fit.1-preprocess.2-feature_salinity.total: 933 ms\n",
      "  fit.1-preprocess: 933 ms\n",
      "  fit.1-preprocess.3-homogeniser: 1 ms\n",
      "  fit.1-preprocess.4-xarray: 1 ms\n",
      "  fit.1-preprocess: 1919 ms\n"
     ]
    },
    {
     "name": "stdout",
     "output_type": "stream",
     "text": [
      "  fit.2-fit: 1751 ms\n",
      "  fit.3-score: 14 ms\n",
      "  fit: 3685 ms\n"
     ]
    }
   ],
   "source": [
    "# Create a PCM and execute methods:\n",
    "m = pcm(K=8, features=features_pcm, timeit=True, timeit_verb=1)\n",
    "m.fit(ds, features=features_in_ds);"
   ]
  },
  {
   "cell_type": "markdown",
   "metadata": {
    "papermill": {
     "duration": 0.021857,
     "end_time": "2019-10-31T00:27:41.888279",
     "exception": false,
     "start_time": "2019-10-31T00:27:41.866422",
     "status": "completed"
    },
    "tags": []
   },
   "source": [
    "### A posteriori Execution time analysis"
   ]
  },
  {
   "cell_type": "code",
   "execution_count": 5,
   "metadata": {
    "papermill": {
     "duration": 10.618606,
     "end_time": "2019-10-31T00:27:52.535649",
     "exception": false,
     "start_time": "2019-10-31T00:27:41.917043",
     "status": "completed"
    },
    "tags": []
   },
   "outputs": [],
   "source": [
    "# Create a PCM and execute methods:\n",
    "m = pcm(K=8, features=features_pcm, timeit=True, timeit_verb=0)\n",
    "m.fit(ds, features=features_in_ds);\n",
    "m.predict(ds, features=features_in_ds);\n",
    "m.fit_predict(ds, features=features_in_ds);"
   ]
  },
  {
   "cell_type": "raw",
   "metadata": {
    "papermill": {
     "duration": 0.017724,
     "end_time": "2019-10-31T00:27:52.574110",
     "exception": false,
     "start_time": "2019-10-31T00:27:52.556386",
     "status": "completed"
    },
    "raw_mimetype": "text/restructuredtext",
    "tags": []
   },
   "source": [
    "Execution times are accessible through a dataframe with the :py:attr:`pyxpcm.pcm.timeit` property"
   ]
  },
  {
   "cell_type": "code",
   "execution_count": 6,
   "metadata": {
    "papermill": {
     "duration": 0.036246,
     "end_time": "2019-10-31T00:27:52.626178",
     "exception": false,
     "start_time": "2019-10-31T00:27:52.589932",
     "status": "completed"
    },
    "tags": []
   },
   "outputs": [
    {
     "data": {
      "text/plain": [
       "Method       Sub-method    Sub-sub-method         Sub-sub-sub-method\n",
       "fit          1-preprocess  1-mask                 total                   42.706251\n",
       "                           2-feature_temperature  1-ravel                269.489050\n",
       "                                                  2-interp                 1.130104\n",
       "                                                  3-scale_fit            434.630156\n",
       "                                                  4-scale_transform      228.902102\n",
       "                                                  5-reduce_fit            18.913984\n",
       "                                                  6-reduce_transform       3.831863\n",
       "                                                  total                  957.070112\n",
       "                           total                                        4118.751287\n",
       "                           3-homogeniser          total                    2.233028\n",
       "                           2-feature_salinity     1-ravel                260.258198\n",
       "                                                  2-interp                 1.878977\n",
       "                                                  3-scale_fit            527.417898\n",
       "                                                  4-scale_transform      269.872189\n",
       "                                                  5-reduce_fit            15.092134\n",
       "                                                  6-reduce_transform       3.724098\n",
       "                                                  total                 1078.428984\n",
       "                           4-xarray               total                    1.204014\n",
       "             2-fit         total                                        2538.093090\n",
       "             3-score       total                                          15.496969\n",
       "             total                                                      4636.791945\n",
       "predict      1-preprocess  1-mask                 total                   29.098988\n",
       "                           2-feature_temperature  1-ravel                350.358963\n",
       "                                                  2-interp                 2.276182\n",
       "                                                  3-scale_fit              0.017166\n",
       "                                                  4-scale_transform      450.866938\n",
       "                                                  5-reduce_fit             0.000954\n",
       "                                                  6-reduce_transform       3.956795\n",
       "                                                  total                  807.667017\n",
       "                           total                                        2627.687216\n",
       "                                                                           ...     \n",
       "                           2-feature_salinity     total                  490.073919\n",
       "                           4-xarray               total                    1.107931\n",
       "             2-predict     total                                          13.623238\n",
       "             score         total                                          16.039133\n",
       "             3-xarray      total                                         457.260847\n",
       "             total                                                      1816.809893\n",
       "fit_predict  1-preprocess  1-mask                 total                   25.602102\n",
       "                           2-feature_temperature  1-ravel                214.084148\n",
       "                                                  2-interp                 1.163006\n",
       "                                                  3-scale_fit              0.002146\n",
       "                                                  4-scale_transform      288.004160\n",
       "                                                  5-reduce_fit             0.002146\n",
       "                                                  6-reduce_transform       5.092144\n",
       "                                                  total                  508.489847\n",
       "                           total                                        1998.980045\n",
       "                           3-homogeniser          total                    2.020597\n",
       "                           2-feature_salinity     1-ravel                229.854822\n",
       "                                                  2-interp                 1.190901\n",
       "                                                  3-scale_fit              0.001192\n",
       "                                                  4-scale_transform      241.559029\n",
       "                                                  5-reduce_fit             0.002861\n",
       "                                                  6-reduce_transform       3.190994\n",
       "                                                  total                  475.932837\n",
       "                           4-xarray               total                    1.220226\n",
       "             2-fit         total                                        2523.284197\n",
       "             3-score       total                                          25.204897\n",
       "             4-predict     total                                          10.256767\n",
       "             5-score       total                                          12.607098\n",
       "             6-xarray      total                                         526.827097\n",
       "             total                                                      4112.726927\n",
       "Length: 67, dtype: float64"
      ]
     },
     "execution_count": 6,
     "metadata": {},
     "output_type": "execute_result"
    }
   ],
   "source": [
    "m.timeit"
   ]
  },
  {
   "cell_type": "markdown",
   "metadata": {
    "papermill": {
     "duration": 0.014692,
     "end_time": "2019-10-31T00:27:52.654002",
     "exception": false,
     "start_time": "2019-10-31T00:27:52.639310",
     "status": "completed"
    },
    "raw_mimetype": "-",
    "tags": []
   },
   "source": [
    "## Visualisation help"
   ]
  },
  {
   "cell_type": "raw",
   "metadata": {
    "papermill": {
     "duration": 0.013348,
     "end_time": "2019-10-31T00:27:52.680591",
     "exception": false,
     "start_time": "2019-10-31T00:27:52.667243",
     "status": "completed"
    },
    "raw_mimetype": "text/restructuredtext",
    "tags": []
   },
   "source": [
    "To facilitate your analysis of execution times, you can use :meth:`pyxpcm.plot.timeit`."
   ]
  },
  {
   "cell_type": "markdown",
   "metadata": {
    "papermill": {
     "duration": 0.014366,
     "end_time": "2019-10-31T00:27:52.708196",
     "exception": false,
     "start_time": "2019-10-31T00:27:52.693830",
     "status": "completed"
    },
    "tags": []
   },
   "source": [
    "### Main steps by method"
   ]
  },
  {
   "cell_type": "code",
   "execution_count": 7,
   "metadata": {
    "papermill": {
     "duration": 0.279419,
     "end_time": "2019-10-31T00:27:53.002023",
     "exception": false,
     "start_time": "2019-10-31T00:27:52.722604",
     "status": "completed"
    },
    "tags": []
   },
   "outputs": [
    {
     "data": {
      "text/html": [
       "<div>\n",
       "<style scoped>\n",
       "    .dataframe tbody tr th:only-of-type {\n",
       "        vertical-align: middle;\n",
       "    }\n",
       "\n",
       "    .dataframe tbody tr th {\n",
       "        vertical-align: top;\n",
       "    }\n",
       "\n",
       "    .dataframe thead th {\n",
       "        text-align: right;\n",
       "    }\n",
       "</style>\n",
       "<table border=\"1\" class=\"dataframe\">\n",
       "  <thead>\n",
       "    <tr style=\"text-align: right;\">\n",
       "      <th>Sub-method</th>\n",
       "      <th>1-preprocess</th>\n",
       "      <th>2-fit</th>\n",
       "      <th>2-predict</th>\n",
       "      <th>3-score</th>\n",
       "      <th>3-xarray</th>\n",
       "      <th>4-predict</th>\n",
       "      <th>5-score</th>\n",
       "      <th>6-xarray</th>\n",
       "      <th>score</th>\n",
       "    </tr>\n",
       "    <tr>\n",
       "      <th>Method</th>\n",
       "      <th></th>\n",
       "      <th></th>\n",
       "      <th></th>\n",
       "      <th></th>\n",
       "      <th></th>\n",
       "      <th></th>\n",
       "      <th></th>\n",
       "      <th></th>\n",
       "      <th></th>\n",
       "    </tr>\n",
       "  </thead>\n",
       "  <tbody>\n",
       "    <tr>\n",
       "      <th>fit</th>\n",
       "      <td>8235.534430</td>\n",
       "      <td>2538.093090</td>\n",
       "      <td>NaN</td>\n",
       "      <td>15.496969</td>\n",
       "      <td>NaN</td>\n",
       "      <td>NaN</td>\n",
       "      <td>NaN</td>\n",
       "      <td>NaN</td>\n",
       "      <td>NaN</td>\n",
       "    </tr>\n",
       "    <tr>\n",
       "      <th>fit_predict</th>\n",
       "      <td>3996.393204</td>\n",
       "      <td>2523.284197</td>\n",
       "      <td>NaN</td>\n",
       "      <td>25.204897</td>\n",
       "      <td>NaN</td>\n",
       "      <td>10.256767</td>\n",
       "      <td>12.607098</td>\n",
       "      <td>526.827097</td>\n",
       "      <td>NaN</td>\n",
       "    </tr>\n",
       "    <tr>\n",
       "      <th>predict</th>\n",
       "      <td>5253.793001</td>\n",
       "      <td>NaN</td>\n",
       "      <td>13.623238</td>\n",
       "      <td>NaN</td>\n",
       "      <td>457.260847</td>\n",
       "      <td>NaN</td>\n",
       "      <td>NaN</td>\n",
       "      <td>NaN</td>\n",
       "      <td>16.039133</td>\n",
       "    </tr>\n",
       "  </tbody>\n",
       "</table>\n",
       "</div>"
      ],
      "text/plain": [
       "Sub-method   1-preprocess        2-fit  2-predict    3-score    3-xarray  \\\n",
       "Method                                                                     \n",
       "fit           8235.534430  2538.093090        NaN  15.496969         NaN   \n",
       "fit_predict   3996.393204  2523.284197        NaN  25.204897         NaN   \n",
       "predict       5253.793001          NaN  13.623238        NaN  457.260847   \n",
       "\n",
       "Sub-method   4-predict    5-score    6-xarray      score  \n",
       "Method                                                    \n",
       "fit                NaN        NaN         NaN        NaN  \n",
       "fit_predict  10.256767  12.607098  526.827097        NaN  \n",
       "predict            NaN        NaN         NaN  16.039133  "
      ]
     },
     "execution_count": 7,
     "metadata": {},
     "output_type": "execute_result"
    },
    {
     "data": {
      "image/png": "[encoded data removed]",
      "text/plain": [
       "<Figure size 450x270 with 1 Axes>"
      ]
     },
     "metadata": {},
     "output_type": "display_data"
    }
   ],
   "source": [
    "fig, ax, df = m.plot.timeit(group='Method', split='Sub-method', style='darkgrid') # Default group/split\n",
    "df"
   ]
  },
  {
   "cell_type": "markdown",
   "metadata": {
    "papermill": {
     "duration": 0.014277,
     "end_time": "2019-10-31T00:27:53.031440",
     "exception": false,
     "start_time": "2019-10-31T00:27:53.017163",
     "status": "completed"
    },
    "tags": []
   },
   "source": [
    "### Preprocessing main steps by method"
   ]
  },
  {
   "cell_type": "code",
   "execution_count": 8,
   "metadata": {
    "papermill": {
     "duration": 0.373097,
     "end_time": "2019-10-31T00:27:53.418550",
     "exception": false,
     "start_time": "2019-10-31T00:27:53.045453",
     "status": "completed"
    },
    "tags": []
   },
   "outputs": [
    {
     "data": {
      "text/html": [
       "<div>\n",
       "<style scoped>\n",
       "    .dataframe tbody tr th:only-of-type {\n",
       "        vertical-align: middle;\n",
       "    }\n",
       "\n",
       "    .dataframe tbody tr th {\n",
       "        vertical-align: top;\n",
       "    }\n",
       "\n",
       "    .dataframe thead th {\n",
       "        text-align: right;\n",
       "    }\n",
       "</style>\n",
       "<table border=\"1\" class=\"dataframe\">\n",
       "  <thead>\n",
       "    <tr style=\"text-align: right;\">\n",
       "      <th>Sub-sub-method</th>\n",
       "      <th>1-mask</th>\n",
       "      <th>2-feature_salinity</th>\n",
       "      <th>2-feature_temperature</th>\n",
       "      <th>3-homogeniser</th>\n",
       "      <th>4-xarray</th>\n",
       "    </tr>\n",
       "    <tr>\n",
       "      <th>Method</th>\n",
       "      <th></th>\n",
       "      <th></th>\n",
       "      <th></th>\n",
       "      <th></th>\n",
       "      <th></th>\n",
       "    </tr>\n",
       "  </thead>\n",
       "  <tbody>\n",
       "    <tr>\n",
       "      <th>fit</th>\n",
       "      <td>42.706251</td>\n",
       "      <td>2156.672478</td>\n",
       "      <td>1913.967371</td>\n",
       "      <td>2.233028</td>\n",
       "      <td>1.204014</td>\n",
       "    </tr>\n",
       "    <tr>\n",
       "      <th>fit_predict</th>\n",
       "      <td>25.602102</td>\n",
       "      <td>951.732635</td>\n",
       "      <td>1016.837597</td>\n",
       "      <td>2.020597</td>\n",
       "      <td>1.220226</td>\n",
       "    </tr>\n",
       "    <tr>\n",
       "      <th>predict</th>\n",
       "      <td>29.098988</td>\n",
       "      <td>979.947805</td>\n",
       "      <td>1615.144014</td>\n",
       "      <td>0.807047</td>\n",
       "      <td>1.107931</td>\n",
       "    </tr>\n",
       "  </tbody>\n",
       "</table>\n",
       "</div>"
      ],
      "text/plain": [
       "Sub-sub-method     1-mask  2-feature_salinity  2-feature_temperature  \\\n",
       "Method                                                                 \n",
       "fit             42.706251         2156.672478            1913.967371   \n",
       "fit_predict     25.602102          951.732635            1016.837597   \n",
       "predict         29.098988          979.947805            1615.144014   \n",
       "\n",
       "Sub-sub-method  3-homogeniser  4-xarray  \n",
       "Method                                   \n",
       "fit                  2.233028  1.204014  \n",
       "fit_predict          2.020597  1.220226  \n",
       "predict              0.807047  1.107931  "
      ]
     },
     "execution_count": 8,
     "metadata": {},
     "output_type": "execute_result"
    },
    {
     "data": {
      "image/png": "[encoded data removed]",
      "text/plain": [
       "<Figure size 450x270 with 1 Axes>"
      ]
     },
     "metadata": {},
     "output_type": "display_data"
    }
   ],
   "source": [
    "fig, ax, df = m.plot.timeit(group='Method', split='Sub-sub-method')\n",
    "df"
   ]
  },
  {
   "cell_type": "markdown",
   "metadata": {
    "papermill": {
     "duration": 0.04817,
     "end_time": "2019-10-31T00:27:53.487282",
     "exception": false,
     "start_time": "2019-10-31T00:27:53.439112",
     "status": "completed"
    },
    "tags": []
   },
   "source": [
    "### Preprocessing details by method"
   ]
  },
  {
   "cell_type": "code",
   "execution_count": 9,
   "metadata": {
    "papermill": {
     "duration": 0.45084,
     "end_time": "2019-10-31T00:27:53.972673",
     "exception": false,
     "start_time": "2019-10-31T00:27:53.521833",
     "status": "completed"
    },
    "tags": []
   },
   "outputs": [
    {
     "data": {
      "text/html": [
       "<div>\n",
       "<style scoped>\n",
       "    .dataframe tbody tr th:only-of-type {\n",
       "        vertical-align: middle;\n",
       "    }\n",
       "\n",
       "    .dataframe tbody tr th {\n",
       "        vertical-align: top;\n",
       "    }\n",
       "\n",
       "    .dataframe thead th {\n",
       "        text-align: right;\n",
       "    }\n",
       "</style>\n",
       "<table border=\"1\" class=\"dataframe\">\n",
       "  <thead>\n",
       "    <tr style=\"text-align: right;\">\n",
       "      <th>Sub-sub-sub-method</th>\n",
       "      <th>1-ravel</th>\n",
       "      <th>2-interp</th>\n",
       "      <th>3-scale_fit</th>\n",
       "      <th>4-scale_transform</th>\n",
       "      <th>5-reduce_fit</th>\n",
       "      <th>6-reduce_transform</th>\n",
       "    </tr>\n",
       "    <tr>\n",
       "      <th>Method</th>\n",
       "      <th></th>\n",
       "      <th></th>\n",
       "      <th></th>\n",
       "      <th></th>\n",
       "      <th></th>\n",
       "      <th></th>\n",
       "    </tr>\n",
       "  </thead>\n",
       "  <tbody>\n",
       "    <tr>\n",
       "      <th>fit</th>\n",
       "      <td>529.747248</td>\n",
       "      <td>3.009081</td>\n",
       "      <td>962.048054</td>\n",
       "      <td>498.774290</td>\n",
       "      <td>34.006119</td>\n",
       "      <td>7.555962</td>\n",
       "    </tr>\n",
       "    <tr>\n",
       "      <th>fit_predict</th>\n",
       "      <td>443.938971</td>\n",
       "      <td>2.353907</td>\n",
       "      <td>0.003338</td>\n",
       "      <td>529.563189</td>\n",
       "      <td>0.005007</td>\n",
       "      <td>8.283138</td>\n",
       "    </tr>\n",
       "    <tr>\n",
       "      <th>predict</th>\n",
       "      <td>583.785772</td>\n",
       "      <td>3.417015</td>\n",
       "      <td>0.020266</td>\n",
       "      <td>703.068972</td>\n",
       "      <td>0.002146</td>\n",
       "      <td>7.056713</td>\n",
       "    </tr>\n",
       "  </tbody>\n",
       "</table>\n",
       "</div>"
      ],
      "text/plain": [
       "Sub-sub-sub-method     1-ravel  2-interp  3-scale_fit  4-scale_transform  \\\n",
       "Method                                                                     \n",
       "fit                 529.747248  3.009081   962.048054         498.774290   \n",
       "fit_predict         443.938971  2.353907     0.003338         529.563189   \n",
       "predict             583.785772  3.417015     0.020266         703.068972   \n",
       "\n",
       "Sub-sub-sub-method  5-reduce_fit  6-reduce_transform  \n",
       "Method                                                \n",
       "fit                    34.006119            7.555962  \n",
       "fit_predict             0.005007            8.283138  \n",
       "predict                 0.002146            7.056713  "
      ]
     },
     "execution_count": 9,
     "metadata": {},
     "output_type": "execute_result"
    },
    {
     "data": {
      "image/png": "[encoded data removed]",
      "text/plain": [
       "<Figure size 450x270 with 1 Axes>"
      ]
     },
     "metadata": {},
     "output_type": "display_data"
    }
   ],
   "source": [
    "fig, ax, df = m.plot.timeit(group='Method', split='Sub-sub-sub-method')\n",
    "df"
   ]
  },
  {
   "cell_type": "markdown",
   "metadata": {
    "papermill": {
     "duration": 0.015865,
     "end_time": "2019-10-31T00:27:54.022399",
     "exception": false,
     "start_time": "2019-10-31T00:27:54.006534",
     "status": "completed"
    },
    "tags": []
   },
   "source": [
    "### Preprocessing details by features"
   ]
  },
  {
   "cell_type": "code",
   "execution_count": 10,
   "metadata": {
    "papermill": {
     "duration": 0.228359,
     "end_time": "2019-10-31T00:27:54.267589",
     "exception": false,
     "start_time": "2019-10-31T00:27:54.039230",
     "status": "completed"
    },
    "tags": []
   },
   "outputs": [
    {
     "data": {
      "text/html": [
       "<div>\n",
       "<style scoped>\n",
       "    .dataframe tbody tr th:only-of-type {\n",
       "        vertical-align: middle;\n",
       "    }\n",
       "\n",
       "    .dataframe tbody tr th {\n",
       "        vertical-align: top;\n",
       "    }\n",
       "\n",
       "    .dataframe thead th {\n",
       "        text-align: right;\n",
       "    }\n",
       "</style>\n",
       "<table border=\"1\" class=\"dataframe\">\n",
       "  <thead>\n",
       "    <tr style=\"text-align: right;\">\n",
       "      <th>Sub-sub-sub-method</th>\n",
       "      <th>1-ravel</th>\n",
       "      <th>2-interp</th>\n",
       "      <th>3-scale_fit</th>\n",
       "      <th>4-scale_transform</th>\n",
       "      <th>5-reduce_fit</th>\n",
       "      <th>6-reduce_transform</th>\n",
       "    </tr>\n",
       "    <tr>\n",
       "      <th>Sub-sub-method</th>\n",
       "      <th></th>\n",
       "      <th></th>\n",
       "      <th></th>\n",
       "      <th></th>\n",
       "      <th></th>\n",
       "      <th></th>\n",
       "    </tr>\n",
       "  </thead>\n",
       "  <tbody>\n",
       "    <tr>\n",
       "      <th>2-feature_salinity</th>\n",
       "      <td>0.723540</td>\n",
       "      <td>0.004211</td>\n",
       "      <td>0.527422</td>\n",
       "      <td>0.763633</td>\n",
       "      <td>0.015096</td>\n",
       "      <td>0.010015</td>\n",
       "    </tr>\n",
       "    <tr>\n",
       "      <th>2-feature_temperature</th>\n",
       "      <td>0.833932</td>\n",
       "      <td>0.004569</td>\n",
       "      <td>0.434649</td>\n",
       "      <td>0.967773</td>\n",
       "      <td>0.018917</td>\n",
       "      <td>0.012881</td>\n",
       "    </tr>\n",
       "  </tbody>\n",
       "</table>\n",
       "</div>"
      ],
      "text/plain": [
       "Sub-sub-sub-method      1-ravel  2-interp  3-scale_fit  4-scale_transform  \\\n",
       "Sub-sub-method                                                              \n",
       "2-feature_salinity     0.723540  0.004211     0.527422           0.763633   \n",
       "2-feature_temperature  0.833932  0.004569     0.434649           0.967773   \n",
       "\n",
       "Sub-sub-sub-method     5-reduce_fit  6-reduce_transform  \n",
       "Sub-sub-method                                           \n",
       "2-feature_salinity         0.015096            0.010015  \n",
       "2-feature_temperature      0.018917            0.012881  "
      ]
     },
     "execution_count": 10,
     "metadata": {},
     "output_type": "execute_result"
    },
    {
     "data": {
      "image/png": "[encoded data removed]",
      "text/plain": [
       "<Figure size 450x270 with 1 Axes>"
      ]
     },
     "metadata": {},
     "output_type": "display_data"
    }
   ],
   "source": [
    "fig, ax, df = m.plot.timeit(split='Sub-sub-sub-method', group='Sub-sub-method', unit='s')\n",
    "df"
   ]
  }
 ],
 "metadata": {
  "kernelspec": {
   "display_name": "obidam36",
   "language": "python",
   "name": "obidam36"
  },
  "language_info": {
   "codemirror_mode": {
    "name": "ipython",
    "version": 3
   },
   "file_extension": ".py",
   "mimetype": "text/x-python",
   "name": "python",
   "nbconvert_exporter": "python",
   "pygments_lexer": "ipython3",
   "version": "3.6.7"
  },
  "papermill": {
   "duration": 25.825348,
   "end_time": "2019-10-31T00:27:55.400260",
   "environment_variables": {},
   "exception": null,
   "input_path": "debug_perf.ipynb",
   "output_path": "../debug_perf.ipynb",
   "parameters": {},
   "start_time": "2019-10-31T00:27:29.574912",
   "version": "0.19.0"
  },
  "toc-showmarkdowntxt": true
 },
 "nbformat": 4,
 "nbformat_minor": 2
}