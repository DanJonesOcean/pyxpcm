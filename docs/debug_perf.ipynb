{
 "cells": [
  {
   "cell_type": "markdown",
   "metadata": {
    "toc-hr-collapsed": false
   },
   "source": [
    "# Debugging and performances"
   ]
  },
  {
   "cell_type": "code",
   "execution_count": 1,
   "metadata": {
    "nbsphinx": "hidden"
   },
   "outputs": [
    {
     "name": "stderr",
     "output_type": "stream",
     "text": [
      "/Users/gmaze/anaconda/envs/obidam36/lib/python3.6/site-packages/distributed/utils.py:134: RuntimeWarning: Couldn't detect a suitable IP address for reaching '8.8.8.8', defaulting to '127.0.0.1': [Errno 51] Network is unreachable\n",
      "  % (host, default, e), RuntimeWarning)\n"
     ]
    },
    {
     "name": "stdout",
     "output_type": "stream",
     "text": [
      "xarray: 0.12.1, /Users/gmaze/anaconda/envs/obidam36/lib/python3.6/site-packages/xarray/__init__.py\n",
      "pyxpcm: 0.4.0, /Users/gmaze/git/github/gmaze/pyxpcm/pyxpcm/__init__.py\n"
     ]
    }
   ],
   "source": [
    "# Hidden cell\n",
    "import os, sys\n",
    "import numpy as np\n",
    "import pandas as pd\n",
    "import xarray as xr\n",
    "print(\"xarray: %s, %s\" % (xr.__version__, xr.__file__))\n",
    "\n",
    "import matplotlib.pyplot as plt\n",
    "%matplotlib inline\n",
    "sys.path.insert(0, os.path.abspath('/Users/gmaze/git/github/gmaze/pyxpcm'))\n",
    "\n",
    "import pyxpcm\n",
    "print(\"pyxpcm: %s, %s\" % (pyxpcm.__version__, pyxpcm.__file__))"
   ]
  },
  {
   "cell_type": "markdown",
   "metadata": {},
   "source": [
    "## Load data"
   ]
  },
  {
   "cell_type": "code",
   "execution_count": 2,
   "metadata": {},
   "outputs": [
    {
     "data": {
      "text/plain": [
       "<xarray.Dataset>\n",
       "Dimensions:    (DEPTH: 282, N_PROF: 7560)\n",
       "Coordinates:\n",
       "  * DEPTH      (DEPTH) float32 0.0 -5.0 -10.0 -15.0 ... -1395.0 -1400.0 -1405.0\n",
       "Dimensions without coordinates: N_PROF\n",
       "Data variables:\n",
       "    LATITUDE   (N_PROF) float32 dask.array<shape=(7560,), chunksize=(7560,)>\n",
       "    LONGITUDE  (N_PROF) float32 dask.array<shape=(7560,), chunksize=(7560,)>\n",
       "    TIME       (N_PROF) datetime64[ns] dask.array<shape=(7560,), chunksize=(7560,)>\n",
       "    DBINDEX    (N_PROF) float64 dask.array<shape=(7560,), chunksize=(7560,)>\n",
       "    TEMP       (N_PROF, DEPTH) float32 dask.array<shape=(7560, 282), chunksize=(7560, 282)>\n",
       "    PSAL       (N_PROF, DEPTH) float32 dask.array<shape=(7560, 282), chunksize=(7560, 282)>\n",
       "    SIG0       (N_PROF, DEPTH) float32 dask.array<shape=(7560, 282), chunksize=(7560, 282)>\n",
       "    BRV2       (N_PROF, DEPTH) float32 dask.array<shape=(7560, 282), chunksize=(7560, 282)>\n",
       "Attributes:\n",
       "    Sample test prepared by:  G. Maze\n",
       "    Institution:              Ifremer/LOPS\n",
       "    Data source DOI:          10.17882/42182"
      ]
     },
     "execution_count": 2,
     "metadata": {},
     "output_type": "execute_result"
    }
   ],
   "source": [
    "ds = pyxpcm.tutorial.open_dataset('argo').load()\n",
    "ds"
   ]
  },
  {
   "cell_type": "markdown",
   "metadata": {
    "toc-hr-collapsed": true
   },
   "source": [
    "## Define/fit/predict a standard pyXpcm"
   ]
  },
  {
   "cell_type": "code",
   "execution_count": 3,
   "metadata": {},
   "outputs": [],
   "source": [
    "from pyxpcm.models import pcm"
   ]
  },
  {
   "cell_type": "code",
   "execution_count": 4,
   "metadata": {},
   "outputs": [],
   "source": [
    "# Define vertical axis and features to use:\n",
    "z = np.arange(0.,-1000.,-10.)\n",
    "features_pcm = {'temperature': z}\n",
    "features_in_ds = {'temperature': 'TEMP'}\n",
    "\n",
    "features_pcm = {'temperature': z, 'salinity': z}\n",
    "features_in_ds = {'temperature': 'TEMP', 'salinity': 'PSAL'}"
   ]
  },
  {
   "cell_type": "code",
   "execution_count": 5,
   "metadata": {},
   "outputs": [],
   "source": [
    "# pyXpcm variables added to the dataset can be removed with:\n",
    "# print('Before:', ds.data_vars)\n",
    "# ds = ds.pyxpcm.clean()\n",
    "# print('After cleaning:', ds.data_vars)"
   ]
  },
  {
   "cell_type": "markdown",
   "metadata": {},
   "source": [
    "## Debugging\n",
    "\n",
    "Use option ``debug`` to print log messages "
   ]
  },
  {
   "cell_type": "code",
   "execution_count": 6,
   "metadata": {},
   "outputs": [
    {
     "name": "stdout",
     "output_type": "stream",
     "text": [
      "> Start preprocessing for action 'fit'\n",
      "\n",
      "\t> Preprocessing xarray dataset 'TEMP' as PCM feature 'temperature'\n",
      "\t [<class 'xarray.core.dataarray.DataArray'>, <class 'dask.array.core.Array'>, ((7560,), (282,))] X RAVELED with success\n",
      "\t\tOutput axis is in the input axis, not need to interpolate, simple intersection\n",
      "\t [<class 'xarray.core.dataarray.DataArray'>, <class 'dask.array.core.Array'>, ((7560,), (100,))] X INTERPOLATED with success)\n",
      "\t [<class 'xarray.core.dataarray.DataArray'>, <class 'numpy.ndarray'>, None] X SCALED with success)\n",
      "\t [<class 'xarray.core.dataarray.DataArray'>, <class 'numpy.ndarray'>, None] X REDUCED with success)\n",
      "\ttemperature pre-processed with success,  [<class 'xarray.core.dataarray.DataArray'>, <class 'numpy.ndarray'>, None]\n",
      "\tHomogenisation for fit of temperature\n",
      "\n",
      "\t> Preprocessing xarray dataset 'PSAL' as PCM feature 'salinity'\n",
      "\t [<class 'xarray.core.dataarray.DataArray'>, <class 'dask.array.core.Array'>, ((7560,), (282,))] X RAVELED with success\n",
      "\t\tOutput axis is in the input axis, not need to interpolate, simple intersection\n",
      "\t [<class 'xarray.core.dataarray.DataArray'>, <class 'dask.array.core.Array'>, ((7560,), (100,))] X INTERPOLATED with success)\n",
      "\t [<class 'xarray.core.dataarray.DataArray'>, <class 'numpy.ndarray'>, None] X SCALED with success)\n",
      "\t [<class 'xarray.core.dataarray.DataArray'>, <class 'numpy.ndarray'>, None] X REDUCED with success)\n",
      "\tsalinity pre-processed with success,  [<class 'xarray.core.dataarray.DataArray'>, <class 'numpy.ndarray'>, None]\n",
      "\tHomogenisation for fit of salinity\n",
      "\tFeatures array shape and type for xarray: (7560, 30) <class 'numpy.ndarray'> <class 'memoryview'>\n",
      "> Preprocessing done, working with final X (<class 'xarray.core.dataarray.DataArray'>) array of shape: (7560, 30)  and sampling dimensions: ['N_PROF']\n"
     ]
    },
    {
     "data": {
      "text/plain": [
       "<pcm 'gmm' (K: 8, F: 2)>\n",
       "Number of class: 8\n",
       "Number of feature: 2\n",
       "Feature names: odict_keys(['temperature', 'salinity'])\n",
       "Fitted: True\n",
       "Feature: 'temperature'\n",
       "\t Interpoler: <class 'pyxpcm.utils.Vertical_Interpolator'>\n",
       "\t Scaler: 'normal', <class 'sklearn.preprocessing.data.StandardScaler'>\n",
       "\t Reducer: True, <class 'sklearn.decomposition.pca.PCA'>\n",
       "Feature: 'salinity'\n",
       "\t Interpoler: <class 'pyxpcm.utils.Vertical_Interpolator'>\n",
       "\t Scaler: 'normal', <class 'sklearn.preprocessing.data.StandardScaler'>\n",
       "\t Reducer: True, <class 'sklearn.decomposition.pca.PCA'>\n",
       "Classifier: 'gmm', <class 'sklearn.mixture.gaussian_mixture.GaussianMixture'>\n",
       "\t log likelihood of the training set: 38.825077"
      ]
     },
     "execution_count": 6,
     "metadata": {},
     "output_type": "execute_result"
    }
   ],
   "source": [
    "# Clean up dataset of previous results:\n",
    "ds = ds.pyxpcm.clean()\n",
    "\n",
    "# Instantiate a new PCM:\n",
    "m = pcm(K=8, features=features_pcm, debug=True)\n",
    "\n",
    "# Fit with log:\n",
    "m.fit(ds, features=features_in_ds)"
   ]
  },
  {
   "cell_type": "markdown",
   "metadata": {
    "toc-hr-collapsed": true
   },
   "source": [
    "## Performance / Optimisation\n",
    "\n",
    "Use ``timeit`` and ``timeit_verb`` to compute computation time of PCM operations\n",
    "\n",
    "Times are accessible as a pandas Dataframe in ``timeit`` pyXpcm instance property.\n",
    "\n",
    "The pyXpcm ``m.plot.timeit()`` plot method allows for a simple visualisation of times."
   ]
  },
  {
   "cell_type": "markdown",
   "metadata": {},
   "source": [
    "### Time readings at execution time"
   ]
  },
  {
   "cell_type": "code",
   "execution_count": 7,
   "metadata": {},
   "outputs": [],
   "source": [
    "# Create a PCM and use several methods to time:\n",
    "m = pcm(K=8, features=features_pcm, timeit=True)\n",
    "m.fit(ds, features=features_in_ds);\n",
    "m.predict(ds, features=features_in_ds);\n",
    "m.fit_predict(ds, features=features_in_ds);"
   ]
  },
  {
   "cell_type": "code",
   "execution_count": 8,
   "metadata": {},
   "outputs": [
    {
     "data": {
      "text/plain": [
       "Method       Sub-method    Sub-sub-method         Sub-sub-sub-method\n",
       "fit          1-preprocess  1-mask                 total                   51.106930\n",
       "                           2-feature_temperature  1-ravel                245.905876\n",
       "                                                  2-interp                 1.080275\n",
       "                                                  3-scale_fit            584.243059\n",
       "                                                  4-scale_transform      233.374119\n",
       "                                                  5-reduce_fit            22.937059\n",
       "                                                  6-reduce_transform       3.501892\n",
       "                                                  total                 1091.207743\n",
       "                           total                                        4166.110039\n",
       "                           3-homogeniser          total                    2.616644\n",
       "                           2-feature_salinity     1-ravel                222.576857\n",
       "                                                  2-interp                 1.103878\n",
       "                                                  3-scale_fit            476.553917\n",
       "                                                  4-scale_transform      227.429152\n",
       "                                                  5-reduce_fit            31.663895\n",
       "                                                  6-reduce_transform       3.693819\n",
       "                                                  total                  963.260174\n",
       "                           4-xarray               total                    1.509190\n",
       "             2-fit         total                                        3330.626726\n",
       "             3-score       total                                          13.963938\n",
       "             total                                                      5456.145048\n",
       "predict      1-preprocess  1-mask                 total                   26.643038\n",
       "                           2-feature_temperature  1-ravel                244.880915\n",
       "                                                  2-interp                 1.402140\n",
       "                                                  3-scale_fit              0.002146\n",
       "                                                  4-scale_transform      303.567171\n",
       "                                                  5-reduce_fit             0.002146\n",
       "                                                  6-reduce_transform       4.565954\n",
       "                                                  total                  554.559946\n",
       "                           total                                        2333.876610\n",
       "                                                                           ...     \n",
       "                           2-feature_salinity     total                  596.543789\n",
       "                           4-xarray               total                    1.847982\n",
       "             2-predict     total                                          13.150930\n",
       "             score         total                                          19.834995\n",
       "             3-xarray      total                                         531.499863\n",
       "             total                                                      1747.170925\n",
       "fit_predict  1-preprocess  1-mask                 total                   51.659822\n",
       "                           2-feature_temperature  1-ravel                255.759716\n",
       "                                                  2-interp                 1.357794\n",
       "                                                  3-scale_fit              0.002861\n",
       "                                                  4-scale_transform      226.548910\n",
       "                                                  5-reduce_fit             0.002146\n",
       "                                                  6-reduce_transform       3.614902\n",
       "                                                  total                  487.434864\n",
       "                           total                                        1979.764700\n",
       "                           3-homogeniser          total                    2.254248\n",
       "                           2-feature_salinity     1-ravel                219.725847\n",
       "                                                  2-interp                 1.121998\n",
       "                                                  3-scale_fit              0.001907\n",
       "                                                  4-scale_transform      249.731064\n",
       "                                                  5-reduce_fit             0.003099\n",
       "                                                  6-reduce_transform       3.494024\n",
       "                                                  total                  474.234819\n",
       "                           4-xarray               total                    1.163006\n",
       "             2-fit         total                                        4144.562960\n",
       "             3-score       total                                          26.190758\n",
       "             4-predict     total                                          10.072708\n",
       "             5-score       total                                          13.854027\n",
       "             6-xarray      total                                         478.214979\n",
       "             total                                                      5690.968752\n",
       "Length: 67, dtype: float64"
      ]
     },
     "execution_count": 8,
     "metadata": {},
     "output_type": "execute_result"
    }
   ],
   "source": [
    "# Timing are accessible through a dataframe in the timeit property:\n",
    "m.timeit"
   ]
  },
  {
   "cell_type": "markdown",
   "metadata": {},
   "source": [
    "### Compare details of steps for each method"
   ]
  },
  {
   "cell_type": "code",
   "execution_count": 9,
   "metadata": {},
   "outputs": [
    {
     "data": {
      "text/html": [
       "<div>\n",
       "<style scoped>\n",
       "    .dataframe tbody tr th:only-of-type {\n",
       "        vertical-align: middle;\n",
       "    }\n",
       "\n",
       "    .dataframe tbody tr th {\n",
       "        vertical-align: top;\n",
       "    }\n",
       "\n",
       "    .dataframe thead th {\n",
       "        text-align: right;\n",
       "    }\n",
       "</style>\n",
       "<table border=\"1\" class=\"dataframe\">\n",
       "  <thead>\n",
       "    <tr style=\"text-align: right;\">\n",
       "      <th>Sub-method</th>\n",
       "      <th>1-preprocess</th>\n",
       "      <th>2-fit</th>\n",
       "      <th>2-predict</th>\n",
       "      <th>3-score</th>\n",
       "      <th>3-xarray</th>\n",
       "      <th>4-predict</th>\n",
       "      <th>5-score</th>\n",
       "      <th>6-xarray</th>\n",
       "      <th>score</th>\n",
       "    </tr>\n",
       "    <tr>\n",
       "      <th>Method</th>\n",
       "      <th></th>\n",
       "      <th></th>\n",
       "      <th></th>\n",
       "      <th></th>\n",
       "      <th></th>\n",
       "      <th></th>\n",
       "      <th></th>\n",
       "      <th></th>\n",
       "      <th></th>\n",
       "    </tr>\n",
       "  </thead>\n",
       "  <tbody>\n",
       "    <tr>\n",
       "      <th>fit</th>\n",
       "      <td>8329.874516</td>\n",
       "      <td>3330.626726</td>\n",
       "      <td>NaN</td>\n",
       "      <td>13.963938</td>\n",
       "      <td>NaN</td>\n",
       "      <td>NaN</td>\n",
       "      <td>NaN</td>\n",
       "      <td>NaN</td>\n",
       "      <td>NaN</td>\n",
       "    </tr>\n",
       "    <tr>\n",
       "      <th>fit_predict</th>\n",
       "      <td>3957.875729</td>\n",
       "      <td>4144.562960</td>\n",
       "      <td>NaN</td>\n",
       "      <td>26.190758</td>\n",
       "      <td>NaN</td>\n",
       "      <td>10.072708</td>\n",
       "      <td>13.854027</td>\n",
       "      <td>478.214979</td>\n",
       "      <td>NaN</td>\n",
       "    </tr>\n",
       "    <tr>\n",
       "      <th>predict</th>\n",
       "      <td>4665.610075</td>\n",
       "      <td>NaN</td>\n",
       "      <td>13.15093</td>\n",
       "      <td>NaN</td>\n",
       "      <td>531.499863</td>\n",
       "      <td>NaN</td>\n",
       "      <td>NaN</td>\n",
       "      <td>NaN</td>\n",
       "      <td>19.834995</td>\n",
       "    </tr>\n",
       "  </tbody>\n",
       "</table>\n",
       "</div>"
      ],
      "text/plain": [
       "Sub-method   1-preprocess        2-fit  2-predict    3-score    3-xarray  \\\n",
       "Method                                                                     \n",
       "fit           8329.874516  3330.626726        NaN  13.963938         NaN   \n",
       "fit_predict   3957.875729  4144.562960        NaN  26.190758         NaN   \n",
       "predict       4665.610075          NaN   13.15093        NaN  531.499863   \n",
       "\n",
       "Sub-method   4-predict    5-score    6-xarray      score  \n",
       "Method                                                    \n",
       "fit                NaN        NaN         NaN        NaN  \n",
       "fit_predict  10.072708  13.854027  478.214979        NaN  \n",
       "predict            NaN        NaN         NaN  19.834995  "
      ]
     },
     "execution_count": 9,
     "metadata": {},
     "output_type": "execute_result"
    },
    {
     "data": {
      "image/png": "[encoded data removed]",
      "text/plain": [
       "<Figure size 450x270 with 1 Axes>"
      ]
     },
     "metadata": {},
     "output_type": "display_data"
    }
   ],
   "source": [
    "fig, ax, df = m.plot.timeit(group='Method', split='Sub-method', style='darkgrid') # Default group/split\n",
    "df"
   ]
  },
  {
   "cell_type": "markdown",
   "metadata": {},
   "source": [
    "### Compare preprocessing steps for each method"
   ]
  },
  {
   "cell_type": "code",
   "execution_count": 10,
   "metadata": {},
   "outputs": [
    {
     "data": {
      "text/html": [
       "<div>\n",
       "<style scoped>\n",
       "    .dataframe tbody tr th:only-of-type {\n",
       "        vertical-align: middle;\n",
       "    }\n",
       "\n",
       "    .dataframe tbody tr th {\n",
       "        vertical-align: top;\n",
       "    }\n",
       "\n",
       "    .dataframe thead th {\n",
       "        text-align: right;\n",
       "    }\n",
       "</style>\n",
       "<table border=\"1\" class=\"dataframe\">\n",
       "  <thead>\n",
       "    <tr style=\"text-align: right;\">\n",
       "      <th>Sub-sub-method</th>\n",
       "      <th>1-mask</th>\n",
       "      <th>2-feature_salinity</th>\n",
       "      <th>2-feature_temperature</th>\n",
       "      <th>3-homogeniser</th>\n",
       "      <th>4-xarray</th>\n",
       "    </tr>\n",
       "    <tr>\n",
       "      <th>Method</th>\n",
       "      <th></th>\n",
       "      <th></th>\n",
       "      <th></th>\n",
       "      <th></th>\n",
       "      <th></th>\n",
       "    </tr>\n",
       "  </thead>\n",
       "  <tbody>\n",
       "    <tr>\n",
       "      <th>fit</th>\n",
       "      <td>51.106930</td>\n",
       "      <td>1926.281691</td>\n",
       "      <td>2182.250023</td>\n",
       "      <td>2.616644</td>\n",
       "      <td>1.509190</td>\n",
       "    </tr>\n",
       "    <tr>\n",
       "      <th>fit_predict</th>\n",
       "      <td>51.659822</td>\n",
       "      <td>948.312759</td>\n",
       "      <td>974.721193</td>\n",
       "      <td>2.254248</td>\n",
       "      <td>1.163006</td>\n",
       "    </tr>\n",
       "    <tr>\n",
       "      <th>predict</th>\n",
       "      <td>26.643038</td>\n",
       "      <td>1192.912102</td>\n",
       "      <td>1108.980417</td>\n",
       "      <td>1.349926</td>\n",
       "      <td>1.847982</td>\n",
       "    </tr>\n",
       "  </tbody>\n",
       "</table>\n",
       "</div>"
      ],
      "text/plain": [
       "Sub-sub-method     1-mask  2-feature_salinity  2-feature_temperature  \\\n",
       "Method                                                                 \n",
       "fit             51.106930         1926.281691            2182.250023   \n",
       "fit_predict     51.659822          948.312759             974.721193   \n",
       "predict         26.643038         1192.912102            1108.980417   \n",
       "\n",
       "Sub-sub-method  3-homogeniser  4-xarray  \n",
       "Method                                   \n",
       "fit                  2.616644  1.509190  \n",
       "fit_predict          2.254248  1.163006  \n",
       "predict              1.349926  1.847982  "
      ]
     },
     "execution_count": 10,
     "metadata": {},
     "output_type": "execute_result"
    },
    {
     "data": {
      "image/png": "[encoded data removed]",
      "text/plain": [
       "<Figure size 450x270 with 1 Axes>"
      ]
     },
     "metadata": {},
     "output_type": "display_data"
    }
   ],
   "source": [
    "fig, ax, df = m.plot.timeit(group='Method', split='Sub-sub-method')\n",
    "df"
   ]
  },
  {
   "cell_type": "markdown",
   "metadata": {},
   "source": [
    "### Compare details of preprocessing steps for each method"
   ]
  },
  {
   "cell_type": "code",
   "execution_count": 11,
   "metadata": {},
   "outputs": [
    {
     "data": {
      "text/html": [
       "<div>\n",
       "<style scoped>\n",
       "    .dataframe tbody tr th:only-of-type {\n",
       "        vertical-align: middle;\n",
       "    }\n",
       "\n",
       "    .dataframe tbody tr th {\n",
       "        vertical-align: top;\n",
       "    }\n",
       "\n",
       "    .dataframe thead th {\n",
       "        text-align: right;\n",
       "    }\n",
       "</style>\n",
       "<table border=\"1\" class=\"dataframe\">\n",
       "  <thead>\n",
       "    <tr style=\"text-align: right;\">\n",
       "      <th>Sub-sub-sub-method</th>\n",
       "      <th>1-ravel</th>\n",
       "      <th>2-interp</th>\n",
       "      <th>3-scale_fit</th>\n",
       "      <th>4-scale_transform</th>\n",
       "      <th>5-reduce_fit</th>\n",
       "      <th>6-reduce_transform</th>\n",
       "    </tr>\n",
       "    <tr>\n",
       "      <th>Method</th>\n",
       "      <th></th>\n",
       "      <th></th>\n",
       "      <th></th>\n",
       "      <th></th>\n",
       "      <th></th>\n",
       "      <th></th>\n",
       "    </tr>\n",
       "  </thead>\n",
       "  <tbody>\n",
       "    <tr>\n",
       "      <th>fit</th>\n",
       "      <td>468.482733</td>\n",
       "      <td>2.184153</td>\n",
       "      <td>1060.796976</td>\n",
       "      <td>460.803270</td>\n",
       "      <td>54.600954</td>\n",
       "      <td>7.195711</td>\n",
       "    </tr>\n",
       "    <tr>\n",
       "      <th>fit_predict</th>\n",
       "      <td>475.485563</td>\n",
       "      <td>2.479792</td>\n",
       "      <td>0.004768</td>\n",
       "      <td>476.279974</td>\n",
       "      <td>0.005245</td>\n",
       "      <td>7.108927</td>\n",
       "    </tr>\n",
       "    <tr>\n",
       "      <th>predict</th>\n",
       "      <td>533.695936</td>\n",
       "      <td>3.360033</td>\n",
       "      <td>0.004292</td>\n",
       "      <td>605.052233</td>\n",
       "      <td>0.004053</td>\n",
       "      <td>8.672237</td>\n",
       "    </tr>\n",
       "  </tbody>\n",
       "</table>\n",
       "</div>"
      ],
      "text/plain": [
       "Sub-sub-sub-method     1-ravel  2-interp  3-scale_fit  4-scale_transform  \\\n",
       "Method                                                                     \n",
       "fit                 468.482733  2.184153  1060.796976         460.803270   \n",
       "fit_predict         475.485563  2.479792     0.004768         476.279974   \n",
       "predict             533.695936  3.360033     0.004292         605.052233   \n",
       "\n",
       "Sub-sub-sub-method  5-reduce_fit  6-reduce_transform  \n",
       "Method                                                \n",
       "fit                    54.600954            7.195711  \n",
       "fit_predict             0.005245            7.108927  \n",
       "predict                 0.004053            8.672237  "
      ]
     },
     "execution_count": 11,
     "metadata": {},
     "output_type": "execute_result"
    },
    {
     "data": {
      "image/png": "[encoded data removed]",
      "text/plain": [
       "<Figure size 450x270 with 1 Axes>"
      ]
     },
     "metadata": {},
     "output_type": "display_data"
    }
   ],
   "source": [
    "fig, ax, df = m.plot.timeit(group='Method', split='Sub-sub-sub-method')\n",
    "df"
   ]
  },
  {
   "cell_type": "markdown",
   "metadata": {},
   "source": [
    "### Compare details of preprocessing steps for each feature"
   ]
  },
  {
   "cell_type": "code",
   "execution_count": 12,
   "metadata": {},
   "outputs": [
    {
     "data": {
      "text/html": [
       "<div>\n",
       "<style scoped>\n",
       "    .dataframe tbody tr th:only-of-type {\n",
       "        vertical-align: middle;\n",
       "    }\n",
       "\n",
       "    .dataframe tbody tr th {\n",
       "        vertical-align: top;\n",
       "    }\n",
       "\n",
       "    .dataframe thead th {\n",
       "        text-align: right;\n",
       "    }\n",
       "</style>\n",
       "<table border=\"1\" class=\"dataframe\">\n",
       "  <thead>\n",
       "    <tr style=\"text-align: right;\">\n",
       "      <th>Sub-sub-sub-method</th>\n",
       "      <th>1-ravel</th>\n",
       "      <th>2-interp</th>\n",
       "      <th>3-scale_fit</th>\n",
       "      <th>4-scale_transform</th>\n",
       "      <th>5-reduce_fit</th>\n",
       "      <th>6-reduce_transform</th>\n",
       "    </tr>\n",
       "    <tr>\n",
       "      <th>Sub-sub-method</th>\n",
       "      <th></th>\n",
       "      <th></th>\n",
       "      <th></th>\n",
       "      <th></th>\n",
       "      <th></th>\n",
       "      <th></th>\n",
       "    </tr>\n",
       "  </thead>\n",
       "  <tbody>\n",
       "    <tr>\n",
       "      <th>2-feature_salinity</th>\n",
       "      <td>0.731118</td>\n",
       "      <td>0.004184</td>\n",
       "      <td>0.476558</td>\n",
       "      <td>0.778645</td>\n",
       "      <td>0.031669</td>\n",
       "      <td>0.011294</td>\n",
       "    </tr>\n",
       "    <tr>\n",
       "      <th>2-feature_temperature</th>\n",
       "      <td>0.746547</td>\n",
       "      <td>0.003840</td>\n",
       "      <td>0.584248</td>\n",
       "      <td>0.763490</td>\n",
       "      <td>0.022941</td>\n",
       "      <td>0.011683</td>\n",
       "    </tr>\n",
       "  </tbody>\n",
       "</table>\n",
       "</div>"
      ],
      "text/plain": [
       "Sub-sub-sub-method      1-ravel  2-interp  3-scale_fit  4-scale_transform  \\\n",
       "Sub-sub-method                                                              \n",
       "2-feature_salinity     0.731118  0.004184     0.476558           0.778645   \n",
       "2-feature_temperature  0.746547  0.003840     0.584248           0.763490   \n",
       "\n",
       "Sub-sub-sub-method     5-reduce_fit  6-reduce_transform  \n",
       "Sub-sub-method                                           \n",
       "2-feature_salinity         0.031669            0.011294  \n",
       "2-feature_temperature      0.022941            0.011683  "
      ]
     },
     "execution_count": 12,
     "metadata": {},
     "output_type": "execute_result"
    },
    {
     "data": {
      "image/png": "[encoded data removed]",
      "text/plain": [
       "<Figure size 450x270 with 1 Axes>"
      ]
     },
     "metadata": {},
     "output_type": "display_data"
    }
   ],
   "source": [
    "fig, ax, df = m.plot.timeit(split='Sub-sub-sub-method', group='Sub-sub-method', unit='s')\n",
    "df"
   ]
  }
 ],
 "metadata": {
  "kernelspec": {
   "display_name": "obidam36",
   "language": "python",
   "name": "obidam36"
  },
  "language_info": {
   "codemirror_mode": {
    "name": "ipython",
    "version": 3
   },
   "file_extension": ".py",
   "mimetype": "text/x-python",
   "name": "python",
   "nbconvert_exporter": "python",
   "pygments_lexer": "ipython3",
   "version": "3.6.7"
  },
  "toc-showmarkdowntxt": true
 },
 "nbformat": 4,
 "nbformat_minor": 2
}
