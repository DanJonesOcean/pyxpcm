{
 "cells": [
  {
   "cell_type": "markdown",
   "metadata": {
    "papermill": {
     "duration": 0.013678,
     "end_time": "2020-02-21T20:04:38.402581",
     "exception": false,
     "start_time": "2020-02-21T20:04:38.388903",
     "status": "completed"
    },
    "tags": [],
    "toc-hr-collapsed": false
   },
   "source": [
    "# Debugging and performances"
   ]
  },
  {
   "cell_type": "code",
   "execution_count": 1,
   "metadata": {
    "nbsphinx": "hidden",
    "papermill": {
     "duration": 1.2536,
     "end_time": "2020-02-21T20:04:39.664965",
     "exception": false,
     "start_time": "2020-02-21T20:04:38.411365",
     "status": "completed"
    },
    "tags": []
   },
   "outputs": [
    {
     "name": "stdout",
     "output_type": "stream",
     "text": [
      "xarray: 0.14.2.dev62+g6d1434e9, /Users/gmaze/anaconda/envs/obidam36/lib/python3.6/site-packages/xarray/__init__.py\n"
     ]
    },
    {
     "name": "stdout",
     "output_type": "stream",
     "text": [
      "pyxpcm: 0.4.0, /Users/gmaze/git/github/gmaze/pyxpcm/pyxpcm/__init__.py\n"
     ]
    }
   ],
   "source": [
    "# Hidden cell\n",
    "import os, sys\n",
    "import numpy as np\n",
    "import pandas as pd\n",
    "import xarray as xr\n",
    "print(\"xarray: %s, %s\" % (xr.__version__, xr.__file__))\n",
    "\n",
    "import matplotlib.pyplot as plt\n",
    "%matplotlib inline\n",
    "sys.path.insert(0, os.path.abspath('/Users/gmaze/git/github/gmaze/pyxpcm'))\n",
    "\n",
    "import pyxpcm\n",
    "print(\"pyxpcm: %s, %s\" % (pyxpcm.__version__, pyxpcm.__file__))"
   ]
  },
  {
   "cell_type": "markdown",
   "metadata": {
    "papermill": {
     "duration": 0.00713,
     "end_time": "2020-02-21T20:04:39.679647",
     "exception": false,
     "start_time": "2020-02-21T20:04:39.672517",
     "status": "completed"
    },
    "tags": []
   },
   "source": [
    "**Import and set-up**\n",
    "\n",
    "Import the library and toy data"
   ]
  },
  {
   "cell_type": "code",
   "execution_count": 2,
   "metadata": {
    "papermill": {
     "duration": 0.039884,
     "end_time": "2020-02-21T20:04:39.727159",
     "exception": false,
     "start_time": "2020-02-21T20:04:39.687275",
     "status": "completed"
    },
    "tags": []
   },
   "outputs": [],
   "source": [
    "import pyxpcm\n",
    "from pyxpcm.models import pcm\n",
    "\n",
    "# Load a dataset to work with:\n",
    "ds = pyxpcm.tutorial.open_dataset('argo').load()\n",
    "\n",
    "# Define vertical axis and features to use:\n",
    "z = np.arange(0.,-1000.,-10.)\n",
    "features_pcm = {'temperature': z, 'salinity': z}\n",
    "features_in_ds = {'temperature': 'TEMP', 'salinity': 'PSAL'}"
   ]
  },
  {
   "cell_type": "markdown",
   "metadata": {
    "papermill": {
     "duration": 0.00726,
     "end_time": "2020-02-21T20:04:39.741909",
     "exception": false,
     "start_time": "2020-02-21T20:04:39.734649",
     "status": "completed"
    },
    "tags": []
   },
   "source": [
    "## Debugging\n",
    "\n",
    "Use option ``debug`` to print log messages "
   ]
  },
  {
   "cell_type": "code",
   "execution_count": 3,
   "metadata": {
    "papermill": {
     "duration": 29.378812,
     "end_time": "2020-02-21T20:05:09.128124",
     "exception": false,
     "start_time": "2020-02-21T20:04:39.749312",
     "status": "completed"
    },
    "tags": []
   },
   "outputs": [
    {
     "name": "stdout",
     "output_type": "stream",
     "text": [
      "> Start preprocessing for action 'fit'\n"
     ]
    },
    {
     "name": "stdout",
     "output_type": "stream",
     "text": [
      "\n",
      "\t> Preprocessing xarray dataset 'TEMP' as PCM feature 'temperature'\n",
      "\t X RAVELED with success [<class 'xarray.core.dataarray.DataArray'>, <class 'dask.array.core.Array'>, ((7560,), (282,))]\n",
      "\t\tOutput axis is in the input axis, not need to interpolate, simple intersection\n",
      "\t X INTERPOLATED with success [<class 'xarray.core.dataarray.DataArray'>, <class 'dask.array.core.Array'>, ((7560,), (100,))]\n",
      "\t X SCALED with success) [<class 'xarray.core.dataarray.DataArray'>, <class 'numpy.ndarray'>, None]\n",
      "\t X REDUCED with success) [<class 'xarray.core.dataarray.DataArray'>, <class 'numpy.ndarray'>, None]\n",
      "\ttemperature pre-processed with success,  [<class 'xarray.core.dataarray.DataArray'>, <class 'numpy.ndarray'>, None]\n",
      "\tHomogenisation for fit of temperature\n",
      "\n",
      "\t> Preprocessing xarray dataset 'PSAL' as PCM feature 'salinity'\n"
     ]
    },
    {
     "name": "stdout",
     "output_type": "stream",
     "text": [
      "\t X RAVELED with success [<class 'xarray.core.dataarray.DataArray'>, <class 'dask.array.core.Array'>, ((7560,), (282,))]\n",
      "\t\tOutput axis is in the input axis, not need to interpolate, simple intersection\n",
      "\t X INTERPOLATED with success [<class 'xarray.core.dataarray.DataArray'>, <class 'dask.array.core.Array'>, ((7560,), (100,))]\n",
      "\t X SCALED with success) [<class 'xarray.core.dataarray.DataArray'>, <class 'numpy.ndarray'>, None]\n",
      "\t X REDUCED with success) [<class 'xarray.core.dataarray.DataArray'>, <class 'numpy.ndarray'>, None]\n",
      "\tsalinity pre-processed with success,  [<class 'xarray.core.dataarray.DataArray'>, <class 'numpy.ndarray'>, None]\n",
      "\tHomogenisation for fit of salinity\n",
      "\tFeatures array shape and type for xarray: (7560, 30) <class 'numpy.ndarray'> <class 'memoryview'>\n",
      "> Preprocessing done, working with final X (<class 'xarray.core.dataarray.DataArray'>) array of shape: (7560, 30)  and sampling dimensions: ['N_PROF']\n"
     ]
    }
   ],
   "source": [
    "# Instantiate a new PCM:\n",
    "m = pcm(K=8, features=features_pcm, debug=True)\n",
    "\n",
    "# Fit with log:\n",
    "m.fit(ds, features=features_in_ds);"
   ]
  },
  {
   "cell_type": "markdown",
   "metadata": {
    "papermill": {
     "duration": 0.007917,
     "end_time": "2020-02-21T20:05:09.144098",
     "exception": false,
     "start_time": "2020-02-21T20:05:09.136181",
     "status": "completed"
    },
    "tags": [],
    "toc-hr-collapsed": true
   },
   "source": [
    "## Performance / Optimisation\n",
    "\n",
    "Use ``timeit`` and ``timeit_verb`` to compute computation time of PCM operations\n",
    "\n",
    "Times are accessible as a pandas Dataframe in ``timeit`` pyXpcm instance property.\n",
    "\n",
    "The pyXpcm ``m.plot.timeit()`` plot method allows for a simple visualisation of times."
   ]
  },
  {
   "cell_type": "markdown",
   "metadata": {
    "papermill": {
     "duration": 0.008014,
     "end_time": "2020-02-21T20:05:09.160416",
     "exception": false,
     "start_time": "2020-02-21T20:05:09.152402",
     "status": "completed"
    },
    "tags": []
   },
   "source": [
    "### Time readings during execution"
   ]
  },
  {
   "cell_type": "code",
   "execution_count": 4,
   "metadata": {
    "papermill": {
     "duration": 1.900273,
     "end_time": "2020-02-21T20:05:11.068536",
     "exception": false,
     "start_time": "2020-02-21T20:05:09.168263",
     "status": "completed"
    },
    "tags": []
   },
   "outputs": [
    {
     "name": "stdout",
     "output_type": "stream",
     "text": [
      "  fit.1-preprocess.1-mask: 20 ms\n",
      "  fit.1-preprocess.2-feature_temperature.1-ravel: 29 ms\n",
      "  fit.1-preprocess.2-feature_temperature.2-interp: 0 ms\n",
      "  fit.1-preprocess.2-feature_temperature.3-scale_fit: 7 ms\n",
      "  fit.1-preprocess.2-feature_temperature.4-scale_transform: 4 ms\n",
      "  fit.1-preprocess.2-feature_temperature.5-reduce_fit: 10 ms\n",
      "  fit.1-preprocess.2-feature_temperature.6-reduce_transform: 2 ms\n",
      "  fit.1-preprocess.2-feature_temperature.total: 55 ms\n",
      "  fit.1-preprocess: 55 ms\n",
      "  fit.1-preprocess.3-homogeniser: 1 ms\n",
      "  fit.1-preprocess.2-feature_salinity.1-ravel: 25 ms\n",
      "  fit.1-preprocess.2-feature_salinity.2-interp: 0 ms\n",
      "  fit.1-preprocess.2-feature_salinity.3-scale_fit: 7 ms\n",
      "  fit.1-preprocess.2-feature_salinity.4-scale_transform: 4 ms\n",
      "  fit.1-preprocess.2-feature_salinity.5-reduce_fit: 9 ms\n",
      "  fit.1-preprocess.2-feature_salinity.6-reduce_transform: 2 ms\n",
      "  fit.1-preprocess.2-feature_salinity.total: 50 ms\n",
      "  fit.1-preprocess: 50 ms\n",
      "  fit.1-preprocess.3-homogeniser: 1 ms\n",
      "  fit.1-preprocess.4-xarray: 0 ms\n",
      "  fit.1-preprocess: 131 ms\n"
     ]
    },
    {
     "name": "stdout",
     "output_type": "stream",
     "text": [
      "  fit.fit: 1743 ms\n",
      "  fit.score: 9 ms\n",
      "  fit: 1884 ms\n"
     ]
    }
   ],
   "source": [
    "# Create a PCM and execute methods:\n",
    "m = pcm(K=8, features=features_pcm, timeit=True, timeit_verb=1)\n",
    "m.fit(ds, features=features_in_ds);"
   ]
  },
  {
   "cell_type": "markdown",
   "metadata": {
    "papermill": {
     "duration": 0.008152,
     "end_time": "2020-02-21T20:05:11.085270",
     "exception": false,
     "start_time": "2020-02-21T20:05:11.077118",
     "status": "completed"
    },
    "tags": []
   },
   "source": [
    "### A posteriori Execution time analysis"
   ]
  },
  {
   "cell_type": "code",
   "execution_count": 5,
   "metadata": {
    "papermill": {
     "duration": 3.915911,
     "end_time": "2020-02-21T20:05:15.009456",
     "exception": false,
     "start_time": "2020-02-21T20:05:11.093545",
     "status": "completed"
    },
    "tags": []
   },
   "outputs": [],
   "source": [
    "# Create a PCM and execute methods:\n",
    "m = pcm(K=8, features=features_pcm, timeit=True, timeit_verb=0)\n",
    "m.fit(ds, features=features_in_ds);\n",
    "m.predict(ds, features=features_in_ds);\n",
    "m.fit_predict(ds, features=features_in_ds);"
   ]
  },
  {
   "cell_type": "raw",
   "metadata": {
    "papermill": {
     "duration": 0.008658,
     "end_time": "2020-02-21T20:05:15.026852",
     "exception": false,
     "start_time": "2020-02-21T20:05:15.018194",
     "status": "completed"
    },
    "raw_mimetype": "text/restructuredtext",
    "tags": []
   },
   "source": [
    "Execution times are accessible through a dataframe with the :py:attr:`pyxpcm.pcm.timeit` property"
   ]
  },
  {
   "cell_type": "code",
   "execution_count": 6,
   "metadata": {
    "papermill": {
     "duration": 0.032167,
     "end_time": "2020-02-21T20:05:15.067566",
     "exception": false,
     "start_time": "2020-02-21T20:05:15.035399",
     "status": "completed"
    },
    "tags": []
   },
   "outputs": [
    {
     "data": {
      "text/plain": [
       "Method       Sub-method    Sub-sub-method         Sub-sub-sub-method\n",
       "fit          1-preprocess  1-mask                 total                   18.404007\n",
       "                           2-feature_temperature  1-ravel                 28.075933\n",
       "                                                  2-interp                 0.684977\n",
       "                                                  3-scale_fit             10.245085\n",
       "                                                  4-scale_transform        4.314899\n",
       "                                                  5-reduce_fit            13.271093\n",
       "                                                  6-reduce_transform       2.992868\n",
       "                                                  total                   59.717894\n",
       "                           total                                         240.025282\n",
       "                           3-homogeniser          total                    2.261877\n",
       "                           2-feature_salinity     1-ravel                 22.089243\n",
       "                                                  2-interp                 0.683069\n",
       "                                                  3-scale_fit              8.880138\n",
       "                                                  4-scale_transform        4.943848\n",
       "                                                  5-reduce_fit             9.371042\n",
       "                                                  6-reduce_transform       2.707005\n",
       "                                                  total                   48.817158\n",
       "                           4-xarray               total                    0.952005\n",
       "             fit           total                                        1767.950773\n",
       "             score         total                                           8.771181\n",
       "             total                                                      1908.773899\n",
       "predict      1-preprocess  1-mask                 total                   19.385815\n",
       "                           2-feature_temperature  1-ravel                 29.906034\n",
       "                                                  2-interp                 0.788212\n",
       "                                                  3-scale_fit              0.001192\n",
       "                                                  4-scale_transform        4.422188\n",
       "                                                  5-reduce_fit             0.001907\n",
       "                                                  6-reduce_transform       2.642870\n",
       "                                                  total                   37.863016\n",
       "                           total                                         165.123940\n",
       "                                                                           ...     \n",
       "                           2-feature_salinity     6-reduce_transform       2.346039\n",
       "                                                  total                   33.475161\n",
       "                           4-xarray               total                    0.947952\n",
       "             predict       total                                           9.085178\n",
       "             score         total                                           8.865118\n",
       "             xarray        total                                           6.392956\n",
       "             total                                                       118.532181\n",
       "fit_predict  1-preprocess  1-mask                 total                   21.242142\n",
       "                           2-feature_temperature  1-ravel                 20.133018\n",
       "                                                  2-interp                 0.679016\n",
       "                                                  3-scale_fit              0.002146\n",
       "                                                  4-scale_transform        5.913973\n",
       "                                                  5-reduce_fit             0.001907\n",
       "                                                  6-reduce_transform       3.624201\n",
       "                                                  total                   30.459881\n",
       "                           total                                         152.263641\n",
       "                           3-homogeniser          total                    2.266169\n",
       "                           2-feature_salinity     1-ravel                 24.268866\n",
       "                                                  2-interp                 1.055956\n",
       "                                                  3-scale_fit              0.000954\n",
       "                                                  4-scale_transform        5.002022\n",
       "                                                  5-reduce_fit             0.002146\n",
       "                                                  6-reduce_transform       2.333879\n",
       "                                                  total                   32.801151\n",
       "                           4-xarray               total                    0.962973\n",
       "             fit           total                                        1761.704922\n",
       "             score         total                                           8.709669\n",
       "             predict       total                                           7.534742\n",
       "             xarray        total                                           5.710125\n",
       "             total                                                      1872.678995\n",
       "Length: 66, dtype: float64"
      ]
     },
     "execution_count": 6,
     "metadata": {},
     "output_type": "execute_result"
    }
   ],
   "source": [
    "m.timeit"
   ]
  },
  {
   "cell_type": "markdown",
   "metadata": {
    "papermill": {
     "duration": 0.008997,
     "end_time": "2020-02-21T20:05:15.086630",
     "exception": false,
     "start_time": "2020-02-21T20:05:15.077633",
     "status": "completed"
    },
    "raw_mimetype": "-",
    "tags": []
   },
   "source": [
    "## Visualisation help"
   ]
  },
  {
   "cell_type": "raw",
   "metadata": {
    "papermill": {
     "duration": 0.010147,
     "end_time": "2020-02-21T20:05:15.106413",
     "exception": false,
     "start_time": "2020-02-21T20:05:15.096266",
     "status": "completed"
    },
    "raw_mimetype": "text/restructuredtext",
    "tags": []
   },
   "source": [
    "To facilitate your analysis of execution times, you can use :meth:`pyxpcm.plot.timeit`."
   ]
  },
  {
   "cell_type": "markdown",
   "metadata": {
    "papermill": {
     "duration": 0.008793,
     "end_time": "2020-02-21T20:05:15.125195",
     "exception": false,
     "start_time": "2020-02-21T20:05:15.116402",
     "status": "completed"
    },
    "tags": []
   },
   "source": [
    "### Main steps by method"
   ]
  },
  {
   "cell_type": "code",
   "execution_count": 7,
   "metadata": {
    "papermill": {
     "duration": 0.274869,
     "end_time": "2020-02-21T20:05:15.409682",
     "exception": false,
     "start_time": "2020-02-21T20:05:15.134813",
     "status": "completed"
    },
    "tags": []
   },
   "outputs": [
    {
     "data": {
      "text/html": [
       "<div>\n",
       "<style scoped>\n",
       "    .dataframe tbody tr th:only-of-type {\n",
       "        vertical-align: middle;\n",
       "    }\n",
       "\n",
       "    .dataframe tbody tr th {\n",
       "        vertical-align: top;\n",
       "    }\n",
       "\n",
       "    .dataframe thead th {\n",
       "        text-align: right;\n",
       "    }\n",
       "</style>\n",
       "<table border=\"1\" class=\"dataframe\">\n",
       "  <thead>\n",
       "    <tr style=\"text-align: right;\">\n",
       "      <th>Sub-method</th>\n",
       "      <th>1-preprocess</th>\n",
       "      <th>fit</th>\n",
       "      <th>predict</th>\n",
       "      <th>score</th>\n",
       "      <th>xarray</th>\n",
       "    </tr>\n",
       "    <tr>\n",
       "      <th>Method</th>\n",
       "      <th></th>\n",
       "      <th></th>\n",
       "      <th></th>\n",
       "      <th></th>\n",
       "      <th></th>\n",
       "    </tr>\n",
       "  </thead>\n",
       "  <tbody>\n",
       "    <tr>\n",
       "      <th>fit</th>\n",
       "      <td>478.437424</td>\n",
       "      <td>1767.950773</td>\n",
       "      <td>NaN</td>\n",
       "      <td>8.771181</td>\n",
       "      <td>NaN</td>\n",
       "    </tr>\n",
       "    <tr>\n",
       "      <th>fit_predict</th>\n",
       "      <td>303.014040</td>\n",
       "      <td>1761.704922</td>\n",
       "      <td>7.534742</td>\n",
       "      <td>8.709669</td>\n",
       "      <td>5.710125</td>\n",
       "    </tr>\n",
       "    <tr>\n",
       "      <th>predict</th>\n",
       "      <td>329.038143</td>\n",
       "      <td>NaN</td>\n",
       "      <td>9.085178</td>\n",
       "      <td>8.865118</td>\n",
       "      <td>6.392956</td>\n",
       "    </tr>\n",
       "  </tbody>\n",
       "</table>\n",
       "</div>"
      ],
      "text/plain": [
       "Sub-method   1-preprocess          fit   predict     score    xarray\n",
       "Method                                                              \n",
       "fit            478.437424  1767.950773       NaN  8.771181       NaN\n",
       "fit_predict    303.014040  1761.704922  7.534742  8.709669  5.710125\n",
       "predict        329.038143          NaN  9.085178  8.865118  6.392956"
      ]
     },
     "execution_count": 7,
     "metadata": {},
     "output_type": "execute_result"
    },
    {
     "data": {
      "image/png": "[encoded data removed]",
      "text/plain": [
       "<Figure size 450x270 with 1 Axes>"
      ]
     },
     "metadata": {},
     "output_type": "display_data"
    }
   ],
   "source": [
    "fig, ax, df = m.plot.timeit(group='Method', split='Sub-method', style='darkgrid') # Default group/split\n",
    "df"
   ]
  },
  {
   "cell_type": "markdown",
   "metadata": {
    "papermill": {
     "duration": 0.008566,
     "end_time": "2020-02-21T20:05:15.427498",
     "exception": false,
     "start_time": "2020-02-21T20:05:15.418932",
     "status": "completed"
    },
    "tags": []
   },
   "source": [
    "### Preprocessing main steps by method"
   ]
  },
  {
   "cell_type": "code",
   "execution_count": 8,
   "metadata": {
    "papermill": {
     "duration": 0.240868,
     "end_time": "2020-02-21T20:05:15.678416",
     "exception": false,
     "start_time": "2020-02-21T20:05:15.437548",
     "status": "completed"
    },
    "tags": []
   },
   "outputs": [
    {
     "data": {
      "text/html": [
       "<div>\n",
       "<style scoped>\n",
       "    .dataframe tbody tr th:only-of-type {\n",
       "        vertical-align: middle;\n",
       "    }\n",
       "\n",
       "    .dataframe tbody tr th {\n",
       "        vertical-align: top;\n",
       "    }\n",
       "\n",
       "    .dataframe thead th {\n",
       "        text-align: right;\n",
       "    }\n",
       "</style>\n",
       "<table border=\"1\" class=\"dataframe\">\n",
       "  <thead>\n",
       "    <tr style=\"text-align: right;\">\n",
       "      <th>Sub-sub-method</th>\n",
       "      <th>1-mask</th>\n",
       "      <th>2-feature_salinity</th>\n",
       "      <th>2-feature_temperature</th>\n",
       "      <th>3-homogeniser</th>\n",
       "      <th>4-xarray</th>\n",
       "    </tr>\n",
       "    <tr>\n",
       "      <th>Method</th>\n",
       "      <th></th>\n",
       "      <th></th>\n",
       "      <th></th>\n",
       "      <th></th>\n",
       "      <th></th>\n",
       "    </tr>\n",
       "  </thead>\n",
       "  <tbody>\n",
       "    <tr>\n",
       "      <th>fit</th>\n",
       "      <td>18.404007</td>\n",
       "      <td>97.491503</td>\n",
       "      <td>119.302750</td>\n",
       "      <td>2.261877</td>\n",
       "      <td>0.952005</td>\n",
       "    </tr>\n",
       "    <tr>\n",
       "      <th>fit_predict</th>\n",
       "      <td>21.242142</td>\n",
       "      <td>65.464973</td>\n",
       "      <td>60.814142</td>\n",
       "      <td>2.266169</td>\n",
       "      <td>0.962973</td>\n",
       "    </tr>\n",
       "    <tr>\n",
       "      <th>predict</th>\n",
       "      <td>19.385815</td>\n",
       "      <td>66.843987</td>\n",
       "      <td>75.625420</td>\n",
       "      <td>1.111031</td>\n",
       "      <td>0.947952</td>\n",
       "    </tr>\n",
       "  </tbody>\n",
       "</table>\n",
       "</div>"
      ],
      "text/plain": [
       "Sub-sub-method     1-mask  2-feature_salinity  2-feature_temperature  \\\n",
       "Method                                                                 \n",
       "fit             18.404007           97.491503             119.302750   \n",
       "fit_predict     21.242142           65.464973              60.814142   \n",
       "predict         19.385815           66.843987              75.625420   \n",
       "\n",
       "Sub-sub-method  3-homogeniser  4-xarray  \n",
       "Method                                   \n",
       "fit                  2.261877  0.952005  \n",
       "fit_predict          2.266169  0.962973  \n",
       "predict              1.111031  0.947952  "
      ]
     },
     "execution_count": 8,
     "metadata": {},
     "output_type": "execute_result"
    },
    {
     "data": {
      "image/png": "[encoded data removed]",
      "text/plain": [
       "<Figure size 450x270 with 1 Axes>"
      ]
     },
     "metadata": {},
     "output_type": "display_data"
    }
   ],
   "source": [
    "fig, ax, df = m.plot.timeit(group='Method', split='Sub-sub-method')\n",
    "df"
   ]
  },
  {
   "cell_type": "markdown",
   "metadata": {
    "papermill": {
     "duration": 0.010147,
     "end_time": "2020-02-21T20:05:15.698676",
     "exception": false,
     "start_time": "2020-02-21T20:05:15.688529",
     "status": "completed"
    },
    "tags": []
   },
   "source": [
    "### Preprocessing details by method"
   ]
  },
  {
   "cell_type": "code",
   "execution_count": 9,
   "metadata": {
    "papermill": {
     "duration": 0.261006,
     "end_time": "2020-02-21T20:05:15.970445",
     "exception": false,
     "start_time": "2020-02-21T20:05:15.709439",
     "status": "completed"
    },
    "tags": []
   },
   "outputs": [
    {
     "data": {
      "text/html": [
       "<div>\n",
       "<style scoped>\n",
       "    .dataframe tbody tr th:only-of-type {\n",
       "        vertical-align: middle;\n",
       "    }\n",
       "\n",
       "    .dataframe tbody tr th {\n",
       "        vertical-align: top;\n",
       "    }\n",
       "\n",
       "    .dataframe thead th {\n",
       "        text-align: right;\n",
       "    }\n",
       "</style>\n",
       "<table border=\"1\" class=\"dataframe\">\n",
       "  <thead>\n",
       "    <tr style=\"text-align: right;\">\n",
       "      <th>Sub-sub-sub-method</th>\n",
       "      <th>1-ravel</th>\n",
       "      <th>2-interp</th>\n",
       "      <th>3-scale_fit</th>\n",
       "      <th>4-scale_transform</th>\n",
       "      <th>5-reduce_fit</th>\n",
       "      <th>6-reduce_transform</th>\n",
       "    </tr>\n",
       "    <tr>\n",
       "      <th>Method</th>\n",
       "      <th></th>\n",
       "      <th></th>\n",
       "      <th></th>\n",
       "      <th></th>\n",
       "      <th></th>\n",
       "      <th></th>\n",
       "    </tr>\n",
       "  </thead>\n",
       "  <tbody>\n",
       "    <tr>\n",
       "      <th>fit</th>\n",
       "      <td>50.165176</td>\n",
       "      <td>1.368046</td>\n",
       "      <td>19.125223</td>\n",
       "      <td>9.258747</td>\n",
       "      <td>22.642136</td>\n",
       "      <td>5.699873</td>\n",
       "    </tr>\n",
       "    <tr>\n",
       "      <th>fit_predict</th>\n",
       "      <td>44.401884</td>\n",
       "      <td>1.734972</td>\n",
       "      <td>0.003099</td>\n",
       "      <td>10.915995</td>\n",
       "      <td>0.004053</td>\n",
       "      <td>5.958080</td>\n",
       "    </tr>\n",
       "    <tr>\n",
       "      <th>predict</th>\n",
       "      <td>55.557013</td>\n",
       "      <td>1.468182</td>\n",
       "      <td>0.002146</td>\n",
       "      <td>9.112358</td>\n",
       "      <td>0.002623</td>\n",
       "      <td>4.988909</td>\n",
       "    </tr>\n",
       "  </tbody>\n",
       "</table>\n",
       "</div>"
      ],
      "text/plain": [
       "Sub-sub-sub-method    1-ravel  2-interp  3-scale_fit  4-scale_transform  \\\n",
       "Method                                                                    \n",
       "fit                 50.165176  1.368046    19.125223           9.258747   \n",
       "fit_predict         44.401884  1.734972     0.003099          10.915995   \n",
       "predict             55.557013  1.468182     0.002146           9.112358   \n",
       "\n",
       "Sub-sub-sub-method  5-reduce_fit  6-reduce_transform  \n",
       "Method                                                \n",
       "fit                    22.642136            5.699873  \n",
       "fit_predict             0.004053            5.958080  \n",
       "predict                 0.002623            4.988909  "
      ]
     },
     "execution_count": 9,
     "metadata": {},
     "output_type": "execute_result"
    },
    {
     "data": {
      "image/png": "[encoded data removed]",
      "text/plain": [
       "<Figure size 450x270 with 1 Axes>"
      ]
     },
     "metadata": {},
     "output_type": "display_data"
    }
   ],
   "source": [
    "fig, ax, df = m.plot.timeit(group='Method', split='Sub-sub-sub-method')\n",
    "df"
   ]
  },
  {
   "cell_type": "markdown",
   "metadata": {
    "papermill": {
     "duration": 0.011192,
     "end_time": "2020-02-21T20:05:15.992817",
     "exception": false,
     "start_time": "2020-02-21T20:05:15.981625",
     "status": "completed"
    },
    "tags": []
   },
   "source": [
    "### Preprocessing details by features"
   ]
  },
  {
   "cell_type": "code",
   "execution_count": 10,
   "metadata": {
    "papermill": {
     "duration": 0.285009,
     "end_time": "2020-02-21T20:05:16.288423",
     "exception": false,
     "start_time": "2020-02-21T20:05:16.003414",
     "status": "completed"
    },
    "tags": []
   },
   "outputs": [
    {
     "data": {
      "text/html": [
       "<div>\n",
       "<style scoped>\n",
       "    .dataframe tbody tr th:only-of-type {\n",
       "        vertical-align: middle;\n",
       "    }\n",
       "\n",
       "    .dataframe tbody tr th {\n",
       "        vertical-align: top;\n",
       "    }\n",
       "\n",
       "    .dataframe thead th {\n",
       "        text-align: right;\n",
       "    }\n",
       "</style>\n",
       "<table border=\"1\" class=\"dataframe\">\n",
       "  <thead>\n",
       "    <tr style=\"text-align: right;\">\n",
       "      <th>Sub-sub-sub-method</th>\n",
       "      <th>1-ravel</th>\n",
       "      <th>2-interp</th>\n",
       "      <th>3-scale_fit</th>\n",
       "      <th>4-scale_transform</th>\n",
       "      <th>5-reduce_fit</th>\n",
       "      <th>6-reduce_transform</th>\n",
       "    </tr>\n",
       "    <tr>\n",
       "      <th>Sub-sub-method</th>\n",
       "      <th></th>\n",
       "      <th></th>\n",
       "      <th></th>\n",
       "      <th></th>\n",
       "      <th></th>\n",
       "      <th></th>\n",
       "    </tr>\n",
       "  </thead>\n",
       "  <tbody>\n",
       "    <tr>\n",
       "      <th>2-feature_salinity</th>\n",
       "      <td>0.072009</td>\n",
       "      <td>0.002419</td>\n",
       "      <td>0.008882</td>\n",
       "      <td>0.014636</td>\n",
       "      <td>0.009374</td>\n",
       "      <td>0.007387</td>\n",
       "    </tr>\n",
       "    <tr>\n",
       "      <th>2-feature_temperature</th>\n",
       "      <td>0.078115</td>\n",
       "      <td>0.002152</td>\n",
       "      <td>0.010248</td>\n",
       "      <td>0.014651</td>\n",
       "      <td>0.013275</td>\n",
       "      <td>0.009260</td>\n",
       "    </tr>\n",
       "  </tbody>\n",
       "</table>\n",
       "</div>"
      ],
      "text/plain": [
       "Sub-sub-sub-method      1-ravel  2-interp  3-scale_fit  4-scale_transform  \\\n",
       "Sub-sub-method                                                              \n",
       "2-feature_salinity     0.072009  0.002419     0.008882           0.014636   \n",
       "2-feature_temperature  0.078115  0.002152     0.010248           0.014651   \n",
       "\n",
       "Sub-sub-sub-method     5-reduce_fit  6-reduce_transform  \n",
       "Sub-sub-method                                           \n",
       "2-feature_salinity         0.009374            0.007387  \n",
       "2-feature_temperature      0.013275            0.009260  "
      ]
     },
     "execution_count": 10,
     "metadata": {},
     "output_type": "execute_result"
    },
    {
     "data": {
      "image/png": "[encoded data removed]",
      "text/plain": [
       "<Figure size 450x270 with 1 Axes>"
      ]
     },
     "metadata": {},
     "output_type": "display_data"
    }
   ],
   "source": [
    "fig, ax, df = m.plot.timeit(split='Sub-sub-sub-method', group='Sub-sub-method', unit='s')\n",
    "df"
   ]
  }
 ],
 "metadata": {
  "kernelspec": {
   "display_name": "obidam36",
   "language": "python",
   "name": "obidam36"
  },
  "language_info": {
   "codemirror_mode": {
    "name": "ipython",
    "version": 3
   },
   "file_extension": ".py",
   "mimetype": "text/x-python",
   "name": "python",
   "nbconvert_exporter": "python",
   "pygments_lexer": "ipython3",
   "version": "3.6.7"
  },
  "papermill": {
   "duration": 39.190397,
   "end_time": "2020-02-21T20:05:16.923832",
   "environment_variables": {},
   "exception": null,
   "input_path": "debug_perf.ipynb",
   "output_path": "../debug_perf.ipynb",
   "parameters": {},
   "start_time": "2020-02-21T20:04:37.733435",
   "version": "1.2.1"
  },
  "toc-showmarkdowntxt": true
 },
 "nbformat": 4,
 "nbformat_minor": 2
}