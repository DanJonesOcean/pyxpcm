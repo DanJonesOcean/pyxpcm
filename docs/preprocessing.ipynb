{
 "cells": [
  {
   "cell_type": "markdown",
   "metadata": {
    "papermill": {
     "duration": 0.015785,
     "end_time": "2020-02-21T20:23:38.171580",
     "exception": false,
     "start_time": "2020-02-21T20:23:38.155795",
     "status": "completed"
    },
    "tags": []
   },
   "source": [
    "# Features preprocessing"
   ]
  },
  {
   "cell_type": "raw",
   "metadata": {
    "papermill": {
     "duration": 0.007691,
     "end_time": "2020-02-21T20:23:38.188967",
     "exception": false,
     "start_time": "2020-02-21T20:23:38.181276",
     "status": "completed"
    },
    "raw_mimetype": "text/restructuredtext",
    "tags": []
   },
   "source": [
    ".. _preprocessing:"
   ]
  },
  {
   "cell_type": "code",
   "execution_count": 1,
   "metadata": {
    "nbsphinx": "hidden",
    "papermill": {
     "duration": 1.359699,
     "end_time": "2020-02-21T20:23:39.555541",
     "exception": false,
     "start_time": "2020-02-21T20:23:38.195842",
     "status": "completed"
    },
    "tags": []
   },
   "outputs": [],
   "source": [
    "# Hidden notebook set-up\n",
    "\n",
    "import os, sys\n",
    "import numpy as np\n",
    "import pandas as pd\n",
    "import xarray as xr\n",
    "import matplotlib.pyplot as plt\n",
    "%matplotlib inline\n",
    "sys.path.insert(0, os.path.abspath('/Users/gmaze/git/github/gmaze/pyxpcm'))\n",
    "\n",
    "import pyxpcm\n",
    "from pyxpcm.models import pcm\n",
    "\n",
    "import seaborn as sns\n",
    "import cartopy.crs as ccrs\n",
    "import cartopy.feature as cfeature\n",
    "import matplotlib.ticker as mticker\n",
    "import matplotlib as mpl\n",
    "\n",
    "# Load sample data:\n",
    "ds = pyxpcm.tutorial.open_dataset('isas_snapshot').load()\n",
    "\n",
    "# Define vertical axis and features to use:\n",
    "z = ds['depth'].where(ds['depth']>=-1200, drop=True)\n",
    "features_pcm = {'TEMP': z, 'TEMP': z}\n",
    "\n",
    "m = pcm(K=3, features=features_pcm)"
   ]
  },
  {
   "cell_type": "raw",
   "metadata": {
    "papermill": {
     "duration": 0.009546,
     "end_time": "2020-02-21T20:23:39.573198",
     "exception": false,
     "start_time": "2020-02-21T20:23:39.563652",
     "status": "completed"
    },
    "raw_mimetype": "text/restructuredtext",
    "tags": []
   },
   "source": [
    "The Profile Classification Model (PCM) requires data to be preprocessed in order to match the model vertical axis, to scale feature dimensions with each others and to reduce the dimensionality of the problem. Some of these steps are mandatory and they all can be user parameterised.\n",
    "\n",
    "The PCM preprocessing operations are organised into 4 steps:\n",
    "\n",
    ".. image:: _static/Preprocessing_pipeline_2lines.png\n",
    "   :width: 100%\n",
    "   :align: center"
   ]
  },
  {
   "cell_type": "markdown",
   "metadata": {
    "papermill": {
     "duration": 0.008703,
     "end_time": "2020-02-21T20:23:39.589787",
     "exception": false,
     "start_time": "2020-02-21T20:23:39.581084",
     "status": "completed"
    },
    "tags": []
   },
   "source": [
    "## Stack"
   ]
  },
  {
   "cell_type": "markdown",
   "metadata": {
    "papermill": {
     "duration": 0.007122,
     "end_time": "2020-02-21T20:23:39.605344",
     "exception": false,
     "start_time": "2020-02-21T20:23:39.598222",
     "status": "completed"
    },
    "tags": []
   },
   "source": [
    "This step mask, extract, flatten and transform any ND-array set of feature variables (eg: temperature, salinity) into a plain 2D-array collection of vertical profiles usable for machine learning methods."
   ]
  },
  {
   "cell_type": "markdown",
   "metadata": {
    "papermill": {
     "duration": 0.007143,
     "end_time": "2020-02-21T20:23:39.619678",
     "exception": false,
     "start_time": "2020-02-21T20:23:39.612535",
     "status": "completed"
    },
    "tags": [],
    "toc-hr-collapsed": false
   },
   "source": [
    "### Mask"
   ]
  },
  {
   "cell_type": "raw",
   "metadata": {
    "papermill": {
     "duration": 0.007295,
     "end_time": "2020-02-21T20:23:39.633843",
     "exception": false,
     "start_time": "2020-02-21T20:23:39.626548",
     "status": "completed"
    },
    "raw_mimetype": "text/restructuredtext",
    "tags": []
   },
   "source": [
    "This step computes a mask of the input data that will reject all profiles that are full of nans over the depth range of feature vertical axis. This ensure that all feature variables will be successfully retrieved to fill in the plain 2D-array collection of profiles.\n",
    "\n",
    "This operation is conducted by :meth:`pyxpcm.xarray.pyXpcmDataSetAccessor.mask`, so that the mask can be computed (and plotted) this way:"
   ]
  },
  {
   "cell_type": "code",
   "execution_count": 2,
   "metadata": {
    "papermill": {
     "duration": 0.022036,
     "end_time": "2020-02-21T20:23:39.663412",
     "exception": false,
     "start_time": "2020-02-21T20:23:39.641376",
     "status": "completed"
    },
    "raw_mimetype": "text/restructuredtext",
    "tags": []
   },
   "outputs": [
    {
     "name": "stdout",
     "output_type": "stream",
     "text": [
      "<xarray.DataArray 'pcm_MASK' (latitude: 53, longitude: 61)>\n",
      "dask.array<eq, shape=(53, 61), dtype=bool, chunksize=(53, 61), chunktype=numpy.ndarray>\n",
      "Coordinates:\n",
      "  * longitude  (longitude) float32 -70.0 -69.5 -69.0 -68.5 ... -41.0 -40.5 -40.0\n",
      "  * latitude   (latitude) float32 30.023445 30.455408 ... 49.41288 49.737103\n"
     ]
    }
   ],
   "source": [
    "mask = ds.pyxpcm.mask(m)\n",
    "print(mask)"
   ]
  },
  {
   "cell_type": "code",
   "execution_count": 3,
   "metadata": {
    "papermill": {
     "duration": 0.212663,
     "end_time": "2020-02-21T20:23:39.883406",
     "exception": false,
     "start_time": "2020-02-21T20:23:39.670743",
     "status": "completed"
    },
    "raw_mimetype": "text/restructuredtext",
    "tags": []
   },
   "outputs": [
    {
     "data": {
      "image/png": "[encoded data removed]",
      "text/plain": [
       "<Figure size 432x288 with 2 Axes>"
      ]
     },
     "metadata": {
      "needs_background": "light"
     },
     "output_type": "display_data"
    }
   ],
   "source": [
    "mask.plot();"
   ]
  },
  {
   "cell_type": "markdown",
   "metadata": {
    "papermill": {
     "duration": 0.006763,
     "end_time": "2020-02-21T20:23:39.897084",
     "exception": false,
     "start_time": "2020-02-21T20:23:39.890321",
     "status": "completed"
    },
    "tags": []
   },
   "source": [
    "### Ravel"
   ]
  },
  {
   "cell_type": "raw",
   "metadata": {
    "papermill": {
     "duration": 0.006983,
     "end_time": "2020-02-21T20:23:39.911953",
     "exception": false,
     "start_time": "2020-02-21T20:23:39.904970",
     "status": "completed"
    },
    "raw_mimetype": "text/restructuredtext",
    "tags": []
   },
   "source": [
    "For ND-array to be used as a feature, it has to be ravelled, flatten, along the N-1 dimensions that are not the vertical one. This operation will thus transform any ND-array into a 2D-array (``sampling`` and ``vertical_axis`` dimensions) and additionnaly drop profiles according to the PCM mask determined above.\n",
    "\n",
    "This operation is conducted by :meth:`pyxpcm.pcm.ravel`.\n",
    "\n",
    "The output 2D-array is a :class:`xarray.DataArray` that can be chunked along the ``sampling`` dimension with the PCM constructor option ``chunk_size``:"
   ]
  },
  {
   "cell_type": "code",
   "execution_count": 4,
   "metadata": {
    "papermill": {
     "duration": 0.313332,
     "end_time": "2020-02-21T20:23:40.232152",
     "exception": false,
     "start_time": "2020-02-21T20:23:39.918820",
     "status": "completed"
    },
    "tags": []
   },
   "outputs": [],
   "source": [
    "m = pcm(K=3, features=features_pcm, chunk_size=1e3).fit(ds)"
   ]
  },
  {
   "cell_type": "markdown",
   "metadata": {
    "papermill": {
     "duration": 0.007613,
     "end_time": "2020-02-21T20:23:40.247047",
     "exception": false,
     "start_time": "2020-02-21T20:23:40.239434",
     "status": "completed"
    },
    "tags": []
   },
   "source": [
    "By default, ``chunk_size='auto'``."
   ]
  },
  {
   "cell_type": "code",
   "execution_count": 5,
   "metadata": {
    "papermill": {
     "duration": 0.035535,
     "end_time": "2020-02-21T20:23:40.289986",
     "exception": false,
     "start_time": "2020-02-21T20:23:40.254451",
     "status": "completed"
    },
    "tags": []
   },
   "outputs": [
    {
     "data": {
      "text/html": [
       "<pre>&lt;xarray.DataArray &#x27;TEMP&#x27; (sampling: 2289, depth: 152)&gt;\n",
       "dask.array&lt;rechunk-merge, shape=(2289, 152), dtype=float32, chunksize=(1000, 152), chunktype=numpy.ndarray&gt;\n",
       "Coordinates:\n",
       "  * depth      (depth) float32 -1.0 -3.0 -5.0 -10.0 ... -1960.0 -1980.0 -2000.0\n",
       "  * sampling   (sampling) MultiIndex\n",
       "  - latitude   (sampling) float64 30.02 30.02 30.02 30.02 ... 49.74 49.74 49.74\n",
       "  - longitude  (sampling) float64 -70.0 -69.5 -69.0 -68.5 ... -41.0 -40.5 -40.0\n",
       "Attributes:\n",
       "    long_name:      Temperature \n",
       "    standard_name:  sea_water_temperature\n",
       "    units:          degree_Celsius\n",
       "    valid_min:      -23000\n",
       "    valid_max:      20000</pre>"
      ],
      "text/plain": [
       "<xarray.DataArray 'TEMP' (sampling: 2289, depth: 152)>\n",
       "dask.array<rechunk-merge, shape=(2289, 152), dtype=float32, chunksize=(1000, 152), chunktype=numpy.ndarray>\n",
       "Coordinates:\n",
       "  * depth      (depth) float32 -1.0 -3.0 -5.0 -10.0 ... -1960.0 -1980.0 -2000.0\n",
       "  * sampling   (sampling) MultiIndex\n",
       "  - latitude   (sampling) float64 30.02 30.02 30.02 30.02 ... 49.74 49.74 49.74\n",
       "  - longitude  (sampling) float64 -70.0 -69.5 -69.0 -68.5 ... -41.0 -40.5 -40.0\n",
       "Attributes:\n",
       "    long_name:      Temperature \n",
       "    standard_name:  sea_water_temperature\n",
       "    units:          degree_Celsius\n",
       "    valid_min:      -23000\n",
       "    valid_max:      20000"
      ]
     },
     "execution_count": 5,
     "metadata": {},
     "output_type": "execute_result"
    }
   ],
   "source": [
    "X, z, sampling_dims = m.ravel(ds['TEMP'], dim='depth', feature_name='TEMP')\n",
    "X"
   ]
  },
  {
   "cell_type": "raw",
   "metadata": {
    "papermill": {
     "duration": 0.007208,
     "end_time": "2020-02-21T20:23:40.304893",
     "exception": false,
     "start_time": "2020-02-21T20:23:40.297685",
     "status": "completed"
    },
    "raw_mimetype": "text/restructuredtext",
    "tags": []
   },
   "source": [
    "See the chunksize of the :class:`dask.array.Array` for this feature."
   ]
  },
  {
   "cell_type": "markdown",
   "metadata": {
    "papermill": {
     "duration": 0.00718,
     "end_time": "2020-02-21T20:23:40.319675",
     "exception": false,
     "start_time": "2020-02-21T20:23:40.312495",
     "status": "completed"
    },
    "tags": []
   },
   "source": [
    "### Interpolate"
   ]
  },
  {
   "cell_type": "raw",
   "metadata": {
    "papermill": {
     "duration": 0.007496,
     "end_time": "2020-02-21T20:23:40.334863",
     "exception": false,
     "start_time": "2020-02-21T20:23:40.327367",
     "status": "completed"
    },
    "raw_mimetype": "text/restructuredtext",
    "tags": []
   },
   "source": [
    "Even if input data vertical axis are in the range of the PCM feature axis, they may not be defined on similar level values. In this step, if the input data are not defined on the same vertical axis as the PCM, an interpolation is triggered. The interpolation is conducted following these rules:\n",
    "\n",
    "- If PCM axis levels are found into the input data vertical axis, then a simple intersection is used.\n",
    "- If PCM axis starts at the surface (0 value) and not the input data, the 1st non-nan value is replicated to the surface, as a mixed layer.\n",
    "- If PCM axis levels are not in the input data vertical axis, a linear interpolation through the :meth:`xarray.DataArray.interp` method is triggered for each profiles.\n",
    "\n",
    "The entire interpolation processed is managed by a :class:`pyxpcm.utils.Vertical_Interpolator` instance that is created at the time of PCM instanciation."
   ]
  },
  {
   "cell_type": "markdown",
   "metadata": {
    "papermill": {
     "duration": 0.007887,
     "end_time": "2020-02-21T20:23:40.350748",
     "exception": false,
     "start_time": "2020-02-21T20:23:40.342861",
     "status": "completed"
    },
    "tags": []
   },
   "source": [
    "Scale\n",
    "-----"
   ]
  },
  {
   "cell_type": "raw",
   "metadata": {
    "papermill": {
     "duration": 0.007987,
     "end_time": "2020-02-21T20:23:40.366368",
     "exception": false,
     "start_time": "2020-02-21T20:23:40.358381",
     "status": "completed"
    },
    "raw_mimetype": "text/restructuredtext",
    "tags": []
   },
   "source": [
    "Each variable can be normalised along a vertical level. This step ensures that structures/patterns located at depth in the profile, will be considered similarly to those close to the surface by the classifier.\n",
    "\n",
    "Scaling is defined at the PCM creation (:class:`pyxpcm.models.pcm`) with the option ``scale``. It is an integer value with the following meaning:\n",
    "\n",
    "    - 0: No scaling\n",
    "    - 1: Center on sample mean and scale by sample std\n",
    "    - 2: Center on sample mean only"
   ]
  },
  {
   "cell_type": "markdown",
   "metadata": {
    "papermill": {
     "duration": 0.007562,
     "end_time": "2020-02-21T20:23:40.382209",
     "exception": false,
     "start_time": "2020-02-21T20:23:40.374647",
     "status": "completed"
    },
    "tags": []
   },
   "source": [
    "## Recuce\n",
    "\n",
    "[TBC]"
   ]
  },
  {
   "cell_type": "markdown",
   "metadata": {
    "papermill": {
     "duration": 0.007701,
     "end_time": "2020-02-21T20:23:40.397835",
     "exception": false,
     "start_time": "2020-02-21T20:23:40.390134",
     "status": "completed"
    },
    "tags": []
   },
   "source": [
    "## Combine\n",
    "\n",
    "[TBC]"
   ]
  }
 ],
 "metadata": {
  "kernelspec": {
   "display_name": "obidam36",
   "language": "python",
   "name": "obidam36"
  },
  "language_info": {
   "codemirror_mode": {
    "name": "ipython",
    "version": 3
   },
   "file_extension": ".py",
   "mimetype": "text/x-python",
   "name": "python",
   "nbconvert_exporter": "python",
   "pygments_lexer": "ipython3",
   "version": "3.6.7"
  },
  "papermill": {
   "duration": 3.63018,
   "end_time": "2020-02-21T20:23:40.926112",
   "environment_variables": {},
   "exception": null,
   "input_path": "preprocessing.ipynb",
   "output_path": "../preprocessing.ipynb",
   "parameters": {},
   "start_time": "2020-02-21T20:23:37.295932",
   "version": "1.2.1"
  },
  "toc-showmarkdowntxt": false,
  "widgets": {
   "application/vnd.jupyter.widget-state+json": {
    "state": {},
    "version_major": 2,
    "version_minor": 0
   }
  }
 },
 "nbformat": 4,
 "nbformat_minor": 4
}