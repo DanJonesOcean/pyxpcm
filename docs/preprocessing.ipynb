{
 "cells": [
  {
   "cell_type": "raw",
   "metadata": {
    "raw_mimetype": "text/restructuredtext"
   },
   "source": [
    "Features preprocessing\n",
    "======================\n",
    "\n",
    "The Profile Classification Model (PCM) requires data to be preprocessed in order to match the model vertical axis, to scale feature dimensions with each others and to reduce the dimensionality of the problem. Some of these steps are mandatory and they all can be user parameterised.\n",
    "\n",
    "The PCM preprocessing operations are organised into 4 steps:\n",
    "\n",
    ".. image:: _static/Preprocessing_pipeline_2lines.png\n",
    "   :width: 100%\n",
    "   :align: center"
   ]
  },
  {
   "cell_type": "markdown",
   "metadata": {},
   "source": [
    "Ravel\n",
    "-----\n",
    "\n",
    "This step extract and transform any ND-array feature variable (eg: temperature) into a plain 2D-array collection of vertical profiles. \n",
    "\n",
    "If the input data are not defined on the same vertical axis as the PCM, an interpolation is triggered. The interpolator properties are:\n",
    "\n",
    "- If PCM axis levels are found into the input data vertical axis, then a simple intersection is used.\n",
    "- If PCM axis starts at the surface (0 value) and not the input data, the 1st non-nan value is replicated to the surface, as a mixed layer.\n",
    "\n",
    "MASKING\n",
    "\n",
    "It ensures plain data values, i.e. data must be defined on standard depth levels and not NaNs. Interpolation may be required (for raw Argo profiles for instance), but this is not necessary when working with profiles from a gridded product (such as ISAS15 or any numerical simulation output). \n",
    "\n",
    "This step includes handling of missing values, either with interpolation or simple removal of the profile from the collection. When processing more than one variable, one need to ensure that all variables will be defined and adapt the mask accordingly. For multi-dimensional variables (defined on a latitude, longitude, time grid for instance) this is also the step where all dimensions but the vertical one are stacked along a \"sampling\" dimension.\n",
    "\n",
    "This step depends on:\n",
    "\n",
    "- The PCM vertical axis of each features defined at creation time\n",
    "\n"
   ]
  },
  {
   "cell_type": "markdown",
   "metadata": {},
   "source": [
    "Scale\n",
    "-----\n",
    "\n",
    "Each variable must then be normalised along vertical levels. This step ensures that structures/patterns located at depth in the profile, will be considered similarly to those close to the surface by the classifier."
   ]
  },
  {
   "cell_type": "markdown",
   "metadata": {},
   "source": [
    "Step C: Recuce\n",
    "--------------"
   ]
  },
  {
   "cell_type": "markdown",
   "metadata": {},
   "source": [
    "Step D: Combine\n",
    "---------------"
   ]
  }
 ],
 "metadata": {
  "kernelspec": {
   "display_name": "obidam36",
   "language": "python",
   "name": "obidam36"
  },
  "language_info": {
   "codemirror_mode": {
    "name": "ipython",
    "version": 3
   },
   "file_extension": ".py",
   "mimetype": "text/x-python",
   "name": "python",
   "nbconvert_exporter": "python",
   "pygments_lexer": "ipython3",
   "version": "3.6.7"
  }
 },
 "nbformat": 4,
 "nbformat_minor": 2
}
