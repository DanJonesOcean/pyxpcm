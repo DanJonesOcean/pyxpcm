{
 "cells": [
  {
   "cell_type": "raw",
   "metadata": {
    "raw_mimetype": "text/restructuredtext"
   },
   "source": [
    "Features preprocessing\n",
    "======================\n",
    "\n",
    "The Profile Classification Model (PCM) requires data to be preprocessed in order the match the reference vertical axis, to scale feature dimensions with each others and to reduce the dimensionality of the problem. None of these steps are mandatory and they all can be user parameterised.\n",
    "\n",
    "They are 3 preprocessing steps:\n",
    "\n",
    "- Vertical interpolation\n",
    "\n",
    "- Scaling of vertical dimensions\n",
    "\n",
    "- Dimensionaliy reduction"
   ]
  }
 ],
 "metadata": {
  "kernelspec": {
   "display_name": "obidam36",
   "language": "python",
   "name": "obidam36"
  },
  "language_info": {
   "codemirror_mode": {
    "name": "ipython",
    "version": 3
   },
   "file_extension": ".py",
   "mimetype": "text/x-python",
   "name": "python",
   "nbconvert_exporter": "python",
   "pygments_lexer": "ipython3",
   "version": "3.6.7"
  }
 },
 "nbformat": 4,
 "nbformat_minor": 2
}
