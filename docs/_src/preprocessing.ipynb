{
 "cells": [
  {
   "cell_type": "raw",
   "metadata": {
    "raw_mimetype": "text/restructuredtext"
   },
   "source": [
    ".. _preprocessing:"
   ]
  },
  {
   "cell_type": "markdown",
   "metadata": {},
   "source": [
    "# Features preprocessing"
   ]
  },
  {
   "cell_type": "code",
   "execution_count": 1,
   "metadata": {
    "nbsphinx": "hidden"
   },
   "outputs": [],
   "source": [
    "# Hidden notebook set-up\n",
    "\n",
    "import os, sys\n",
    "import numpy as np\n",
    "import pandas as pd\n",
    "import xarray as xr\n",
    "import intake\n",
    "import matplotlib.pyplot as plt\n",
    "%matplotlib inline\n",
    "sys.path.insert(0, os.path.abspath('/Users/gmaze/git/github/gmaze/pyxpcm'))\n",
    "\n",
    "import pyxpcm\n",
    "from pyxpcm.models import pcm\n",
    "\n",
    "import seaborn as sns\n",
    "import cartopy.crs as ccrs\n",
    "import cartopy.feature as cfeature\n",
    "import matplotlib.ticker as mticker\n",
    "import matplotlib as mpl\n",
    "\n",
    "# Load sample data:\n",
    "ds = pyxpcm.tutorial.open_dataset('isas_snapshot').load()\n",
    "\n",
    "# Define vertical axis and features to use:\n",
    "z = ds['depth'].where(ds['depth']>=-1200, drop=True)\n",
    "features_pcm = {'TEMP': z, 'TEMP': z}\n",
    "\n",
    "m = pcm(K=3, features=features_pcm)"
   ]
  },
  {
   "cell_type": "raw",
   "metadata": {
    "raw_mimetype": "text/restructuredtext"
   },
   "source": [
    "The Profile Classification Model (PCM) requires data to be preprocessed in order to match the model vertical axis, to scale feature dimensions with each others and to reduce the dimensionality of the problem. Some of these steps are mandatory and they all can be user parameterised.\n",
    "\n",
    "The PCM preprocessing operations are organised into 4 steps:\n",
    "\n",
    ".. image:: _static/Preprocessing_pipeline_2lines.png\n",
    "   :width: 100%\n",
    "   :align: center"
   ]
  },
  {
   "cell_type": "markdown",
   "metadata": {},
   "source": [
    "## Stack"
   ]
  },
  {
   "cell_type": "markdown",
   "metadata": {},
   "source": [
    "This step mask, extract, flatten and transform any ND-array set of feature variables (eg: temperature, salinity) into a plain 2D-array collection of vertical profiles usable for machine learning methods."
   ]
  },
  {
   "cell_type": "markdown",
   "metadata": {
    "toc-hr-collapsed": false
   },
   "source": [
    "### Mask"
   ]
  },
  {
   "cell_type": "raw",
   "metadata": {
    "raw_mimetype": "text/restructuredtext"
   },
   "source": [
    "This step computes a mask of the input data that will reject all profiles that are full of nans over the depth range of feature vertical axis. This ensure that all feature variables will be successfully retrieved to fill in the plain 2D-array collection of profiles.\n",
    "\n",
    "This operation is conducted by :meth:`pyxpcm.xarray.pyXpcmDataSetAccessor.mask`, so that the mask can be computed (and plotted) this way:"
   ]
  },
  {
   "cell_type": "code",
   "execution_count": 2,
   "metadata": {
    "raw_mimetype": "text/restructuredtext"
   },
   "outputs": [
    {
     "name": "stdout",
     "output_type": "stream",
     "text": [
      "<xarray.DataArray 'pcm_MASK' (latitude: 53, longitude: 61)>\n",
      "dask.array<shape=(53, 61), dtype=bool, chunksize=(53, 61)>\n",
      "Coordinates:\n",
      "  * latitude   (latitude) float32 30.023445 30.455408 ... 49.41288 49.737103\n",
      "  * longitude  (longitude) float32 -70.0 -69.5 -69.0 -68.5 ... -41.0 -40.5 -40.0\n"
     ]
    }
   ],
   "source": [
    "mask = ds.pyxpcm.mask(m)\n",
    "print(mask)"
   ]
  },
  {
   "cell_type": "code",
   "execution_count": 3,
   "metadata": {
    "raw_mimetype": "text/restructuredtext"
   },
   "outputs": [
    {
     "data": {
      "image/png": "[encoded data removed]",
      "text/plain": [
       "<Figure size 432x288 with 2 Axes>"
      ]
     },
     "metadata": {
      "needs_background": "light"
     },
     "output_type": "display_data"
    }
   ],
   "source": [
    "mask.plot();"
   ]
  },
  {
   "cell_type": "markdown",
   "metadata": {},
   "source": [
    "### Ravel"
   ]
  },
  {
   "cell_type": "raw",
   "metadata": {
    "raw_mimetype": "text/restructuredtext"
   },
   "source": [
    "For ND-array to be used as a feature, it has to be ravelled, flatten, along the N-1 dimensions that are not the vertical one. This operation will thus transform any ND-array into a 2D-array (``sampling`` and ``vertical_axis`` dimensions) and additionnaly drop profiles according to the PCM mask determined above.\n",
    "\n",
    "This operation is conducted by :meth:`pyxpcm.pcm.ravel`.\n",
    "\n",
    "The output 2D-array is a :class:`xarray.DataArray` that can be chunked along the ``sampling`` dimension with the PCM constructor option ``chunk_size``:"
   ]
  },
  {
   "cell_type": "code",
   "execution_count": 4,
   "metadata": {},
   "outputs": [],
   "source": [
    "m = pcm(K=3, features=features_pcm, chunk_size=1e3).fit(ds)"
   ]
  },
  {
   "cell_type": "markdown",
   "metadata": {},
   "source": [
    "By default, ``chunk_size='auto'``."
   ]
  },
  {
   "cell_type": "code",
   "execution_count": 5,
   "metadata": {},
   "outputs": [
    {
     "data": {
      "text/plain": [
       "<xarray.DataArray 'TEMP' (sampling: 2289, depth: 152)>\n",
       "dask.array<shape=(2289, 152), dtype=float32, chunksize=(1000, 152)>\n",
       "Coordinates:\n",
       "  * depth      (depth) float32 -1.0 -3.0 -5.0 -10.0 ... -1960.0 -1980.0 -2000.0\n",
       "  * sampling   (sampling) MultiIndex\n",
       "  - latitude   (sampling) float64 30.02 30.02 30.02 30.02 ... 30.02 30.02 30.02\n",
       "  - longitude  (sampling) float64 -70.0 -69.5 -69.0 -68.5 ... -56.5 -56.0 -55.5\n",
       "Attributes:\n",
       "    long_name:      Temperature \n",
       "    standard_name:  sea_water_temperature\n",
       "    units:          degree_Celsius\n",
       "    valid_min:      -23000\n",
       "    valid_max:      20000"
      ]
     },
     "execution_count": 5,
     "metadata": {},
     "output_type": "execute_result"
    }
   ],
   "source": [
    "X, z, sampling_dims = m.ravel(ds['TEMP'], dim='depth', feature_name='TEMP')\n",
    "X"
   ]
  },
  {
   "cell_type": "raw",
   "metadata": {
    "raw_mimetype": "text/restructuredtext"
   },
   "source": [
    "See the chunksize of the :class:`dask.array.Array` for this feature."
   ]
  },
  {
   "cell_type": "markdown",
   "metadata": {},
   "source": [
    "### Interpolate"
   ]
  },
  {
   "cell_type": "raw",
   "metadata": {
    "raw_mimetype": "text/restructuredtext"
   },
   "source": [
    "Even if input data vertical axis are in the range of the PCM feature axis, they may not be defined on similar level values. In this step, if the input data are not defined on the same vertical axis as the PCM, an interpolation is triggered. The interpolation is conducted following these rules:\n",
    "\n",
    "- If PCM axis levels are found into the input data vertical axis, then a simple intersection is used.\n",
    "- If PCM axis starts at the surface (0 value) and not the input data, the 1st non-nan value is replicated to the surface, as a mixed layer.\n",
    "- If PCM axis levels are not in the input data vertical axis, a linear interpolation through the :meth:`xarray.DataArray.interp` method is triggered for each profiles.\n",
    "\n",
    "The entire interpolation processed is managed by a :class:`pyxpcm.utils.Vertical_Interpolator` instance that is created at the time of PCM instanciation."
   ]
  },
  {
   "cell_type": "markdown",
   "metadata": {},
   "source": [
    "Scale\n",
    "-----"
   ]
  },
  {
   "cell_type": "raw",
   "metadata": {
    "raw_mimetype": "text/restructuredtext"
   },
   "source": [
    "Each variable can be normalised along a vertical level. This step ensures that structures/patterns located at depth in the profile, will be considered similarly to those close to the surface by the classifier.\n",
    "\n",
    "Scaling is defined at the PCM creation (:class:`pyxpcm.models.pcm`) with the option ``scale``. It is an integer value with the following meaning:\n",
    "\n",
    "    - 0: No scaling\n",
    "    - 1: Center on sample mean and scale by sample std\n",
    "    - 2: Center on sample mean only"
   ]
  },
  {
   "cell_type": "markdown",
   "metadata": {},
   "source": [
    "## Recuce\n",
    "\n",
    "[TBC]"
   ]
  },
  {
   "cell_type": "markdown",
   "metadata": {},
   "source": [
    "## Combine\n",
    "\n",
    "[TBC]"
   ]
  }
 ],
 "metadata": {
  "kernelspec": {
   "display_name": "obidam36",
   "language": "python",
   "name": "obidam36"
  },
  "language_info": {
   "codemirror_mode": {
    "name": "ipython",
    "version": 3
   },
   "file_extension": ".py",
   "mimetype": "text/x-python",
   "name": "python",
   "nbconvert_exporter": "python",
   "pygments_lexer": "ipython3",
   "version": "3.6.7"
  },
  "toc-showmarkdowntxt": false
 },
 "nbformat": 4,
 "nbformat_minor": 2
}
