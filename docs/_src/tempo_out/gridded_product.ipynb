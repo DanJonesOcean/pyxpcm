{
 "cells": [
  {
   "cell_type": "code",
   "execution_count": 1,
   "metadata": {
    "nbsphinx": "hidden"
   },
   "outputs": [],
   "source": [
    "import numpy as np\n",
    "import xarray as xr\n",
    "import sys, os\n",
    "sys.path.insert(0, os.path.abspath('/Users/gmaze/git/github/gmaze/pyxpcm'))"
   ]
  },
  {
   "cell_type": "markdown",
   "metadata": {},
   "source": [
    "Basic example with gridded products\n",
    "===================================\n",
    "\n",
    "Ocean profiles are not solely taken from a collection of pointwise observations, they can also come from a nicely gridded product. In this case, profiles are assembled along latitude and longitude grids, also possibly along different times. With Xarray_ it is quite simple to manipulate these data to work with PCM.\n",
    "\n",
    "Load a dataset\n",
    "--------------\n",
    "\n",
    "Let's first load a dummy gridded dataset, a sub-domain over the Gulf Stream from the ISAS15_ product:"
   ]
  },
  {
   "cell_type": "code",
   "execution_count": 2,
   "metadata": {},
   "outputs": [
    {
     "data": {
      "text/plain": [
       "<xarray.Dataset>\n",
       "Dimensions:      (depth: 152, latitude: 53, longitude: 61)\n",
       "Coordinates:\n",
       "  * latitude     (latitude) float32 30.023445 30.455408 ... 49.41288 49.737103\n",
       "  * longitude    (longitude) float32 -70.0 -69.5 -69.0 ... -41.0 -40.5 -40.0\n",
       "  * depth        (depth) float32 -1.0 -3.0 -5.0 ... -1960.0 -1980.0 -2000.0\n",
       "Data variables:\n",
       "    TEMP         (depth, latitude, longitude) float32 24.458 ... 3.4309998\n",
       "    TEMP_ERR     (depth, latitude, longitude) float32 0.33 0.328 ... 0.049000002\n",
       "    TEMP_PCTVAR  (depth, latitude, longitude) float32 31.0 31.0 ... 99.0 99.0\n",
       "    PSAL         (depth, latitude, longitude) float32 36.632 36.658 ... 34.917\n",
       "    PSAL_ERR     (depth, latitude, longitude) float32 0.051000003 ... 0.006\n",
       "    PSAL_PCTVAR  (depth, latitude, longitude) float32 32.0 32.0 ... 99.0 99.0\n",
       "    SST          (latitude, longitude) float32 24.458 24.448 ... 13.216999"
      ]
     },
     "execution_count": 2,
     "metadata": {},
     "output_type": "execute_result"
    }
   ],
   "source": [
    "from pyxpcm import datasets as pcmdata\n",
    "ds = pcmdata.load_isas15()\n",
    "ds"
   ]
  },
  {
   "cell_type": "markdown",
   "metadata": {},
   "source": [
    "Let's look at surface temperature values:"
   ]
  },
  {
   "cell_type": "code",
   "execution_count": 3,
   "metadata": {},
   "outputs": [
    {
     "data": {
      "text/plain": [
       "<matplotlib.contour.QuadContourSet at 0x1c17588d30>"
      ]
     },
     "execution_count": 3,
     "metadata": {},
     "output_type": "execute_result"
    },
    {
     "data": {
      "image/png": "[encoded data removed]",
      "text/plain": [
       "<Figure size 432x288 with 2 Axes>"
      ]
     },
     "metadata": {
      "needs_background": "light"
     },
     "output_type": "display_data"
    }
   ],
   "source": [
    "ds['TEMP'].isel(depth=0).plot.contourf(levels=np.arange(0,40,2))"
   ]
  },
  {
   "cell_type": "markdown",
   "metadata": {},
   "source": [
    "Create a PCM\n",
    "------------\n",
    "\n",
    "Note that a Profile Classification Model (PCM) can be created independently of any dataset properties using the :class:`pyxpcm.pcm` class constructor.\n",
    "But to keep things simple, here we will use the dataset vertical axis down to -800m depth and set it to use temperature data directly from the ``TEMP`` variable."
   ]
  },
  {
   "cell_type": "code",
   "execution_count": 4,
   "metadata": {},
   "outputs": [
    {
     "data": {
      "text/plain": [
       "<pcm 'gmm' (K: 4, F: 1)>\n",
       "Number of class: 4\n",
       "Number of feature: 1\n",
       "Feature names: odict_keys(['TEMP'])\n",
       "Fitted: False\n",
       "Feature: 'TEMP'\n",
       "\t Interpoler: <class 'pyxpcm.models.Vertical_Interpolator'>\n",
       "\t Scaler: 'normal', <class 'sklearn.preprocessing.data.StandardScaler'>\n",
       "\t Reducer: True, <class 'sklearn.decomposition.pca.PCA'>\n",
       "Classifier: 'gmm', <class 'sklearn.mixture.gaussian_mixture.GaussianMixture'>"
      ]
     },
     "execution_count": 4,
     "metadata": {},
     "output_type": "execute_result"
    }
   ],
   "source": [
    "from pyxpcm.models import pcm\n",
    "\n",
    "# Create the pcm\n",
    "m = pcm(K=4, features={'TEMP': ds['depth'].where(ds['depth']>=-800, drop=True)})\n",
    "m"
   ]
  },
  {
   "cell_type": "markdown",
   "metadata": {},
   "source": [
    "Fit the PCM on the dataset\n",
    "--------------------------\n",
    "\n",
    "### Masking\n",
    "\n",
    "In order to create a PCM from temperature profiles of this gridded product, pyXpcm will automatically mask the domain where features are not available on the PCM axis. This is done internally, but you can have access to the mask through the ``mask`` method:"
   ]
  },
  {
   "cell_type": "code",
   "execution_count": 5,
   "metadata": {},
   "outputs": [
    {
     "data": {
      "text/plain": [
       "<matplotlib.collections.QuadMesh at 0x1c1844ca90>"
      ]
     },
     "execution_count": 5,
     "metadata": {},
     "output_type": "execute_result"
    },
    {
     "data": {
      "image/png": "[encoded data removed]",
      "text/plain": [
       "<Figure size 432x288 with 2 Axes>"
      ]
     },
     "metadata": {
      "needs_background": "light"
     },
     "output_type": "display_data"
    }
   ],
   "source": [
    "mask = ds.pyxpcm.mask(m, dim='depth')\n",
    "mask.plot()"
   ]
  },
  {
   "cell_type": "markdown",
   "metadata": {},
   "source": [
    "### Training\n",
    "\n",
    "Now that we have a proper collection of profiles and a PCM, we can simply *fit* the classifier:"
   ]
  },
  {
   "cell_type": "code",
   "execution_count": 6,
   "metadata": {},
   "outputs": [
    {
     "data": {
      "text/plain": [
       "<pcm 'gmm' (K: 4, F: 1)>\n",
       "Number of class: 4\n",
       "Number of feature: 1\n",
       "Feature names: odict_keys(['TEMP'])\n",
       "Fitted: True\n",
       "Feature: 'TEMP'\n",
       "\t Interpoler: <class 'pyxpcm.models.Vertical_Interpolator'>\n",
       "\t Scaler: 'normal', <class 'sklearn.preprocessing.data.StandardScaler'>\n",
       "\t Reducer: True, <class 'sklearn.decomposition.pca.PCA'>\n",
       "Classifier: 'gmm', <class 'sklearn.mixture.gaussian_mixture.GaussianMixture'>\n",
       "\t log likelihood of the training set: 18.837408"
      ]
     },
     "execution_count": 6,
     "metadata": {},
     "output_type": "execute_result"
    }
   ],
   "source": [
    "ds.pyxpcm.fit(m, dim='depth')"
   ]
  },
  {
   "cell_type": "markdown",
   "metadata": {},
   "source": [
    "or equivalently:"
   ]
  },
  {
   "cell_type": "code",
   "execution_count": 7,
   "metadata": {},
   "outputs": [
    {
     "data": {
      "text/plain": [
       "<pcm 'gmm' (K: 4, F: 1)>\n",
       "Number of class: 4\n",
       "Number of feature: 1\n",
       "Feature names: odict_keys(['TEMP'])\n",
       "Fitted: True\n",
       "Feature: 'TEMP'\n",
       "\t Interpoler: <class 'pyxpcm.models.Vertical_Interpolator'>\n",
       "\t Scaler: 'normal', <class 'sklearn.preprocessing.data.StandardScaler'>\n",
       "\t Reducer: True, <class 'sklearn.decomposition.pca.PCA'>\n",
       "Classifier: 'gmm', <class 'sklearn.mixture.gaussian_mixture.GaussianMixture'>\n",
       "\t log likelihood of the training set: 18.837408"
      ]
     },
     "execution_count": 7,
     "metadata": {},
     "output_type": "execute_result"
    }
   ],
   "source": [
    "m.fit(ds, dim='depth')"
   ]
  },
  {
   "cell_type": "markdown",
   "metadata": {},
   "source": [
    "This PCM can now be used to classify any ocean profiles.\n",
    "\n",
    "Classify ocean profiles\n",
    "-----------------------\n",
    "\n",
    "There are two methods to classify ocean profiles:\n",
    "\n",
    "### Hard labelling\n",
    "\n",
    "Once the PCM is trained, i.e. fitted with a training dataset, we can predict classes that profiles from a :class:`xarray.Dataset` belongs to. We can simply classify profile from the dataset that was used to fit the PCM:\n"
   ]
  },
  {
   "cell_type": "code",
   "execution_count": 8,
   "metadata": {},
   "outputs": [
    {
     "data": {
      "text/plain": [
       "<xarray.DataArray 'PCM_LABELS' (latitude: 53, longitude: 61)>\n",
       "array([[ 1.,  1.,  1., ...,  1.,  1.,  1.],\n",
       "       [ 1.,  1.,  1., ...,  1.,  1.,  1.],\n",
       "       [ 1.,  1.,  1., ...,  1.,  1.,  1.],\n",
       "       ...,\n",
       "       [nan, nan, nan, ...,  0.,  0.,  0.],\n",
       "       [nan, nan, nan, ...,  0.,  0.,  0.],\n",
       "       [nan, nan, nan, ...,  0.,  0.,  0.]])\n",
       "Coordinates:\n",
       "  * latitude   (latitude) float64 30.02 30.46 30.89 31.31 ... 49.09 49.41 49.74\n",
       "  * longitude  (longitude) float64 -70.0 -69.5 -69.0 -68.5 ... -41.0 -40.5 -40.0\n",
       "Attributes:\n",
       "    long_name:  PCM labels\n",
       "    units:      \n",
       "    valid_min:  0\n",
       "    valid_max:  3\n",
       "    llh:        18.837408448319763"
      ]
     },
     "execution_count": 8,
     "metadata": {},
     "output_type": "execute_result"
    }
   ],
   "source": [
    "LABELS = ds.pyxpcm.predict(m, dim='depth')\n",
    "LABELS"
   ]
  },
  {
   "cell_type": "markdown",
   "metadata": {},
   "source": [
    "Each profiles is labelled with one of the possible cluster index from 0 to K-1.\n",
    "\n",
    "A map of labels can then be quickly drawn:"
   ]
  },
  {
   "cell_type": "code",
   "execution_count": 9,
   "metadata": {},
   "outputs": [
    {
     "data": {
      "text/plain": [
       "<matplotlib.colorbar.Colorbar at 0x1c175b3630>"
      ]
     },
     "execution_count": 9,
     "metadata": {},
     "output_type": "execute_result"
    },
    {
     "data": {
      "image/png": "[encoded data removed]",
      "text/plain": [
       "<Figure size 432x288 with 2 Axes>"
      ]
     },
     "metadata": {
      "needs_background": "light"
     },
     "output_type": "display_data"
    }
   ],
   "source": [
    "LABELS.plot(cmap=m.plot.cmap(), add_colorbar=False)\n",
    "m.plot.colorbar()"
   ]
  },
  {
   "cell_type": "markdown",
   "metadata": {},
   "source": [
    "Note that here we made use of the :class:`pyxpcm.plot` methods `cmap` and `colorbar` to produce appropriate colors for labels.\n",
    "\n",
    "### Fuzzy classification\n",
    "\n",
    "Since the PCM classifier we used (GMM) is fuzzy, we can also predict the probabilities for profiles to belong to each of the classes, the so-called posterior probabilities:"
   ]
  },
  {
   "cell_type": "code",
   "execution_count": 10,
   "metadata": {},
   "outputs": [
    {
     "data": {
      "text/plain": [
       "<xarray.DataArray 'PCM_POST' (pcm_class: 4, latitude: 53, longitude: 61)>\n",
       "array([[[4.346725e-211, 4.169528e-218, ..., 1.324114e-191, 1.086648e-188],\n",
       "        [5.385217e-225, 1.127551e-228, ..., 1.782799e-190, 3.685586e-187],\n",
       "        ...,\n",
       "        [          nan,           nan, ..., 1.000000e+000, 1.000000e+000],\n",
       "        [          nan,           nan, ..., 1.000000e+000, 1.000000e+000]],\n",
       "\n",
       "       [[1.000000e+000, 1.000000e+000, ..., 1.000000e+000, 1.000000e+000],\n",
       "        [1.000000e+000, 1.000000e+000, ..., 1.000000e+000, 1.000000e+000],\n",
       "        ...,\n",
       "        [          nan,           nan, ..., 0.000000e+000, 0.000000e+000],\n",
       "        [          nan,           nan, ..., 0.000000e+000, 0.000000e+000]],\n",
       "\n",
       "       [[3.616859e-233, 2.021647e-255, ..., 8.501288e-220, 7.394979e-214],\n",
       "        [8.371489e-191, 5.925613e-213, ..., 1.968247e-232, 9.100335e-228],\n",
       "        ...,\n",
       "        [          nan,           nan, ..., 4.559768e-058, 2.020494e-057],\n",
       "        [          nan,           nan, ..., 1.343549e-054, 9.494519e-055]],\n",
       "\n",
       "       [[2.325441e-018, 3.557472e-020, ..., 2.213572e-071, 1.095292e-067],\n",
       "        [2.783769e-019, 1.708932e-020, ..., 2.712288e-065, 3.259678e-063],\n",
       "        ...,\n",
       "        [          nan,           nan, ..., 0.000000e+000, 0.000000e+000],\n",
       "        [          nan,           nan, ..., 0.000000e+000, 0.000000e+000]]])\n",
       "Coordinates:\n",
       "  * latitude   (latitude) float64 30.02 30.46 30.89 31.31 ... 49.09 49.41 49.74\n",
       "  * longitude  (longitude) float64 -70.0 -69.5 -69.0 -68.5 ... -41.0 -40.5 -40.0\n",
       "Dimensions without coordinates: pcm_class\n",
       "Attributes:\n",
       "    long_name:  PCM posteriors\n",
       "    units:      \n",
       "    valid_min:  0\n",
       "    valid_max:  1\n",
       "    llh:        18.837408448319763"
      ]
     },
     "execution_count": 10,
     "metadata": {},
     "output_type": "execute_result"
    }
   ],
   "source": [
    "POSTERIORS = ds.pyxpcm.predict_proba(m, dim='depth')\n",
    "POSTERIORS"
   ]
  },
  {
   "cell_type": "markdown",
   "metadata": {},
   "source": [
    "which can then be map like:"
   ]
  },
  {
   "cell_type": "code",
   "execution_count": 14,
   "metadata": {},
   "outputs": [
    {
     "data": {
      "image/png": "[encoded data removed]",
      "text/plain": [
       "<Figure size 720x720 with 8 Axes>"
      ]
     },
     "metadata": {
      "needs_background": "light"
     },
     "output_type": "display_data"
    }
   ],
   "source": [
    "fig, ax = m.plot.subplots(figsize=(10,10), maxcols=2)\n",
    "for k in m:\n",
    "    POSTERIORS.sel(pcm_class=k).plot(ax=ax[k])\n",
    "    ax[k].set_title(\"Class %i\" % k)"
   ]
  },
  {
   "cell_type": "markdown",
   "metadata": {},
   "source": [
    "Note here that we made use of the following pyXpcm useful tools:\n",
    "\n",
    "- the :class:`pyxpcm.pcm` instance has an iterator on clusters, so we can use:"
   ]
  },
  {
   "cell_type": "code",
   "execution_count": 12,
   "metadata": {},
   "outputs": [
    {
     "name": "stdout",
     "output_type": "stream",
     "text": [
      "This is class  0\n",
      "This is class  1\n",
      "This is class  2\n",
      "This is class  3\n"
     ]
    }
   ],
   "source": [
    "for k in m:\n",
    "    print('This is class ', k)"
   ]
  },
  {
   "cell_type": "markdown",
   "metadata": {},
   "source": [
    "- the :class:`pyxpcm.plot` has a ``subplots`` method to automatically create a figure with one subplot per class."
   ]
  },
  {
   "cell_type": "markdown",
   "metadata": {},
   "source": [
    "Summary\n",
    "-------\n",
    "\n",
    "You can look at in the [summary](summary.rst) page for an more an overview.\n",
    "\n",
    ".. _ISAS15: https://doi.org/10.17882/52367\n",
    ".. _Xarray: http://xarray.pydata.org/en/stable"
   ]
  }
 ],
 "metadata": {
  "kernelspec": {
   "display_name": "obidam36",
   "language": "python",
   "name": "obidam36"
  },
  "language_info": {
   "codemirror_mode": {
    "name": "ipython",
    "version": 3
   },
   "file_extension": ".py",
   "mimetype": "text/x-python",
   "name": "python",
   "nbconvert_exporter": "python",
   "pygments_lexer": "ipython3",
   "version": "3.6.7"
  }
 },
 "nbformat": 4,
 "nbformat_minor": 2
}
