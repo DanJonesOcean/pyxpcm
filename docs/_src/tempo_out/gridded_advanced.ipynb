{
 "cells": [
  {
   "cell_type": "markdown",
   "metadata": {},
   "source": [
    "# **Application to a gridded product:** Example with ISAS15 data\n",
    "# pyXpcm standard figures and diagnostic tools"
   ]
  },
  {
   "cell_type": "code",
   "execution_count": 1,
   "metadata": {},
   "outputs": [],
   "source": [
    "import os, sys\n",
    "import numpy as np\n",
    "import pandas as pd\n",
    "import xarray as xr\n",
    "import intake\n",
    "import matplotlib.pyplot as plt\n",
    "%matplotlib inline\n",
    "sys.path.insert(0, os.path.abspath('/Users/gmaze/git/github/gmaze/pyxpcm'))\n",
    "import pyxpcm\n",
    "\n",
    "from pyxpcm.models import pcm\n",
    "from pyxpcm import datasets as pcmdata\n",
    "from pyxpcm import plot as pcmplot\n",
    "# from pyxpcm import stats as pcmstats\n",
    "\n",
    "import seaborn as sns\n",
    "import cartopy.crs as ccrs\n",
    "import cartopy.feature as cfeature\n",
    "import matplotlib.ticker as mticker\n",
    "import matplotlib as mpl"
   ]
  },
  {
   "cell_type": "markdown",
   "metadata": {},
   "source": [
    "# Load data"
   ]
  },
  {
   "cell_type": "code",
   "execution_count": 2,
   "metadata": {},
   "outputs": [
    {
     "name": "stdout",
     "output_type": "stream",
     "text": [
      "This dataset holds: 11.808 MB\n",
      "<xarray.Dataset>\n",
      "Dimensions:      (depth: 152, latitude: 53, longitude: 61)\n",
      "Coordinates:\n",
      "  * latitude     (latitude) float32 30.023445 30.455408 ... 49.41288 49.737103\n",
      "  * longitude    (longitude) float32 -70.0 -69.5 -69.0 ... -41.0 -40.5 -40.0\n",
      "  * depth        (depth) float32 -1.0 -3.0 -5.0 ... -1960.0 -1980.0 -2000.0\n",
      "Data variables:\n",
      "    TEMP         (depth, latitude, longitude) float32 24.458 ... 3.4309998\n",
      "    TEMP_ERR     (depth, latitude, longitude) float32 0.33 0.328 ... 0.049000002\n",
      "    TEMP_PCTVAR  (depth, latitude, longitude) float32 31.0 31.0 ... 99.0 99.0\n",
      "    PSAL         (depth, latitude, longitude) float32 36.632 36.658 ... 34.917\n",
      "    PSAL_ERR     (depth, latitude, longitude) float32 0.051000003 ... 0.006\n",
      "    PSAL_PCTVAR  (depth, latitude, longitude) float32 32.0 32.0 ... 99.0 99.0\n",
      "    SST          (latitude, longitude) float32 24.458 24.448 ... 13.216999\n"
     ]
    }
   ],
   "source": [
    "ds = pcmdata.load_isas15()\n",
    "print('This dataset holds: %.3f MB' % (ds.nbytes / 1e6))\n",
    "print(ds)"
   ]
  },
  {
   "cell_type": "markdown",
   "metadata": {},
   "source": [
    "# Define/fit/predict a standard pyXpcm"
   ]
  },
  {
   "cell_type": "code",
   "execution_count": 3,
   "metadata": {},
   "outputs": [],
   "source": [
    "# Define vertical axis and features to use:\n",
    "z = ds['depth'].where(ds['depth']>=-1200, drop=True)\n",
    "# z = np.arange(0.5,-1000,-10.)\n",
    "features_pcm = {'temperature': z, 'salinity': z}\n",
    "features_in_ds = {'temperature': 'TEMP', 'salinity': 'PSAL'}\n",
    "\n",
    "# features_pcm = {'temperature': z, 'sst': None}\n",
    "# features_in_ds = {'temperature': 'TEMP', 'sst': 'SST'}\n",
    "\n",
    "# Note that here we use the dataset vertical axis for performance reasons (no need for interpolation)\n",
    "# We could use anything, eg: z = np.arange(0,-1000,-10)"
   ]
  },
  {
   "cell_type": "code",
   "execution_count": 11,
   "metadata": {},
   "outputs": [
    {
     "data": {
      "text/plain": [
       "<pcm 'gmm' (K: 4, F: 1)>\n",
       "Number of class: 4\n",
       "Number of feature: 1\n",
       "Feature names: odict_keys(['TEMP'])\n",
       "Fitted: False\n",
       "Feature: 'TEMP'\n",
       "\t Interpoler: <class 'pyxpcm.models.Vertical_Interpolator'>\n",
       "\t Scaler: 'normal', <class 'sklearn.preprocessing.data.StandardScaler'>\n",
       "\t Reducer: True, <class 'sklearn.decomposition.pca.PCA'>\n",
       "Classifier: 'gmm', <class 'sklearn.mixture.gaussian_mixture.GaussianMixture'>"
      ]
     },
     "execution_count": 11,
     "metadata": {},
     "output_type": "execute_result"
    }
   ],
   "source": [
    "m = pcm(K=4, features={'TEMP': ds['depth'].where(ds['depth']>=-800, drop=True)})\n",
    "m"
   ]
  },
  {
   "cell_type": "code",
   "execution_count": 6,
   "metadata": {},
   "outputs": [
    {
     "name": "stdout",
     "output_type": "stream",
     "text": [
      "<pcm 'gmm' (K: 3, F: 2)>\n",
      "Number of class: 3\n",
      "Number of feature: 2\n",
      "Feature names: odict_keys(['temperature', 'salinity'])\n",
      "Fitted: True\n",
      "Feature: 'temperature'\n",
      "\t Interpoler: <class 'pyxpcm.models.Vertical_Interpolator'>\n",
      "\t Scaler: 'normal', <class 'sklearn.preprocessing.data.StandardScaler'>\n",
      "\t Reducer: True, <class 'sklearn.decomposition.pca.PCA'>\n",
      "Feature: 'salinity'\n",
      "\t Interpoler: <class 'pyxpcm.models.Vertical_Interpolator'>\n",
      "\t Scaler: 'normal', <class 'sklearn.preprocessing.data.StandardScaler'>\n",
      "\t Reducer: True, <class 'sklearn.decomposition.pca.PCA'>\n",
      "Classifier: 'gmm', <class 'sklearn.mixture.gaussian_mixture.GaussianMixture'>\n",
      "\t log likelihood of the training set: 63.220727 \n",
      "\n"
     ]
    },
    {
     "name": "stderr",
     "output_type": "stream",
     "text": [
      "/Users/gmaze/git/github/gmaze/pyxpcm/pyxpcm/models.py:123: UserWarning: PCM_LABELS variable already in the dataset: overwriting\n",
      "  warnings.warn((\"%s variable already in the dataset: overwriting\") % (da.name))\n",
      "/Users/gmaze/git/github/gmaze/pyxpcm/pyxpcm/models.py:123: UserWarning: PCM_POST variable already in the dataset: overwriting\n",
      "  warnings.warn((\"%s variable already in the dataset: overwriting\") % (da.name))\n",
      "/Users/gmaze/git/github/gmaze/pyxpcm/pyxpcm/models.py:364: UserWarning: PCM_ROBUSTNESS variable already in the dataset: overwriting\n",
      "  warnings.warn((\"%s variable already in the dataset: overwriting\") % (outname))\n",
      "/Users/gmaze/git/github/gmaze/pyxpcm/pyxpcm/models.py:123: UserWarning: PCM_ROBUSTNESS variable already in the dataset: overwriting\n",
      "  warnings.warn((\"%s variable already in the dataset: overwriting\") % (da.name))\n",
      "/Users/gmaze/git/github/gmaze/pyxpcm/pyxpcm/models.py:416: UserWarning: PCM_ROBUSTNESS_CAT variable already in the dataset: overwriting\n",
      "  warnings.warn((\"%s variable already in the dataset: overwriting\") % (outname))\n",
      "/Users/gmaze/git/github/gmaze/pyxpcm/pyxpcm/models.py:123: UserWarning: PCM_ROBUSTNESS_CAT variable already in the dataset: overwriting\n",
      "  warnings.warn((\"%s variable already in the dataset: overwriting\") % (da.name))\n",
      "/Users/gmaze/git/github/gmaze/pyxpcm/pyxpcm/models.py:123: UserWarning: TEMP_Q variable already in the dataset: overwriting\n",
      "  warnings.warn((\"%s variable already in the dataset: overwriting\") % (da.name))\n"
     ]
    },
    {
     "name": "stdout",
     "output_type": "stream",
     "text": [
      "<xarray.Dataset>\n",
      "Dimensions:             (depth: 152, latitude: 53, longitude: 61, pcm_class: 3, quantile: 3)\n",
      "Coordinates:\n",
      "  * pcm_class           (pcm_class) int64 0 1 2\n",
      "  * depth               (depth) float32 -1.0 -3.0 -5.0 ... -1980.0 -2000.0\n",
      "  * quantile            (quantile) float64 0.05 0.5 0.95\n",
      "  * latitude            (latitude) float64 30.02 30.46 30.89 ... 49.41 49.74\n",
      "  * longitude           (longitude) float64 -70.0 -69.5 -69.0 ... -40.5 -40.0\n",
      "Data variables:\n",
      "    PSAL_Q              (pcm_class, quantile, depth) float64 36.43 ... 35.0\n",
      "    TEMP_Q              (pcm_class, quantile, depth) float64 22.64 ... 3.845\n",
      "    PCM_ROBUSTNESS_CAT  (latitude, longitude) int64 5 5 5 5 5 5 ... 5 5 5 5 5 5\n",
      "    PCM_ROBUSTNESS      (latitude, longitude) float64 1.0 1.0 1.0 ... 1.0 1.0\n",
      "    PCM_POST            (pcm_class, latitude, longitude) float64 1.0 1.0 ... 0.0\n",
      "    PCM_LABELS          (latitude, longitude) float64 0.0 0.0 0.0 ... 1.0 1.0\n",
      "    TEMP                (depth, latitude, longitude) float32 24.458 ... 3.4309998\n",
      "    TEMP_ERR            (depth, latitude, longitude) float32 0.33 ... 0.049000002\n",
      "    TEMP_PCTVAR         (depth, latitude, longitude) float32 31.0 31.0 ... 99.0\n",
      "    PSAL                (depth, latitude, longitude) float32 36.632 ... 34.917\n",
      "    PSAL_ERR            (depth, latitude, longitude) float32 0.051000003 ... 0.006\n",
      "    PSAL_PCTVAR         (depth, latitude, longitude) float32 32.0 32.0 ... 99.0\n",
      "    SST                 (latitude, longitude) float32 24.458 ... 13.216999\n"
     ]
    },
    {
     "name": "stderr",
     "output_type": "stream",
     "text": [
      "/Users/gmaze/git/github/gmaze/pyxpcm/pyxpcm/models.py:123: UserWarning: PSAL_Q variable already in the dataset: overwriting\n",
      "  warnings.warn((\"%s variable already in the dataset: overwriting\") % (da.name))\n"
     ]
    }
   ],
   "source": [
    "# Instantiate a new pyXpcm:\n",
    "m = pcm(K=3, features=features_pcm)\n",
    "\n",
    "# Fit:\n",
    "ds.pyxpcm.fit(m, features=features_in_ds, dim='depth')\n",
    "# or: m.fit(ds, features=features_in_ds, dim='depth')\n",
    "print(m,\"\\n\")\n",
    "\n",
    "# Hard/Fuzzy classify data:\n",
    "ds = ds.pyxpcm.predict(m, features=features_in_ds, dim='depth', inplace=True)\n",
    "ds = ds.pyxpcm.predict_proba(m, features=features_in_ds, dim='depth', inplace=True)\n",
    "\n",
    "# Compute robustness of the classification:\n",
    "ds = ds.pyxpcm.robustness(inplace=True)\n",
    "ds = ds.pyxpcm.robustness_digit(inplace=True)\n",
    "\n",
    "# Compute quantiles:\n",
    "ds = ds.compute() # This is necessary if data are in dask arrays\n",
    "for vname in ['TEMP', 'PSAL']:\n",
    "    ds = ds.pyxpcm.quantile([0.05, 0.5, 0.95], of=vname, outname=vname + '_Q', keep_attrs=True, inplace=True)\n",
    "\n",
    "print(ds)"
   ]
  },
  {
   "cell_type": "markdown",
   "metadata": {},
   "source": [
    "### Plot of the domain where data are available for this PCM"
   ]
  },
  {
   "cell_type": "code",
   "execution_count": null,
   "metadata": {},
   "outputs": [],
   "source": [
    "mask = ds.pyxpcm.mask(m, features=features_in_ds, dim='depth')\n",
    "mask.plot()"
   ]
  },
  {
   "cell_type": "code",
   "execution_count": null,
   "metadata": {},
   "outputs": [],
   "source": [
    "# pyXpcm variables added to the dataset can be removed with:\n",
    "# print('Before:', ds.data_vars)\n",
    "# ds = ds.pyxpcm.drop_all()\n",
    "# print('After cleaning:', ds.data_vars)"
   ]
  },
  {
   "cell_type": "markdown",
   "metadata": {
    "toc-hr-collapsed": false
   },
   "source": [
    "***\n",
    "\n",
    "# Figure of results"
   ]
  },
  {
   "cell_type": "markdown",
   "metadata": {
    "toc-hr-collapsed": false
   },
   "source": [
    "## Maps"
   ]
  },
  {
   "cell_type": "markdown",
   "metadata": {},
   "source": [
    "### Labels"
   ]
  },
  {
   "cell_type": "code",
   "execution_count": 9,
   "metadata": {},
   "outputs": [
    {
     "data": {
      "image/png": "[encoded data removed]",
      "text/plain": [
       "<Figure size 432x288 with 2 Axes>"
      ]
     },
     "metadata": {
      "needs_background": "light"
     },
     "output_type": "display_data"
    }
   ],
   "source": [
    "# Easiest way of ploting results:\n",
    "cmap = m.plot.cmap()\n",
    "ds['PCM_LABELS'].plot(cmap=cmap, add_colorbar=False)\n",
    "cl = m.plot.colorbar()"
   ]
  },
  {
   "cell_type": "code",
   "execution_count": null,
   "metadata": {},
   "outputs": [],
   "source": [
    "# Nicer map:\n",
    "proj = ccrs.PlateCarree()\n",
    "subplot_kw={'projection': proj, 'extent': np.array([-72,-38,28,51]) + np.array([-0.1,+0.1,-0.1,+0.1])}\n",
    "fig, ax = plt.subplots(nrows=1, ncols=1, figsize=(5,5), dpi=90, facecolor='w', edgecolor='k', subplot_kw=subplot_kw)\n",
    "\n",
    "cmap = m.plot.cmap()\n",
    "ds['PCM_LABELS'].plot.pcolormesh(cmap=cmap, transform=proj, vmin=0, vmax=m.K, add_colorbar=False)\n",
    "cl = m.plot.colorbar(ax=ax)\n",
    "\n",
    "gl = pcmplot.latlongrid(ax, fontsize=8, dx=5)\n",
    "ax.add_feature(cfeature.LAND)\n",
    "ax.add_feature(cfeature.COASTLINE)\n",
    "ax.set_title('LABELS')\n",
    "plt.show()"
   ]
  },
  {
   "cell_type": "markdown",
   "metadata": {},
   "source": [
    "### Probabilities of classes for each data point"
   ]
  },
  {
   "cell_type": "code",
   "execution_count": null,
   "metadata": {},
   "outputs": [],
   "source": [
    "# Easiest way of ploting results:\n",
    "fig, ax = m.plot.subplots(figsize=(20,5))\n",
    "for k in m:\n",
    "    ds['PCM_POST'].sel(pcm_class=k).plot(ax=ax[k])\n",
    "    ax[k].set_title(\"Class %i\" % k)"
   ]
  },
  {
   "cell_type": "code",
   "execution_count": null,
   "metadata": {},
   "outputs": [],
   "source": [
    "# Nicer maps:\n",
    "cmap = sns.light_palette(\"green\", as_cmap=True)\n",
    "proj = ccrs.PlateCarree()\n",
    "subplot_kw={'projection': proj, 'extent': np.array([-72,-38,28,51]) + np.array([-0.1,+0.1,-0.1,+0.1])}\n",
    "fig, ax = m.plot.subplots(figsize=(20,5),subplot_kw=subplot_kw)\n",
    "for k in m:\n",
    "    sc = ds['PCM_POST'].sel(pcm_class=k).plot.pcolormesh(cmap=cmap, transform=proj, vmin=0, vmax=1, add_colorbar=False, ax=ax[k])\n",
    "    cl = plt.colorbar(sc, ax=ax[k], fraction=0.03)\n",
    "    gl = pcmplot.latlongrid(ax[k], fontsize=8, dx=5, dy=5)\n",
    "    ax[k].add_feature(cfeature.LAND)\n",
    "    ax[k].add_feature(cfeature.COASTLINE)\n",
    "    ax[k].set_title('PCM Posteriors k=%i' % k)"
   ]
  },
  {
   "cell_type": "markdown",
   "metadata": {},
   "source": [
    "### Robustness"
   ]
  },
  {
   "cell_type": "code",
   "execution_count": null,
   "metadata": {},
   "outputs": [],
   "source": [
    "proj = ccrs.PlateCarree()\n",
    "subplot_kw={'projection': proj, 'extent': np.array([-72,-38,28,51]) + np.array([-0.1,+0.1,-0.1,+0.1])}\n",
    "fig, ax = plt.subplots(nrows=1, ncols=1, figsize=(5,5), dpi=120, facecolor='w', edgecolor='k', subplot_kw=subplot_kw)\n",
    "\n",
    "cmap = pcmplot.cmap_robustess()\n",
    "boundaries = ds['PCM_ROBUSTNESS_CAT'].attrs['bins']\n",
    "rowl0 = ds['PCM_ROBUSTNESS_CAT'].attrs['legend']\n",
    "norm = mpl.colors.BoundaryNorm(boundaries, cmap.N, clip=True)\n",
    "sc = ds['PCM_ROBUSTNESS'].plot.pcolormesh(cmap=cmap, transform=proj, vmin=0, vmax=1, add_colorbar=False, ax=ax)\n",
    "cl = plt.colorbar(sc, ax=ax, fraction=0.03)\n",
    "for (i,j) in zip(np.arange(0.1,1,1/5), rowl0):\n",
    "    cl.ax.text(2, i, j, ha='left', va='center')\n",
    "\n",
    "gl = pcmplot.latlongrid(ax)\n",
    "ax.add_feature(cfeature.LAND)\n",
    "ax.add_feature(cfeature.COASTLINE)\n",
    "ax.set_xlabel('Longitude')\n",
    "ax.set_ylabel('Latitude')\n",
    "ax.set_title('Robustness')\n",
    "plt.show()"
   ]
  },
  {
   "cell_type": "markdown",
   "metadata": {
    "toc-hr-collapsed": false
   },
   "source": [
    "## Profiles"
   ]
  },
  {
   "cell_type": "markdown",
   "metadata": {},
   "source": [
    "### Quantiles\n",
    "\n",
    "Used to plot the typical class profiles"
   ]
  },
  {
   "cell_type": "code",
   "execution_count": null,
   "metadata": {},
   "outputs": [],
   "source": [
    "fig, ax = pcmplot.quant(m, ds['TEMP_Q'], maxcols=4, figsize=(10, 8), sharey=True)"
   ]
  },
  {
   "cell_type": "markdown",
   "metadata": {},
   "source": [
    "# Figure of PCM properties"
   ]
  },
  {
   "cell_type": "code",
   "execution_count": null,
   "metadata": {},
   "outputs": [],
   "source": [
    "# Clean up dataset of previous results:\n",
    "ds = ds.pyxpcm.drop_all()\n",
    "\n",
    "# Standard PCM:\n",
    "m = pcm(K=4, features=features_pcm, maxvar=3) # We use a strong reduction (2-dim) to limit the dimensions and size of the plot\n",
    "m.fit_predict(ds, features=features_in_ds, dim='depth');"
   ]
  },
  {
   "cell_type": "markdown",
   "metadata": {},
   "source": [
    "## Scaler properties"
   ]
  },
  {
   "cell_type": "code",
   "execution_count": null,
   "metadata": {},
   "outputs": [],
   "source": [
    "m.plot.scaler();\n",
    "# Equivalent to:\n",
    "# pcmplot.scaler(m)\n",
    "\n",
    "# More options:\n",
    "# m.plot.scaler(style='darkgrid')\n",
    "# m.plot.scaler(style='darkgrid', subplot_kw={'ylim':[-1000,0]})"
   ]
  },
  {
   "cell_type": "markdown",
   "metadata": {},
   "source": [
    "## Reducer properties\n",
    "\n",
    "Plot eigen vectors for a PCA reducer or nothing if no reduced used"
   ]
  },
  {
   "cell_type": "code",
   "execution_count": null,
   "metadata": {},
   "outputs": [],
   "source": [
    "m.plot.reducer();\n",
    "# Equivalent to:\n",
    "# pcmplot.reducer(m)\n",
    "\n",
    "# More options:\n",
    "# m.plot.reducer(pcalist = range(0,4));\n",
    "# m.plot.reducer(pcalist = range(0,4), style='darkgrid',  plot_kw={'linewidth':1.5}, subplot_kw={'ylim':[-1400,0]}, figsize=(12,10));"
   ]
  },
  {
   "cell_type": "markdown",
   "metadata": {},
   "source": [
    "## Scatter plot of features, *as seen by the classifier*"
   ]
  },
  {
   "cell_type": "code",
   "execution_count": null,
   "metadata": {},
   "outputs": [],
   "source": [
    "# Clean up dataset of previous results:\n",
    "ds = ds.pyxpcm.drop_all()\n",
    "\n",
    "# Standard PCM:\n",
    "m = pcm(K=8, features=features_pcm, maxvar=2) # We use a strong reduction (2-dim) to limit the dimensions and size of the plot\n",
    "m.fit_predict(ds, features=features_in_ds, dim='depth');"
   ]
  },
  {
   "cell_type": "code",
   "execution_count": null,
   "metadata": {},
   "outputs": [],
   "source": [
    "# To get access to pre-processed data for your own plot/analysis:\n",
    "X, sampling_dims = m.preprocessing(ds, features=features_in_ds, dim='depth')\n",
    "X"
   ]
  },
  {
   "cell_type": "code",
   "execution_count": null,
   "metadata": {},
   "outputs": [],
   "source": [
    "# Direct Figure:\n",
    "g = m.plot.preprocessed(ds, features=features_in_ds, style='darkgrid', dim='depth')\n",
    "\n",
    "# A posteriori adjustements:\n",
    "# g.set(xlim=(-3,3),ylim=(-3,3))\n",
    "# g.savefig('toto.png')"
   ]
  },
  {
   "cell_type": "code",
   "execution_count": null,
   "metadata": {},
   "outputs": [],
   "source": [
    "# Combine KDE with histrograms (very slow plot, so commented here):\n",
    "# g = m.plot.preprocessed(ds, features=features_in_ds, kde=True)"
   ]
  },
  {
   "cell_type": "markdown",
   "metadata": {},
   "source": [
    "# Diagnostics"
   ]
  },
  {
   "cell_type": "markdown",
   "metadata": {},
   "source": [
    "## Debugging\n",
    "\n",
    "Use option ``debug`` to print log messages "
   ]
  },
  {
   "cell_type": "code",
   "execution_count": null,
   "metadata": {},
   "outputs": [],
   "source": [
    "# Clean up dataset of previous results:\n",
    "ds = ds.pyxpcm.drop_all()\n",
    "\n",
    "# Instantiate a new PCM:\n",
    "m = pcm(K=8, features=features_pcm, debug=1)\n",
    "\n",
    "# Fit with log:\n",
    "m.fit(ds, features=features_in_ds, dim='depth');"
   ]
  },
  {
   "cell_type": "markdown",
   "metadata": {},
   "source": [
    "## Performance / Optimisation\n",
    "\n",
    "Use ``timeit`` and ``timeit_verb`` to compute computation time of PCM operations\n",
    "\n",
    "Times are accessible as a pandas Dataframe in ``timeit`` pyXpcm instance property.\n",
    "\n",
    "The pyXpcm ``m.plot.timeit()`` plot method allows for a simple visualisation of times."
   ]
  },
  {
   "cell_type": "markdown",
   "metadata": {},
   "source": [
    "### Time readings at execution time"
   ]
  },
  {
   "cell_type": "code",
   "execution_count": null,
   "metadata": {},
   "outputs": [],
   "source": [
    "# Create a PCM and use several methods to time:\n",
    "m = pcm(K=3, features=features_pcm, timeit=True)\n",
    "m.fit(ds, features=features_in_ds, dim='depth');\n",
    "m.predict(ds, features=features_in_ds, dim='depth');\n",
    "m.fit_predict(ds, features=features_in_ds, dim='depth');"
   ]
  },
  {
   "cell_type": "code",
   "execution_count": null,
   "metadata": {},
   "outputs": [],
   "source": [
    "# Timing are accessible through a dataframe in the timeit property:\n",
    "m.timeit"
   ]
  },
  {
   "cell_type": "markdown",
   "metadata": {},
   "source": [
    "### Compare details of steps for each method"
   ]
  },
  {
   "cell_type": "code",
   "execution_count": null,
   "metadata": {},
   "outputs": [],
   "source": [
    "fig, ax, df = m.plot.timeit(group='Method', split='Sub-method') # Default group/split\n",
    "df"
   ]
  },
  {
   "cell_type": "markdown",
   "metadata": {},
   "source": [
    "### Compare preprocessing steps for each method"
   ]
  },
  {
   "cell_type": "code",
   "execution_count": null,
   "metadata": {},
   "outputs": [],
   "source": [
    "fig, ax, df = m.plot.timeit(group='Method', split='Sub-sub-method')\n",
    "df"
   ]
  },
  {
   "cell_type": "markdown",
   "metadata": {},
   "source": [
    "### Compare details of preprocessing steps for each method"
   ]
  },
  {
   "cell_type": "code",
   "execution_count": null,
   "metadata": {},
   "outputs": [],
   "source": [
    "fig, ax, df = m.plot.timeit(group='Method', split='Sub-sub-sub-method')\n",
    "df"
   ]
  },
  {
   "cell_type": "markdown",
   "metadata": {},
   "source": [
    "### Compare details of preprocessing steps for each feature"
   ]
  },
  {
   "cell_type": "code",
   "execution_count": null,
   "metadata": {},
   "outputs": [],
   "source": [
    "fig, ax, df = m.plot.timeit(split='Sub-sub-sub-method', group='Sub-sub-method')\n",
    "df"
   ]
  },
  {
   "cell_type": "markdown",
   "metadata": {},
   "source": [
    "## Dask optimisation\n",
    "\n",
    "To be done..."
   ]
  },
  {
   "cell_type": "code",
   "execution_count": null,
   "metadata": {},
   "outputs": [],
   "source": []
  },
  {
   "cell_type": "code",
   "execution_count": null,
   "metadata": {},
   "outputs": [],
   "source": []
  },
  {
   "cell_type": "code",
   "execution_count": null,
   "metadata": {},
   "outputs": [],
   "source": []
  }
 ],
 "metadata": {
  "kernelspec": {
   "display_name": "obidam36",
   "language": "python",
   "name": "obidam36"
  },
  "language_info": {
   "codemirror_mode": {
    "name": "ipython",
    "version": 3
   },
   "file_extension": ".py",
   "mimetype": "text/x-python",
   "name": "python",
   "nbconvert_exporter": "python",
   "pygments_lexer": "ipython3",
   "version": "3.6.7"
  },
  "toc-showmarkdowntxt": true
 },
 "nbformat": 4,
 "nbformat_minor": 2
}
