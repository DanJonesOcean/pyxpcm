{
 "cells": [
  {
   "cell_type": "markdown",
   "metadata": {
    "toc-hr-collapsed": false
   },
   "source": [
    "# Debugging and performances"
   ]
  },
  {
   "cell_type": "code",
   "execution_count": 1,
   "metadata": {
    "nbsphinx": "hidden"
   },
   "outputs": [
    {
     "name": "stdout",
     "output_type": "stream",
     "text": [
      "xarray: 0.12.1, /Users/gmaze/anaconda/envs/obidam36/lib/python3.6/site-packages/xarray/__init__.py\n",
      "pyxpcm: 0.4.0, /Users/gmaze/git/github/gmaze/pyxpcm/pyxpcm/__init__.py\n"
     ]
    }
   ],
   "source": [
    "# Hidden cell\n",
    "import os, sys\n",
    "import numpy as np\n",
    "import pandas as pd\n",
    "import xarray as xr\n",
    "print(\"xarray: %s, %s\" % (xr.__version__, xr.__file__))\n",
    "\n",
    "import matplotlib.pyplot as plt\n",
    "%matplotlib inline\n",
    "sys.path.insert(0, os.path.abspath('/Users/gmaze/git/github/gmaze/pyxpcm'))\n",
    "\n",
    "import pyxpcm\n",
    "print(\"pyxpcm: %s, %s\" % (pyxpcm.__version__, pyxpcm.__file__))"
   ]
  },
  {
   "cell_type": "markdown",
   "metadata": {},
   "source": [
    "**Import and set-up**\n",
    "\n",
    "Import the library and toy data"
   ]
  },
  {
   "cell_type": "code",
   "execution_count": 2,
   "metadata": {},
   "outputs": [],
   "source": [
    "import pyxpcm\n",
    "from pyxpcm.models import pcm\n",
    "\n",
    "# Load a dataset to work with:\n",
    "ds = pyxpcm.tutorial.open_dataset('argo').load()\n",
    "\n",
    "# Define vertical axis and features to use:\n",
    "z = np.arange(0.,-1000.,-10.)\n",
    "features_pcm = {'temperature': z, 'salinity': z}\n",
    "features_in_ds = {'temperature': 'TEMP', 'salinity': 'PSAL'}"
   ]
  },
  {
   "cell_type": "markdown",
   "metadata": {},
   "source": [
    "## Debugging\n",
    "\n",
    "Use option ``debug`` to print log messages "
   ]
  },
  {
   "cell_type": "code",
   "execution_count": 3,
   "metadata": {},
   "outputs": [
    {
     "name": "stdout",
     "output_type": "stream",
     "text": [
      "> Start preprocessing for action 'fit'\n",
      "\n",
      "\t> Preprocessing xarray dataset 'TEMP' as PCM feature 'temperature'\n",
      "\t [<class 'xarray.core.dataarray.DataArray'>, <class 'dask.array.core.Array'>, ((7560,), (282,))] X RAVELED with success\n",
      "\t\tOutput axis is in the input axis, not need to interpolate, simple intersection\n",
      "\t [<class 'xarray.core.dataarray.DataArray'>, <class 'dask.array.core.Array'>, ((7560,), (100,))] X INTERPOLATED with success)\n",
      "\t [<class 'xarray.core.dataarray.DataArray'>, <class 'numpy.ndarray'>, None] X SCALED with success)\n",
      "\t [<class 'xarray.core.dataarray.DataArray'>, <class 'numpy.ndarray'>, None] X REDUCED with success)\n",
      "\ttemperature pre-processed with success,  [<class 'xarray.core.dataarray.DataArray'>, <class 'numpy.ndarray'>, None]\n",
      "\tHomogenisation for fit of temperature\n",
      "\n",
      "\t> Preprocessing xarray dataset 'PSAL' as PCM feature 'salinity'\n",
      "\t [<class 'xarray.core.dataarray.DataArray'>, <class 'dask.array.core.Array'>, ((7560,), (282,))] X RAVELED with success\n",
      "\t\tOutput axis is in the input axis, not need to interpolate, simple intersection\n",
      "\t [<class 'xarray.core.dataarray.DataArray'>, <class 'dask.array.core.Array'>, ((7560,), (100,))] X INTERPOLATED with success)\n",
      "\t [<class 'xarray.core.dataarray.DataArray'>, <class 'numpy.ndarray'>, None] X SCALED with success)\n",
      "\t [<class 'xarray.core.dataarray.DataArray'>, <class 'numpy.ndarray'>, None] X REDUCED with success)\n",
      "\tsalinity pre-processed with success,  [<class 'xarray.core.dataarray.DataArray'>, <class 'numpy.ndarray'>, None]\n",
      "\tHomogenisation for fit of salinity\n",
      "\tFeatures array shape and type for xarray: (7560, 30) <class 'numpy.ndarray'> <class 'memoryview'>\n",
      "> Preprocessing done, working with final X (<class 'xarray.core.dataarray.DataArray'>) array of shape: (7560, 30)  and sampling dimensions: ['N_PROF']\n"
     ]
    }
   ],
   "source": [
    "# Instantiate a new PCM:\n",
    "m = pcm(K=8, features=features_pcm, debug=True)\n",
    "\n",
    "# Fit with log:\n",
    "m.fit(ds, features=features_in_ds);"
   ]
  },
  {
   "cell_type": "markdown",
   "metadata": {
    "toc-hr-collapsed": true
   },
   "source": [
    "## Performance / Optimisation\n",
    "\n",
    "Use ``timeit`` and ``timeit_verb`` to compute computation time of PCM operations\n",
    "\n",
    "Times are accessible as a pandas Dataframe in ``timeit`` pyXpcm instance property.\n",
    "\n",
    "The pyXpcm ``m.plot.timeit()`` plot method allows for a simple visualisation of times."
   ]
  },
  {
   "cell_type": "markdown",
   "metadata": {},
   "source": [
    "### Time readings during execution"
   ]
  },
  {
   "cell_type": "code",
   "execution_count": 4,
   "metadata": {},
   "outputs": [
    {
     "name": "stdout",
     "output_type": "stream",
     "text": [
      "  fit.1-preprocess.1-mask: 58 ms\n",
      "  fit.1-preprocess.2-feature_temperature.1-ravel: 27 ms\n",
      "  fit.1-preprocess.2-feature_temperature.2-interp: 1 ms\n",
      "  fit.1-preprocess.2-feature_temperature.3-scale_fit: 12 ms\n",
      "  fit.1-preprocess.2-feature_temperature.4-scale_transform: 7 ms\n",
      "  fit.1-preprocess.2-feature_temperature.5-reduce_fit: 16 ms\n",
      "  fit.1-preprocess.2-feature_temperature.6-reduce_transform: 2 ms\n",
      "  fit.1-preprocess.2-feature_temperature.total: 68 ms\n",
      "  fit.1-preprocess: 68 ms\n",
      "  fit.1-preprocess.3-homogeniser: 1 ms\n",
      "  fit.1-preprocess.2-feature_salinity.1-ravel: 30 ms\n",
      "  fit.1-preprocess.2-feature_salinity.2-interp: 1 ms\n",
      "  fit.1-preprocess.2-feature_salinity.3-scale_fit: 11 ms\n",
      "  fit.1-preprocess.2-feature_salinity.4-scale_transform: 5 ms\n",
      "  fit.1-preprocess.2-feature_salinity.5-reduce_fit: 14 ms\n",
      "  fit.1-preprocess.2-feature_salinity.6-reduce_transform: 4 ms\n",
      "  fit.1-preprocess.2-feature_salinity.total: 68 ms\n",
      "  fit.1-preprocess: 68 ms\n",
      "  fit.1-preprocess.3-homogeniser: 1 ms\n",
      "  fit.1-preprocess.4-xarray: 1 ms\n",
      "  fit.1-preprocess: 201 ms\n",
      "  fit.fit: 3311 ms\n",
      "  fit.score: 12 ms\n",
      "  fit: 3526 ms\n"
     ]
    }
   ],
   "source": [
    "# Create a PCM and execute methods:\n",
    "m = pcm(K=8, features=features_pcm, timeit=True, timeit_verb=1)\n",
    "m.fit(ds, features=features_in_ds);"
   ]
  },
  {
   "cell_type": "markdown",
   "metadata": {},
   "source": [
    "### A posteriori Execution time analysis"
   ]
  },
  {
   "cell_type": "code",
   "execution_count": 5,
   "metadata": {},
   "outputs": [],
   "source": [
    "# Create a PCM and execute methods:\n",
    "m = pcm(K=8, features=features_pcm, timeit=True, timeit_verb=0)\n",
    "m.fit(ds, features=features_in_ds);\n",
    "m.predict(ds, features=features_in_ds);\n",
    "m.fit_predict(ds, features=features_in_ds);"
   ]
  },
  {
   "cell_type": "raw",
   "metadata": {
    "raw_mimetype": "text/restructuredtext"
   },
   "source": [
    "Execution times are accessible through a dataframe with the :py:attr:`pyxpcm.pcm.timeit` property"
   ]
  },
  {
   "cell_type": "code",
   "execution_count": 6,
   "metadata": {},
   "outputs": [
    {
     "data": {
      "text/plain": [
       "Method       Sub-method    Sub-sub-method         Sub-sub-sub-method\n",
       "fit          1-preprocess  1-mask                 total                  137.017250\n",
       "                           2-feature_temperature  1-ravel                 34.789801\n",
       "                                                  2-interp                 1.374245\n",
       "                                                  3-scale_fit             12.953997\n",
       "                                                  4-scale_transform        6.776094\n",
       "                                                  5-reduce_fit            29.793739\n",
       "                                                  6-reduce_transform       3.415108\n",
       "                                                  total                   89.292049\n",
       "                           total                                         448.949337\n",
       "                           3-homogeniser          total                    2.951860\n",
       "                           2-feature_salinity     1-ravel                 27.996778\n",
       "                                                  2-interp                 1.753092\n",
       "                                                  3-scale_fit             12.371063\n",
       "                                                  4-scale_transform        5.649328\n",
       "                                                  5-reduce_fit            13.190031\n",
       "                                                  6-reduce_transform       2.907991\n",
       "                                                  total                   64.031124\n",
       "                           4-xarray               total                    1.110077\n",
       "             fit           total                                        2926.816702\n",
       "             score         total                                          12.502909\n",
       "             total                                                      3234.832048\n",
       "predict      1-preprocess  1-mask                 total                   48.269033\n",
       "                           2-feature_temperature  1-ravel                 26.449919\n",
       "                                                  2-interp                 1.174927\n",
       "                                                  3-scale_fit              0.000954\n",
       "                                                  4-scale_transform        6.168127\n",
       "                                                  5-reduce_fit             0.002146\n",
       "                                                  6-reduce_transform       2.670050\n",
       "                                                  total                   36.591768\n",
       "                           total                                         199.220181\n",
       "                                                                           ...     \n",
       "                           2-feature_salinity     6-reduce_transform       2.682924\n",
       "                                                  total                   37.322998\n",
       "                           4-xarray               total                    1.103878\n",
       "             predict       total                                           9.721994\n",
       "             score         total                                          12.176752\n",
       "             xarray        total                                          10.524988\n",
       "             total                                                       157.676935\n",
       "fit_predict  1-preprocess  1-mask                 total                   42.536974\n",
       "                           2-feature_temperature  1-ravel                 26.570082\n",
       "                                                  2-interp                 1.196623\n",
       "                                                  3-scale_fit              0.000954\n",
       "                                                  4-scale_transform        5.357981\n",
       "                                                  5-reduce_fit             0.001669\n",
       "                                                  6-reduce_transform       2.881050\n",
       "                                                  total                   36.137819\n",
       "                           total                                         191.451311\n",
       "                           3-homogeniser          total                    1.843929\n",
       "                           2-feature_salinity     1-ravel                 27.220964\n",
       "                                                  2-interp                 1.167059\n",
       "                                                  3-scale_fit              0.000954\n",
       "                                                  4-scale_transform        5.120039\n",
       "                                                  5-reduce_fit             0.000954\n",
       "                                                  6-reduce_transform       2.628088\n",
       "                                                  total                   36.262989\n",
       "                           4-xarray               total                    1.113892\n",
       "             fit           total                                        3101.674080\n",
       "             score         total                                          19.073009\n",
       "             predict       total                                          16.546011\n",
       "             xarray        total                                          42.071819\n",
       "             total                                                      3298.544168\n",
       "Length: 66, dtype: float64"
      ]
     },
     "execution_count": 6,
     "metadata": {},
     "output_type": "execute_result"
    }
   ],
   "source": [
    "m.timeit"
   ]
  },
  {
   "cell_type": "markdown",
   "metadata": {
    "raw_mimetype": "-"
   },
   "source": [
    "## Visualisation help"
   ]
  },
  {
   "cell_type": "raw",
   "metadata": {
    "raw_mimetype": "text/restructuredtext"
   },
   "source": [
    "To facilitate your analysis of execution times, you can use :meth:`pyxpcm.plot.timeit`."
   ]
  },
  {
   "cell_type": "markdown",
   "metadata": {},
   "source": [
    "### Main steps by method"
   ]
  },
  {
   "cell_type": "code",
   "execution_count": 7,
   "metadata": {},
   "outputs": [
    {
     "data": {
      "text/html": [
       "<div>\n",
       "<style scoped>\n",
       "    .dataframe tbody tr th:only-of-type {\n",
       "        vertical-align: middle;\n",
       "    }\n",
       "\n",
       "    .dataframe tbody tr th {\n",
       "        vertical-align: top;\n",
       "    }\n",
       "\n",
       "    .dataframe thead th {\n",
       "        text-align: right;\n",
       "    }\n",
       "</style>\n",
       "<table border=\"1\" class=\"dataframe\">\n",
       "  <thead>\n",
       "    <tr style=\"text-align: right;\">\n",
       "      <th>Sub-method</th>\n",
       "      <th>1-preprocess</th>\n",
       "      <th>fit</th>\n",
       "      <th>predict</th>\n",
       "      <th>score</th>\n",
       "      <th>xarray</th>\n",
       "    </tr>\n",
       "    <tr>\n",
       "      <th>Method</th>\n",
       "      <th></th>\n",
       "      <th></th>\n",
       "      <th></th>\n",
       "      <th></th>\n",
       "      <th></th>\n",
       "    </tr>\n",
       "  </thead>\n",
       "  <tbody>\n",
       "    <tr>\n",
       "      <th>fit</th>\n",
       "      <td>896.322966</td>\n",
       "      <td>2926.816702</td>\n",
       "      <td>NaN</td>\n",
       "      <td>12.502909</td>\n",
       "      <td>NaN</td>\n",
       "    </tr>\n",
       "    <tr>\n",
       "      <th>fit_predict</th>\n",
       "      <td>381.493330</td>\n",
       "      <td>3101.674080</td>\n",
       "      <td>16.546011</td>\n",
       "      <td>19.073009</td>\n",
       "      <td>42.071819</td>\n",
       "    </tr>\n",
       "    <tr>\n",
       "      <th>predict</th>\n",
       "      <td>396.913052</td>\n",
       "      <td>NaN</td>\n",
       "      <td>9.721994</td>\n",
       "      <td>12.176752</td>\n",
       "      <td>10.524988</td>\n",
       "    </tr>\n",
       "  </tbody>\n",
       "</table>\n",
       "</div>"
      ],
      "text/plain": [
       "Sub-method   1-preprocess          fit    predict      score     xarray\n",
       "Method                                                                 \n",
       "fit            896.322966  2926.816702        NaN  12.502909        NaN\n",
       "fit_predict    381.493330  3101.674080  16.546011  19.073009  42.071819\n",
       "predict        396.913052          NaN   9.721994  12.176752  10.524988"
      ]
     },
     "execution_count": 7,
     "metadata": {},
     "output_type": "execute_result"
    },
    {
     "data": {
      "image/png": "[encoded data removed]",
      "text/plain": [
       "<Figure size 450x270 with 1 Axes>"
      ]
     },
     "metadata": {},
     "output_type": "display_data"
    }
   ],
   "source": [
    "fig, ax, df = m.plot.timeit(group='Method', split='Sub-method', style='darkgrid') # Default group/split\n",
    "df"
   ]
  },
  {
   "cell_type": "markdown",
   "metadata": {},
   "source": [
    "### Preprocessing main steps by method"
   ]
  },
  {
   "cell_type": "code",
   "execution_count": 8,
   "metadata": {},
   "outputs": [
    {
     "data": {
      "text/html": [
       "<div>\n",
       "<style scoped>\n",
       "    .dataframe tbody tr th:only-of-type {\n",
       "        vertical-align: middle;\n",
       "    }\n",
       "\n",
       "    .dataframe tbody tr th {\n",
       "        vertical-align: top;\n",
       "    }\n",
       "\n",
       "    .dataframe thead th {\n",
       "        text-align: right;\n",
       "    }\n",
       "</style>\n",
       "<table border=\"1\" class=\"dataframe\">\n",
       "  <thead>\n",
       "    <tr style=\"text-align: right;\">\n",
       "      <th>Sub-sub-method</th>\n",
       "      <th>1-mask</th>\n",
       "      <th>2-feature_salinity</th>\n",
       "      <th>2-feature_temperature</th>\n",
       "      <th>3-homogeniser</th>\n",
       "      <th>4-xarray</th>\n",
       "    </tr>\n",
       "    <tr>\n",
       "      <th>Method</th>\n",
       "      <th></th>\n",
       "      <th></th>\n",
       "      <th></th>\n",
       "      <th></th>\n",
       "      <th></th>\n",
       "    </tr>\n",
       "  </thead>\n",
       "  <tbody>\n",
       "    <tr>\n",
       "      <th>fit</th>\n",
       "      <td>137.017250</td>\n",
       "      <td>127.899408</td>\n",
       "      <td>178.395033</td>\n",
       "      <td>2.951860</td>\n",
       "      <td>1.110077</td>\n",
       "    </tr>\n",
       "    <tr>\n",
       "      <th>fit_predict</th>\n",
       "      <td>42.536974</td>\n",
       "      <td>72.401047</td>\n",
       "      <td>72.146177</td>\n",
       "      <td>1.843929</td>\n",
       "      <td>1.113892</td>\n",
       "    </tr>\n",
       "    <tr>\n",
       "      <th>predict</th>\n",
       "      <td>48.269033</td>\n",
       "      <td>74.509859</td>\n",
       "      <td>73.057890</td>\n",
       "      <td>0.752211</td>\n",
       "      <td>1.103878</td>\n",
       "    </tr>\n",
       "  </tbody>\n",
       "</table>\n",
       "</div>"
      ],
      "text/plain": [
       "Sub-sub-method      1-mask  2-feature_salinity  2-feature_temperature  \\\n",
       "Method                                                                  \n",
       "fit             137.017250          127.899408             178.395033   \n",
       "fit_predict      42.536974           72.401047              72.146177   \n",
       "predict          48.269033           74.509859              73.057890   \n",
       "\n",
       "Sub-sub-method  3-homogeniser  4-xarray  \n",
       "Method                                   \n",
       "fit                  2.951860  1.110077  \n",
       "fit_predict          1.843929  1.113892  \n",
       "predict              0.752211  1.103878  "
      ]
     },
     "execution_count": 8,
     "metadata": {},
     "output_type": "execute_result"
    },
    {
     "data": {
      "image/png": "[encoded data removed]",
      "text/plain": [
       "<Figure size 450x270 with 1 Axes>"
      ]
     },
     "metadata": {},
     "output_type": "display_data"
    }
   ],
   "source": [
    "fig, ax, df = m.plot.timeit(group='Method', split='Sub-sub-method')\n",
    "df"
   ]
  },
  {
   "cell_type": "markdown",
   "metadata": {},
   "source": [
    "### Preprocessing details by method"
   ]
  },
  {
   "cell_type": "code",
   "execution_count": 9,
   "metadata": {},
   "outputs": [
    {
     "data": {
      "text/html": [
       "<div>\n",
       "<style scoped>\n",
       "    .dataframe tbody tr th:only-of-type {\n",
       "        vertical-align: middle;\n",
       "    }\n",
       "\n",
       "    .dataframe tbody tr th {\n",
       "        vertical-align: top;\n",
       "    }\n",
       "\n",
       "    .dataframe thead th {\n",
       "        text-align: right;\n",
       "    }\n",
       "</style>\n",
       "<table border=\"1\" class=\"dataframe\">\n",
       "  <thead>\n",
       "    <tr style=\"text-align: right;\">\n",
       "      <th>Sub-sub-sub-method</th>\n",
       "      <th>1-ravel</th>\n",
       "      <th>2-interp</th>\n",
       "      <th>3-scale_fit</th>\n",
       "      <th>4-scale_transform</th>\n",
       "      <th>5-reduce_fit</th>\n",
       "      <th>6-reduce_transform</th>\n",
       "    </tr>\n",
       "    <tr>\n",
       "      <th>Method</th>\n",
       "      <th></th>\n",
       "      <th></th>\n",
       "      <th></th>\n",
       "      <th></th>\n",
       "      <th></th>\n",
       "      <th></th>\n",
       "    </tr>\n",
       "  </thead>\n",
       "  <tbody>\n",
       "    <tr>\n",
       "      <th>fit</th>\n",
       "      <td>62.786579</td>\n",
       "      <td>3.127337</td>\n",
       "      <td>25.325060</td>\n",
       "      <td>12.425423</td>\n",
       "      <td>42.983770</td>\n",
       "      <td>6.323099</td>\n",
       "    </tr>\n",
       "    <tr>\n",
       "      <th>fit_predict</th>\n",
       "      <td>53.791046</td>\n",
       "      <td>2.363682</td>\n",
       "      <td>0.001907</td>\n",
       "      <td>10.478020</td>\n",
       "      <td>0.002623</td>\n",
       "      <td>5.509138</td>\n",
       "    </tr>\n",
       "    <tr>\n",
       "      <th>predict</th>\n",
       "      <td>54.409027</td>\n",
       "      <td>2.607822</td>\n",
       "      <td>0.001907</td>\n",
       "      <td>11.278152</td>\n",
       "      <td>0.003099</td>\n",
       "      <td>5.352974</td>\n",
       "    </tr>\n",
       "  </tbody>\n",
       "</table>\n",
       "</div>"
      ],
      "text/plain": [
       "Sub-sub-sub-method    1-ravel  2-interp  3-scale_fit  4-scale_transform  \\\n",
       "Method                                                                    \n",
       "fit                 62.786579  3.127337    25.325060          12.425423   \n",
       "fit_predict         53.791046  2.363682     0.001907          10.478020   \n",
       "predict             54.409027  2.607822     0.001907          11.278152   \n",
       "\n",
       "Sub-sub-sub-method  5-reduce_fit  6-reduce_transform  \n",
       "Method                                                \n",
       "fit                    42.983770            6.323099  \n",
       "fit_predict             0.002623            5.509138  \n",
       "predict                 0.003099            5.352974  "
      ]
     },
     "execution_count": 9,
     "metadata": {},
     "output_type": "execute_result"
    },
    {
     "data": {
      "image/png": "[encoded data removed]",
      "text/plain": [
       "<Figure size 450x270 with 1 Axes>"
      ]
     },
     "metadata": {},
     "output_type": "display_data"
    }
   ],
   "source": [
    "fig, ax, df = m.plot.timeit(group='Method', split='Sub-sub-sub-method')\n",
    "df"
   ]
  },
  {
   "cell_type": "markdown",
   "metadata": {},
   "source": [
    "### Preprocessing details by features"
   ]
  },
  {
   "cell_type": "code",
   "execution_count": 10,
   "metadata": {},
   "outputs": [
    {
     "data": {
      "text/html": [
       "<div>\n",
       "<style scoped>\n",
       "    .dataframe tbody tr th:only-of-type {\n",
       "        vertical-align: middle;\n",
       "    }\n",
       "\n",
       "    .dataframe tbody tr th {\n",
       "        vertical-align: top;\n",
       "    }\n",
       "\n",
       "    .dataframe thead th {\n",
       "        text-align: right;\n",
       "    }\n",
       "</style>\n",
       "<table border=\"1\" class=\"dataframe\">\n",
       "  <thead>\n",
       "    <tr style=\"text-align: right;\">\n",
       "      <th>Sub-sub-sub-method</th>\n",
       "      <th>1-ravel</th>\n",
       "      <th>2-interp</th>\n",
       "      <th>3-scale_fit</th>\n",
       "      <th>4-scale_transform</th>\n",
       "      <th>5-reduce_fit</th>\n",
       "      <th>6-reduce_transform</th>\n",
       "    </tr>\n",
       "    <tr>\n",
       "      <th>Sub-sub-method</th>\n",
       "      <th></th>\n",
       "      <th></th>\n",
       "      <th></th>\n",
       "      <th></th>\n",
       "      <th></th>\n",
       "      <th></th>\n",
       "    </tr>\n",
       "  </thead>\n",
       "  <tbody>\n",
       "    <tr>\n",
       "      <th>2-feature_salinity</th>\n",
       "      <td>0.083177</td>\n",
       "      <td>0.004353</td>\n",
       "      <td>0.012373</td>\n",
       "      <td>0.015879</td>\n",
       "      <td>0.013192</td>\n",
       "      <td>0.008219</td>\n",
       "    </tr>\n",
       "    <tr>\n",
       "      <th>2-feature_temperature</th>\n",
       "      <td>0.087810</td>\n",
       "      <td>0.003746</td>\n",
       "      <td>0.012956</td>\n",
       "      <td>0.018302</td>\n",
       "      <td>0.029798</td>\n",
       "      <td>0.008966</td>\n",
       "    </tr>\n",
       "  </tbody>\n",
       "</table>\n",
       "</div>"
      ],
      "text/plain": [
       "Sub-sub-sub-method      1-ravel  2-interp  3-scale_fit  4-scale_transform  \\\n",
       "Sub-sub-method                                                              \n",
       "2-feature_salinity     0.083177  0.004353     0.012373           0.015879   \n",
       "2-feature_temperature  0.087810  0.003746     0.012956           0.018302   \n",
       "\n",
       "Sub-sub-sub-method     5-reduce_fit  6-reduce_transform  \n",
       "Sub-sub-method                                           \n",
       "2-feature_salinity         0.013192            0.008219  \n",
       "2-feature_temperature      0.029798            0.008966  "
      ]
     },
     "execution_count": 10,
     "metadata": {},
     "output_type": "execute_result"
    },
    {
     "data": {
      "image/png": "[encoded data removed]",
      "text/plain": [
       "<Figure size 450x270 with 1 Axes>"
      ]
     },
     "metadata": {},
     "output_type": "display_data"
    }
   ],
   "source": [
    "fig, ax, df = m.plot.timeit(split='Sub-sub-sub-method', group='Sub-sub-method', unit='s')\n",
    "df"
   ]
  }
 ],
 "metadata": {
  "kernelspec": {
   "display_name": "obidam36",
   "language": "python",
   "name": "obidam36"
  },
  "language_info": {
   "codemirror_mode": {
    "name": "ipython",
    "version": 3
   },
   "file_extension": ".py",
   "mimetype": "text/x-python",
   "name": "python",
   "nbconvert_exporter": "python",
   "pygments_lexer": "ipython3",
   "version": "3.6.7"
  },
  "toc-showmarkdowntxt": true
 },
 "nbformat": 4,
 "nbformat_minor": 2
}
